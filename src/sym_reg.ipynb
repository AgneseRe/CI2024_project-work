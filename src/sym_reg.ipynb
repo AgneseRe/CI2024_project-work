{
 "cells": [
  {
   "cell_type": "code",
   "execution_count": 34,
   "metadata": {},
   "outputs": [],
   "source": [
    "import math\n",
    "import numpy as np\n",
    "from tqdm import tqdm"
   ]
  },
  {
   "cell_type": "code",
   "execution_count": 35,
   "metadata": {},
   "outputs": [
    {
     "data": {
      "text/plain": [
       "{'divide': 'ignore', 'over': 'ignore', 'under': 'ignore', 'invalid': 'ignore'}"
      ]
     },
     "execution_count": 35,
     "metadata": {},
     "output_type": "execute_result"
    }
   ],
   "source": [
    "#warning settings\n",
    "np.seterr(all=\"ignore\") #ignore np warnings, the output will be nan or inf and will be handled correctly in the code. (using np.errstate slows down the code)"
   ]
  },
  {
   "cell_type": "code",
   "execution_count": 50,
   "metadata": {},
   "outputs": [],
   "source": [
    "# Configuration\n",
    "TRAIN_TEST_RATIO=0.8\n",
    "PROBLEM_NUMBER=2"
   ]
  },
  {
   "cell_type": "markdown",
   "metadata": {},
   "source": [
    "### Data Loading and Data Preprocessing"
   ]
  },
  {
   "cell_type": "code",
   "execution_count": 51,
   "metadata": {},
   "outputs": [
    {
     "name": "stdout",
     "output_type": "stream",
     "text": [
      "Problem number: 7, variables: 2, train size: 4000, test size: 1000\n",
      "Training data: x shape (2, 4000), y shape (4000,)\n",
      "Testing data: x shape (2, 1000), y shape (1000,)\n"
     ]
    }
   ],
   "source": [
    "# Load problem data with context manager protocol\n",
    "with np.load(f'../data/problem_{PROBLEM_NUMBER}.npz') as problem:\n",
    "    x_1 = problem['x']\n",
    "    y_1 = problem['y']\n",
    "\n",
    "# Shuffle the data\n",
    "permutation = np.random.permutation(len(y_1))\n",
    "x_1 = x_1[:, permutation]\n",
    "y_1 = y_1[permutation]\n",
    "\n",
    "# Determine train test split sizes\n",
    "problem_len=len(y_1)\n",
    "train_size=int(TRAIN_TEST_RATIO*problem_len)\n",
    "\n",
    "# Split data\n",
    "x_train = x_1[:, :train_size]\n",
    "y_train = y_1[:train_size]\n",
    "\n",
    "x_test = x_1[:, train_size:]\n",
    "y_test = y_1[train_size:]\n",
    "\n",
    "\n",
    "# Print dataset information\n",
    "print(f\"Problem number: {PROBLEM_NUMBER}, variables: {x_1.shape[0]}, train size: {train_size}, test size: {problem_len-train_size}\")\n",
    "\n",
    "print(f\"Training data: x shape {x_train.shape}, y shape {y_train.shape}\")\n",
    "print(f\"Testing data: x shape {x_test.shape}, y shape {y_test.shape}\")\n",
    "\n"
   ]
  },
  {
   "cell_type": "markdown",
   "metadata": {},
   "source": [
    "### Numpy functions definition"
   ]
  },
  {
   "cell_type": "code",
   "execution_count": 52,
   "metadata": {},
   "outputs": [],
   "source": [
    "unary_ops = [\n",
    "    np.negative,\n",
    "    np.abs,\n",
    "    np.sqrt,\n",
    "    np.exp,\n",
    "    np.log,\n",
    "    np.sin,\n",
    "    np.cos,\n",
    "    np.tan,\n",
    "    np.arcsin,\n",
    "    np.arccos,\n",
    "    np.arctan,\n",
    "    np.sinh,\n",
    "    np.cosh,\n",
    "    np.tanh,\n",
    "    np.square,\n",
    "    np.cbrt,\n",
    "    np.reciprocal,\n",
    "\n",
    "    np.ceil,\n",
    "    np.floor\n",
    "]\n",
    "\n",
    "binary_ops = [\n",
    "    np.add,\n",
    "    np.subtract,\n",
    "    np.multiply,\n",
    "    np.divide,\n",
    "    np.power,\n",
    "    np.maximum,\n",
    "    np.minimum,\n",
    "    np.mod\n",
    "]"
   ]
  },
  {
   "cell_type": "markdown",
   "metadata": {},
   "source": [
    "### Symbolic Regression Class"
   ]
  },
  {
   "cell_type": "code",
   "execution_count": 53,
   "metadata": {},
   "outputs": [],
   "source": [
    "from tree import Tree\n",
    "\n",
    "class SymbolicRegression:\n",
    "    def __init__(self, population_per_island,island_num, max_generations, mutation_rate, elitism_size, grow_full_ratio,max_mutations,migration_rate,collapse_rate):\n",
    "        self.population_per_island = population_per_island\n",
    "        self.island_num = island_num\n",
    "        self.max_generations = max_generations\n",
    "        self.mutation_rate = mutation_rate\n",
    "        self.elitism_size = elitism_size\n",
    "        self.grow_full_ratio = grow_full_ratio\n",
    "        self.max_mutations = max_mutations\n",
    "        self.unary_ops = unary_ops\n",
    "        self.binary_ops = binary_ops\n",
    "        self.migration_rate=migration_rate\n",
    "        self.best_fitness_history = []\n",
    "     \n",
    "        self.population = [None] * island_num\n",
    "        self.collapse_rate=collapse_rate\n",
    "\n",
    "        for j in range(island_num):\n",
    "            self.population[j] = np.array([\n",
    "                Tree(\"grow\") if i < int(population_per_island * self.grow_full_ratio) else Tree(\"full\") for i in range(population_per_island)\n",
    "            ])\n",
    "        \n",
    "        \n",
    "         \n",
    "\n",
    "\n",
    "    # Parents selection methods\n",
    "    def select_parents_fitness_proportional(self, n_elems=2, epsilon=1e-10,island=0):\n",
    "        \"\"\"\n",
    "        Fitness proportional selection method.\n",
    "        Randomly selects n_elems individuals based on their fitness.\n",
    "        Individuals with lower fitness have an higher probability to be selected.\n",
    "        Premature convergence if few individuals have significantly better fitness than others.\n",
    "        n_elems: number of elements to select.\n",
    "        epsilon: small value to avoid division by zero.\n",
    "        island: on which island the selection should be done.\n",
    "        \"\"\"\n",
    "        fitnesses = [tree.fitness for tree in self.population[island]]\n",
    "        inverted_fitnesses = [1 / (fitness + epsilon) for fitness in fitnesses]  # avoid division by zero\n",
    "        probabilities = inverted_fitnesses / sum(inverted_fitnesses)\n",
    "        parent1, parent2 = np.random.choice(self.population[island], size=n_elems, p=probabilities, replace=False)\n",
    "        return parent1, parent2\n",
    "    \n",
    "    \n",
    "\n",
    "    def select_parents_rank_based(self, n_elems=2,island=0,exponential=False):\n",
    "        \"\"\"\n",
    "        Rank-based selection method.\n",
    "        Assigns probabilities based on inversed ranks instead of absolute fitness values.\n",
    "        n_elems: number of elements to select.\n",
    "        island: on which island the selection should be done.\n",
    "        exponential: if True, the ranks are raised to the power of the exponential parameter.\n",
    "        \"\"\"\n",
    "        fitnesses = np.array([tree.fitness for tree in self.population[island]])\n",
    "        ranks = np.argsort(fitnesses)\n",
    "        if exponential:\n",
    "            ranks = ranks**exponential\n",
    "        inversed_ranks = len(fitnesses) - ranks\n",
    "        probabilities = inversed_ranks / np.sum(inversed_ranks)\n",
    "        return np.random.choice(self.population[island], n_elems, p=probabilities, replace=False)\n",
    "    \n",
    "    def select_parents_tournament(self,island=0):\n",
    "        \"\"\"\n",
    "        Tournament selection method.\n",
    "        Randomly selects a subset of the population and selects the best individual from the subset.\n",
    "        \"\"\"\n",
    "        tournament_size = 5\n",
    "        tournament = list(np.random.choice(self.population[island], tournament_size, replace=True))\n",
    "        tournament.sort(key=lambda x: x.fitness)\n",
    "        return tournament[0], tournament[1]\n",
    "    \n",
    "    def select_parents(self, island, method=\"rank\"):\n",
    "        \"\"\"\n",
    "        Select parents based on the specified method.\n",
    "        island: on which island the selection should be done\n",
    "        method: which parent selection method to use. Default is \"rank\". Options are \"rank\", \"fitness_proportional\", \"tournament\".\n",
    "        \"\"\"\n",
    "        if method == \"rank\":\n",
    "            return self.select_parents_rank_based(island=island)\n",
    "        elif method == \"fitness_proportional\":\n",
    "            return self.select_parents_fitness_proportional(island=island)\n",
    "        elif method == \"tournament\":\n",
    "            return self.select_parents_tournament(island=island)\n",
    "        else:\n",
    "            return self.select_parents_rank_based(island=island)\n",
    "            \n",
    "\n",
    "    \n",
    "    # Mutation methods\n",
    "    def mutate(self, tree):\n",
    "        if np.random.rand() < 0.5:\n",
    "            tree.mutate_subtree()\n",
    "        else:\n",
    "            mutations = np.random.randint(1, self.max_mutations+1)\n",
    "            tree.mutate_single_node(num_mutations=mutations)\n",
    "        \n",
    "       \n",
    "\n",
    "\n",
    "    # Offsprings generation via mutation and crossover\n",
    "    def offspring_generation(self,island):\n",
    "        new_population = np.array([])\n",
    "\n",
    "        # Elitism   \n",
    "        elite_individuals = self.population[island][:self.elitism_size]\n",
    "        new_population = elite_individuals\n",
    "\n",
    "        # Main loop\n",
    "        while len(new_population) < self.population_per_island//2: \n",
    "            parent1, parent2 = self.select_parents(island=island)\n",
    "            # generate offsprings (one in mutation, two in crossover)\n",
    "            offsprings = np.array([])\n",
    "\n",
    "            if(np.random.rand() < self.mutation_rate):\n",
    "                parent_clone = parent1.copy_tree()\n",
    "                self.mutate(parent_clone)\n",
    "              \n",
    "                parent_clone.compute_fitness()\n",
    "                #if the fitness is valid \n",
    "                if(parent_clone.fitness is not np.inf and parent_clone.fitness is not np.nan):\n",
    "                    #to not re-add the same tree if the mutation was not possible (e.g. the tree is already a leaf and other edge cases)\n",
    "                    if( parent_clone.fitness!=parent1.fitness):\n",
    "                        offsprings = np.append(offsprings, [parent_clone])\n",
    "\n",
    "            else:    \n",
    "                offspring1, offspring2 = parent1.crossover(parent2)\n",
    "                if(offspring1 is not None and offspring2 is not None):\n",
    "               \n",
    "                    offspring1.compute_fitness()\n",
    "                    offspring2.compute_fitness()\n",
    "\n",
    "                    offsprings = np.append(offsprings, [offspring1, offspring2])\n",
    "\n",
    "            # Collapse branch\n",
    "            for offsp in offsprings:\n",
    "                if(np.random.rand() < self.collapse_rate):\n",
    "                    #clone the tree and collapse the branch\n",
    "                    tree_clone = offsp.copy_tree()\n",
    "                \n",
    "                    Tree.collapse_branch(tree_clone.root,force_collapse=True)\n",
    "                    tree_clone.compute_fitness()\n",
    "                    #if the fitness is not nan or inf after collapsing\n",
    "                    if(tree_clone.fitness is not None or tree_clone.fitness is not np.inf and tree_clone.fitness is not np.nan):\n",
    "                            offsp = tree_clone\n",
    "\n",
    "            new_population = np.concatenate((new_population, offsprings))\n",
    "                \n",
    "        return new_population\n",
    "    \n",
    "    # Genetic Algorithm: Evolutionary Process\n",
    "    def evolve(self,verbose=False,use_std_operators=False):\n",
    "        best_tree_island = np.full(self.island_num, None, dtype=object)\n",
    "        best_fitness_island = np.full(self.island_num, np.inf)\n",
    "        global_best_fitness = np.inf\n",
    "        global_best_tree = None\n",
    "        take_over = np.full(self.island_num, False)\n",
    "        # self.population_per_island.sort(key=lambda x: x.fitness) \n",
    "        #numpy sort of population over fitness\n",
    "        for i in range(self.island_num):\n",
    "            self.population[i].sort()\n",
    "      \n",
    "\n",
    "\n",
    "        for generation in tqdm(range(self.max_generations)):\n",
    "           \n",
    "            for i in range(self.island_num):\n",
    "                if take_over[i]:\n",
    "                    \n",
    "                    self.population[i] = np.unique(self.population[i])\n",
    "                    new_trees = np.array([Tree(\"grow\") for _ in range(self.population_per_island-len(self.population[i]))])\n",
    "                 \n",
    "                    self.population[i] = np.concatenate((self.population[i],new_trees))\n",
    "                    self.population[i].sort()\n",
    "                \n",
    "\n",
    "                if np.random.rand()<self.migration_rate and self.island_num>1:\n",
    "                    #pick a random island to migrate to \n",
    "                    island_to_migrate = np.random.randint(0,self.island_num)\n",
    "                    #select a random number from 0 to the population size of the current island\n",
    "                    random_index = np.random.randint(0,len(self.population[i]))\n",
    "                    \n",
    "                    self.population[island_to_migrate]=np.append(self.population[island_to_migrate],self.population[i][random_index])\n",
    "                    #remove the tree from the current island\n",
    "                    self.population[i]=np.delete(self.population[i],random_index)\n",
    "                    \n",
    "\n",
    "                    if(verbose):\n",
    "                        print(f\"Migration at {generation} gen from {i} to {island_to_migrate}\")\n",
    "\n",
    "\n",
    "                new_population=self.offspring_generation(island=i)\n",
    "                    \n",
    "                self.population[i]=np.concatenate((self.population[i],new_population))\n",
    "                self.population[i].sort()\n",
    "                \n",
    "                generation_best_fitness_island = self.population[i][0].fitness\n",
    "\n",
    "                if generation_best_fitness_island < best_fitness_island[i]:\n",
    "                    best_fitness_island[i] = generation_best_fitness_island\n",
    "                    best_tree_island[i] = self.population[i][0]\n",
    "                    \n",
    "\n",
    "                    if(best_fitness_island[i] < global_best_fitness):\n",
    "                        global_best_fitness = best_fitness_island[i]\n",
    "                        global_best_tree = best_tree_island[i]\n",
    "                        self.best_fitness_history.append((best_fitness_island[i], generation))\n",
    "\n",
    "\n",
    "                #trim the population to the best island_population\n",
    "                self.population[i] = self.population[i][:self.population_per_island]\n",
    "\n",
    "                \n",
    "                \n",
    "                n_best = [elem for elem in self.population[i] if elem.fitness == self.population[i][0].fitness]\n",
    "                take_over[i] = False\n",
    "                if len(n_best) > 0.5 * self.population_per_island:\n",
    "                        take_over[i] = True\n",
    "                             \n",
    "                if(generation%100==0 and verbose):\n",
    "                        print(f\"Generation {generation + 1}, Island: {i}, Best Fitness: {best_fitness_island[i]}, Best Formula: {best_tree_island[i].to_np_formula(use_std_operators=use_std_operators)}\")\n",
    "            \n",
    "                if global_best_fitness <= 1e-33:\n",
    "                    break   \n",
    "\n",
    "            if(generation%100==0 and not verbose):\n",
    "                print(f\"Generation {generation + 1}, Best Fitness: {global_best_fitness}, Best Formula: {global_best_tree.to_np_formula(use_std_operators=use_std_operators)}\")\n",
    "\n",
    "        return global_best_tree, global_best_fitness"
   ]
  },
  {
   "cell_type": "markdown",
   "metadata": {},
   "source": [
    "### Problem Definition and Symbolic Regression Initialization"
   ]
  },
  {
   "cell_type": "code",
   "execution_count": 54,
   "metadata": {},
   "outputs": [],
   "source": [
    "# --ISLAND SETTINGS--\n",
    "ISLAND_POPULATION = 70\n",
    "ISLAND_NUM = 4\n",
    "MIGRATION_RATE = 0.0005\n",
    "\n",
    "\n",
    "# --TREE SETTINGS--\n",
    "TREE_MAX_DEPTH = 4\n",
    "TREE_SPAWN_DEPTH = 3 #the max depth at which the tree will be spawned, they can grow up to TREE_MAX_DEPTH\n",
    "\n",
    "\n",
    "\n",
    "# --GENETIC ALGORITHM SETTINGS--\n",
    "MAX_GENERATIONS = 2000\n",
    "ELITISM_SIZE = 1\n",
    "VAR_NUM = x_train.shape[0]\n",
    "CONST_RANGE = 10 # Constats will be in the range [-CONST_RANGE, CONST_RANGE]\n",
    "MAX_MUTATIONS = 3  # Maximum number of mutations in a single mutation operation\n",
    "MUTATION_RATE = 0.35\n",
    "GROW_FULL_RATIO = 0.95\n",
    "COLLAPSE_RATE = 0.3\n",
    "\n",
    "# --DEPTH CHECK--\n",
    "min_depth_data = math.ceil(math.log(x_train.shape[0],2))\n",
    "if(TREE_SPAWN_DEPTH<min_depth_data):\n",
    "    TREE_SPAWN_DEPTH = min_depth_data\n",
    "    print(f\"Spawn depth too low, set to {TREE_SPAWN_DEPTH}\")\n",
    "\n",
    "if(TREE_MAX_DEPTH<TREE_SPAWN_DEPTH):\n",
    "    TREE_MAX_DEPTH = TREE_SPAWN_DEPTH+1\n",
    "    print(f\"Max depth too low, set to {TREE_MAX_DEPTH}\")\n",
    "\n",
    "\n",
    "Tree.set_params(unary_ops, binary_ops, VAR_NUM, CONST_RANGE,TREE_MAX_DEPTH,TREE_SPAWN_DEPTH, x_train, y_train, x_test, y_test)\n",
    "regressor = SymbolicRegression(\n",
    "    ISLAND_POPULATION,\n",
    "    ISLAND_NUM,\n",
    "    MAX_GENERATIONS,\n",
    "    MUTATION_RATE,\n",
    "    ELITISM_SIZE,\n",
    "    GROW_FULL_RATIO,\n",
    "    MAX_MUTATIONS,\n",
    "    MIGRATION_RATE,\n",
    "    COLLAPSE_RATE\n",
    "    \n",
    ")\n",
    "#print the trees\n"
   ]
  },
  {
   "cell_type": "markdown",
   "metadata": {},
   "source": [
    "### Algorithm Execution and Results Computation"
   ]
  },
  {
   "cell_type": "code",
   "execution_count": 55,
   "metadata": {},
   "outputs": [
    {
     "name": "stderr",
     "output_type": "stream",
     "text": [
      "  0%|          | 0/200000 [00:00<?, ?it/s]"
     ]
    },
    {
     "name": "stdout",
     "output_type": "stream",
     "text": [
      "Generation 1, Island: 0, Best Fitness: 684.7402601014134, Best Formula: np.maximum(np.add(np.absolute(x[1]), np.multiply(x[0], x[1])), np.add(np.subtract(3.9484793909201024, -4.855042510053204), np.add(1.078633346183695, x[1])))\n",
      "Generation 1, Island: 1, Best Fitness: 685.7159400129408, Best Formula: np.maximum(np.maximum(8.83747203427139, np.multiply(3.823477004464186, x[1])), np.minimum(np.cbrt(-0.21922134854179376), np.divide(x[0], -8.695050721061925)))\n"
     ]
    },
    {
     "name": "stderr",
     "output_type": "stream",
     "text": [
      "  0%|          | 1/200000 [00:00<26:29:56,  2.10it/s]"
     ]
    },
    {
     "name": "stdout",
     "output_type": "stream",
     "text": [
      "Generation 1, Island: 2, Best Fitness: 690.8517137869983, Best Formula: np.maximum(np.subtract(np.remainder(-1.3668528275030223, 3.9720541479843767), np.remainder(-6.47114913653235, x[1])), np.power(5.135300829149168, x[0]))\n",
      "Generation 1, Island: 3, Best Fitness: 689.1460962522576, Best Formula: np.subtract(np.maximum(8.181016704704948, np.maximum(6.085041714565577, 1.7510601744767307)), np.remainder(np.multiply(x[1], x[0]), np.divide(x[0], x[0])))\n"
     ]
    },
    {
     "name": "stderr",
     "output_type": "stream",
     "text": [
      "  0%|          | 101/200000 [00:23<14:23:17,  3.86it/s]"
     ]
    },
    {
     "name": "stdout",
     "output_type": "stream",
     "text": [
      "Generation 101, Island: 0, Best Fitness: 381.24275571266315, Best Formula: np.maximum(np.multiply(np.add(8.49237511868212, np.multiply(x[0], x[1])), np.add(np.multiply(x[0], x[1]), np.multiply(x[0], x[1]))), np.minimum(8.949482548543724, np.sqrt(np.floor(5.188018621631718))))\n",
      "Generation 101, Island: 1, Best Fitness: 330.26891304337, Best Formula: np.divide(np.exp(np.multiply(x[0], np.multiply(x[1], 1.6567560341938403))), 1.6845119026751085)\n",
      "Generation 101, Island: 2, Best Fitness: 305.30917713216746, Best Formula: np.multiply(4.434632844470645, np.exp(np.multiply(x[1], x[0])))\n",
      "Generation 101, Island: 3, Best Fitness: 409.1553240812599, Best Formula: np.subtract(np.maximum(np.multiply(np.multiply(x[1], x[0]), np.maximum(9.298727645618431, x[1])), np.multiply(np.multiply(x[1], x[0]), -9.897648901143556)), np.multiply(np.multiply(x[1], x[0]), -9.897648901143556))\n"
     ]
    },
    {
     "name": "stderr",
     "output_type": "stream",
     "text": [
      "  0%|          | 110/200000 [00:26<15:03:23,  3.69it/s]"
     ]
    },
    {
     "name": "stdout",
     "output_type": "stream",
     "text": [
      "Migration at 110 gen from 0 to 2\n"
     ]
    },
    {
     "name": "stderr",
     "output_type": "stream",
     "text": [
      "  0%|          | 200/200000 [00:54<11:13:27,  4.94it/s]"
     ]
    },
    {
     "name": "stdout",
     "output_type": "stream",
     "text": [
      "Generation 201, Island: 0, Best Fitness: 294.0977961286082, Best Formula: np.maximum(np.multiply(np.add(6.000719040907594, np.multiply(x[0], x[1])), np.add(np.multiply(x[0], x[1]), np.multiply(x[0], x[1]))), np.power(np.power(1.1799553826199212, x[1]), np.multiply(x[0], 8.912172228968831)))\n",
      "Generation 201, Island: 1, Best Fitness: 327.6640786143312, Best Formula: np.divide(np.exp(np.multiply(x[0], np.multiply(x[1], 1.6263127677802132))), np.add(np.power(np.sin(6.770950947941351), np.remainder(1.6263127677802132, -1.7070151754562275)), np.maximum(-9.582624547659579, np.sin(6.770950947941351))))\n",
      "Generation 201, Island: 2, Best Fitness: 305.1542427905998, Best Formula: np.multiply(np.divide(np.divide(4.47685639791634, np.tanh(4.47685639791634)), np.tanh(4.47685639791634)), np.exp(np.multiply(x[1], x[0])))\n"
     ]
    },
    {
     "name": "stderr",
     "output_type": "stream",
     "text": [
      "  0%|          | 201/200000 [00:55<13:19:08,  4.17it/s]"
     ]
    },
    {
     "name": "stdout",
     "output_type": "stream",
     "text": [
      "Generation 201, Island: 3, Best Fitness: 405.26999149301344, Best Formula: np.subtract(np.maximum(np.multiply(np.multiply(x[1], x[0]), np.subtract(9.257103311385162, -2.642000533280786)), np.multiply(np.multiply(x[1], x[0]), -9.897648901143556)), np.multiply(np.multiply(x[1], x[0]), -9.855373349853513))\n"
     ]
    },
    {
     "name": "stderr",
     "output_type": "stream",
     "text": [
      "  0%|          | 301/200000 [01:20<15:07:53,  3.67it/s]"
     ]
    },
    {
     "name": "stdout",
     "output_type": "stream",
     "text": [
      "Generation 301, Island: 0, Best Fitness: 292.15660657575705, Best Formula: np.maximum(np.add(np.power(np.power(1.1799553826199212, x[1]), np.multiply(x[0], 8.912172228968831)), np.add(np.power(1.1799553826199212, x[1]), np.power(1.1799553826199212, x[1]))), np.multiply(np.add(6.000719040907594, np.multiply(x[0], x[1])), np.add(np.multiply(x[0], x[1]), np.multiply(x[0], x[1]))))\n",
      "Generation 301, Island: 1, Best Fitness: 324.7047158546279, Best Formula: np.divide(np.exp(np.multiply(x[0], np.multiply(x[1], 1.6263127677802132))), np.maximum(np.divide(x[0], -1.1586814822132556), np.absolute(-1.5362355943839319)))\n",
      "Generation 301, Island: 2, Best Fitness: 303.8882600592867, Best Formula: np.multiply(np.power(np.divide(4.47685639791634, np.tanh(3.0688637558065004)), np.tanh(3.0688637558065004)), np.exp(np.multiply(x[1], np.subtract(x[0], -0.0514145373318069))))\n",
      "Generation 301, Island: 3, Best Fitness: 376.3869892205098, Best Formula: np.subtract(np.multiply(np.multiply(x[1], x[0]), np.multiply(np.multiply(x[1], x[0]), np.multiply(x[1], x[0]))), np.minimum(np.multiply(np.multiply(x[1], x[0]), np.subtract(9.405596931161028, 6.313485229956942)), np.multiply(np.multiply(x[1], x[0]), np.subtract(-5.357061668839316, 9.405596931161028))))\n"
     ]
    },
    {
     "name": "stderr",
     "output_type": "stream",
     "text": [
      "  0%|          | 401/200000 [01:51<15:03:09,  3.68it/s]"
     ]
    },
    {
     "name": "stdout",
     "output_type": "stream",
     "text": [
      "Generation 401, Island: 0, Best Fitness: 292.08237792594616, Best Formula: np.maximum(np.add(np.power(np.power(1.1799553826199212, x[1]), np.multiply(x[0], 8.912172228968831)), np.add(np.power(1.1799553826199212, x[1]), np.arctan(1.1799553826199212))), np.multiply(np.add(5.801230358765659, np.multiply(x[0], x[1])), np.add(np.multiply(x[0], x[1]), np.multiply(x[0], x[1]))))\n",
      "Migration at 400 gen from 1 to 0\n",
      "Generation 401, Island: 1, Best Fitness: 319.507585825718, Best Formula: np.divide(np.exp(np.multiply(x[0], np.multiply(x[1], 1.634877593266495))), np.maximum(np.maximum(np.divide(x[0], -1.1586814822132556), np.divide(x[0], -1.1586814822132556)), np.maximum(np.minimum(1.0547815443560982, 0.2376195400637009), np.absolute(x[1]))))\n",
      "Generation 401, Island: 2, Best Fitness: 303.88792403495023, Best Formula: np.multiply(np.power(np.divide(4.47685639791634, np.tanh(4.2318963057922225)), np.tanh(3.7372857752392186)), np.exp(np.multiply(x[1], np.subtract(x[0], -0.0514145373318069))))\n",
      "Generation 401, Island: 3, Best Fitness: 364.77849117295955, Best Formula: np.subtract(np.multiply(np.multiply(x[1], x[0]), np.multiply(np.multiply(x[1], x[0]), np.multiply(x[1], x[0]))), np.minimum(np.multiply(np.multiply(x[1], x[0]), 6.1499844343958365), np.multiply(np.multiply(x[1], x[0]), np.subtract(-9.586703164838186, 6.1499844343958365))))\n"
     ]
    },
    {
     "name": "stderr",
     "output_type": "stream",
     "text": [
      "  0%|          | 501/200000 [02:26<15:44:35,  3.52it/s]"
     ]
    },
    {
     "name": "stdout",
     "output_type": "stream",
     "text": [
      "Generation 501, Island: 0, Best Fitness: 292.0798549083787, Best Formula: np.maximum(np.add(np.power(np.power(1.1799553826199212, x[1]), np.multiply(x[0], 8.912172228968831)), np.add(np.power(1.1799553826199212, x[1]), np.sin(1.1799553826199212))), np.multiply(np.add(5.801230358765659, np.multiply(x[0], x[1])), np.add(np.multiply(x[0], x[1]), np.multiply(x[0], x[1]))))\n",
      "Generation 501, Island: 1, Best Fitness: 307.08323624173477, Best Formula: np.divide(np.exp(np.multiply(x[0], np.multiply(x[1], 1.660702169422695))), np.maximum(np.maximum(np.divide(x[0], -1.1586814822132556), np.maximum(x[0], -5.593791458736375)), np.maximum(np.remainder(9.40287988084059, 0.27938018295156297), np.absolute(x[1]))))\n",
      "Generation 501, Island: 2, Best Fitness: 303.887923097743, Best Formula: np.multiply(np.power(np.divide(4.47685639791634, np.tanh(4.283607131719929)), np.tanh(3.7372857752392186)), np.exp(np.multiply(x[1], np.subtract(x[0], -0.0514145373318069))))\n",
      "Generation 501, Island: 3, Best Fitness: 364.64896311845484, Best Formula: np.subtract(np.multiply(np.multiply(x[1], x[0]), np.multiply(np.multiply(x[1], x[0]), np.multiply(x[1], x[0]))), np.minimum(np.multiply(np.multiply(x[1], x[0]), 6.399784435804435), np.multiply(np.multiply(x[1], x[0]), np.subtract(-9.586703164838186, 6.399784435804435))))\n"
     ]
    },
    {
     "name": "stderr",
     "output_type": "stream",
     "text": [
      "  0%|          | 600/200000 [02:58<21:18:50,  2.60it/s]"
     ]
    },
    {
     "name": "stdout",
     "output_type": "stream",
     "text": [
      "Generation 601, Island: 0, Best Fitness: 292.0798549083787, Best Formula: np.maximum(np.add(np.power(np.power(1.1799553826199212, x[1]), np.multiply(x[0], 8.912172228968831)), np.add(np.power(1.1799553826199212, x[1]), np.sin(1.1799553826199212))), np.multiply(np.add(5.801230358765659, np.multiply(x[0], x[1])), np.add(np.multiply(x[0], x[1]), np.multiply(x[0], x[1]))))\n"
     ]
    },
    {
     "name": "stderr",
     "output_type": "stream",
     "text": [
      "  0%|          | 601/200000 [02:59<23:29:37,  2.36it/s]"
     ]
    },
    {
     "name": "stdout",
     "output_type": "stream",
     "text": [
      "Generation 601, Island: 1, Best Fitness: 306.9209821527376, Best Formula: np.divide(np.exp(np.multiply(x[0], np.multiply(x[1], 1.660702169422695))), np.maximum(np.maximum(np.divide(x[0], -1.1586814822132556), np.maximum(x[0], -5.593791458736375)), np.maximum(np.remainder(-6.572621916117702, 1.660702169422695), np.absolute(x[1]))))\n",
      "Generation 601, Island: 2, Best Fitness: 303.887923097743, Best Formula: np.multiply(np.power(np.divide(4.47685639791634, np.tanh(4.283607131719929)), np.tanh(3.7372857752392186)), np.exp(np.multiply(x[1], np.subtract(x[0], -0.0514145373318069))))\n",
      "Generation 601, Island: 3, Best Fitness: 364.6383182449033, Best Formula: np.subtract(np.multiply(np.multiply(x[1], x[0]), np.multiply(np.multiply(x[1], x[0]), np.multiply(x[1], x[0]))), np.minimum(np.multiply(np.multiply(x[1], x[0]), 6.624439502328581), np.multiply(np.multiply(x[1], x[0]), np.subtract(-9.586703164838186, 6.355851177127075))))\n"
     ]
    },
    {
     "name": "stderr",
     "output_type": "stream",
     "text": [
      "  0%|          | 634/200000 [03:11<24:25:46,  2.27it/s]"
     ]
    },
    {
     "name": "stdout",
     "output_type": "stream",
     "text": [
      "Migration at 634 gen from 0 to 3\n"
     ]
    },
    {
     "name": "stderr",
     "output_type": "stream",
     "text": [
      "  0%|          | 701/200000 [03:34<15:05:04,  3.67it/s]"
     ]
    },
    {
     "name": "stdout",
     "output_type": "stream",
     "text": [
      "Generation 701, Island: 0, Best Fitness: 292.0748096805741, Best Formula: np.maximum(np.add(np.power(np.power(1.1799553826199212, x[1]), np.multiply(x[0], 8.912172228968831)), np.add(np.power(1.1799553826199212, x[1]), np.sin(1.9908403254067188))), np.multiply(np.add(5.90501646953671, np.multiply(x[0], x[1])), np.add(np.multiply(x[0], x[1]), np.multiply(x[0], x[1]))))\n",
      "Generation 701, Island: 1, Best Fitness: 304.8705209570285, Best Formula: np.divide(np.exp(np.multiply(x[0], np.multiply(x[1], 1.6776102021433879))), np.maximum(np.maximum(np.divide(x[0], -1.1586814822132556), np.maximum(x[0], -5.593791458736375)), np.maximum(np.remainder(-6.572621916117702, 1.660702169422695), np.absolute(x[1]))))\n",
      "Generation 701, Island: 2, Best Fitness: 303.887923097743, Best Formula: np.multiply(np.power(np.divide(4.47685639791634, np.tanh(4.283607131719929)), np.tanh(3.7372857752392186)), np.exp(np.multiply(x[1], np.subtract(x[0], -0.0514145373318069))))\n",
      "Generation 701, Island: 3, Best Fitness: 292.0762564293168, Best Formula: np.maximum(np.add(np.power(np.power(1.1799553826199212, x[1]), np.multiply(x[0], 8.912172228968831)), np.add(np.power(1.1429345369372328, x[1]), np.sin(1.1799553826199212))), np.multiply(np.add(5.801230358765659, np.multiply(x[0], x[1])), np.add(np.multiply(x[0], x[1]), np.multiply(x[0], x[1]))))\n"
     ]
    },
    {
     "name": "stderr",
     "output_type": "stream",
     "text": [
      "  0%|          | 736/200000 [03:44<14:30:43,  3.81it/s]"
     ]
    },
    {
     "name": "stdout",
     "output_type": "stream",
     "text": [
      "Migration at 735 gen from 2 to 3\n"
     ]
    },
    {
     "name": "stderr",
     "output_type": "stream",
     "text": [
      "  0%|          | 800/200000 [04:04<16:17:27,  3.40it/s]"
     ]
    },
    {
     "name": "stdout",
     "output_type": "stream",
     "text": [
      "Generation 801, Island: 0, Best Fitness: 292.0748096805741, Best Formula: np.maximum(np.add(np.power(np.power(1.1799553826199212, x[1]), np.multiply(x[0], 8.912172228968831)), np.add(np.power(1.1799553826199212, x[1]), np.sin(1.9908403254067188))), np.multiply(np.add(5.90501646953671, np.multiply(x[0], x[1])), np.add(np.multiply(x[0], x[1]), np.multiply(x[0], x[1]))))\n",
      "Generation 801, Island: 1, Best Fitness: 304.8705209570285, Best Formula: np.divide(np.exp(np.multiply(x[0], np.multiply(x[1], 1.6776102021433879))), np.maximum(np.maximum(np.divide(x[0], -1.1586814822132556), np.maximum(x[0], -5.593791458736375)), np.maximum(np.remainder(-6.572621916117702, 1.660702169422695), np.absolute(x[1]))))\n",
      "Generation 801, Island: 2, Best Fitness: 302.0046725066884, Best Formula: np.multiply(np.divide(np.divide(4.47685639791634, np.tanh(3.7372857752392186)), np.tanh(3.7372857752392186)), np.exp(np.multiply(np.maximum(-1.889660231911133, x[1]), np.subtract(x[0], -0.0514145373318069))))\n",
      "Generation 801, Island: 3, Best Fitness: 292.0762564293168, Best Formula: np.maximum(np.add(np.power(np.power(1.1799553826199212, x[1]), np.multiply(x[0], 8.912172228968831)), np.add(np.power(1.1429345369372328, x[1]), np.sin(1.1799553826199212))), np.multiply(np.add(5.801230358765659, np.multiply(x[0], x[1])), np.add(np.multiply(x[0], x[1]), np.multiply(x[0], x[1]))))\n"
     ]
    },
    {
     "name": "stderr",
     "output_type": "stream",
     "text": [
      "  0%|          | 898/200000 [04:35<16:56:58,  3.26it/s]\n"
     ]
    },
    {
     "ename": "KeyboardInterrupt",
     "evalue": "",
     "output_type": "error",
     "traceback": [
      "\u001b[1;31m---------------------------------------------------------------------------\u001b[0m",
      "\u001b[1;31mKeyboardInterrupt\u001b[0m                         Traceback (most recent call last)",
      "Cell \u001b[1;32mIn[55], line 2\u001b[0m\n\u001b[0;32m      1\u001b[0m \u001b[38;5;66;03m# Execute the algorithm\u001b[39;00m\n\u001b[1;32m----> 2\u001b[0m best_tree, best_fitness \u001b[38;5;241m=\u001b[39m \u001b[43mregressor\u001b[49m\u001b[38;5;241;43m.\u001b[39;49m\u001b[43mevolve\u001b[49m\u001b[43m(\u001b[49m\u001b[43muse_std_operators\u001b[49m\u001b[38;5;241;43m=\u001b[39;49m\u001b[38;5;28;43;01mFalse\u001b[39;49;00m\u001b[43m,\u001b[49m\u001b[43mverbose\u001b[49m\u001b[38;5;241;43m=\u001b[39;49m\u001b[38;5;28;43;01mTrue\u001b[39;49;00m\u001b[43m)\u001b[49m   \u001b[38;5;66;03m#use_std_operators=True to use standard operators (+,-,*,/), use verbose=True to print the best tree for each island every 50 iterations\u001b[39;00m\n\u001b[0;32m      4\u001b[0m \u001b[38;5;28mprint\u001b[39m(\u001b[38;5;124mf\u001b[39m\u001b[38;5;124m\"\u001b[39m\u001b[38;5;130;01m\\n\u001b[39;00m\u001b[38;5;124mTrain Fitness: \u001b[39m\u001b[38;5;132;01m{\u001b[39;00mbest_fitness\u001b[38;5;132;01m}\u001b[39;00m\u001b[38;5;124m\"\u001b[39m)\n\u001b[0;32m      5\u001b[0m \u001b[38;5;66;03m# Calculate the fitness on original data\u001b[39;00m\n",
      "Cell \u001b[1;32mIn[53], line 193\u001b[0m, in \u001b[0;36mSymbolicRegression.evolve\u001b[1;34m(self, verbose, use_std_operators)\u001b[0m\n\u001b[0;32m    189\u001b[0m     \u001b[38;5;28;01mif\u001b[39;00m(verbose):\n\u001b[0;32m    190\u001b[0m         \u001b[38;5;28mprint\u001b[39m(\u001b[38;5;124mf\u001b[39m\u001b[38;5;124m\"\u001b[39m\u001b[38;5;124mMigration at \u001b[39m\u001b[38;5;132;01m{\u001b[39;00mgeneration\u001b[38;5;132;01m}\u001b[39;00m\u001b[38;5;124m gen from \u001b[39m\u001b[38;5;132;01m{\u001b[39;00mi\u001b[38;5;132;01m}\u001b[39;00m\u001b[38;5;124m to \u001b[39m\u001b[38;5;132;01m{\u001b[39;00misland_to_migrate\u001b[38;5;132;01m}\u001b[39;00m\u001b[38;5;124m\"\u001b[39m)\n\u001b[1;32m--> 193\u001b[0m new_population\u001b[38;5;241m=\u001b[39m\u001b[38;5;28;43mself\u001b[39;49m\u001b[38;5;241;43m.\u001b[39;49m\u001b[43moffspring_generation\u001b[49m\u001b[43m(\u001b[49m\u001b[43misland\u001b[49m\u001b[38;5;241;43m=\u001b[39;49m\u001b[43mi\u001b[49m\u001b[43m)\u001b[49m\n\u001b[0;32m    195\u001b[0m \u001b[38;5;28mself\u001b[39m\u001b[38;5;241m.\u001b[39mpopulation[i]\u001b[38;5;241m=\u001b[39mnp\u001b[38;5;241m.\u001b[39mconcatenate((\u001b[38;5;28mself\u001b[39m\u001b[38;5;241m.\u001b[39mpopulation[i],new_population))\n\u001b[0;32m    196\u001b[0m \u001b[38;5;28mself\u001b[39m\u001b[38;5;241m.\u001b[39mpopulation[i]\u001b[38;5;241m.\u001b[39msort()\n",
      "Cell \u001b[1;32mIn[53], line 120\u001b[0m, in \u001b[0;36mSymbolicRegression.offspring_generation\u001b[1;34m(self, island)\u001b[0m\n\u001b[0;32m    117\u001b[0m parent_clone \u001b[38;5;241m=\u001b[39m parent1\u001b[38;5;241m.\u001b[39mcopy_tree()\n\u001b[0;32m    118\u001b[0m \u001b[38;5;28mself\u001b[39m\u001b[38;5;241m.\u001b[39mmutate(parent_clone)\n\u001b[1;32m--> 120\u001b[0m \u001b[43mparent_clone\u001b[49m\u001b[38;5;241;43m.\u001b[39;49m\u001b[43mcompute_fitness\u001b[49m\u001b[43m(\u001b[49m\u001b[43m)\u001b[49m\n\u001b[0;32m    121\u001b[0m \u001b[38;5;66;03m#if the fitness is valid \u001b[39;00m\n\u001b[0;32m    122\u001b[0m \u001b[38;5;28;01mif\u001b[39;00m(parent_clone\u001b[38;5;241m.\u001b[39mfitness \u001b[38;5;129;01mis\u001b[39;00m \u001b[38;5;129;01mnot\u001b[39;00m np\u001b[38;5;241m.\u001b[39minf \u001b[38;5;129;01mand\u001b[39;00m parent_clone\u001b[38;5;241m.\u001b[39mfitness \u001b[38;5;129;01mis\u001b[39;00m \u001b[38;5;129;01mnot\u001b[39;00m np\u001b[38;5;241m.\u001b[39mnan):\n\u001b[0;32m    123\u001b[0m     \u001b[38;5;66;03m#to not re-add the same tree if the mutation was not possible (e.g. the tree is already a leaf and other edge cases)\u001b[39;00m\n",
      "File \u001b[1;32mc:\\Users\\agnes\\Desktop\\CI2024\\CI2024_project-work\\src\\tree.py:497\u001b[0m, in \u001b[0;36mTree.compute_fitness\u001b[1;34m(self, test)\u001b[0m\n\u001b[0;32m    494\u001b[0m eval_formula \u001b[38;5;241m=\u001b[39m \u001b[38;5;28meval\u001b[39m(\u001b[38;5;124mf\u001b[39m\u001b[38;5;124m\"\u001b[39m\u001b[38;5;124mlambda x: \u001b[39m\u001b[38;5;132;01m{\u001b[39;00mformula\u001b[38;5;132;01m}\u001b[39;00m\u001b[38;5;124m\"\u001b[39m,{\u001b[38;5;124m\"\u001b[39m\u001b[38;5;124mnp\u001b[39m\u001b[38;5;124m\"\u001b[39m: np, \u001b[38;5;124m\"\u001b[39m\u001b[38;5;124mnan\u001b[39m\u001b[38;5;124m\"\u001b[39m: np\u001b[38;5;241m.\u001b[39mnan, \u001b[38;5;124m\"\u001b[39m\u001b[38;5;124minf\u001b[39m\u001b[38;5;124m\"\u001b[39m: np\u001b[38;5;241m.\u001b[39minf}) \n\u001b[0;32m    496\u001b[0m \u001b[38;5;66;03m# Exploiting np broadcasting\u001b[39;00m\n\u001b[1;32m--> 497\u001b[0m y_pred \u001b[38;5;241m=\u001b[39m \u001b[43meval_formula\u001b[49m\u001b[43m(\u001b[49m\u001b[43mx_data\u001b[49m\u001b[43m)\u001b[49m  \n\u001b[0;32m    500\u001b[0m \u001b[38;5;28;01mif\u001b[39;00m np\u001b[38;5;241m.\u001b[39many(np\u001b[38;5;241m.\u001b[39misnan(y_pred)) \u001b[38;5;129;01mor\u001b[39;00m np\u001b[38;5;241m.\u001b[39many(np\u001b[38;5;241m.\u001b[39misinf(y_pred)):\n\u001b[0;32m    501\u001b[0m     \u001b[38;5;28mself\u001b[39m\u001b[38;5;241m.\u001b[39mfitness \u001b[38;5;241m=\u001b[39m np\u001b[38;5;241m.\u001b[39minf\n",
      "File \u001b[1;32m<string>:1\u001b[0m, in \u001b[0;36m<lambda>\u001b[1;34m(x)\u001b[0m\n",
      "\u001b[1;31mKeyboardInterrupt\u001b[0m: "
     ]
    }
   ],
   "source": [
    "\n",
    "# Execute the algorithm\n",
    "best_tree, best_fitness = regressor.evolve(use_std_operators=False,verbose=True)   #use_std_operators=True to use standard operators (+,-,*,/), use verbose=True to print the best tree for each island every 50 iterations\n",
    "\n",
    "print(f\"\\nTrain Fitness: {best_fitness}\")\n",
    "# Calculate the fitness on original data\n",
    "best_tree.compute_fitness(test=\"test\")\n",
    "\n",
    "\n",
    "\n",
    "\n",
    "print(f\"Test Fitness: {best_tree.fitness}\")\n",
    "print(f\"Train-Test Discrepancy: {best_fitness-best_tree.fitness}\")\n",
    "best_tree.compute_fitness(test=\"all\")\n",
    "print(f\"Global Fitness: {best_tree.fitness}\")\n",
    "\n",
    "\n",
    "#Print the best tree\n",
    "print(f\"Best Fitness History: {[tup[0] for tup in regressor.best_fitness_history]}, changed {len(regressor.best_fitness_history)} times\\n\")\n",
    "\n",
    "print(f\"Best Formula: {best_tree.to_np_formula(use_std_operators=False)}\\n\")\n",
    "print(f\"Best Formula with standard operators: {best_tree.to_np_formula(use_std_operators=True)}\")\n",
    "\n"
   ]
  },
  {
   "cell_type": "markdown",
   "metadata": {},
   "source": [
    "### Best Tree Drawing"
   ]
  },
  {
   "cell_type": "code",
   "execution_count": 22,
   "metadata": {},
   "outputs": [
    {
     "name": "stdout",
     "output_type": "stream",
     "text": [
      "Collapsed formula: np.add(np.multiply(767392.0483267499, np.add(x[0], np.maximum(x[1], -2.6441190929478715))), np.power(np.subtract(17.182340786957667, x[2]), x[0]))\n",
      "\n",
      "Tree drawing (after collapsing):\n"
     ]
    },
    {
     "data": {
      "image/png": "[encoded data removed]",
      "text/plain": [
       "<Figure size 1000x700 with 1 Axes>"
      ]
     },
     "metadata": {},
     "output_type": "display_data"
    }
   ],
   "source": [
    "tree_clone = best_tree.copy_tree()\n",
    "Tree.collapse_branch(tree_clone.root,0,force_collapse=True)\n",
    "tree_clone.compute_fitness()           \n",
    "if(tree_clone.fitness is not None or tree_clone.fitness is not np.inf and tree_clone.fitness is not np.nan):\n",
    "                    best_tree = tree_clone\n",
    "\n",
    "\n",
    "print(f\"Collapsed formula: {best_tree.to_np_formula(use_std_operators=False)}\\n\") #use_std_operators=True to use standard operators (+,-,*,/)\n",
    "print(\"Tree drawing (after collapsing):\")\n",
    "best_tree.add_drawing()\n"
   ]
  },
  {
   "cell_type": "code",
   "execution_count": 23,
   "metadata": {},
   "outputs": [
    {
     "data": {
      "image/png": "[encoded data removed]",
      "text/plain": [
       "<Figure size 640x480 with 1 Axes>"
      ]
     },
     "metadata": {},
     "output_type": "display_data"
    }
   ],
   "source": [
    "#Print graph of best fitness over generations\n",
    "import matplotlib.pyplot as plt\n",
    "plt.plot([tup[1] for tup in regressor.best_fitness_history], [tup[0] for tup in regressor.best_fitness_history])\n",
    "plt.xlabel('Generation')\n",
    "plt.ylabel('Best Fitness')\n",
    "plt.title('Best Fitness over Generations')\n",
    "plt.show()"
   ]
  }
 ],
 "metadata": {
  "kernelspec": {
   "display_name": "Python 3",
   "language": "python",
   "name": "python3"
  },
  "language_info": {
   "codemirror_mode": {
    "name": "ipython",
    "version": 3
   },
   "file_extension": ".py",
   "mimetype": "text/x-python",
   "name": "python",
   "nbconvert_exporter": "python",
   "pygments_lexer": "ipython3",
   "version": "3.9.13"
  }
 },
 "nbformat": 4,
 "nbformat_minor": 2
}

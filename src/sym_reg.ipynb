{
 "cells": [
  {
   "cell_type": "code",
   "execution_count": 34,
   "metadata": {},
   "outputs": [],
   "source": [
    "import math\n",
    "import numpy as np\n",
    "from tqdm import tqdm"
   ]
  },
  {
   "cell_type": "code",
   "execution_count": 35,
   "metadata": {},
   "outputs": [
    {
     "data": {
      "text/plain": [
       "{'divide': 'ignore', 'over': 'ignore', 'under': 'ignore', 'invalid': 'ignore'}"
      ]
     },
     "execution_count": 35,
     "metadata": {},
     "output_type": "execute_result"
    }
   ],
   "source": [
    "#warning settings\n",
    "np.seterr(all=\"ignore\") #ignore np warnings, the output will be nan or inf and will be handled correctly in the code. (using np.errstate slows down the code)"
   ]
  },
  {
   "cell_type": "code",
   "execution_count": 42,
   "metadata": {},
   "outputs": [],
   "source": [
    "# Configuration\n",
    "TRAIN_TEST_RATIO=0.3\n",
    "PROBLEM_NUMBER=3"
   ]
  },
  {
   "cell_type": "markdown",
   "metadata": {},
   "source": [
    "### Data Loading and Data Preprocessing"
   ]
  },
  {
   "cell_type": "code",
   "execution_count": 43,
   "metadata": {},
   "outputs": [
    {
     "name": "stdout",
     "output_type": "stream",
     "text": [
      "Problem number: 3, variables: 3, train size: 1500, test size: 3500\n",
      "Training data: x shape (3, 1500), y shape (1500,)\n",
      "Testing data: x shape (3, 3500), y shape (3500,)\n"
     ]
    }
   ],
   "source": [
    "# Load problem data with context manager protocol\n",
    "with np.load(f'../data/problem_{PROBLEM_NUMBER}.npz') as problem:\n",
    "    x_1 = problem['x']\n",
    "    y_1 = problem['y']\n",
    "\n",
    "# Shuffle the data\n",
    "permutation = np.random.permutation(len(y_1))\n",
    "x_1 = x_1[:, permutation]\n",
    "y_1 = y_1[permutation]\n",
    "\n",
    "# Determine train test split sizes\n",
    "problem_len=len(y_1)\n",
    "train_size=int(TRAIN_TEST_RATIO*problem_len)\n",
    "\n",
    "# Split data\n",
    "x_train = x_1[:, :train_size]\n",
    "y_train = y_1[:train_size]\n",
    "\n",
    "x_test = x_1[:, train_size:]\n",
    "y_test = y_1[train_size:]\n",
    "\n",
    "\n",
    "# Print dataset information\n",
    "print(f\"Problem number: {PROBLEM_NUMBER}, variables: {x_1.shape[0]}, train size: {train_size}, test size: {problem_len-train_size}\")\n",
    "\n",
    "print(f\"Training data: x shape {x_train.shape}, y shape {y_train.shape}\")\n",
    "print(f\"Testing data: x shape {x_test.shape}, y shape {y_test.shape}\")"
   ]
  },
  {
   "cell_type": "markdown",
   "metadata": {},
   "source": [
    "### NumPy Unary and Binary Operations"
   ]
  },
  {
   "cell_type": "code",
   "execution_count": 44,
   "metadata": {},
   "outputs": [],
   "source": [
    "unary_ops = [\n",
    "    np.negative,\n",
    "    np.abs,\n",
    "    np.sqrt,\n",
    "    np.exp,\n",
    "    np.log,\n",
    "    np.sin,\n",
    "    np.cos,\n",
    "    np.tan,\n",
    "    np.arcsin,\n",
    "    np.arccos,\n",
    "    np.arctan,\n",
    "    np.sinh,\n",
    "    np.cosh,\n",
    "    np.tanh,\n",
    "    np.square,\n",
    "    np.cbrt,\n",
    "    np.reciprocal,\n",
    "    np.ceil,\n",
    "    np.floor\n",
    "]\n",
    "\n",
    "binary_ops = [\n",
    "    np.add,\n",
    "    np.subtract,\n",
    "    np.multiply,\n",
    "    np.divide,\n",
    "    np.power,\n",
    "    np.maximum,\n",
    "    np.minimum,\n",
    "    np.mod\n",
    "]"
   ]
  },
  {
   "cell_type": "markdown",
   "metadata": {},
   "source": [
    "### Symbolic Regression Class"
   ]
  },
  {
   "cell_type": "code",
   "execution_count": 45,
   "metadata": {},
   "outputs": [],
   "source": [
    "from tree import Tree\n",
    "\n",
    "class SymbolicRegression:\n",
    "    \"\"\"\n",
    "    A class to implement symbolic regression using an evolutionary algorithm \n",
    "    with an island model approach.\n",
    "\n",
    "    Parameters:\n",
    "        - population_per_island (int): Number of individuals (trees) on each island.\n",
    "        - island_num (int): Number of islands (sub-populations).\n",
    "        - max_generations (int): Maximum number of generations before stopping.\n",
    "        - mutation_rate (float): Mutation probability occurring in a tree.\n",
    "        - elitism_size (int): Number of top individuals directly inserted in the next generation.\n",
    "        - grow_full_ratio (float): Ratio of trees initialized with grow method vs. full method.\n",
    "        - max_mutations (int): Maximum number of mutations an individual can be subjected.\n",
    "        - migration_rate (float): Probability of a migration event between islands.\n",
    "        - collapse_rate (float): Probability of population collapse to introduce diversity.\n",
    "\n",
    "    Attributes:\n",
    "        - unary_ops (list): List of unary operations.\n",
    "        - binary_ops (list): List of binary operations.\n",
    "        - best_fitness_history (list): List that stores the best fitness for each generation.\n",
    "        - population (list of np.array): List of sub-populations (islands).\n",
    "\n",
    "    Returns:\n",
    "\n",
    "    \"\"\"\n",
    "    def __init__(self, population_per_island, island_num, max_generations, mutation_rate, elitism_size, grow_full_ratio, max_mutations, migration_rate, collapse_rate):\n",
    "        self.population_per_island = population_per_island\n",
    "        self.island_num = island_num\n",
    "        self.max_generations = max_generations\n",
    "        self.mutation_rate = mutation_rate\n",
    "        self.elitism_size = elitism_size\n",
    "        self.grow_full_ratio = grow_full_ratio\n",
    "        self.max_mutations = max_mutations\n",
    "        self.migration_rate = migration_rate\n",
    "        self.collapse_rate=collapse_rate\n",
    "\n",
    "        self.unary_ops = unary_ops\n",
    "        self.binary_ops = binary_ops\n",
    "        self.best_fitness_history = []\n",
    "        self.population = [None] * island_num\n",
    "\n",
    "        for j in range(island_num):\n",
    "            self.population[j] = np.array([\n",
    "                Tree(\"grow\") if i < int(population_per_island * self.grow_full_ratio) else Tree(\"full\") for i in range(population_per_island)\n",
    "            ])   \n",
    "\n",
    "\n",
    "    # Parents selection methods\n",
    "    def select_parents_fitness_proportional(self, n_elems=2, epsilon=1e-10, island=0):\n",
    "        \"\"\"\n",
    "        Selects parents using fitness proportional selection method.\n",
    "\n",
    "        This method randomly selects `n_elems` individuals based on their fitness.\n",
    "        Individuals with lower fitness have an higher probability to be selected.\n",
    "        This approach helps maintain diversity, but may lead to premature convergence \n",
    "        if few individuals have significantly better fitness than others.\n",
    "\n",
    "        Parameters:\n",
    "            - n_elems (int): Number of individuals to select.\n",
    "            - epsilon (float): Small value to avoid division by zero.\n",
    "            - island (int): Island on which the selection should be done.\n",
    "        \n",
    "        Returns:\n",
    "            - A tuple containing the `n_elems` selected parents.\n",
    "        \"\"\"\n",
    "        fitnesses = [tree.fitness for tree in self.population[island]]\n",
    "        inverted_fitnesses = [1 / (fitness + epsilon) for fitness in fitnesses]  # avoid division by zero\n",
    "        probabilities = inverted_fitnesses / sum(inverted_fitnesses)\n",
    "        parent1, parent2 = np.random.choice(self.population[island], size=n_elems, p=probabilities, replace=False)\n",
    "        return parent1, parent2\n",
    "    \n",
    "    \n",
    "    def select_parents_rank_based(self, n_elems=2, island=0, exponential=False):\n",
    "        \"\"\"\n",
    "        Selects parents using rank based selection method.\n",
    "\n",
    "        Assigns probabilities based on inversed ranks instead of absolute fitness values.\n",
    "        Parameters:\n",
    "            - n_elems (int): Number of individuals to select.\n",
    "            - island (int): Island on which the selection should be done.\n",
    "            - exponential (bool): If True, the ranks are raised to the power of the exponential parameter.\n",
    "        \n",
    "        Returns:\n",
    "            - A tuple containing the `n_elems` selected parents.\n",
    "        \"\"\"\n",
    "        fitnesses = np.array([tree.fitness for tree in self.population[island]])\n",
    "        ranks = np.argsort(fitnesses)\n",
    "        if exponential:\n",
    "            ranks = ranks**exponential\n",
    "        inversed_ranks = len(fitnesses) - ranks\n",
    "        probabilities = inversed_ranks / np.sum(inversed_ranks)\n",
    "        return np.random.choice(self.population[island], n_elems, p=probabilities, replace=False)\n",
    "    \n",
    "    \n",
    "    def select_parents_tournament(self, island=0):\n",
    "        \"\"\"\n",
    "        Selects parents using tournament selection method.\n",
    "\n",
    "        This method randomly selects a subset (tournament) of the population and selects the two \n",
    "        individuals with the best fitness from the subset as parents.\n",
    "\n",
    "        Parameters:\n",
    "            - island (int): Island on which the selection should be done.\n",
    "        \n",
    "        Returns:\n",
    "            - A tuple containing the two selected parents.\n",
    "        \"\"\"\n",
    "        tournament_size = 5\n",
    "        tournament = list(np.random.choice(self.population[island], tournament_size, replace=True))\n",
    "        tournament.sort(key=lambda x: x.fitness)\n",
    "        return tournament[0], tournament[1]\n",
    "    \n",
    "    # Choose the parents selection method\n",
    "    def select_parents(self, island, method=\"rank\"):\n",
    "        \"\"\"\n",
    "        Select parents based on the specified method.\n",
    "\n",
    "        Parameters:\n",
    "            - island (int): Island on which the selection should be done.\n",
    "            - method (str): The parent selection method to use.\n",
    "\n",
    "        Returns:\n",
    "            - A tuple containing the two selected parents.\n",
    "        \"\"\"\n",
    "        if method == \"rank\":\n",
    "            return self.select_parents_rank_based(island=island)\n",
    "        elif method == \"fitness_proportional\":\n",
    "            return self.select_parents_fitness_proportional(island=island)\n",
    "        elif method == \"tournament\":\n",
    "            return self.select_parents_tournament(island=island)\n",
    "        else:\n",
    "            return self.select_parents_rank_based(island=island)\n",
    "            \n",
    "            \n",
    "    # Mutation methods\n",
    "    def mutate(self, tree):\n",
    "        if np.random.rand() < 0.5:\n",
    "            tree.mutate_subtree()\n",
    "        else:\n",
    "            mutations = np.random.randint(1, self.max_mutations+1)\n",
    "            tree.mutate_single_node(num_mutations=mutations)\n",
    "        \n",
    "       \n",
    "\n",
    "\n",
    "    # Offsprings generation via mutation and crossover\n",
    "    def offspring_generation(self,island):\n",
    "        new_population = np.array([])\n",
    "\n",
    "        # Elitism   \n",
    "        elite_individuals = self.population[island][:self.elitism_size]\n",
    "        new_population = elite_individuals\n",
    "\n",
    "        # Main loop\n",
    "        while len(new_population) < self.population_per_island//2: \n",
    "            parent1, parent2 = self.select_parents(island=island)\n",
    "            # generate offsprings (one in mutation, two in crossover)\n",
    "            offsprings = np.array([])\n",
    "\n",
    "            if(np.random.rand() < self.mutation_rate):\n",
    "                parent_clone = parent1.copy_tree()\n",
    "                self.mutate(parent_clone)\n",
    "              \n",
    "                parent_clone.compute_fitness()\n",
    "                #if the fitness is valid \n",
    "                if(parent_clone.fitness is not np.inf and parent_clone.fitness is not np.nan):\n",
    "                    #to not re-add the same tree if the mutation was not possible (e.g. the tree is already a leaf and other edge cases)\n",
    "                    if( parent_clone.fitness!=parent1.fitness):\n",
    "                        offsprings = np.append(offsprings, [parent_clone])\n",
    "\n",
    "            else:    \n",
    "                offspring1, offspring2 = parent1.crossover(parent2)\n",
    "                if(offspring1 is not None and offspring2 is not None):\n",
    "               \n",
    "                    offspring1.compute_fitness()\n",
    "                    offspring2.compute_fitness()\n",
    "\n",
    "                    offsprings = np.append(offsprings, [offspring1, offspring2])\n",
    "\n",
    "            # Collapse branch\n",
    "            for offsp in offsprings:\n",
    "                if(np.random.rand() < self.collapse_rate):\n",
    "                    #clone the tree and collapse the branch\n",
    "                    tree_clone = offsp.copy_tree()\n",
    "                \n",
    "                    Tree.collapse_branch(tree_clone.root,force_collapse=True)\n",
    "                    tree_clone.compute_fitness()\n",
    "                    #if the fitness is not nan or inf after collapsing\n",
    "                    if(tree_clone.fitness is not None or tree_clone.fitness is not np.inf and tree_clone.fitness is not np.nan):\n",
    "                            offsp = tree_clone\n",
    "\n",
    "            new_population = np.concatenate((new_population, offsprings))\n",
    "                \n",
    "        return new_population\n",
    "    \n",
    "    # Genetic Algorithm: Evolutionary Process\n",
    "    def evolve(self,verbose=False,use_std_operators=False):\n",
    "        best_tree_island = np.full(self.island_num, None, dtype=object)\n",
    "        best_fitness_island = np.full(self.island_num, np.inf)\n",
    "        global_best_fitness = np.inf\n",
    "        global_best_tree = None\n",
    "        take_over = np.full(self.island_num, False)\n",
    "        # self.population_per_island.sort(key=lambda x: x.fitness) \n",
    "        #numpy sort of population over fitness\n",
    "        for i in range(self.island_num):\n",
    "            self.population[i].sort()\n",
    "      \n",
    "\n",
    "\n",
    "        for generation in tqdm(range(self.max_generations)):\n",
    "           \n",
    "            for i in range(self.island_num):\n",
    "                if take_over[i]:\n",
    "                    \n",
    "                    self.population[i] = np.unique(self.population[i])\n",
    "                    new_trees = np.array([Tree(\"grow\") for _ in range(self.population_per_island-len(self.population[i]))])\n",
    "                 \n",
    "                    self.population[i] = np.concatenate((self.population[i],new_trees))\n",
    "                    self.population[i].sort()\n",
    "                \n",
    "\n",
    "                if np.random.rand()<self.migration_rate and self.island_num>1:\n",
    "                    #pick a random island to migrate to \n",
    "                    island_to_migrate = np.random.randint(0,self.island_num)\n",
    "                    #select a random number from 0 to the population size of the current island\n",
    "                    random_index = np.random.randint(0,len(self.population[i]))\n",
    "                    \n",
    "                    self.population[island_to_migrate]=np.append(self.population[island_to_migrate],self.population[i][random_index])\n",
    "                    #remove the tree from the current island\n",
    "                    self.population[i]=np.delete(self.population[i],random_index)\n",
    "                    \n",
    "\n",
    "                    if(verbose):\n",
    "                        print(f\"Migration at {generation} gen from {i} to {island_to_migrate}\")\n",
    "\n",
    "\n",
    "                new_population=self.offspring_generation(island=i)\n",
    "                    \n",
    "                self.population[i]=np.concatenate((self.population[i],new_population))\n",
    "                self.population[i].sort()\n",
    "                \n",
    "                generation_best_fitness_island = self.population[i][0].fitness\n",
    "\n",
    "                if generation_best_fitness_island < best_fitness_island[i]:\n",
    "                    best_fitness_island[i] = generation_best_fitness_island\n",
    "                    best_tree_island[i] = self.population[i][0]\n",
    "                    \n",
    "\n",
    "                    if(best_fitness_island[i] < global_best_fitness):\n",
    "                        global_best_fitness = best_fitness_island[i]\n",
    "                        global_best_tree = best_tree_island[i]\n",
    "                        self.best_fitness_history.append((best_fitness_island[i], generation))\n",
    "\n",
    "\n",
    "                #trim the population to the best island_population\n",
    "                self.population[i] = self.population[i][:self.population_per_island]\n",
    "\n",
    "                \n",
    "                \n",
    "                n_best = [elem for elem in self.population[i] if elem.fitness == self.population[i][0].fitness]\n",
    "                take_over[i] = False\n",
    "                if len(n_best) > 0.5 * self.population_per_island:\n",
    "                        take_over[i] = True\n",
    "                             \n",
    "                if(generation%100==0 and verbose):\n",
    "                        print(f\"Generation {generation + 1}, Island: {i}, Best Fitness: {best_fitness_island[i]}, Best Formula: {best_tree_island[i].to_np_formula(use_std_operators=use_std_operators)}\")\n",
    "            \n",
    "                if global_best_fitness <= 1e-33:\n",
    "                    break   \n",
    "\n",
    "            if(generation%100==0 and not verbose):\n",
    "                print(f\"Generation {generation + 1}, Best Fitness: {global_best_fitness}, Best Formula: {global_best_tree.to_np_formula(use_std_operators=use_std_operators)}\")\n",
    "\n",
    "        return global_best_tree, global_best_fitness"
   ]
  },
  {
   "cell_type": "markdown",
   "metadata": {},
   "source": [
    "### Problem Definition and Symbolic Regression Initialization"
   ]
  },
  {
   "cell_type": "code",
   "execution_count": 46,
   "metadata": {},
   "outputs": [],
   "source": [
    "# --ISLAND SETTINGS--\n",
    "ISLAND_POPULATION = 70\n",
    "ISLAND_NUM = 4\n",
    "MIGRATION_RATE = 0.005\n",
    "\n",
    "\n",
    "# --TREE SETTINGS--\n",
    "TREE_MAX_DEPTH = 4\n",
    "TREE_SPAWN_DEPTH = 3 #the max depth at which the tree will be spawned, they can grow up to TREE_MAX_DEPTH\n",
    "\n",
    "\n",
    "\n",
    "# --GENETIC ALGORITHM SETTINGS--\n",
    "MAX_GENERATIONS = 5_000\n",
    "ELITISM_SIZE = 1\n",
    "VAR_NUM = x_train.shape[0]\n",
    "CONST_RANGE = 10 # Constats will be in the range [-CONST_RANGE, CONST_RANGE]\n",
    "MAX_MUTATIONS = 3  # Maximum number of mutations in a single mutation operation\n",
    "MUTATION_RATE = 0.35\n",
    "GROW_FULL_RATIO = 0.95\n",
    "COLLAPSE_RATE = 0.5\n",
    "\n",
    "# --DEPTH CHECK--\n",
    "min_depth_data = math.ceil(math.log(x_train.shape[0],2))\n",
    "if(TREE_SPAWN_DEPTH<min_depth_data):\n",
    "    TREE_SPAWN_DEPTH = min_depth_data\n",
    "    print(f\"Spawn depth too low, set to {TREE_SPAWN_DEPTH}\")\n",
    "\n",
    "if(TREE_MAX_DEPTH<TREE_SPAWN_DEPTH):\n",
    "    TREE_MAX_DEPTH = TREE_SPAWN_DEPTH+1\n",
    "    print(f\"Max depth too low, set to {TREE_MAX_DEPTH}\")\n",
    "\n",
    "\n",
    "Tree.set_params(unary_ops, binary_ops, VAR_NUM, CONST_RANGE,TREE_MAX_DEPTH,TREE_SPAWN_DEPTH, x_train, y_train, x_test, y_test)\n",
    "regressor = SymbolicRegression(\n",
    "    ISLAND_POPULATION,\n",
    "    ISLAND_NUM,\n",
    "    MAX_GENERATIONS,\n",
    "    MUTATION_RATE,\n",
    "    ELITISM_SIZE,\n",
    "    GROW_FULL_RATIO,\n",
    "    MAX_MUTATIONS,\n",
    "    MIGRATION_RATE,\n",
    "    COLLAPSE_RATE\n",
    "    \n",
    ")\n",
    "#print the trees\n"
   ]
  },
  {
   "cell_type": "markdown",
   "metadata": {},
   "source": [
    "### Algorithm Execution and Results Computation"
   ]
  },
  {
   "cell_type": "code",
   "execution_count": 47,
   "metadata": {},
   "outputs": [
    {
     "name": "stderr",
     "output_type": "stream",
     "text": [
      "  0%|          | 0/5000 [00:00<?, ?it/s]"
     ]
    },
    {
     "name": "stdout",
     "output_type": "stream",
     "text": [
      "Generation 1, Island: 0, Best Fitness: 2606.453897473893, Best Formula: np.remainder(np.remainder(x[1], x[2]), np.multiply(x[0], x[0]))\n",
      "Generation 1, Island: 1, Best Fitness: 2348.440050121586, Best Formula: np.subtract(np.multiply(np.add(np.negative(np.sqrt(9.057124823327065)), np.tanh(np.absolute(x[0]))), x[1]), np.minimum(x[2], 3.4792378217020836))\n",
      "Generation 1, Island: 2, Best Fitness: 2082.8977410281827, Best Formula: np.multiply(np.add(-6.291068212224083, x[2]), np.add(x[0], x[1]))\n"
     ]
    },
    {
     "name": "stderr",
     "output_type": "stream",
     "text": [
      "  0%|          | 2/5000 [00:00<20:28,  4.07it/s]"
     ]
    },
    {
     "name": "stdout",
     "output_type": "stream",
     "text": [
      "Generation 1, Island: 3, Best Fitness: 1867.7891258970928, Best Formula: np.subtract(np.maximum(x[0], x[2]), np.multiply(x[1], 4.835233567843458))\n"
     ]
    },
    {
     "name": "stderr",
     "output_type": "stream",
     "text": [
      "  1%|▏         | 63/5000 [00:09<12:55,  6.37it/s]"
     ]
    },
    {
     "name": "stdout",
     "output_type": "stream",
     "text": [
      "Migration at 62 gen from 2 to 3\n"
     ]
    },
    {
     "name": "stderr",
     "output_type": "stream",
     "text": [
      "  2%|▏         | 101/5000 [00:15<11:35,  7.04it/s]"
     ]
    },
    {
     "name": "stdout",
     "output_type": "stream",
     "text": [
      "Generation 101, Island: 0, Best Fitness: 593.5308075040463, Best Formula: np.add(np.remainder(np.subtract(np.divide(np.minimum(-9.044939468407891, x[2]), np.absolute(x[0])), np.multiply(-9.044939468407891, np.minimum(-1.0736588952495758, -9.044939468407891))), np.multiply(-8.659497308141512, np.remainder(5.302774899603532, np.remainder(5.302774899603532, -9.500891653505992)))), np.multiply(x[1], np.multiply(np.sqrt(6.101459295154108), -6.300049400332948)))\n",
      "Generation 101, Island: 1, Best Fitness: 670.1944530968956, Best Formula: np.subtract(np.multiply(np.floor(np.add(-5.451107889755152, np.subtract(x[0], 9.604727824614496))), x[1]), np.add(x[2], np.subtract(np.sinh(-4.003977897239704), np.add(np.divide(-9.892458465508065, -7.128955803144246), np.minimum(1.4344006008381491, -8.580605336923924)))))\n",
      "Generation 101, Island: 2, Best Fitness: 868.2449610261367, Best Formula: np.multiply(np.add(-8.317375769562489, np.add(np.maximum(-8.598401320121592, x[2]), -8.598401320121592)), np.minimum(np.add(np.sin(np.remainder(-3.1205317592890225, x[2])), np.add(np.minimum(x[2], x[0]), np.subtract(-4.334846054898371, -8.598401320121592))), x[1]))\n",
      "Generation 101, Island: 3, Best Fitness: 531.8394154815587, Best Formula: np.subtract(np.subtract(np.exp(np.add(np.divide(-9.325784342352852, 7.512268299702747), np.negative(x[0]))), np.subtract(np.add(1.4014451692277703, np.add(x[2], 2.418881924355949)), np.power(np.maximum(8.63607468600825, 1.4014451692277703), 1.4014451692277703))), np.multiply(x[1], np.power(np.maximum(7.106199436770616, np.subtract(4.292925051025815, 7.891297287947896)), 1.4014451692277703)))\n"
     ]
    },
    {
     "name": "stderr",
     "output_type": "stream",
     "text": [
      "  3%|▎         | 170/5000 [00:27<16:54,  4.76it/s]"
     ]
    },
    {
     "name": "stdout",
     "output_type": "stream",
     "text": [
      "Migration at 169 gen from 1 to 1\n"
     ]
    },
    {
     "name": "stderr",
     "output_type": "stream",
     "text": [
      "  3%|▎         | 174/5000 [00:28<13:39,  5.89it/s]"
     ]
    },
    {
     "name": "stdout",
     "output_type": "stream",
     "text": [
      "Migration at 173 gen from 1 to 3\n"
     ]
    },
    {
     "name": "stderr",
     "output_type": "stream",
     "text": [
      "  4%|▍         | 201/5000 [00:34<19:43,  4.05it/s]"
     ]
    },
    {
     "name": "stdout",
     "output_type": "stream",
     "text": [
      "Generation 201, Island: 0, Best Fitness: 510.6194334575087, Best Formula: np.add(np.remainder(np.subtract(np.divide(np.tanh(x[2]), np.absolute(x[0])), np.power(np.maximum(x[1], 7.374645951221012), np.divide(-1.4770199791771823, 2.424933879657889))), np.multiply(-8.659497308141512, np.remainder(5.36644691526482, np.remainder(-8.659497308141512, -9.500891653505992)))), np.multiply(x[1], np.multiply(np.sqrt(5.302774899603532), -6.510023211862346)))\n",
      "Generation 201, Island: 1, Best Fitness: 641.9901582615338, Best Formula: np.subtract(np.multiply(np.ceil(np.add(-5.5564590299239125, np.subtract(x[0], 9.604727824614496))), x[1]), np.add(x[2], np.subtract(np.sinh(-4.003977897239704), np.remainder(np.divide(-1.1562873098817583, -4.003977897239704), np.subtract(-7.58772860694485, x[2])))))\n",
      "Generation 201, Island: 2, Best Fitness: 850.1289936275002, Best Formula: np.multiply(np.add(-9.656335619342109, np.add(np.add(np.maximum(-8.598401320121592, x[2]), -8.598401320121592), np.divide(np.remainder(-5.370333652746895, x[2]), -8.598401320121592))), np.minimum(np.add(np.sin(np.remainder(-7.6381623308378455, x[2])), np.add(np.minimum(x[2], x[0]), np.subtract(-4.334846054898371, -8.598401320121592))), x[1]))\n",
      "Generation 201, Island: 3, Best Fitness: 494.2493791537656, Best Formula: np.subtract(np.subtract(np.exp(np.add(np.divide(-8.812479451558591, 7.512268299702747), np.negative(x[0]))), np.subtract(np.add(2.418881924355949, np.multiply(x[2], 2.418881924355949)), np.power(np.maximum(7.891297287947896, 7.891297287947896), 1.4014451692277703))), np.multiply(x[1], np.power(np.maximum(2.418881924355949, np.remainder(-8.812479451558591, 7.891297287947896)), 1.4014451692277703)))\n"
     ]
    },
    {
     "name": "stderr",
     "output_type": "stream",
     "text": [
      "  6%|▌         | 279/5000 [00:50<14:08,  5.56it/s]"
     ]
    },
    {
     "name": "stdout",
     "output_type": "stream",
     "text": [
      "Migration at 278 gen from 1 to 3\n"
     ]
    },
    {
     "name": "stderr",
     "output_type": "stream",
     "text": [
      "  6%|▌         | 300/5000 [00:54<18:15,  4.29it/s]"
     ]
    },
    {
     "name": "stdout",
     "output_type": "stream",
     "text": [
      "Migration at 300 gen from 0 to 1\n",
      "Generation 301, Island: 0, Best Fitness: 168.50826770435822, Best Formula: np.add(np.remainder(np.subtract(np.divide(np.tanh(x[2]), np.absolute(x[0])), np.power(np.maximum(x[1], 7.374645951221012), np.divide(-1.4770199791771823, 2.424933879657889))), np.multiply(-8.24927247121996, np.remainder(5.302774899603532, -8.659497308141512))), np.multiply(x[1], np.subtract(np.divide(np.remainder(9.443604326758226, -2.8967875145568307), np.maximum(6.196809778592261, 8.116325947183725)), np.minimum(np.square(x[1]), np.power(2.9222579204423624, 8.207951058746843)))))\n",
      "Generation 301, Island: 1, Best Fitness: 256.668136065426, Best Formula: np.add(np.remainder(np.subtract(np.divide(np.tanh(x[2]), np.absolute(x[0])), np.power(np.maximum(x[1], 7.374645951221012), np.divide(-1.4770199791771823, 2.424933879657889))), np.multiply(-8.24927247121996, np.remainder(5.302774899603532, -8.659497308141512))), np.multiply(x[1], np.subtract(np.remainder(8.207951058746843, -4.0070568385189675), np.minimum(np.square(x[1]), np.power(2.9222579204423624, 2.841789355733164)))))\n",
      "Generation 301, Island: 2, Best Fitness: 734.27851325517, Best Formula: np.multiply(np.add(-8.598401320121592, np.add(np.add(np.maximum(-4.334846054898371, x[2]), -8.598401320121592), np.divide(np.cosh(x[0]), -7.6381623308378455))), np.minimum(np.add(np.sin(np.cosh(x[0])), np.add(np.minimum(x[2], x[0]), np.subtract(-4.626174359071074, -8.598401320121592))), np.divide(np.floor(x[1]), np.arctan(np.negative(-1.9629297503281347)))))\n"
     ]
    },
    {
     "name": "stderr",
     "output_type": "stream",
     "text": [
      "  6%|▌         | 302/5000 [00:55<16:23,  4.77it/s]"
     ]
    },
    {
     "name": "stdout",
     "output_type": "stream",
     "text": [
      "Generation 301, Island: 3, Best Fitness: 380.4742342815507, Best Formula: np.subtract(np.subtract(np.exp(np.add(np.divide(-8.812479451558591, 7.891297287947896), np.absolute(x[0]))), np.subtract(np.add(np.remainder(-8.812479451558591, 7.891297287947896), np.multiply(x[2], 2.4521070367628717)), np.power(np.maximum(1.068582822228441, 7.891297287947896), 1.4014451692277703))), np.multiply(x[1], np.power(np.maximum(6.85498299865062, 1.4014451692277703), 1.4014451692277703)))\n"
     ]
    },
    {
     "name": "stderr",
     "output_type": "stream",
     "text": [
      "  6%|▌         | 310/5000 [00:56<14:34,  5.37it/s]"
     ]
    },
    {
     "name": "stdout",
     "output_type": "stream",
     "text": [
      "Migration at 309 gen from 0 to 0\n"
     ]
    },
    {
     "name": "stderr",
     "output_type": "stream",
     "text": [
      "  8%|▊         | 401/5000 [01:18<17:02,  4.50it/s]"
     ]
    },
    {
     "name": "stdout",
     "output_type": "stream",
     "text": [
      "Generation 401, Island: 0, Best Fitness: 167.68766414379868, Best Formula: np.add(np.remainder(np.subtract(np.divide(np.tanh(x[2]), np.absolute(x[0])), np.power(np.maximum(x[1], 7.374645951221012), np.divide(-1.4770199791771823, 2.424933879657889))), np.multiply(-8.669232475916663, np.remainder(-3.2609552070812846, -8.659497308141512))), np.multiply(x[1], np.subtract(np.divide(np.remainder(-2.8967875145568307, 2.424933879657889), -8.659497308141512), np.minimum(np.square(x[1]), np.power(2.9222579204423624, 8.207951058746843)))))\n",
      "Generation 401, Island: 1, Best Fitness: 168.01315387237378, Best Formula: np.add(np.remainder(np.subtract(np.divide(np.tanh(x[2]), np.absolute(x[0])), np.power(np.maximum(x[1], 7.374645951221012), np.divide(-1.4770199791771823, 2.424933879657889))), np.multiply(-8.659497308141512, np.remainder(5.302774899603532, -8.659497308141512))), np.multiply(x[1], np.subtract(np.remainder(np.square(x[1]), np.divide(-1.4770199791771823, 5.302774899603532)), np.minimum(np.square(x[1]), np.power(5.302774899603532, 8.207951058746843)))))\n",
      "Generation 401, Island: 2, Best Fitness: 730.4913667828197, Best Formula: np.multiply(np.add(np.subtract(np.multiply(-8.645988514386236, np.remainder(4.507680351126314, 3.584733102909949)), np.power(np.remainder(4.507680351126314, 3.584733102909949), np.minimum(x[2], x[0]))), np.add(np.add(np.maximum(-7.6381623308378455, x[2]), -8.598401320121592), np.divide(np.cosh(x[0]), -7.6381623308378455))), np.minimum(np.add(np.sin(np.cosh(x[0])), np.add(np.minimum(x[2], x[0]), 4.178738604568812)), np.divide(np.floor(x[1]), np.arctan(np.maximum(2.0938462889450236, 2.0938462889450236)))))\n",
      "Generation 401, Island: 3, Best Fitness: 371.39282010326133, Best Formula: np.subtract(np.subtract(np.exp(np.add(np.divide(-7.051481682436234, 7.534978380719547), np.absolute(x[0]))), np.subtract(np.add(np.remainder(-8.812479451558591, 7.534978380719547), np.multiply(x[2], 3.6455514156809983)), np.power(np.maximum(6.85498299865062, 1.4014451692277703), 1.4014451692277703))), np.multiply(x[1], np.power(np.maximum(6.85498299865062, 1.4014451692277703), 1.4014451692277703)))\n"
     ]
    },
    {
     "name": "stderr",
     "output_type": "stream",
     "text": [
      "  8%|▊         | 410/5000 [01:20<17:02,  4.49it/s]"
     ]
    },
    {
     "name": "stdout",
     "output_type": "stream",
     "text": [
      "Migration at 408 gen from 3 to 3\n"
     ]
    },
    {
     "name": "stderr",
     "output_type": "stream",
     "text": [
      "  9%|▉         | 453/5000 [01:30<15:34,  4.86it/s]"
     ]
    },
    {
     "name": "stdout",
     "output_type": "stream",
     "text": [
      "Migration at 452 gen from 2 to 0\n"
     ]
    },
    {
     "name": "stderr",
     "output_type": "stream",
     "text": [
      " 10%|█         | 500/5000 [01:41<20:02,  3.74it/s]"
     ]
    },
    {
     "name": "stdout",
     "output_type": "stream",
     "text": [
      "Generation 501, Island: 0, Best Fitness: 167.6871764584572, Best Formula: np.add(np.remainder(np.subtract(np.divide(np.tanh(x[2]), np.absolute(x[0])), np.power(np.maximum(x[1], 7.374645951221012), np.divide(-1.4770199791771823, 2.424933879657889))), np.multiply(-8.669232475916663, np.remainder(-3.2609552070812846, -8.659497308141512))), np.multiply(x[1], np.subtract(np.divide(np.remainder(4.298543861569808, 2.424933879657889), np.ceil(-8.669232475916663)), np.minimum(np.square(x[1]), np.square(x[1])))))\n",
      "Generation 501, Island: 1, Best Fitness: 167.96638497929678, Best Formula: np.add(np.remainder(np.subtract(np.divide(np.tanh(x[2]), np.absolute(x[0])), np.power(np.maximum(x[1], 7.374645951221012), np.divide(-1.4770199791771823, 2.424933879657889))), np.multiply(-8.659497308141512, np.remainder(5.302774899603532, -8.659497308141512))), np.multiply(x[1], np.subtract(np.remainder(np.square(x[1]), np.divide(-2.3970998851525183, 5.302774899603532)), np.minimum(np.square(x[1]), np.power(5.302774899603532, 8.207951058746843)))))\n",
      "Generation 501, Island: 2, Best Fitness: 696.9983004755185, Best Formula: np.multiply(np.add(np.subtract(np.multiply(-6.378513406915507, np.exp(-0.42157110172083456)), np.power(np.remainder(2.0938462889450236, 2.0938462889450236), np.remainder(4.507680351126314, 4.507680351126314))), np.add(np.add(np.minimum(x[2], x[0]), -9.684439556296379), np.minimum(np.exp(-0.42157110172083456), x[1]))), np.minimum(np.add(np.add(np.minimum(x[2], x[0]), 4.178738604568812), np.add(np.minimum(x[2], x[0]), 4.178738604568812)), np.divide(np.floor(x[1]), np.arctan(np.maximum(2.0938462889450236, 2.0938462889450236)))))\n",
      "Generation 501, Island: 3, Best Fitness: 370.30159662541547, Best Formula: np.subtract(np.subtract(np.exp(np.add(np.divide(-7.051481682436234, 7.534978380719547), np.absolute(x[0]))), np.subtract(np.add(np.minimum(1.4535783313909043, -0.07848016882494768), np.multiply(x[2], 3.453748166798645)), 8.75343072084501)), np.multiply(x[1], np.power(np.maximum(np.maximum(-2.381201935755226, -7.051481682436234), np.maximum(-7.051481682436234, 6.799139199137841)), 1.4014451692277703)))\n"
     ]
    },
    {
     "name": "stderr",
     "output_type": "stream",
     "text": [
      " 11%|█         | 559/5000 [01:58<18:24,  4.02it/s]"
     ]
    },
    {
     "name": "stdout",
     "output_type": "stream",
     "text": [
      "Migration at 559 gen from 0 to 3\n"
     ]
    },
    {
     "name": "stderr",
     "output_type": "stream",
     "text": [
      " 12%|█▏        | 601/5000 [02:10<19:03,  3.85it/s]"
     ]
    },
    {
     "name": "stdout",
     "output_type": "stream",
     "text": [
      "Generation 601, Island: 0, Best Fitness: 167.6655629509291, Best Formula: np.add(np.remainder(np.subtract(np.divide(np.tanh(x[2]), np.absolute(x[0])), np.power(np.maximum(x[1], 7.374645951221012), np.divide(-1.4770199791771823, 2.424933879657889))), np.multiply(-8.669232475916663, -3.2609552070812846)), np.multiply(x[1], np.subtract(np.divide(np.remainder(-8.669232475916663, 2.424933879657889), np.ceil(-4.764634466533131)), np.minimum(np.cosh(x[1]), np.square(x[1])))))\n",
      "Generation 601, Island: 1, Best Fitness: 167.6681498054053, Best Formula: np.add(np.remainder(np.subtract(np.divide(np.tanh(x[2]), np.absolute(x[0])), np.power(np.maximum(x[1], 7.374645951221012), np.divide(-1.4770199791771823, 2.424933879657889))), np.multiply(-8.659497308141512, np.remainder(5.418847865960217, -8.659497308141512))), np.multiply(x[1], np.subtract(np.remainder(np.multiply(-8.659497308141512, x[1]), np.divide(-2.3970998851525183, 7.374645951221012)), np.minimum(np.square(x[1]), np.power(2.424933879657889, 8.207951058746843)))))\n",
      "Generation 601, Island: 2, Best Fitness: 315.8545595069452, Best Formula: np.multiply(np.add(np.subtract(np.minimum(np.exp(-0.42157110172083456), x[1]), np.power(np.cosh(x[1]), np.remainder(0.7171512633635952, 4.2002745615544725))), np.add(np.add(np.minimum(x[2], x[0]), -5.843139020495862), np.minimum(0.9808621671821633, x[1]))), np.minimum(np.add(np.divide(np.floor(x[1]), np.cos(4.178738604568812)), np.add(np.minimum(x[2], x[0]), np.square(x[1]))), np.divide(np.floor(x[1]), np.arctan(np.maximum(-0.42157110172083456, 4.178738604568812)))))\n",
      "Generation 601, Island: 3, Best Fitness: 167.68717531394503, Best Formula: np.add(np.remainder(np.subtract(np.divide(np.tanh(x[2]), np.absolute(x[0])), np.power(np.maximum(x[1], 7.374645951221012), np.divide(-1.4770199791771823, 2.424933879657889))), np.multiply(-8.669232475916663, np.remainder(-3.2609552070812846, -8.659497308141512))), np.multiply(x[1], np.subtract(np.divide(np.remainder(-3.2609552070812846, 2.424933879657889), -6.83366481000667), np.minimum(np.square(x[1]), np.square(x[1])))))\n"
     ]
    },
    {
     "name": "stderr",
     "output_type": "stream",
     "text": [
      " 12%|█▏        | 618/5000 [02:15<17:10,  4.25it/s]"
     ]
    },
    {
     "name": "stdout",
     "output_type": "stream",
     "text": [
      "Migration at 617 gen from 3 to 0\n"
     ]
    },
    {
     "name": "stderr",
     "output_type": "stream",
     "text": [
      " 12%|█▏        | 623/5000 [02:17<33:32,  2.17it/s]"
     ]
    },
    {
     "name": "stdout",
     "output_type": "stream",
     "text": [
      "Migration at 623 gen from 1 to 0\n"
     ]
    },
    {
     "name": "stderr",
     "output_type": "stream",
     "text": [
      " 13%|█▎        | 632/5000 [02:23<50:20,  1.45it/s]"
     ]
    },
    {
     "name": "stdout",
     "output_type": "stream",
     "text": [
      "Migration at 632 gen from 0 to 2\n"
     ]
    },
    {
     "name": "stderr",
     "output_type": "stream",
     "text": [
      " 13%|█▎        | 650/5000 [02:31<28:59,  2.50it/s]"
     ]
    },
    {
     "name": "stdout",
     "output_type": "stream",
     "text": [
      "Migration at 650 gen from 0 to 2\n"
     ]
    },
    {
     "name": "stderr",
     "output_type": "stream",
     "text": [
      " 13%|█▎        | 673/5000 [02:37<19:59,  3.61it/s]"
     ]
    },
    {
     "name": "stdout",
     "output_type": "stream",
     "text": [
      "Migration at 673 gen from 0 to 1\n"
     ]
    },
    {
     "name": "stderr",
     "output_type": "stream",
     "text": [
      " 14%|█▍        | 695/5000 [02:43<17:56,  4.00it/s]"
     ]
    },
    {
     "name": "stdout",
     "output_type": "stream",
     "text": [
      "Migration at 694 gen from 3 to 3\n"
     ]
    },
    {
     "name": "stderr",
     "output_type": "stream",
     "text": [
      " 14%|█▍        | 701/5000 [02:45<20:14,  3.54it/s]"
     ]
    },
    {
     "name": "stdout",
     "output_type": "stream",
     "text": [
      "Generation 701, Island: 0, Best Fitness: 167.62156133651962, Best Formula: np.add(np.remainder(np.subtract(np.divide(np.tanh(x[2]), np.absolute(x[0])), np.power(np.maximum(7.213277333492364, 2.7081174676233175), np.divide(-1.4770199791771823, 2.424933879657889))), np.multiply(-8.669232475916663, -3.2609552070812846)), np.multiply(x[1], np.subtract(np.divide(np.remainder(2.312029212531236, 2.7081174676233175), -8.669232475916663), np.minimum(np.cosh(x[1]), np.square(x[1])))))\n",
      "Generation 701, Island: 1, Best Fitness: 167.36566053099577, Best Formula: np.add(np.remainder(np.subtract(np.divide(np.tanh(x[2]), np.absolute(x[0])), np.power(np.maximum(x[1], 7.374645951221012), np.divide(-1.4770199791771823, 2.424933879657889))), np.multiply(-8.669232475916663, -3.2609552070812846)), np.multiply(x[1], np.subtract(np.remainder(np.multiply(7.794905818524391, x[1]), np.divide(-2.3970998851525183, 7.374645951221012)), np.minimum(np.square(x[1]), np.power(2.424933879657889, 8.207951058746843)))))\n",
      "Generation 701, Island: 2, Best Fitness: 167.6655629509291, Best Formula: np.add(np.remainder(np.subtract(np.divide(np.tanh(x[2]), np.absolute(x[0])), np.power(np.maximum(x[1], 7.374645951221012), np.divide(-1.4770199791771823, 2.424933879657889))), np.multiply(-8.669232475916663, -3.2609552070812846)), np.multiply(x[1], np.subtract(np.divide(np.remainder(-8.669232475916663, 2.424933879657889), np.ceil(-4.764634466533131)), np.minimum(np.cosh(x[1]), np.square(x[1])))))\n",
      "Generation 701, Island: 3, Best Fitness: 167.68717531394503, Best Formula: np.add(np.remainder(np.subtract(np.divide(np.tanh(x[2]), np.absolute(x[0])), np.power(np.maximum(x[1], 7.374645951221012), np.divide(-1.4770199791771823, 2.424933879657889))), np.multiply(-8.669232475916663, np.remainder(-3.2609552070812846, -8.659497308141512))), np.multiply(x[1], np.subtract(np.divide(np.remainder(-3.2609552070812846, 2.424933879657889), -6.83366481000667), np.minimum(np.square(x[1]), np.square(x[1])))))\n"
     ]
    },
    {
     "name": "stderr",
     "output_type": "stream",
     "text": [
      " 15%|█▍        | 737/5000 [02:55<14:57,  4.75it/s]"
     ]
    },
    {
     "name": "stdout",
     "output_type": "stream",
     "text": [
      "Migration at 737 gen from 1 to 1\n"
     ]
    },
    {
     "name": "stderr",
     "output_type": "stream",
     "text": [
      " 15%|█▍        | 746/5000 [02:57<17:57,  3.95it/s]"
     ]
    },
    {
     "name": "stdout",
     "output_type": "stream",
     "text": [
      "Migration at 745 gen from 3 to 0\n"
     ]
    },
    {
     "name": "stderr",
     "output_type": "stream",
     "text": [
      " 15%|█▌        | 761/5000 [03:01<16:52,  4.19it/s]"
     ]
    },
    {
     "name": "stdout",
     "output_type": "stream",
     "text": [
      "Migration at 760 gen from 3 to 1\n"
     ]
    },
    {
     "name": "stderr",
     "output_type": "stream",
     "text": [
      " 15%|█▌        | 772/5000 [03:04<17:32,  4.02it/s]"
     ]
    },
    {
     "name": "stdout",
     "output_type": "stream",
     "text": [
      "Migration at 771 gen from 3 to 2\n"
     ]
    },
    {
     "name": "stderr",
     "output_type": "stream",
     "text": [
      " 16%|█▌        | 801/5000 [03:11<15:16,  4.58it/s]"
     ]
    },
    {
     "name": "stdout",
     "output_type": "stream",
     "text": [
      "Generation 801, Island: 0, Best Fitness: 164.75404573216377, Best Formula: np.add(np.remainder(np.subtract(np.divide(np.tanh(x[2]), np.square(x[0])), np.power(np.maximum(2.312029212531236, 7.213277333492364), np.divide(-2.823507976332637, 2.312029212531236))), np.multiply(-9.00143715538772, -3.2609552070812846)), np.multiply(x[1], np.subtract(np.divide(np.remainder(-3.2609552070812846, 2.7081174676233175), -8.669232475916663), np.minimum(np.cosh(x[1]), np.square(x[1])))))\n",
      "Generation 801, Island: 1, Best Fitness: 167.31412035208507, Best Formula: np.add(np.remainder(np.subtract(np.divide(np.tanh(x[2]), np.absolute(x[0])), np.power(np.maximum(x[1], 7.213277333492364), np.divide(-1.4770199791771823, 2.424933879657889))), np.multiply(-8.669232475916663, -3.2609552070812846)), np.multiply(x[1], np.subtract(np.remainder(np.multiply(7.794905818524391, x[1]), np.divide(-2.3970998851525183, 7.374645951221012)), np.minimum(np.square(x[1]), np.power(2.424933879657889, 8.207951058746843)))))\n",
      "Generation 801, Island: 2, Best Fitness: 166.69507790146596, Best Formula: np.add(np.remainder(np.subtract(np.divide(np.tanh(x[2]), np.square(x[0])), np.power(np.maximum(x[1], 7.374645951221012), np.divide(-3.01466705338973, 2.424933879657889))), np.multiply(-8.669232475916663, np.remainder(-3.344362853810101, -8.659497308141512))), np.multiply(x[1], np.subtract(np.divide(np.remainder(-8.669232475916663, 1.1966814201711333), np.ceil(-4.764634466533131)), np.minimum(np.square(x[1]), np.cosh(x[1])))))\n",
      "Generation 801, Island: 3, Best Fitness: 163.57305734376277, Best Formula: np.add(np.remainder(np.subtract(np.divide(np.tanh(x[2]), np.cosh(x[0])), np.power(np.maximum(x[1], 7.374645951221012), np.divide(-3.01466705338973, 2.424933879657889))), np.multiply(-8.669232475916663, np.remainder(-3.2609552070812846, -8.659497308141512))), np.multiply(x[1], np.subtract(np.divide(np.remainder(0.05438558666958748, 7.374645951221012), x[0]), np.minimum(np.square(x[1]), np.square(x[1])))))\n"
     ]
    },
    {
     "name": "stderr",
     "output_type": "stream",
     "text": [
      " 16%|█▌        | 804/5000 [03:12<18:22,  3.81it/s]"
     ]
    },
    {
     "name": "stdout",
     "output_type": "stream",
     "text": [
      "Migration at 803 gen from 0 to 0\n"
     ]
    },
    {
     "name": "stderr",
     "output_type": "stream",
     "text": [
      " 17%|█▋        | 867/5000 [03:27<14:44,  4.67it/s]"
     ]
    },
    {
     "name": "stdout",
     "output_type": "stream",
     "text": [
      "Migration at 866 gen from 1 to 3\n"
     ]
    },
    {
     "name": "stderr",
     "output_type": "stream",
     "text": [
      " 18%|█▊        | 882/5000 [03:31<14:47,  4.64it/s]"
     ]
    },
    {
     "name": "stdout",
     "output_type": "stream",
     "text": [
      "Migration at 881 gen from 2 to 1\n"
     ]
    },
    {
     "name": "stderr",
     "output_type": "stream",
     "text": [
      " 18%|█▊        | 901/5000 [03:35<15:40,  4.36it/s]"
     ]
    },
    {
     "name": "stdout",
     "output_type": "stream",
     "text": [
      "Generation 901, Island: 0, Best Fitness: 164.75399887018315, Best Formula: np.add(np.remainder(np.subtract(np.divide(np.tanh(x[2]), np.square(x[0])), np.power(np.maximum(2.312029212531236, 7.213277333492364), np.divide(-2.823507976332637, 2.312029212531236))), np.multiply(-9.00143715538772, -3.2609552070812846)), np.multiply(x[1], np.subtract(np.divide(np.remainder(-3.2609552070812846, 2.312029212531236), -5.535996324399934), np.minimum(np.cosh(x[1]), np.square(x[1])))))\n",
      "Generation 901, Island: 1, Best Fitness: 167.23439818264413, Best Formula: np.add(np.remainder(np.subtract(np.divide(np.tanh(x[2]), np.absolute(x[0])), np.power(np.maximum(x[1], 7.213277333492364), np.divide(-1.4770199791771823, 2.424933879657889))), np.multiply(-8.669232475916663, -3.2609552070812846)), np.multiply(x[1], np.subtract(np.remainder(np.square(x[1]), np.divide(-2.8547292685462438, 7.213277333492364)), np.minimum(np.square(x[1]), np.multiply(-8.669232475916663, -3.2609552070812846)))))\n",
      "Generation 901, Island: 2, Best Fitness: 164.93008834171764, Best Formula: np.add(np.remainder(np.subtract(np.divide(np.tanh(x[2]), np.square(x[0])), np.power(np.maximum(x[1], 7.374645951221012), np.divide(-3.01466705338973, 2.424933879657889))), np.multiply(np.add(-3.8788267337371423, np.ceil(-5.633413166229166)), -3.344362853810101)), np.multiply(x[1], np.subtract(np.divide(np.tanh(2.424933879657889), -4.020193346848715), np.minimum(np.cosh(x[1]), np.square(x[1])))))\n",
      "Generation 901, Island: 3, Best Fitness: 162.45908960203872, Best Formula: np.add(np.remainder(np.subtract(np.divide(np.arctan(x[2]), np.cosh(x[0])), np.power(np.maximum(x[1], 7.374645951221012), np.divide(-3.01466705338973, 2.399120642773056))), np.multiply(-8.669232475916663, np.remainder(-3.2609552070812846, -8.659497308141512))), np.multiply(x[1], np.subtract(np.divide(np.remainder(0.05438558666958748, 7.374645951221012), x[0]), np.minimum(np.square(x[1]), np.square(x[1])))))\n"
     ]
    },
    {
     "name": "stderr",
     "output_type": "stream",
     "text": [
      " 18%|█▊        | 906/5000 [03:36<15:03,  4.53it/s]"
     ]
    },
    {
     "name": "stdout",
     "output_type": "stream",
     "text": [
      "Migration at 905 gen from 3 to 2\n"
     ]
    },
    {
     "name": "stderr",
     "output_type": "stream",
     "text": [
      " 18%|█▊        | 911/5000 [03:38<15:37,  4.36it/s]"
     ]
    },
    {
     "name": "stdout",
     "output_type": "stream",
     "text": [
      "Migration at 910 gen from 2 to 0\n"
     ]
    },
    {
     "name": "stderr",
     "output_type": "stream",
     "text": [
      " 18%|█▊        | 925/5000 [03:41<16:32,  4.10it/s]"
     ]
    },
    {
     "name": "stdout",
     "output_type": "stream",
     "text": [
      "Migration at 924 gen from 3 to 0\n"
     ]
    },
    {
     "name": "stderr",
     "output_type": "stream",
     "text": [
      " 20%|██        | 1001/5000 [03:59<15:02,  4.43it/s]"
     ]
    },
    {
     "name": "stdout",
     "output_type": "stream",
     "text": [
      "Generation 1001, Island: 0, Best Fitness: 164.75399887018315, Best Formula: np.add(np.remainder(np.subtract(np.divide(np.tanh(x[2]), np.square(x[0])), np.power(np.maximum(2.312029212531236, 7.213277333492364), np.divide(-2.823507976332637, 2.312029212531236))), np.multiply(-9.00143715538772, -3.2609552070812846)), np.multiply(x[1], np.subtract(np.divide(np.remainder(-3.2609552070812846, 2.312029212531236), -5.535996324399934), np.minimum(np.cosh(x[1]), np.square(x[1])))))\n",
      "Generation 1001, Island: 1, Best Fitness: 167.23439818264413, Best Formula: np.add(np.remainder(np.subtract(np.divide(np.tanh(x[2]), np.absolute(x[0])), np.power(np.maximum(x[1], 7.213277333492364), np.divide(-1.4770199791771823, 2.424933879657889))), np.multiply(-8.669232475916663, -3.2609552070812846)), np.multiply(x[1], np.subtract(np.remainder(np.square(x[1]), np.divide(-2.8547292685462438, 7.213277333492364)), np.minimum(np.square(x[1]), np.multiply(-8.669232475916663, -3.2609552070812846)))))\n",
      "Generation 1001, Island: 2, Best Fitness: 164.55891926399735, Best Formula: np.add(np.remainder(np.subtract(np.divide(np.tanh(x[2]), np.square(x[0])), np.divide(np.tanh(0.8316545117976375), np.maximum(x[1], 7.424483185804366))), np.multiply(np.add(-3.8788267337371423, np.ceil(-5.633413166229166)), -3.344362853810101)), np.multiply(x[1], np.subtract(np.divide(np.tanh(2.424933879657889), -4.127956961387154), np.minimum(np.cosh(x[1]), np.square(x[1])))))\n",
      "Generation 1001, Island: 3, Best Fitness: 162.42291589526295, Best Formula: np.add(np.remainder(np.subtract(np.divide(np.arctan(x[2]), np.cosh(x[0])), np.power(np.maximum(x[1], 7.374645951221012), np.divide(-3.01466705338973, 2.399120642773056))), np.multiply(-8.669232475916663, np.remainder(-3.2660015963818783, -8.659497308141512))), np.multiply(x[1], np.subtract(np.divide(np.remainder(0.05438558666958748, 7.374645951221012), x[0]), np.minimum(np.square(x[1]), np.square(x[1])))))\n"
     ]
    },
    {
     "name": "stderr",
     "output_type": "stream",
     "text": [
      " 20%|██        | 1009/5000 [04:00<14:17,  4.65it/s]"
     ]
    },
    {
     "name": "stdout",
     "output_type": "stream",
     "text": [
      "Migration at 1008 gen from 1 to 3\n"
     ]
    },
    {
     "name": "stderr",
     "output_type": "stream",
     "text": [
      " 22%|██▏       | 1100/5000 [04:22<18:55,  3.43it/s]"
     ]
    },
    {
     "name": "stdout",
     "output_type": "stream",
     "text": [
      "Generation 1101, Island: 0, Best Fitness: 164.22647208530046, Best Formula: np.add(np.remainder(np.subtract(np.divide(np.tanh(x[2]), np.square(x[0])), np.power(np.maximum(-0.2498058173953197, 7.213277333492364), np.divide(-2.823507976332637, 2.312029212531236))), np.multiply(-9.138562490031948, -3.2609552070812846)), np.multiply(x[1], np.subtract(np.divide(np.remainder(-5.52102884684774, -4.035955996034007), np.maximum(-9.00143715538772, 7.213277333492364)), np.minimum(np.cosh(x[1]), np.square(x[1])))))\n",
      "Generation 1101, Island: 1, Best Fitness: 167.23439818264413, Best Formula: np.add(np.remainder(np.subtract(np.divide(np.tanh(x[2]), np.absolute(x[0])), np.power(np.maximum(x[1], 7.213277333492364), np.divide(-1.4770199791771823, 2.424933879657889))), np.multiply(-8.669232475916663, -3.2609552070812846)), np.multiply(x[1], np.subtract(np.remainder(np.square(x[1]), np.divide(-2.8547292685462438, 7.213277333492364)), np.minimum(np.square(x[1]), np.multiply(-8.669232475916663, -3.2609552070812846)))))\n",
      "Generation 1101, Island: 2, Best Fitness: 164.22723911960938, Best Formula: np.add(np.remainder(np.subtract(np.divide(np.tanh(x[2]), np.square(x[0])), np.divide(np.tanh(0.8316545117976375), np.maximum(x[1], 7.64060843965834))), np.multiply(np.add(-3.8788267337371423, np.ceil(-5.633413166229166)), -3.344362853810101)), np.multiply(x[1], np.subtract(np.divide(np.tanh(2.424933879657889), -4.162712242930045), np.minimum(np.cosh(x[1]), np.square(x[1])))))\n"
     ]
    },
    {
     "name": "stderr",
     "output_type": "stream",
     "text": [
      " 22%|██▏       | 1101/5000 [04:22<20:28,  3.17it/s]"
     ]
    },
    {
     "name": "stdout",
     "output_type": "stream",
     "text": [
      "Generation 1101, Island: 3, Best Fitness: 162.41907923508523, Best Formula: np.add(np.remainder(np.subtract(np.divide(np.arctan(x[2]), np.cosh(x[0])), np.power(np.maximum(x[1], 7.374645951221012), np.divide(-3.01466705338973, 2.399120642773056))), np.multiply(-8.669232475916663, np.remainder(np.remainder(-3.2660015963818783, -8.659497308141512), -8.659497308141512))), np.multiply(x[1], np.subtract(np.divide(np.remainder(6.6851641953091026, 0.05438558666958748), x[0]), np.minimum(np.square(x[1]), np.square(x[1])))))\n"
     ]
    },
    {
     "name": "stderr",
     "output_type": "stream",
     "text": [
      " 22%|██▏       | 1120/5000 [04:27<15:10,  4.26it/s]"
     ]
    },
    {
     "name": "stdout",
     "output_type": "stream",
     "text": [
      "Migration at 1119 gen from 1 to 2\n"
     ]
    },
    {
     "name": "stderr",
     "output_type": "stream",
     "text": [
      " 23%|██▎       | 1145/5000 [04:32<14:07,  4.55it/s]"
     ]
    },
    {
     "name": "stdout",
     "output_type": "stream",
     "text": [
      "Migration at 1144 gen from 2 to 0\n"
     ]
    },
    {
     "name": "stderr",
     "output_type": "stream",
     "text": [
      " 24%|██▍       | 1188/5000 [04:42<13:07,  4.84it/s]"
     ]
    },
    {
     "name": "stdout",
     "output_type": "stream",
     "text": [
      "Migration at 1187 gen from 3 to 3\n"
     ]
    },
    {
     "name": "stderr",
     "output_type": "stream",
     "text": [
      " 24%|██▍       | 1200/5000 [04:45<13:06,  4.83it/s]"
     ]
    },
    {
     "name": "stdout",
     "output_type": "stream",
     "text": [
      "Generation 1201, Island: 0, Best Fitness: 164.10091553178697, Best Formula: np.add(np.remainder(np.subtract(np.divide(np.tanh(x[2]), np.square(x[0])), np.divide(np.tanh(0.8316545117976375), np.maximum(x[1], 7.64060843965834))), np.multiply(-9.138562490031948, -3.2609552070812846)), np.multiply(x[1], np.subtract(np.divide(np.remainder(-2.823507976332637, 2.047883301367257), np.add(x[1], -7.66508278630285)), np.minimum(np.cosh(x[1]), np.square(x[1])))))\n",
      "Generation 1201, Island: 1, Best Fitness: 167.23439818264413, Best Formula: np.add(np.remainder(np.subtract(np.divide(np.tanh(x[2]), np.absolute(x[0])), np.power(np.maximum(x[1], 7.213277333492364), np.divide(-1.4770199791771823, 2.424933879657889))), np.multiply(-8.669232475916663, -3.2609552070812846)), np.multiply(x[1], np.subtract(np.remainder(np.square(x[1]), np.divide(-2.8547292685462438, 7.213277333492364)), np.minimum(np.square(x[1]), np.multiply(-8.669232475916663, -3.2609552070812846)))))\n",
      "Generation 1201, Island: 2, Best Fitness: 164.13104055623944, Best Formula: np.add(np.remainder(np.subtract(np.divide(np.tanh(x[2]), np.square(x[0])), np.divide(np.tanh(0.8316545117976375), np.maximum(x[1], 7.64060843965834))), np.multiply(np.add(-3.8788267337371423, np.ceil(-5.633413166229166)), -3.344362853810101)), np.multiply(x[1], np.subtract(np.divide(np.tanh(7.64060843965834), np.add(x[1], -7.66508278630285)), np.minimum(np.cosh(x[1]), np.square(x[1])))))\n",
      "Generation 1201, Island: 3, Best Fitness: 162.41907923508523, Best Formula: np.add(np.remainder(np.subtract(np.divide(np.arctan(x[2]), np.cosh(x[0])), np.power(np.maximum(x[1], 7.374645951221012), np.divide(-3.01466705338973, 2.399120642773056))), np.multiply(-8.669232475916663, np.remainder(np.remainder(-3.2660015963818783, -8.659497308141512), -8.659497308141512))), np.multiply(x[1], np.subtract(np.divide(np.remainder(6.6851641953091026, 0.05438558666958748), x[0]), np.minimum(np.square(x[1]), np.square(x[1])))))\n"
     ]
    },
    {
     "name": "stderr",
     "output_type": "stream",
     "text": [
      " 26%|██▌       | 1301/5000 [05:07<14:16,  4.32it/s]"
     ]
    },
    {
     "name": "stdout",
     "output_type": "stream",
     "text": [
      "Generation 1301, Island: 0, Best Fitness: 164.1008822233869, Best Formula: np.add(np.remainder(np.subtract(np.divide(np.tanh(x[2]), np.square(x[0])), np.divide(np.tanh(0.8316545117976375), np.maximum(x[1], 7.605017263213991))), np.multiply(-9.138562490031948, -3.2609552070812846)), np.multiply(x[1], np.subtract(np.divide(np.remainder(-2.823507976332637, 2.047883301367257), np.add(x[1], -7.66508278630285)), np.minimum(np.cosh(x[1]), np.square(x[1])))))\n",
      "Generation 1301, Island: 1, Best Fitness: 167.23439818264413, Best Formula: np.add(np.remainder(np.subtract(np.divide(np.tanh(x[2]), np.absolute(x[0])), np.power(np.maximum(x[1], 7.213277333492364), np.divide(-1.4770199791771823, 2.424933879657889))), np.multiply(-8.669232475916663, -3.2609552070812846)), np.multiply(x[1], np.subtract(np.remainder(np.square(x[1]), np.divide(-2.8547292685462438, 7.213277333492364)), np.minimum(np.square(x[1]), np.multiply(-8.669232475916663, -3.2609552070812846)))))\n",
      "Generation 1301, Island: 2, Best Fitness: 164.13104055623944, Best Formula: np.add(np.remainder(np.subtract(np.divide(np.tanh(x[2]), np.square(x[0])), np.divide(np.tanh(0.8316545117976375), np.maximum(x[1], 7.64060843965834))), np.multiply(np.add(-3.8788267337371423, np.ceil(-5.633413166229166)), -3.344362853810101)), np.multiply(x[1], np.subtract(np.divide(np.tanh(7.64060843965834), np.add(x[1], -7.66508278630285)), np.minimum(np.cosh(x[1]), np.square(x[1])))))\n",
      "Generation 1301, Island: 3, Best Fitness: 162.29326159134388, Best Formula: np.add(np.remainder(np.subtract(np.divide(np.arctan(x[2]), np.cosh(x[0])), np.power(np.maximum(x[1], 7.374645951221012), np.divide(-3.01466705338973, 2.399120642773056))), np.multiply(-8.96468170637807, np.remainder(np.remainder(-3.2660015963818783, -8.659497308141512), -8.659497308141512))), np.multiply(x[1], np.subtract(np.divide(np.remainder(-3.2660015963818783, 0.05438558666958748), x[0]), np.minimum(np.square(x[1]), np.square(x[1])))))\n"
     ]
    },
    {
     "name": "stderr",
     "output_type": "stream",
     "text": [
      " 28%|██▊       | 1384/5000 [05:26<14:04,  4.28it/s]"
     ]
    },
    {
     "name": "stdout",
     "output_type": "stream",
     "text": [
      "Migration at 1383 gen from 1 to 2\n"
     ]
    },
    {
     "name": "stderr",
     "output_type": "stream",
     "text": [
      " 28%|██▊       | 1401/5000 [05:30<12:50,  4.67it/s]"
     ]
    },
    {
     "name": "stdout",
     "output_type": "stream",
     "text": [
      "Generation 1401, Island: 0, Best Fitness: 164.1008822233869, Best Formula: np.add(np.remainder(np.subtract(np.divide(np.tanh(x[2]), np.square(x[0])), np.divide(np.tanh(0.8316545117976375), np.maximum(x[1], 7.605017263213991))), np.multiply(-9.138562490031948, -3.2609552070812846)), np.multiply(x[1], np.subtract(np.divide(np.remainder(-2.823507976332637, 2.047883301367257), np.add(x[1], -7.66508278630285)), np.minimum(np.cosh(x[1]), np.square(x[1])))))\n",
      "Generation 1401, Island: 1, Best Fitness: 167.23439818264413, Best Formula: np.add(np.remainder(np.subtract(np.divide(np.tanh(x[2]), np.absolute(x[0])), np.power(np.maximum(x[1], 7.213277333492364), np.divide(-1.4770199791771823, 2.424933879657889))), np.multiply(-8.669232475916663, -3.2609552070812846)), np.multiply(x[1], np.subtract(np.remainder(np.square(x[1]), np.divide(-2.8547292685462438, 7.213277333492364)), np.minimum(np.square(x[1]), np.multiply(-8.669232475916663, -3.2609552070812846)))))\n",
      "Generation 1401, Island: 2, Best Fitness: 164.13104055623944, Best Formula: np.add(np.remainder(np.subtract(np.divide(np.tanh(x[2]), np.square(x[0])), np.divide(np.tanh(0.8316545117976375), np.maximum(x[1], 7.64060843965834))), np.multiply(np.add(-3.8788267337371423, np.ceil(-5.633413166229166)), -3.344362853810101)), np.multiply(x[1], np.subtract(np.divide(np.tanh(7.64060843965834), np.add(x[1], -7.66508278630285)), np.minimum(np.cosh(x[1]), np.square(x[1])))))\n",
      "Generation 1401, Island: 3, Best Fitness: 162.29326159134388, Best Formula: np.add(np.remainder(np.subtract(np.divide(np.arctan(x[2]), np.cosh(x[0])), np.power(np.maximum(x[1], 7.374645951221012), np.divide(-3.01466705338973, 2.399120642773056))), np.multiply(-8.96468170637807, np.remainder(np.remainder(-3.2660015963818783, -8.659497308141512), -8.659497308141512))), np.multiply(x[1], np.subtract(np.divide(np.remainder(-3.2660015963818783, 0.05438558666958748), x[0]), np.minimum(np.square(x[1]), np.square(x[1])))))\n"
     ]
    },
    {
     "name": "stderr",
     "output_type": "stream",
     "text": [
      " 29%|██▉       | 1469/5000 [05:45<12:21,  4.76it/s]"
     ]
    },
    {
     "name": "stdout",
     "output_type": "stream",
     "text": [
      "Migration at 1469 gen from 1 to 0\n"
     ]
    },
    {
     "name": "stderr",
     "output_type": "stream",
     "text": [
      " 30%|███       | 1501/5000 [05:52<12:42,  4.59it/s]"
     ]
    },
    {
     "name": "stdout",
     "output_type": "stream",
     "text": [
      "Generation 1501, Island: 0, Best Fitness: 164.09950747480343, Best Formula: np.add(np.remainder(np.subtract(np.divide(np.tanh(x[2]), np.square(x[0])), np.divide(np.tanh(0.8316545117976375), np.maximum(x[1], 7.595470078402155))), np.multiply(-9.138562490031948, -3.2609552070812846)), np.multiply(x[1], np.subtract(np.divide(np.remainder(-1.9308075395079918, 3.147762313448922), np.add(x[1], -7.66508278630285)), np.minimum(np.cosh(x[1]), np.square(x[1])))))\n",
      "Generation 1501, Island: 1, Best Fitness: 167.23439818264413, Best Formula: np.add(np.remainder(np.subtract(np.divide(np.tanh(x[2]), np.absolute(x[0])), np.power(np.maximum(x[1], 7.213277333492364), np.divide(-1.4770199791771823, 2.424933879657889))), np.multiply(-8.669232475916663, -3.2609552070812846)), np.multiply(x[1], np.subtract(np.remainder(np.square(x[1]), np.divide(-2.8547292685462438, 7.213277333492364)), np.minimum(np.square(x[1]), np.multiply(-8.669232475916663, -3.2609552070812846)))))\n",
      "Generation 1501, Island: 2, Best Fitness: 164.11592577809682, Best Formula: np.add(np.remainder(np.subtract(np.divide(np.tanh(x[2]), np.square(x[0])), np.divide(np.tanh(0.8316545117976375), np.maximum(x[1], 7.736045820721401))), np.multiply(np.add(-3.8788267337371423, np.ceil(-5.633413166229166)), -3.344362853810101)), np.multiply(x[1], np.subtract(np.divide(np.tanh(9.649651836704734), np.add(x[1], -7.3296249604449955)), np.minimum(np.cosh(x[1]), np.square(x[1])))))\n",
      "Generation 1501, Island: 3, Best Fitness: 162.29326159134388, Best Formula: np.add(np.remainder(np.subtract(np.divide(np.arctan(x[2]), np.cosh(x[0])), np.power(np.maximum(x[1], 7.374645951221012), np.divide(-3.01466705338973, 2.399120642773056))), np.multiply(-8.96468170637807, np.remainder(np.remainder(-3.2660015963818783, -8.659497308141512), -8.659497308141512))), np.multiply(x[1], np.subtract(np.divide(np.remainder(-3.2660015963818783, 0.05438558666958748), x[0]), np.minimum(np.square(x[1]), np.square(x[1])))))\n"
     ]
    },
    {
     "name": "stderr",
     "output_type": "stream",
     "text": [
      " 30%|███       | 1523/5000 [05:57<13:18,  4.35it/s]"
     ]
    },
    {
     "name": "stdout",
     "output_type": "stream",
     "text": [
      "Migration at 1523 gen from 1 to 1\n"
     ]
    },
    {
     "name": "stderr",
     "output_type": "stream",
     "text": [
      " 32%|███▏      | 1596/5000 [06:14<12:45,  4.45it/s]"
     ]
    },
    {
     "name": "stdout",
     "output_type": "stream",
     "text": [
      "Migration at 1595 gen from 1 to 2\n"
     ]
    },
    {
     "name": "stderr",
     "output_type": "stream",
     "text": [
      " 32%|███▏      | 1601/5000 [06:15<12:43,  4.45it/s]"
     ]
    },
    {
     "name": "stdout",
     "output_type": "stream",
     "text": [
      "Generation 1601, Island: 0, Best Fitness: 164.09950747480343, Best Formula: np.add(np.remainder(np.subtract(np.divide(np.tanh(x[2]), np.square(x[0])), np.divide(np.tanh(0.8316545117976375), np.maximum(x[1], 7.595470078402155))), np.multiply(-9.138562490031948, -3.2609552070812846)), np.multiply(x[1], np.subtract(np.divide(np.remainder(-1.9308075395079918, 3.147762313448922), np.add(x[1], -7.66508278630285)), np.minimum(np.cosh(x[1]), np.square(x[1])))))\n",
      "Generation 1601, Island: 1, Best Fitness: 164.97258603523346, Best Formula: np.add(np.remainder(np.subtract(np.divide(np.cbrt(x[2]), np.absolute(x[0])), np.power(np.maximum(x[1], 8.11987119627537), np.divide(-2.8547292685462438, 7.213277333492364))), np.multiply(-8.669232475916663, -3.2609552070812846)), np.multiply(x[1], np.subtract(np.remainder(np.multiply(-8.669232475916663, -3.2609552070812846), np.divide(-2.8547292685462438, 7.213277333492364)), np.minimum(np.square(x[1]), np.multiply(-8.669232475916663, -3.2609552070812846)))))\n",
      "Generation 1601, Island: 2, Best Fitness: 164.11592577809682, Best Formula: np.add(np.remainder(np.subtract(np.divide(np.tanh(x[2]), np.square(x[0])), np.divide(np.tanh(0.8316545117976375), np.maximum(x[1], 7.736045820721401))), np.multiply(np.add(-3.8788267337371423, np.ceil(-5.633413166229166)), -3.344362853810101)), np.multiply(x[1], np.subtract(np.divide(np.tanh(9.649651836704734), np.add(x[1], -7.3296249604449955)), np.minimum(np.cosh(x[1]), np.square(x[1])))))\n",
      "Generation 1601, Island: 3, Best Fitness: 162.29326159134388, Best Formula: np.add(np.remainder(np.subtract(np.divide(np.arctan(x[2]), np.cosh(x[0])), np.power(np.maximum(x[1], 7.374645951221012), np.divide(-3.01466705338973, 2.399120642773056))), np.multiply(-8.96468170637807, np.remainder(np.remainder(-3.2660015963818783, -8.659497308141512), -8.659497308141512))), np.multiply(x[1], np.subtract(np.divide(np.remainder(-3.2660015963818783, 0.05438558666958748), x[0]), np.minimum(np.square(x[1]), np.square(x[1])))))\n"
     ]
    },
    {
     "name": "stderr",
     "output_type": "stream",
     "text": [
      " 34%|███▎      | 1677/5000 [06:33<12:02,  4.60it/s]"
     ]
    },
    {
     "name": "stdout",
     "output_type": "stream",
     "text": [
      "Migration at 1676 gen from 2 to 2\n"
     ]
    },
    {
     "name": "stderr",
     "output_type": "stream",
     "text": [
      " 34%|███▍      | 1701/5000 [06:39<12:27,  4.41it/s]"
     ]
    },
    {
     "name": "stdout",
     "output_type": "stream",
     "text": [
      "Generation 1701, Island: 0, Best Fitness: 164.0251832265322, Best Formula: np.add(np.remainder(np.subtract(np.divide(np.tanh(x[2]), np.square(x[0])), np.divide(np.tanh(0.7851821762483695), np.maximum(x[1], 7.595470078402155))), np.multiply(-9.138562490031948, -3.2609552070812846)), np.multiply(x[1], np.subtract(np.divide(np.remainder(-1.9308075395079918, 3.147762313448922), np.add(x[1], -7.66508278630285)), np.minimum(np.cosh(x[1]), np.square(x[1])))))\n",
      "Generation 1701, Island: 1, Best Fitness: 164.63527895311353, Best Formula: np.add(np.remainder(np.subtract(np.divide(np.cbrt(x[2]), np.absolute(x[0])), np.power(np.maximum(x[1], 8.11987119627537), np.divide(-2.8547292685462438, 7.213277333492364))), np.multiply(-8.669232475916663, -3.2609552070812846)), np.multiply(x[1], np.subtract(np.remainder(np.square(x[1]), np.divide(-2.8547292685462438, 7.213277333492364)), np.minimum(np.square(x[1]), np.multiply(-8.669232475916663, -3.2609552070812846)))))\n",
      "Generation 1701, Island: 2, Best Fitness: 164.11095182830078, Best Formula: np.add(np.remainder(np.subtract(np.divide(np.tanh(x[2]), np.square(x[0])), np.divide(np.tanh(0.8316545117976375), np.maximum(x[1], 7.64060843965834))), np.multiply(np.add(-3.8788267337371423, np.ceil(-5.633413166229166)), -3.344362853810101)), np.multiply(x[1], np.subtract(np.divide(np.arctan(9.649651836704734), np.add(x[1], -8.699026411439725)), np.minimum(np.cosh(x[1]), np.square(x[1])))))\n",
      "Generation 1701, Island: 3, Best Fitness: 162.1936593803757, Best Formula: np.add(np.remainder(np.subtract(np.divide(np.arctan(x[2]), np.cosh(x[0])), np.power(np.maximum(x[1], 7.374645951221012), np.divide(-3.01466705338973, 2.399120642773056))), np.multiply(-8.96468170637807, np.remainder(np.remainder(-3.2660015963818783, 8.69483407156568), -8.659497308141512))), np.multiply(x[1], np.subtract(np.divide(np.remainder(-3.2660015963818783, 0.05438558666958748), x[0]), np.minimum(np.square(x[1]), np.square(x[1])))))\n"
     ]
    },
    {
     "name": "stderr",
     "output_type": "stream",
     "text": [
      " 36%|███▌      | 1801/5000 [07:03<11:10,  4.77it/s]"
     ]
    },
    {
     "name": "stdout",
     "output_type": "stream",
     "text": [
      "Generation 1801, Island: 0, Best Fitness: 164.02004586424707, Best Formula: np.add(np.remainder(np.subtract(np.divide(np.tanh(x[2]), np.square(x[0])), np.divide(np.tanh(0.7851821762483695), np.maximum(x[1], 7.595470078402155))), np.multiply(-9.138562490031948, -3.2609552070812846)), np.multiply(x[1], np.subtract(np.divide(np.remainder(7.595470078402155, 5.963882543998526), np.add(x[1], -9.138562490031948)), np.minimum(np.cosh(x[1]), np.square(x[1])))))\n",
      "Generation 1801, Island: 1, Best Fitness: 164.13410762209026, Best Formula: np.add(np.remainder(np.subtract(np.divide(np.cbrt(x[2]), np.absolute(x[0])), np.power(np.maximum(x[1], 8.11987119627537), np.divide(-2.8547292685462438, 7.124556814069482))), np.multiply(-8.669232475916663, -3.2609552070812846)), np.multiply(x[1], np.subtract(np.remainder(np.square(x[1]), np.divide(-2.8547292685462438, 7.213277333492364)), np.minimum(np.square(x[1]), np.multiply(-8.669232475916663, -3.2609552070812846)))))\n",
      "Generation 1801, Island: 2, Best Fitness: 164.11095092358826, Best Formula: np.add(np.remainder(np.subtract(np.divide(np.tanh(x[2]), np.square(x[0])), np.divide(np.tanh(0.8316545117976375), 7.637943131079663)), np.multiply(np.add(-3.8788267337371423, np.ceil(-5.633413166229166)), -3.344362853810101)), np.multiply(x[1], np.subtract(np.divide(np.arctan(9.649651836704734), np.add(x[1], -8.699026411439725)), np.minimum(np.cosh(x[1]), np.square(x[1])))))\n",
      "Generation 1801, Island: 3, Best Fitness: 162.1784874224088, Best Formula: np.add(np.remainder(np.subtract(np.divide(np.arctan(x[2]), np.cosh(x[0])), np.power(7.253919523867371, np.divide(-3.01466705338973, 2.399120642773056))), np.multiply(-8.838022320515034, np.remainder(np.remainder(-3.2660015963818783, -8.96468170637807), -8.659497308141512))), np.multiply(x[1], np.subtract(np.divide(np.remainder(-3.2660015963818783, 0.05438558666958748), x[0]), np.minimum(np.square(x[1]), np.square(x[1])))))\n"
     ]
    },
    {
     "name": "stderr",
     "output_type": "stream",
     "text": [
      " 36%|███▌      | 1804/5000 [07:04<10:10,  5.24it/s]"
     ]
    },
    {
     "name": "stdout",
     "output_type": "stream",
     "text": [
      "Migration at 1803 gen from 1 to 0\n"
     ]
    },
    {
     "name": "stderr",
     "output_type": "stream",
     "text": [
      " 37%|███▋      | 1831/5000 [07:10<14:07,  3.74it/s]"
     ]
    },
    {
     "name": "stdout",
     "output_type": "stream",
     "text": [
      "Migration at 1831 gen from 1 to 1\n"
     ]
    },
    {
     "name": "stderr",
     "output_type": "stream",
     "text": [
      " 38%|███▊      | 1901/5000 [07:28<09:36,  5.37it/s]"
     ]
    },
    {
     "name": "stdout",
     "output_type": "stream",
     "text": [
      "Generation 1901, Island: 0, Best Fitness: 162.97906287381502, Best Formula: np.add(np.remainder(np.subtract(np.divide(np.cbrt(x[2]), np.absolute(x[0])), np.power(np.maximum(x[1], 8.11987119627537), np.divide(-2.8547292685462438, 7.124556814069482))), np.multiply(-9.15895617684225, -3.2609552070812846)), np.multiply(x[1], np.subtract(np.divide(np.remainder(-7.66508278630285, 3.147762313448922), np.add(x[1], -7.66508278630285)), np.minimum(np.square(x[1]), np.square(x[1])))))\n",
      "Generation 1901, Island: 1, Best Fitness: 163.04324599120739, Best Formula: np.add(np.remainder(np.subtract(np.divide(np.cbrt(x[2]), np.absolute(x[0])), np.power(np.maximum(x[1], 8.11987119627537), np.divide(-2.8547292685462438, 7.124556814069482))), np.multiply(-9.15895617684225, -3.2609552070812846)), np.multiply(x[1], np.subtract(np.remainder(np.square(x[1]), np.divide(-2.8547292685462438, 7.213277333492364)), np.minimum(np.square(x[1]), np.multiply(-8.669232475916663, -2.8547292685462438)))))\n",
      "Generation 1901, Island: 2, Best Fitness: 164.10430326592163, Best Formula: np.add(np.remainder(np.subtract(np.divide(np.tanh(x[2]), np.square(x[0])), np.divide(np.tanh(0.8316545117976375), np.maximum(x[1], 7.64060843965834))), np.multiply(np.add(-3.8788267337371423, np.ceil(-5.633413166229166)), -3.344362853810101)), np.multiply(x[1], np.subtract(np.divide(np.arctan(7.64060843965834), np.add(x[1], -8.198317136443716)), np.minimum(np.cosh(x[1]), np.square(x[1])))))\n",
      "Generation 1901, Island: 3, Best Fitness: 162.178235926203, Best Formula: np.add(np.remainder(np.subtract(np.divide(np.arctan(x[2]), np.cosh(x[0])), np.power(7.253919523867371, np.divide(-9.325996208832139, 7.410999740088343))), np.multiply(-8.838022320515034, np.remainder(np.remainder(-3.2660015963818783, -8.96468170637807), -8.659497308141512))), np.multiply(x[1], np.subtract(np.divide(np.remainder(-3.2660015963818783, 0.05438558666958748), x[0]), np.minimum(np.square(x[1]), np.square(x[1])))))\n"
     ]
    },
    {
     "name": "stderr",
     "output_type": "stream",
     "text": [
      " 38%|███▊      | 1925/5000 [07:34<10:59,  4.66it/s]"
     ]
    },
    {
     "name": "stdout",
     "output_type": "stream",
     "text": [
      "Migration at 1924 gen from 2 to 0\n"
     ]
    },
    {
     "name": "stderr",
     "output_type": "stream",
     "text": [
      " 40%|███▉      | 1985/5000 [07:47<14:25,  3.48it/s]"
     ]
    },
    {
     "name": "stdout",
     "output_type": "stream",
     "text": [
      "Migration at 1984 gen from 2 to 3\n"
     ]
    },
    {
     "name": "stderr",
     "output_type": "stream",
     "text": [
      " 40%|████      | 2001/5000 [07:51<14:31,  3.44it/s]"
     ]
    },
    {
     "name": "stdout",
     "output_type": "stream",
     "text": [
      "Generation 2001, Island: 0, Best Fitness: 162.96992330463354, Best Formula: np.add(np.remainder(np.subtract(np.divide(np.cbrt(x[2]), np.absolute(x[0])), np.power(np.maximum(x[1], 8.11987119627537), np.divide(-2.8547292685462438, 7.124556814069482))), np.multiply(-9.153144570487395, -3.2609552070812846)), np.multiply(x[1], np.subtract(np.divide(np.remainder(1.5775778898228037, 4.291404297887283), np.add(x[1], -7.66508278630285)), np.minimum(np.square(x[1]), np.square(x[1])))))\n",
      "Generation 2001, Island: 1, Best Fitness: 163.04324599120739, Best Formula: np.add(np.remainder(np.subtract(np.divide(np.cbrt(x[2]), np.absolute(x[0])), np.power(np.maximum(x[1], 8.11987119627537), np.divide(-2.8547292685462438, 7.124556814069482))), np.multiply(-9.15895617684225, -3.2609552070812846)), np.multiply(x[1], np.subtract(np.remainder(np.square(x[1]), np.divide(-2.8547292685462438, 7.213277333492364)), np.minimum(np.square(x[1]), np.multiply(-8.669232475916663, -2.8547292685462438)))))\n",
      "Generation 2001, Island: 2, Best Fitness: 164.04328844149947, Best Formula: np.add(np.remainder(np.subtract(np.divide(np.tanh(x[2]), np.square(x[0])), np.divide(np.tanh(0.7891015051880252), np.maximum(x[1], 7.64060843965834))), np.multiply(np.add(-3.8788267337371423, np.ceil(-5.633413166229166)), -3.344362853810101)), np.multiply(x[1], np.subtract(np.divide(np.add(3.790275673068402, -2.3228519648612593), np.add(x[1], -8.198317136443716)), np.minimum(np.cosh(x[1]), np.square(x[1])))))\n",
      "Generation 2001, Island: 3, Best Fitness: 162.178235926203, Best Formula: np.add(np.remainder(np.subtract(np.divide(np.arctan(x[2]), np.cosh(x[0])), np.power(7.253919523867371, np.divide(-9.325996208832139, 7.410999740088343))), np.multiply(-8.838022320515034, np.remainder(np.remainder(-3.2660015963818783, -8.96468170637807), -8.659497308141512))), np.multiply(x[1], np.subtract(np.divide(np.remainder(-3.2660015963818783, 0.05438558666958748), x[0]), np.minimum(np.square(x[1]), np.square(x[1])))))\n"
     ]
    },
    {
     "name": "stderr",
     "output_type": "stream",
     "text": [
      " 40%|████      | 2005/5000 [07:52<13:33,  3.68it/s]"
     ]
    },
    {
     "name": "stdout",
     "output_type": "stream",
     "text": [
      "Migration at 2005 gen from 0 to 3\n",
      "Migration at 2005 gen from 1 to 1\n"
     ]
    },
    {
     "name": "stderr",
     "output_type": "stream",
     "text": [
      " 41%|████      | 2037/5000 [08:02<11:41,  4.22it/s]\n"
     ]
    },
    {
     "ename": "KeyboardInterrupt",
     "evalue": "",
     "output_type": "error",
     "traceback": [
      "\u001b[1;31m---------------------------------------------------------------------------\u001b[0m",
      "\u001b[1;31mKeyboardInterrupt\u001b[0m                         Traceback (most recent call last)",
      "Cell \u001b[1;32mIn[47], line 2\u001b[0m\n\u001b[0;32m      1\u001b[0m \u001b[38;5;66;03m# Execute the algorithm\u001b[39;00m\n\u001b[1;32m----> 2\u001b[0m best_tree, best_fitness \u001b[38;5;241m=\u001b[39m \u001b[43mregressor\u001b[49m\u001b[38;5;241;43m.\u001b[39;49m\u001b[43mevolve\u001b[49m\u001b[43m(\u001b[49m\u001b[43muse_std_operators\u001b[49m\u001b[38;5;241;43m=\u001b[39;49m\u001b[38;5;28;43;01mFalse\u001b[39;49;00m\u001b[43m,\u001b[49m\u001b[43mverbose\u001b[49m\u001b[38;5;241;43m=\u001b[39;49m\u001b[38;5;28;43;01mTrue\u001b[39;49;00m\u001b[43m)\u001b[49m   \u001b[38;5;66;03m#use_std_operators=True to use standard operators (+,-,*,/), use verbose=True to print the best tree for each island every 50 iterations\u001b[39;00m\n\u001b[0;32m      4\u001b[0m \u001b[38;5;28mprint\u001b[39m(\u001b[38;5;124mf\u001b[39m\u001b[38;5;124m\"\u001b[39m\u001b[38;5;130;01m\\n\u001b[39;00m\u001b[38;5;124mTrain Fitness: \u001b[39m\u001b[38;5;132;01m{\u001b[39;00mbest_fitness\u001b[38;5;132;01m}\u001b[39;00m\u001b[38;5;124m\"\u001b[39m)\n\u001b[0;32m      5\u001b[0m \u001b[38;5;66;03m# Calculate the fitness on original data\u001b[39;00m\n",
      "Cell \u001b[1;32mIn[45], line 239\u001b[0m, in \u001b[0;36mSymbolicRegression.evolve\u001b[1;34m(self, verbose, use_std_operators)\u001b[0m\n\u001b[0;32m    235\u001b[0m     \u001b[38;5;28;01mif\u001b[39;00m(verbose):\n\u001b[0;32m    236\u001b[0m         \u001b[38;5;28mprint\u001b[39m(\u001b[38;5;124mf\u001b[39m\u001b[38;5;124m\"\u001b[39m\u001b[38;5;124mMigration at \u001b[39m\u001b[38;5;132;01m{\u001b[39;00mgeneration\u001b[38;5;132;01m}\u001b[39;00m\u001b[38;5;124m gen from \u001b[39m\u001b[38;5;132;01m{\u001b[39;00mi\u001b[38;5;132;01m}\u001b[39;00m\u001b[38;5;124m to \u001b[39m\u001b[38;5;132;01m{\u001b[39;00misland_to_migrate\u001b[38;5;132;01m}\u001b[39;00m\u001b[38;5;124m\"\u001b[39m)\n\u001b[1;32m--> 239\u001b[0m new_population\u001b[38;5;241m=\u001b[39m\u001b[38;5;28;43mself\u001b[39;49m\u001b[38;5;241;43m.\u001b[39;49m\u001b[43moffspring_generation\u001b[49m\u001b[43m(\u001b[49m\u001b[43misland\u001b[49m\u001b[38;5;241;43m=\u001b[39;49m\u001b[43mi\u001b[49m\u001b[43m)\u001b[49m\n\u001b[0;32m    241\u001b[0m \u001b[38;5;28mself\u001b[39m\u001b[38;5;241m.\u001b[39mpopulation[i]\u001b[38;5;241m=\u001b[39mnp\u001b[38;5;241m.\u001b[39mconcatenate((\u001b[38;5;28mself\u001b[39m\u001b[38;5;241m.\u001b[39mpopulation[i],new_population))\n\u001b[0;32m    242\u001b[0m \u001b[38;5;28mself\u001b[39m\u001b[38;5;241m.\u001b[39mpopulation[i]\u001b[38;5;241m.\u001b[39msort()\n",
      "Cell \u001b[1;32mIn[45], line 178\u001b[0m, in \u001b[0;36mSymbolicRegression.offspring_generation\u001b[1;34m(self, island)\u001b[0m\n\u001b[0;32m    175\u001b[0m     \u001b[38;5;28;01mif\u001b[39;00m(offspring1 \u001b[38;5;129;01mis\u001b[39;00m \u001b[38;5;129;01mnot\u001b[39;00m \u001b[38;5;28;01mNone\u001b[39;00m \u001b[38;5;129;01mand\u001b[39;00m offspring2 \u001b[38;5;129;01mis\u001b[39;00m \u001b[38;5;129;01mnot\u001b[39;00m \u001b[38;5;28;01mNone\u001b[39;00m):\n\u001b[0;32m    177\u001b[0m         offspring1\u001b[38;5;241m.\u001b[39mcompute_fitness()\n\u001b[1;32m--> 178\u001b[0m         \u001b[43moffspring2\u001b[49m\u001b[38;5;241;43m.\u001b[39;49m\u001b[43mcompute_fitness\u001b[49m\u001b[43m(\u001b[49m\u001b[43m)\u001b[49m\n\u001b[0;32m    180\u001b[0m         offsprings \u001b[38;5;241m=\u001b[39m np\u001b[38;5;241m.\u001b[39mappend(offsprings, [offspring1, offspring2])\n\u001b[0;32m    182\u001b[0m \u001b[38;5;66;03m# Collapse branch\u001b[39;00m\n",
      "File \u001b[1;32mc:\\Users\\agnes\\Desktop\\CI2024\\CI2024_project-work\\src\\tree.py:497\u001b[0m, in \u001b[0;36mTree.compute_fitness\u001b[1;34m(self, test)\u001b[0m\n\u001b[0;32m    494\u001b[0m eval_formula \u001b[38;5;241m=\u001b[39m \u001b[38;5;28meval\u001b[39m(\u001b[38;5;124mf\u001b[39m\u001b[38;5;124m\"\u001b[39m\u001b[38;5;124mlambda x: \u001b[39m\u001b[38;5;132;01m{\u001b[39;00mformula\u001b[38;5;132;01m}\u001b[39;00m\u001b[38;5;124m\"\u001b[39m,{\u001b[38;5;124m\"\u001b[39m\u001b[38;5;124mnp\u001b[39m\u001b[38;5;124m\"\u001b[39m: np, \u001b[38;5;124m\"\u001b[39m\u001b[38;5;124mnan\u001b[39m\u001b[38;5;124m\"\u001b[39m: np\u001b[38;5;241m.\u001b[39mnan, \u001b[38;5;124m\"\u001b[39m\u001b[38;5;124minf\u001b[39m\u001b[38;5;124m\"\u001b[39m: np\u001b[38;5;241m.\u001b[39minf}) \n\u001b[0;32m    496\u001b[0m \u001b[38;5;66;03m# Exploiting np broadcasting\u001b[39;00m\n\u001b[1;32m--> 497\u001b[0m y_pred \u001b[38;5;241m=\u001b[39m \u001b[43meval_formula\u001b[49m\u001b[43m(\u001b[49m\u001b[43mx_data\u001b[49m\u001b[43m)\u001b[49m  \n\u001b[0;32m    500\u001b[0m \u001b[38;5;28;01mif\u001b[39;00m np\u001b[38;5;241m.\u001b[39many(np\u001b[38;5;241m.\u001b[39misnan(y_pred)) \u001b[38;5;129;01mor\u001b[39;00m np\u001b[38;5;241m.\u001b[39many(np\u001b[38;5;241m.\u001b[39misinf(y_pred)):\n\u001b[0;32m    501\u001b[0m     \u001b[38;5;28mself\u001b[39m\u001b[38;5;241m.\u001b[39mfitness \u001b[38;5;241m=\u001b[39m np\u001b[38;5;241m.\u001b[39minf\n",
      "File \u001b[1;32m<string>:1\u001b[0m, in \u001b[0;36m<lambda>\u001b[1;34m(x)\u001b[0m\n",
      "\u001b[1;31mKeyboardInterrupt\u001b[0m: "
     ]
    }
   ],
   "source": [
    "\n",
    "# Execute the algorithm\n",
    "best_tree, best_fitness = regressor.evolve(use_std_operators=False,verbose=True)   #use_std_operators=True to use standard operators (+,-,*,/), use verbose=True to print the best tree for each island every 50 iterations\n",
    "\n",
    "print(f\"\\nTrain Fitness: {best_fitness}\")\n",
    "# Calculate the fitness on original data\n",
    "best_tree.compute_fitness(test=\"test\")\n",
    "\n",
    "\n",
    "\n",
    "\n",
    "print(f\"Test Fitness: {best_tree.fitness}\")\n",
    "print(f\"Train-Test Discrepancy: {best_fitness-best_tree.fitness}\")\n",
    "best_tree.compute_fitness(test=\"all\")\n",
    "print(f\"Global Fitness: {best_tree.fitness}\")\n",
    "\n",
    "\n",
    "#Print the best tree\n",
    "print(f\"Best Fitness History: {[tup[0] for tup in regressor.best_fitness_history]}, changed {len(regressor.best_fitness_history)} times\\n\")\n",
    "\n",
    "print(f\"Best Formula: {best_tree.to_np_formula(use_std_operators=False)}\\n\")\n",
    "print(f\"Best Formula with standard operators: {best_tree.to_np_formula(use_std_operators=True)}\")\n",
    "\n"
   ]
  },
  {
   "cell_type": "markdown",
   "metadata": {},
   "source": [
    "### Best Tree Drawing"
   ]
  },
  {
   "cell_type": "code",
   "execution_count": null,
   "metadata": {},
   "outputs": [
    {
     "name": "stdout",
     "output_type": "stream",
     "text": [
      "Collapsed formula: np.multiply(3.7163478841690036, np.subtract(np.multiply(np.maximum(np.absolute(x[0]), 0.9542344371825585), np.divide(np.subtract(x[2], 8.157688623971787), -3.354696353715254)), np.multiply(np.ceil(np.sinh(x[1])), 0.5368301158374735)))\n",
      "\n",
      "Tree drawing (after collapsing):\n"
     ]
    },
    {
     "data": {
      "image/png": "[encoded data removed]",
      "text/plain": [
       "<Figure size 1000x700 with 1 Axes>"
      ]
     },
     "metadata": {},
     "output_type": "display_data"
    }
   ],
   "source": [
    "tree_clone = best_tree.copy_tree()\n",
    "Tree.collapse_branch(tree_clone.root,0,force_collapse=True)\n",
    "tree_clone.compute_fitness()           \n",
    "if(tree_clone.fitness is not None or tree_clone.fitness is not np.inf and tree_clone.fitness is not np.nan):\n",
    "                    best_tree = tree_clone\n",
    "\n",
    "\n",
    "print(f\"Collapsed formula: {best_tree.to_np_formula(use_std_operators=False)}\\n\") #use_std_operators=True to use standard operators (+,-,*,/)\n",
    "print(\"Tree drawing (after collapsing):\")\n",
    "best_tree.add_drawing()\n"
   ]
  },
  {
   "cell_type": "code",
   "execution_count": null,
   "metadata": {},
   "outputs": [
    {
     "data": {
      "image/png": "[encoded data removed]",
      "text/plain": [
       "<Figure size 640x480 with 1 Axes>"
      ]
     },
     "metadata": {},
     "output_type": "display_data"
    }
   ],
   "source": [
    "#Print graph of best fitness over generations\n",
    "import matplotlib.pyplot as plt\n",
    "plt.plot([tup[1] for tup in regressor.best_fitness_history], [tup[0] for tup in regressor.best_fitness_history])\n",
    "plt.xlabel('Generation')\n",
    "plt.ylabel('Best Fitness')\n",
    "plt.title('Best Fitness over Generations')\n",
    "plt.show()"
   ]
  }
 ],
 "metadata": {
  "kernelspec": {
   "display_name": "Python 3",
   "language": "python",
   "name": "python3"
  },
  "language_info": {
   "codemirror_mode": {
    "name": "ipython",
    "version": 3
   },
   "file_extension": ".py",
   "mimetype": "text/x-python",
   "name": "python",
   "nbconvert_exporter": "python",
   "pygments_lexer": "ipython3",
   "version": "3.9.13"
  }
 },
 "nbformat": 4,
 "nbformat_minor": 2
}

{
 "cells": [
  {
   "cell_type": "code",
   "execution_count": 3,
   "metadata": {},
   "outputs": [],
   "source": [
    "import math\n",
    "import numpy as np\n",
    "from tqdm import tqdm"
   ]
  },
  {
   "cell_type": "code",
   "execution_count": null,
   "metadata": {},
   "outputs": [],
   "source": [
    "#warning settings\n",
    "np.seterr(all=\"ignore\") #ignore np warnings, the output will be nan or inf and will be handled correctly in the code. (using np.errstate slows down the code)"
   ]
  },
  {
   "cell_type": "code",
   "execution_count": 45,
   "metadata": {},
   "outputs": [],
   "source": [
    "# Configuration\n",
    "TRAIN_TEST_RATIO=0.6\n",
    "PROBLEM_NUMBER=2"
   ]
  },
  {
   "cell_type": "markdown",
   "metadata": {},
   "source": [
    "### Data Loading and Data Preprocessing"
   ]
  },
  {
   "cell_type": "code",
   "execution_count": 46,
   "metadata": {},
   "outputs": [
    {
     "name": "stdout",
     "output_type": "stream",
     "text": [
      "Problem number: 5, variables: 2, train size: 3000, test size: 2000\n",
      "Training data: x shape (2, 3000), y shape (3000,)\n",
      "Testing data: x shape (2, 2000), y shape (2000,)\n"
     ]
    }
   ],
   "source": [
    "# Load problem data with context manager protocol\n",
    "with np.load(f'../data/problem_{PROBLEM_NUMBER}.npz') as problem:\n",
    "    x_1 = problem['x']\n",
    "    y_1 = problem['y']\n",
    "\n",
    "# Shuffle the data\n",
    "permutation = np.random.permutation(len(y_1))\n",
    "x_1 = x_1[:, permutation]\n",
    "y_1 = y_1[permutation]\n",
    "\n",
    "# Determine train test split sizes\n",
    "problem_len=len(y_1)\n",
    "train_size=int(TRAIN_TEST_RATIO*problem_len)\n",
    "\n",
    "# Split data\n",
    "x_train = x_1[:, :train_size]\n",
    "y_train = y_1[:train_size]\n",
    "\n",
    "x_test = x_1[:, train_size:]\n",
    "y_test = y_1[train_size:]\n",
    "\n",
    "\n",
    "# Print dataset information\n",
    "print(f\"Problem number: {PROBLEM_NUMBER}, variables: {x_1.shape[0]}, train size: {train_size}, test size: {problem_len-train_size}\")\n",
    "\n",
    "print(f\"Training data: x shape {x_train.shape}, y shape {y_train.shape}\")\n",
    "print(f\"Testing data: x shape {x_test.shape}, y shape {y_test.shape}\")"
   ]
  },
  {
   "cell_type": "markdown",
   "metadata": {},
   "source": [
    "### NumPy Unary and Binary Operations"
   ]
  },
  {
   "cell_type": "code",
   "execution_count": 47,
   "metadata": {},
   "outputs": [],
   "source": [
    "unary_ops = [\n",
    "    # np.negative,\n",
    "    # np.abs,\n",
    "    # np.sqrt,\n",
    "    # np.exp,\n",
    "    # np.log,\n",
    "    # np.sin,\n",
    "    # np.cos,\n",
    "    # np.tan,\n",
    "    # np.arcsin,\n",
    "    # np.arccos,\n",
    "    # np.arctan,\n",
    "    # np.sinh,\n",
    "    np.cosh,\n",
    "    # np.tanh,\n",
    "    # np.square,\n",
    "    # np.cbrt,\n",
    "    # np.reciprocal,\n",
    "    # np.ceil,\n",
    "    # np.floor\n",
    "]\n",
    "\n",
    "binary_ops = [\n",
    "    np.add,\n",
    "    np.subtract,\n",
    "    np.multiply,\n",
    "    np.divide,\n",
    "    np.power,\n",
    "    # np.maximum,\n",
    "    # np.minimum,\n",
    "    # np.mod\n",
    "]"
   ]
  },
  {
   "cell_type": "markdown",
   "metadata": {},
   "source": [
    "### Symbolic Regression Class"
   ]
  },
  {
   "cell_type": "code",
   "execution_count": 48,
   "metadata": {},
   "outputs": [],
   "source": [
    "from tree import Tree\n",
    "\n",
    "class SymbolicRegression:\n",
    "    \"\"\"\n",
    "    A class to implement symbolic regression using an evolutionary algorithm \n",
    "    with an island model approach.\n",
    "\n",
    "    Parameters:\n",
    "        - population_per_island (int): Number of individuals (trees) on each island.\n",
    "        - island_num (int): Number of islands (sub-populations).\n",
    "        - max_generations (int): Maximum number of generations before stopping.\n",
    "        - mutation_rate (float): Mutation probability occurring in a tree.\n",
    "        - elitism_size (int): Number of top individuals directly inserted in the next generation.\n",
    "        - grow_full_ratio (float): Ratio of trees initialized with grow method vs. full method.\n",
    "        - max_mutations (int): Maximum number of mutations an individual can be subjected.\n",
    "        - migration_rate (float): Probability of a migration event between islands.\n",
    "        - collapse_rate (float): Probability of population collapse to introduce diversity.\n",
    "\n",
    "    Attributes:\n",
    "        - unary_ops (list): List of unary operations.\n",
    "        - binary_ops (list): List of binary operations.\n",
    "        - best_fitness_history (list): List that stores the best fitness for each generation.\n",
    "        - population (list of np.array): List of sub-populations (islands).\n",
    "\n",
    "    Returns:\n",
    "\n",
    "    \"\"\"\n",
    "    def __init__(self, population_per_island, island_num, max_generations, mutation_rate, elitism_size, grow_full_ratio, max_mutations, migration_rate, collapse_rate):\n",
    "        self.population_per_island = population_per_island\n",
    "        self.island_num = island_num\n",
    "        self.max_generations = max_generations\n",
    "        self.mutation_rate = mutation_rate\n",
    "        self.elitism_size = elitism_size\n",
    "        self.grow_full_ratio = grow_full_ratio\n",
    "        self.max_mutations = max_mutations\n",
    "        self.migration_rate = migration_rate\n",
    "        self.collapse_rate=collapse_rate\n",
    "\n",
    "        self.unary_ops = unary_ops\n",
    "        self.binary_ops = binary_ops\n",
    "        self.best_fitness_history = []\n",
    "        self.population = [None] * island_num\n",
    "\n",
    "        for j in range(island_num):\n",
    "            self.population[j] = np.array([\n",
    "                Tree(\"grow\") if i < int(population_per_island * self.grow_full_ratio) else Tree(\"full\") for i in range(population_per_island)\n",
    "            ])\n",
    "            Tree.create_tree_from_np_formula\n",
    "\n",
    "    # Parents selection methods\n",
    "    def select_parents_fitness_proportional(self, n_elems=2, epsilon=1e-10, island=0):\n",
    "        \"\"\"\n",
    "        Selects parents using fitness proportional selection method.\n",
    "\n",
    "        This method randomly selects `n_elems` individuals based on their fitness.\n",
    "        Individuals with lower fitness have an higher probability to be selected.\n",
    "        This approach helps maintain diversity, but may lead to premature convergence \n",
    "        if few individuals have significantly better fitness than others.\n",
    "\n",
    "        Parameters:\n",
    "            - n_elems (int): Number of individuals to select.\n",
    "            - epsilon (float): Small value to avoid division by zero.\n",
    "            - island (int): Island on which the selection should be done.\n",
    "        \n",
    "        Returns:\n",
    "            - A tuple containing the `n_elems` selected parents.\n",
    "        \"\"\"\n",
    "        fitnesses = [tree.fitness for tree in self.population[island]]\n",
    "        inverted_fitnesses = [1 / (fitness + epsilon) for fitness in fitnesses]  # avoid division by zero\n",
    "        probabilities = inverted_fitnesses / sum(inverted_fitnesses)\n",
    "        parent1, parent2 = np.random.choice(self.population[island], size=n_elems, p=probabilities, replace=False)\n",
    "        return parent1, parent2\n",
    "    \n",
    "    \n",
    "    def select_parents_rank_based(self, n_elems=2, island=0, exponential=False):\n",
    "        \"\"\"\n",
    "        Selects parents using rank based selection method.\n",
    "\n",
    "        Assigns probabilities based on inversed ranks instead of absolute fitness values.\n",
    "        Parameters:\n",
    "            - n_elems (int): Number of individuals to select.\n",
    "            - island (int): Island on which the selection should be done.\n",
    "            - exponential (bool): If True, the ranks are raised to the power of the exponential parameter.\n",
    "        \n",
    "        Returns:\n",
    "            - A tuple containing the `n_elems` selected parents.\n",
    "        \"\"\"\n",
    "        fitnesses = np.array([tree.fitness for tree in self.population[island]])\n",
    "        ranks = np.argsort(fitnesses)\n",
    "        if exponential:\n",
    "            ranks = ranks**exponential\n",
    "        inversed_ranks = len(fitnesses) - ranks\n",
    "        probabilities = inversed_ranks / np.sum(inversed_ranks)\n",
    "        return np.random.choice(self.population[island], n_elems, p=probabilities, replace=False)\n",
    "    \n",
    "    \n",
    "    def select_parents_tournament(self, island=0):\n",
    "        \"\"\"\n",
    "        Selects parents using tournament selection method.\n",
    "\n",
    "        This method randomly selects a subset (tournament) of the population and selects the two \n",
    "        individuals with the best fitness from the subset as parents.\n",
    "\n",
    "        Parameters:\n",
    "            - island (int): Island on which the selection should be done.\n",
    "        \n",
    "        Returns:\n",
    "            - A tuple containing the two selected parents.\n",
    "        \"\"\"\n",
    "        tournament_size = 5\n",
    "        tournament = list(np.random.choice(self.population[island], tournament_size, replace=True))\n",
    "        tournament.sort(key=lambda x: x.fitness)\n",
    "        return tournament[0], tournament[1]\n",
    "    \n",
    "    # Choose the parents selection method\n",
    "    def select_parents(self, island, method=\"rank\"):\n",
    "        \"\"\"\n",
    "        Select parents based on the specified method.\n",
    "\n",
    "        Parameters:\n",
    "            - island (int): Island on which the selection should be done.\n",
    "            - method (str): The parent selection method to use.\n",
    "\n",
    "        Returns:\n",
    "            - A tuple containing the two selected parents.\n",
    "        \"\"\"\n",
    "        if method == \"rank\":\n",
    "            return self.select_parents_rank_based(island=island)\n",
    "        elif method == \"fitness_proportional\":\n",
    "            return self.select_parents_fitness_proportional(island=island)\n",
    "        elif method == \"tournament\":\n",
    "            return self.select_parents_tournament(island=island)\n",
    "        else:\n",
    "            return self.select_parents_rank_based(island=island)\n",
    "            \n",
    "            \n",
    "    # Mutation methods\n",
    "    def mutate(self, tree):\n",
    "        if np.random.rand() < 0.5:\n",
    "            tree.mutate_subtree()\n",
    "        else:\n",
    "            mutations = np.random.randint(1, self.max_mutations+1)\n",
    "            tree.mutate_single_node(num_mutations=mutations)\n",
    "        \n",
    "       \n",
    "\n",
    "\n",
    "    # Offsprings generation via mutation and crossover\n",
    "    def offspring_generation(self,island):\n",
    "        new_population = np.array([])\n",
    "\n",
    "        # Elitism   \n",
    "        elite_individuals = self.population[island][:self.elitism_size]\n",
    "        new_population = elite_individuals\n",
    "\n",
    "        # Main loop\n",
    "        while len(new_population) < self.population_per_island//2: \n",
    "            parent1, parent2 = self.select_parents(island=island)\n",
    "            # generate offsprings (one in mutation, two in crossover)\n",
    "            offsprings = np.array([])\n",
    "\n",
    "            if(np.random.rand() < self.mutation_rate):\n",
    "                parent_clone = parent1.copy_tree()\n",
    "                self.mutate(parent_clone)\n",
    "              \n",
    "                parent_clone.compute_fitness()\n",
    "                #if the fitness is valid \n",
    "                if(parent_clone.fitness is not np.inf and parent_clone.fitness is not np.nan):\n",
    "                    #to not re-add the same tree if the mutation was not possible (e.g. the tree is already a leaf and other edge cases)\n",
    "                    if( parent_clone.fitness!=parent1.fitness):\n",
    "                        offsprings = np.append(offsprings, [parent_clone])\n",
    "\n",
    "            else:    \n",
    "                offspring1, offspring2 = parent1.crossover(parent2)\n",
    "                if(offspring1 is not None and offspring2 is not None):\n",
    "               \n",
    "                    offspring1.compute_fitness()\n",
    "                    offspring2.compute_fitness()\n",
    "\n",
    "                    offsprings = np.append(offsprings, [offspring1, offspring2])\n",
    "\n",
    "            # Collapse branch\n",
    "            for offsp in offsprings:\n",
    "                if(np.random.rand() < self.collapse_rate):\n",
    "                    #clone the tree and collapse the branch\n",
    "                    tree_clone = offsp.copy_tree()\n",
    "                \n",
    "                    Tree.collapse_branch(tree_clone.root,force_collapse=True)\n",
    "                    tree_clone.compute_fitness()\n",
    "                    #if the fitness is not nan or inf after collapsing\n",
    "                    if(tree_clone.fitness is not None or tree_clone.fitness is not np.inf and tree_clone.fitness is not np.nan):\n",
    "                            offsp = tree_clone\n",
    "\n",
    "            new_population = np.concatenate((new_population, offsprings))\n",
    "                \n",
    "        return new_population\n",
    "    \n",
    "    # Genetic Algorithm: Evolutionary Process\n",
    "    def evolve(self, verbose=False, use_std_operators=False):\n",
    "        best_tree_island = np.full(self.island_num, None, dtype=object)\n",
    "        best_fitness_island = np.full(self.island_num, np.inf)\n",
    "        global_best_fitness = np.inf\n",
    "        global_best_tree = None\n",
    "        take_over = np.full(self.island_num, False)\n",
    "        # self.population_per_island.sort(key=lambda x: x.fitness) \n",
    "        #numpy sort of population over fitness\n",
    "        for i in range(self.island_num):\n",
    "            self.population[i].sort()\n",
    "      \n",
    "\n",
    "\n",
    "        for generation in tqdm(range(self.max_generations)):\n",
    "           \n",
    "            for i in range(self.island_num):\n",
    "                if take_over[i]:\n",
    "                    \n",
    "                    self.population[i] = np.unique(self.population[i])\n",
    "                    new_trees = np.array([Tree(\"grow\") for _ in range(self.population_per_island-len(self.population[i]))])\n",
    "                 \n",
    "                    self.population[i] = np.concatenate((self.population[i],new_trees))\n",
    "                    self.population[i].sort()\n",
    "                \n",
    "\n",
    "                if np.random.rand() < self.migration_rate and self.island_num>1:\n",
    "                    # pick a random island to migrate to (different from the current)\n",
    "                    island_to_migrate = np.random.randint(0, self.island_num)\n",
    "                    while i == island_to_migrate:\n",
    "                        island_to_migrate = np.random.randint(0,self.island_num)\n",
    "                    # select a random number from 0 to the population size of the current island\n",
    "                    random_index = np.random.randint(0,len(self.population[i]))\n",
    "                    \n",
    "                    self.population[island_to_migrate]=np.append(self.population[island_to_migrate],self.population[i][random_index])\n",
    "                    #remove the tree from the current island\n",
    "                    self.population[i]=np.delete(self.population[i],random_index)\n",
    "\n",
    "                    if(verbose):\n",
    "                        print(f\"Migration at {generation} gen from {i} to {island_to_migrate}\")\n",
    "\n",
    "\n",
    "                new_population=self.offspring_generation(island=i)\n",
    "                    \n",
    "                self.population[i]=np.concatenate((self.population[i],new_population))\n",
    "                self.population[i].sort()\n",
    "                \n",
    "                generation_best_fitness_island = self.population[i][0].fitness\n",
    "\n",
    "                if generation_best_fitness_island < best_fitness_island[i]:\n",
    "                    best_fitness_island[i] = generation_best_fitness_island\n",
    "                    best_tree_island[i] = self.population[i][0]\n",
    "                    \n",
    "\n",
    "                    if(best_fitness_island[i] < global_best_fitness):\n",
    "                        global_best_fitness = best_fitness_island[i]\n",
    "                        global_best_tree = best_tree_island[i]\n",
    "                        self.best_fitness_history.append((best_fitness_island[i], generation))\n",
    "\n",
    "\n",
    "                #trim the population to the best island_population\n",
    "                self.population[i] = self.population[i][:self.population_per_island]\n",
    "\n",
    "                \n",
    "                \n",
    "                n_best = [elem for elem in self.population[i] if elem.fitness == self.population[i][0].fitness]\n",
    "                take_over[i] = False\n",
    "                if len(n_best) > 0.5 * self.population_per_island:\n",
    "                        take_over[i] = True\n",
    "                             \n",
    "                if(generation%100==0 and verbose):\n",
    "                        print(f\"Generation {generation + 1}, Island: {i}, Best Fitness: {best_fitness_island[i]}, Best Formula: {best_tree_island[i].to_np_formula(use_std_operators=use_std_operators)}\")\n",
    "            \n",
    "                if global_best_fitness <= 1e-33:\n",
    "                    break   \n",
    "\n",
    "            if(generation%100==0 and not verbose):\n",
    "                print(f\"Generation {generation + 1}, Best Fitness: {global_best_fitness}, Best Formula: {global_best_tree.to_np_formula(use_std_operators=use_std_operators)}\")\n",
    "\n",
    "        return global_best_tree, global_best_fitness"
   ]
  },
  {
   "cell_type": "markdown",
   "metadata": {},
   "source": [
    "### Problem Definition and Symbolic Regression Initialization"
   ]
  },
  {
   "cell_type": "code",
   "execution_count": 49,
   "metadata": {},
   "outputs": [],
   "source": [
    "# --ISLAND SETTINGS--\n",
    "ISLAND_POPULATION = 70\n",
    "ISLAND_NUM = 4\n",
    "MIGRATION_RATE = 0.0005\n",
    "\n",
    "\n",
    "# --TREE SETTINGS--\n",
    "TREE_MAX_DEPTH = 5\n",
    "TREE_SPAWN_DEPTH = 2 #the max depth at which the tree will be spawned, they can grow up to TREE_MAX_DEPTH\n",
    "\n",
    "\n",
    "\n",
    "# --GENETIC ALGORITHM SETTINGS--\n",
    "MAX_GENERATIONS = 5_000\n",
    "ELITISM_SIZE = 1\n",
    "VAR_NUM = x_train.shape[0]\n",
    "CONST_RANGE = 10 # Constats will be in the range [-CONST_RANGE, CONST_RANGE]\n",
    "MAX_MUTATIONS = 3  # Maximum number of mutations in a single mutation operation\n",
    "MUTATION_RATE = 0.35\n",
    "GROW_FULL_RATIO = 0.95\n",
    "COLLAPSE_RATE = 0.3\n",
    "\n",
    "# --DEPTH CHECK--\n",
    "min_depth_data = math.ceil(math.log(x_train.shape[0],2))\n",
    "if(TREE_SPAWN_DEPTH<min_depth_data):\n",
    "    TREE_SPAWN_DEPTH = min_depth_data\n",
    "    print(f\"Spawn depth too low, set to {TREE_SPAWN_DEPTH}\")\n",
    "\n",
    "if(TREE_MAX_DEPTH<TREE_SPAWN_DEPTH):\n",
    "    TREE_MAX_DEPTH = TREE_SPAWN_DEPTH+1\n",
    "    print(f\"Max depth too low, set to {TREE_MAX_DEPTH}\")\n",
    "\n",
    "\n",
    "Tree.set_params(unary_ops, binary_ops, VAR_NUM, CONST_RANGE,TREE_MAX_DEPTH,TREE_SPAWN_DEPTH, x_train, y_train, x_test, y_test)\n",
    "regressor = SymbolicRegression(\n",
    "    ISLAND_POPULATION,\n",
    "    ISLAND_NUM,\n",
    "    MAX_GENERATIONS,\n",
    "    MUTATION_RATE,\n",
    "    ELITISM_SIZE,\n",
    "    GROW_FULL_RATIO,\n",
    "    MAX_MUTATIONS,\n",
    "    MIGRATION_RATE,\n",
    "    COLLAPSE_RATE\n",
    "    \n",
    ")\n",
    "#print the trees\n"
   ]
  },
  {
   "cell_type": "markdown",
   "metadata": {},
   "source": [
    "### Algorithm Execution and Results Computation"
   ]
  },
  {
   "cell_type": "code",
   "execution_count": 50,
   "metadata": {},
   "outputs": [
    {
     "name": "stderr",
     "output_type": "stream",
     "text": [
      "  0%|          | 2/5000 [00:00<09:29,  8.77it/s]"
     ]
    },
    {
     "name": "stdout",
     "output_type": "stream",
     "text": [
      "Generation 1, Island: 0, Best Fitness: 0.07104545312050066, Best Formula: np.power(np.cosh(x[1]), np.multiply(x[0], -6.2307667959978374))\n",
      "Generation 1, Island: 1, Best Fitness: 0.06799190508720232, Best Formula: np.multiply(np.divide(-0.30900262848662763, -9.775312835205622), np.multiply(x[0], x[1]))\n",
      "Generation 1, Island: 2, Best Fitness: 0.00029243271489366566, Best Formula: np.power(np.power(5.821998905202701, x[0]), np.multiply(-9.973910263261319, np.subtract(np.cosh(np.cosh(x[1])), -4.757268635929259)))\n",
      "Generation 1, Island: 3, Best Fitness: 0.19446138973768898, Best Formula: np.divide(np.power(x[0], x[1]), np.cosh(-6.984207664623443))\n"
     ]
    },
    {
     "name": "stderr",
     "output_type": "stream",
     "text": [
      "  2%|▏         | 101/5000 [00:17<11:06,  7.35it/s]"
     ]
    },
    {
     "name": "stdout",
     "output_type": "stream",
     "text": [
      "Generation 101, Island: 0, Best Fitness: 5.452297406063382e-18, Best Formula: np.divide(np.cosh(np.add(np.subtract(np.add(4.054758165589114, 7.611741922598718), np.multiply(-7.544745318271393, -1.139172788953129)), np.add(x[0], np.subtract(1.6954556673701493, x[1])))), np.cosh(np.multiply(np.add(np.add(x[0], 6.397530354682569), 9.042528804815372), 1.6954556673701493)))\n",
      "Generation 101, Island: 1, Best Fitness: 3.3335314606195984e-18, Best Formula: np.divide(np.multiply(x[1], x[0]), np.multiply(-9.314246757949348, np.multiply(3.8777824421968035, np.cosh(np.cosh(-3.6660127670910736)))))\n",
      "Generation 101, Island: 2, Best Fitness: 2.4588572962669408e-20, Best Formula: np.multiply(np.multiply(np.power(np.cosh(8.451485169875717), -3.407060898991734), np.subtract(np.power(np.divide(6.325506017494909, 3.0536827189652094), -3.407060898991734), np.add(np.divide(6.325506017494909, 3.0536827189652094), np.divide(1.6103594640706742, 1.6103594640706742)))), np.power(x[0], x[1]))\n",
      "Generation 101, Island: 3, Best Fitness: 4.46945835498921e-18, Best Formula: np.subtract(np.subtract(x[0], x[0]), np.subtract(np.divide(np.subtract(np.divide(-9.326437642709816, 9.486994427637583), np.divide(5.474528136853802, -9.215938194698694)), np.multiply(np.add(-7.123970407967047, x[1]), np.power(6.339331521022981, 9.802451792929677))), np.divide(np.multiply(np.divide(-9.326437642709816, 4.343007173315987), np.multiply(9.486994427637583, -9.215938194698694)), np.cosh(np.multiply(6.339331521022981, 4.343007173315987)))))\n"
     ]
    },
    {
     "name": "stderr",
     "output_type": "stream",
     "text": [
      "  4%|▍         | 200/5000 [00:33<13:51,  5.77it/s]"
     ]
    },
    {
     "name": "stdout",
     "output_type": "stream",
     "text": [
      "Generation 201, Island: 0, Best Fitness: 5.452021103867378e-18, Best Formula: np.divide(np.cosh(np.cosh(np.divide(np.subtract(-8.85388502393323, -6.783265871597957), np.add(x[1], 4.811980122925128)))), np.cosh(np.multiply(np.add(np.add(x[0], 6.262465994572757), 7.611741922598718), 1.6954556673701493)))\n",
      "Generation 201, Island: 1, Best Fitness: 3.333526667558553e-18, Best Formula: np.divide(np.multiply(x[1], x[0]), np.multiply(-3.8112087527268113, np.multiply(9.481414983538315, np.cosh(np.cosh(-3.6660127670910736)))))\n",
      "Generation 201, Island: 2, Best Fitness: 2.3514690182877948e-20, Best Formula: np.multiply(np.multiply(np.power(np.cosh(8.525437292860964), -3.407060898991734), np.subtract(np.power(np.cosh(x[1]), -1.8015067556544135), np.add(np.divide(3.0536827189652094, 1.6103594640706742), np.divide(3.0536827189652094, 1.6103594640706742)))), np.power(x[0], x[1]))\n",
      "Generation 201, Island: 3, Best Fitness: 4.003538899579165e-18, Best Formula: np.subtract(np.subtract(x[0], x[0]), np.subtract(np.divide(np.subtract(np.divide(-9.912446745962434, 6.339331521022981), np.divide(6.339331521022981, -9.326437642709816)), np.multiply(np.add(-7.123970407967047, x[1]), np.power(6.339331521022981, 9.802451792929677))), np.divide(np.multiply(np.add(-3.227033860243167, -8.944845781076065), np.multiply(9.802451792929677, -8.944845781076065)), np.cosh(np.multiply(6.339331521022981, 4.343007173315987)))))\n"
     ]
    },
    {
     "name": "stderr",
     "output_type": "stream",
     "text": [
      "  6%|▌         | 301/5000 [00:50<12:07,  6.45it/s]"
     ]
    },
    {
     "name": "stdout",
     "output_type": "stream",
     "text": [
      "Generation 301, Island: 0, Best Fitness: 5.451475324665093e-18, Best Formula: np.divide(np.cosh(np.cosh(np.divide(-1.1473906893180548, np.add(x[1], 1.6954556673701493)))), np.cosh(np.multiply(np.add(np.add(x[0], 6.029693232450942), 7.611741922598718), 1.6954556673701493)))\n",
      "Generation 301, Island: 1, Best Fitness: 2.335071355352337e-18, Best Formula: np.divide(np.multiply(x[1], np.divide(np.cosh(x[0]), np.subtract(np.cosh(3.28148305943734), 7.5646616502236625))), np.multiply(-9.314246757949348, np.multiply(np.subtract(np.cosh(3.28148305943734), 9.083780909372727), np.cosh(np.cosh(-3.6660127670910736)))))\n",
      "Generation 301, Island: 2, Best Fitness: 2.3325394254849665e-20, Best Formula: np.multiply(np.multiply(np.power(np.cosh(8.525437292860964), -3.407060898991734), np.subtract(np.power(np.cosh(x[1]), np.subtract(1.6103594640706742, 3.0536827189652094)), np.add(np.divide(3.0536827189652094, 1.6103594640706742), np.divide(3.0536827189652094, 1.6103594640706742)))), np.power(x[0], x[1]))\n",
      "Generation 301, Island: 3, Best Fitness: 4.0034243837796745e-18, Best Formula: np.subtract(np.subtract(x[0], x[0]), np.subtract(np.divide(np.subtract(np.divide(-9.912446745962434, 6.339331521022981), np.divide(6.339331521022981, -9.326437642709816)), np.multiply(np.add(-7.123970407967047, x[1]), np.power(6.339331521022981, 9.802451792929677))), np.divide(np.multiply(np.add(-3.227033860243167, -9.326437642709816), np.multiply(9.551180776120386, -8.944845781076065)), np.cosh(np.multiply(6.339331521022981, 4.343007173315987)))))\n"
     ]
    },
    {
     "name": "stderr",
     "output_type": "stream",
     "text": [
      "  8%|▊         | 401/5000 [01:06<11:49,  6.48it/s]"
     ]
    },
    {
     "name": "stdout",
     "output_type": "stream",
     "text": [
      "Generation 401, Island: 0, Best Fitness: 5.450604383030913e-18, Best Formula: np.divide(np.cosh(np.divide(np.subtract(np.divide(6.029693232450942, 5.868750479429579), np.add(2.3870701414080493, x[0])), np.cosh(x[1]))), np.cosh(np.multiply(np.add(np.add(x[0], 6.029693232450942), 7.611741922598718), 1.6954556673701493)))\n",
      "Generation 401, Island: 1, Best Fitness: 2.3227649084130923e-18, Best Formula: np.divide(np.multiply(x[1], np.divide(np.cosh(x[0]), np.cosh(-3.6660127670910736))), np.multiply(-1.9494786551659704, np.multiply(6.240724186699353, np.cosh(np.cosh(-3.6660127670910736)))))\n",
      "Generation 401, Island: 2, Best Fitness: 2.3145666233109813e-20, Best Formula: np.multiply(np.multiply(np.power(np.cosh(8.525437292860964), -3.407060898991734), np.subtract(np.power(np.cosh(x[1]), np.subtract(1.7829725213525567, 2.964464508268364)), np.add(np.divide(3.0536827189652094, 1.6103594640706742), np.divide(3.0536827189652094, 1.6103594640706742)))), np.power(x[0], x[1]))\n",
      "Generation 401, Island: 3, Best Fitness: 4.0034243837796745e-18, Best Formula: np.subtract(np.subtract(x[0], x[0]), np.subtract(np.divide(np.subtract(np.divide(-9.912446745962434, 6.339331521022981), np.divide(6.339331521022981, -9.326437642709816)), np.multiply(np.add(-7.123970407967047, x[1]), np.power(6.339331521022981, 9.802451792929677))), np.divide(np.multiply(np.add(-3.227033860243167, -9.326437642709816), np.multiply(9.551180776120386, -8.944845781076065)), np.cosh(np.multiply(6.339331521022981, 4.343007173315987)))))\n"
     ]
    },
    {
     "name": "stderr",
     "output_type": "stream",
     "text": [
      " 10%|█         | 501/5000 [01:22<12:11,  6.15it/s]"
     ]
    },
    {
     "name": "stdout",
     "output_type": "stream",
     "text": [
      "Generation 501, Island: 0, Best Fitness: 5.450311626568403e-18, Best Formula: np.divide(np.cosh(np.divide(np.subtract(np.divide(-7.182771261622549, -6.213935287838361), np.add(2.190878246332213, x[0])), np.cosh(x[1]))), np.cosh(np.multiply(np.add(np.add(x[0], 5.868750479429579), 7.610106483195725), 1.6954556673701493)))\n",
      "Generation 501, Island: 1, Best Fitness: 2.2912141857374838e-18, Best Formula: np.divide(np.multiply(x[1], np.divide(np.subtract(np.cosh(x[0]), np.cosh(-0.8964289989997898)), np.cosh(np.cosh(-3.6660127670910736)))), np.multiply(-1.9494786551659704, np.multiply(6.240724186699353, np.cosh(-3.6660127670910736))))\n",
      "Generation 501, Island: 2, Best Fitness: 2.3084701396144082e-20, Best Formula: np.multiply(np.multiply(np.power(np.cosh(8.525437292860964), -3.407060898991734), np.subtract(np.power(np.cosh(x[1]), np.divide(-3.407060898991734, 3.360699913850187)), np.add(np.divide(3.0536827189652094, 1.6103594640706742), np.divide(3.0536827189652094, 1.6103594640706742)))), np.power(x[0], x[1]))\n",
      "Generation 501, Island: 3, Best Fitness: 4.0034243837796745e-18, Best Formula: np.subtract(np.subtract(x[0], x[0]), np.subtract(np.divide(np.subtract(np.divide(-9.912446745962434, 6.339331521022981), np.divide(6.339331521022981, -9.326437642709816)), np.multiply(np.add(-7.123970407967047, x[1]), np.power(6.339331521022981, 9.802451792929677))), np.divide(np.multiply(np.add(-3.227033860243167, -9.326437642709816), np.multiply(9.551180776120386, -8.944845781076065)), np.cosh(np.multiply(6.339331521022981, 4.343007173315987)))))\n"
     ]
    },
    {
     "name": "stderr",
     "output_type": "stream",
     "text": [
      " 12%|█▏        | 600/5000 [01:41<14:10,  5.17it/s]"
     ]
    },
    {
     "name": "stdout",
     "output_type": "stream",
     "text": [
      "Generation 601, Island: 0, Best Fitness: 5.448569629738913e-18, Best Formula: np.divide(np.cosh(np.divide(np.multiply(np.divide(-7.182771261622549, -6.213935287838361), np.multiply(-1.6292358933352595, x[0])), np.cosh(x[1]))), np.cosh(np.multiply(np.add(np.add(x[0], 5.868750479429579), 7.610106483195725), 1.6954556673701493)))\n",
      "Generation 601, Island: 1, Best Fitness: 2.2703040877358208e-18, Best Formula: np.divide(np.multiply(x[1], np.divide(np.subtract(np.cosh(x[0]), np.cosh(-1.9494786551659704)), np.cosh(np.cosh(-3.6660127670910736)))), np.multiply(-1.9494786551659704, np.multiply(6.240724186699353, np.cosh(np.cosh(-1.9494786551659704)))))\n",
      "Generation 601, Island: 2, Best Fitness: 2.2446361208359045e-20, Best Formula: np.multiply(np.multiply(np.power(np.cosh(8.525437292860964), -3.407060898991734), np.subtract(np.power(np.cosh(x[1]), np.divide(-2.8251960189182057, 3.6626752204236297)), np.add(np.divide(3.0536827189652094, 1.592841845180935), np.divide(3.0536827189652094, 1.592841845180935)))), np.power(x[0], x[1]))\n",
      "Generation 601, Island: 3, Best Fitness: 4.003055743980917e-18, Best Formula: np.subtract(np.subtract(x[0], x[0]), np.subtract(np.divide(np.subtract(np.divide(-9.912446745962434, 6.339331521022981), np.divide(6.167670687666249, -9.326437642709816)), np.multiply(np.add(-7.123970407967047, x[1]), np.power(6.339331521022981, 9.802451792929677))), np.divide(np.multiply(np.add(-3.227033860243167, -9.326437642709816), np.multiply(9.802451792929677, -8.944845781076065)), np.cosh(np.multiply(6.339331521022981, 4.343007173315987)))))\n"
     ]
    },
    {
     "name": "stderr",
     "output_type": "stream",
     "text": [
      " 14%|█▍        | 701/5000 [02:00<13:12,  5.42it/s]"
     ]
    },
    {
     "name": "stdout",
     "output_type": "stream",
     "text": [
      "Generation 701, Island: 0, Best Fitness: 5.448333102799068e-18, Best Formula: np.divide(np.cosh(np.divide(np.multiply(np.divide(-6.213935287838361, 5.854038487119993), np.multiply(-1.6292358933352595, x[0])), np.cosh(np.power(x[1], 9.273537200135959)))), np.cosh(np.multiply(np.add(np.add(x[0], 5.854038487119993), 7.610106483195725), 1.6954556673701493)))\n",
      "Generation 701, Island: 1, Best Fitness: 2.2703040877358208e-18, Best Formula: np.divide(np.multiply(x[1], np.divide(np.subtract(np.cosh(x[0]), np.cosh(-1.9494786551659704)), np.cosh(np.cosh(-3.6660127670910736)))), np.multiply(-1.9494786551659704, np.multiply(6.240724186699353, np.cosh(np.cosh(-1.9494786551659704)))))\n",
      "Generation 701, Island: 2, Best Fitness: 1.5702164007776332e-20, Best Formula: np.multiply(np.multiply(np.power(np.cosh(8.525437292860964), -3.407060898991734), np.subtract(np.power(4.694447489757234, np.subtract(3.027829528271104, x[1])), np.add(np.divide(3.027829528271104, 1.592841845180935), np.divide(3.0536827189652094, 1.592841845180935)))), np.power(x[0], x[1]))\n",
      "Generation 701, Island: 3, Best Fitness: 4.003055743980917e-18, Best Formula: np.subtract(np.subtract(x[0], x[0]), np.subtract(np.divide(np.subtract(np.divide(-9.912446745962434, 6.339331521022981), np.divide(6.167670687666249, -9.326437642709816)), np.multiply(np.add(-7.123970407967047, x[1]), np.power(6.339331521022981, 9.802451792929677))), np.divide(np.multiply(np.add(-3.227033860243167, -9.326437642709816), np.multiply(9.802451792929677, -8.944845781076065)), np.cosh(np.multiply(6.339331521022981, 4.343007173315987)))))\n"
     ]
    },
    {
     "name": "stderr",
     "output_type": "stream",
     "text": [
      " 16%|█▌        | 801/5000 [02:19<12:39,  5.53it/s]"
     ]
    },
    {
     "name": "stdout",
     "output_type": "stream",
     "text": [
      "Generation 801, Island: 0, Best Fitness: 2.4161738377982077e-18, Best Formula: np.divide(np.multiply(np.multiply(np.add(np.power(1.5109335574639626, -9.561087914793198), np.add(-1.9414582146547268, 1.9921284958988057)), np.subtract(np.multiply(8.736247824628112, x[0]), np.divide(0.16824600386095057, -3.703718850479203))), np.multiply(np.subtract(np.multiply(8.736247824628112, x[0]), np.divide(0.16824600386095057, -3.703718850479203)), np.divide(np.power(x[1], x[0]), np.subtract(x[0], 7.977986233058168)))), np.cosh(np.multiply(np.add(np.add(x[0], 5.854038487119993), 7.610106483195725), 1.6954556673701493)))\n",
      "Generation 801, Island: 1, Best Fitness: 2.2703040877358208e-18, Best Formula: np.divide(np.multiply(x[1], np.divide(np.subtract(np.cosh(x[0]), np.cosh(-1.9494786551659704)), np.cosh(np.cosh(-3.6660127670910736)))), np.multiply(-1.9494786551659704, np.multiply(6.240724186699353, np.cosh(np.cosh(-1.9494786551659704)))))\n",
      "Generation 801, Island: 2, Best Fitness: 1.2995939351169445e-20, Best Formula: np.multiply(np.multiply(np.power(np.cosh(8.525437292860964), -3.407060898991734), np.subtract(np.power(4.694447489757234, np.subtract(3.027829528271104, x[1])), np.add(np.divide(1.4493207129730283, 1.592841845180935), np.divide(4.760207538756321, 1.592841845180935)))), np.power(x[0], x[1]))\n",
      "Generation 801, Island: 3, Best Fitness: 4.0030515700276e-18, Best Formula: np.subtract(np.subtract(x[0], x[0]), np.subtract(np.divide(np.subtract(np.divide(-9.912446745962434, 6.339331521022981), np.divide(6.167670687666249, -9.326437642709816)), np.multiply(np.add(-7.123970407967047, x[1]), np.power(6.339331521022981, 9.802451792929677))), np.divide(np.multiply(np.add(-3.2114064312933, -9.326437642709816), np.multiply(9.802451792929677, -8.944845781076065)), np.cosh(np.multiply(6.339331521022981, 4.343007173315987)))))\n"
     ]
    },
    {
     "name": "stderr",
     "output_type": "stream",
     "text": [
      " 18%|█▊        | 901/5000 [02:39<17:07,  3.99it/s]"
     ]
    },
    {
     "name": "stdout",
     "output_type": "stream",
     "text": [
      "Generation 901, Island: 0, Best Fitness: 5.244758102079297e-19, Best Formula: np.divide(np.multiply(np.multiply(np.add(np.power(1.5109335574639626, -4.9206193861642), np.add(-1.9414582146547268, 1.9921284958988057)), np.subtract(np.multiply(8.736247824628112, x[0]), 8.736247824628112)), np.multiply(np.subtract(np.multiply(8.736247824628112, x[0]), np.divide(5.786196555702723, 7.610106483195725)), np.divide(np.power(x[1], x[0]), np.subtract(x[0], 7.610106483195725)))), np.cosh(np.multiply(np.add(np.add(x[0], 5.786196555702723), 7.610106483195725), 1.6954556673701493)))\n",
      "Generation 901, Island: 1, Best Fitness: 8.232644776431391e-19, Best Formula: np.divide(np.multiply(np.cosh(x[1]), np.divide(np.subtract(np.cosh(x[0]), -3.6660127670910736), np.cosh(-3.6660127670910736))), np.multiply(-3.6660127670910736, np.multiply(np.cosh(np.cosh(-3.6660127670910736)), np.cosh(-3.6660127670910736))))\n",
      "Generation 901, Island: 2, Best Fitness: 1.2995939351169445e-20, Best Formula: np.multiply(np.multiply(np.power(np.cosh(8.525437292860964), -3.407060898991734), np.subtract(np.power(4.694447489757234, np.subtract(3.027829528271104, x[1])), np.add(np.divide(1.4493207129730283, 1.592841845180935), np.divide(4.760207538756321, 1.592841845180935)))), np.power(x[0], x[1]))\n",
      "Generation 901, Island: 3, Best Fitness: 3.34975458766891e-18, Best Formula: np.subtract(np.multiply(np.multiply(np.multiply(np.cosh(-3.3017010520480383), np.multiply(9.802451792929677, -7.123970407967047)), np.subtract(np.divide(-9.912446745962434, 6.339331521022981), np.cosh(-6.0130874295873005))), np.divide(np.multiply(np.add(-3.2114064312933, -9.326437642709816), np.subtract(x[0], 5.170606453856033)), np.power(np.subtract(6.884981001324427, -7.41459902542357), np.cosh(-3.3017010520480383)))), np.subtract(np.divide(np.subtract(np.divide(-9.912446745962434, 6.339331521022981), np.divide(6.167670687666249, -9.912446745962434)), np.multiply(np.add(-7.123970407967047, x[1]), np.power(6.339331521022981, 9.802451792929677))), np.divide(np.multiply(np.add(-3.2114064312933, -6.0130874295873005), np.multiply(9.802451792929677, -7.41459902542357)), np.cosh(np.multiply(6.339331521022981, 4.343007173315987)))))\n"
     ]
    },
    {
     "name": "stderr",
     "output_type": "stream",
     "text": [
      " 20%|██        | 1001/5000 [03:05<14:29,  4.60it/s]"
     ]
    },
    {
     "name": "stdout",
     "output_type": "stream",
     "text": [
      "Generation 1001, Island: 0, Best Fitness: 3.446722104244491e-19, Best Formula: np.divide(np.multiply(np.multiply(np.add(np.power(1.5109335574639626, -1.9914942222256649), np.add(-1.9414582146547268, 1.9921284958988057)), np.subtract(np.multiply(5.106712987200542, x[0]), 8.736247824628112)), np.multiply(np.subtract(np.multiply(8.736247824628112, x[0]), np.subtract(6.678689447743096, 1.5109335574639626)), np.divide(np.power(x[1], x[0]), np.subtract(x[0], 7.610106483195725)))), np.cosh(np.multiply(np.add(np.add(x[0], 5.786196555702723), 7.610106483195725), 1.6954556673701493)))\n",
      "Generation 1001, Island: 1, Best Fitness: 2.9689581843749936e-19, Best Formula: np.divide(np.multiply(np.cosh(x[1]), np.divide(np.subtract(np.cosh(x[0]), np.subtract(-5.072076725916668, -8.194984985597067)), np.cosh(-3.6660127670910736))), np.multiply(-3.6660127670910736, np.multiply(np.cosh(np.cosh(-3.6660127670910736)), np.cosh(-3.6660127670910736))))\n",
      "Generation 1001, Island: 2, Best Fitness: 1.2866610456007145e-20, Best Formula: np.multiply(np.multiply(np.power(np.cosh(8.525437292860964), -3.407060898991734), np.subtract(np.power(4.694447489757234, np.subtract(3.017249747918303, x[1])), np.add(np.divide(1.4493207129730283, 1.592841845180935), np.divide(4.760207538756321, 1.592841845180935)))), np.power(x[0], x[1]))\n",
      "Generation 1001, Island: 3, Best Fitness: 3.286419645507811e-18, Best Formula: np.subtract(np.multiply(np.multiply(np.multiply(np.subtract(9.802451792929677, -7.41459902542357), np.multiply(8.08431422431595, -7.123970407967047)), np.subtract(np.multiply(9.802451792929677, -7.123970407967047), np.cosh(-6.0130874295873005))), np.divide(np.multiply(np.add(-9.912446745962434, -0.02345465067350716), np.subtract(x[0], 5.170606453856033)), np.power(np.subtract(6.884981001324427, -7.41459902542357), np.cosh(-3.3017010520480383)))), np.subtract(np.divide(np.subtract(np.divide(-9.912446745962434, 6.339331521022981), np.divide(6.167670687666249, -9.912446745962434)), np.multiply(np.add(-7.123970407967047, x[1]), np.power(6.339331521022981, 9.802451792929677))), np.divide(np.multiply(np.add(-3.2114064312933, -6.0130874295873005), np.multiply(8.08431422431595, -7.123970407967047)), np.cosh(np.multiply(6.339331521022981, 4.343007173315987)))))\n"
     ]
    },
    {
     "name": "stderr",
     "output_type": "stream",
     "text": [
      " 22%|██▏       | 1100/5000 [03:27<16:54,  3.84it/s]"
     ]
    },
    {
     "name": "stdout",
     "output_type": "stream",
     "text": [
      "Generation 1101, Island: 0, Best Fitness: 3.411255866654791e-19, Best Formula: np.divide(np.multiply(np.multiply(np.subtract(np.power(1.5109335574639626, -1.9914942222256649), np.add(-1.9914942222256649, 1.9921284958988057)), np.subtract(np.multiply(5.106712987200542, x[0]), 8.736247824628112)), np.multiply(np.subtract(np.multiply(8.736247824628112, x[0]), 1.9921284958988057), np.divide(np.power(x[1], x[0]), np.subtract(x[0], 7.610106483195725)))), np.cosh(np.multiply(np.add(np.add(x[0], 5.786196555702723), 7.610106483195725), 1.6954556673701493)))\n",
      "Generation 1101, Island: 1, Best Fitness: 2.964133232071246e-19, Best Formula: np.divide(np.multiply(np.cosh(x[1]), np.divide(np.subtract(np.cosh(x[0]), np.subtract(-5.039415337282788, -8.194984985597067)), np.cosh(-3.6660127670910736))), np.multiply(-3.6883447791013886, np.multiply(np.cosh(np.cosh(-3.6660127670910736)), np.cosh(-3.6660127670910736))))\n",
      "Generation 1101, Island: 2, Best Fitness: 1.228676802942841e-20, Best Formula: np.multiply(np.multiply(np.power(np.cosh(8.525437292860964), -3.407060898991734), np.subtract(np.power(3.9402338853360863, np.subtract(3.017249747918303, x[1])), np.add(np.divide(1.4493207129730283, 1.592841845180935), 3.017249747918303))), np.power(x[0], x[1]))\n",
      "Generation 1101, Island: 3, Best Fitness: 3.275196909995141e-18, Best Formula: np.subtract(np.multiply(np.multiply(np.multiply(np.subtract(9.802451792929677, -7.123970407967047), np.multiply(9.802451792929677, -7.123970407967047)), np.subtract(np.multiply(8.08431422431595, -7.123970407967047), np.cosh(-6.0130874295873005))), np.divide(np.multiply(np.add(-9.912446745962434, -0.02345465067350716), np.subtract(x[0], 5.170606453856033)), np.power(np.subtract(6.884981001324427, -7.41459902542357), np.cosh(-3.3017010520480383)))), np.subtract(np.divide(np.subtract(np.divide(-9.912446745962434, 6.339331521022981), np.divide(6.167670687666249, -9.912446745962434)), np.multiply(np.add(-7.123970407967047, x[1]), np.power(6.339331521022981, 9.802451792929677))), np.divide(np.multiply(np.add(-3.3017010520480383, -6.0130874295873005), np.multiply(6.339331521022981, -7.123970407967047)), np.cosh(np.multiply(6.339331521022981, 4.343007173315987)))))\n"
     ]
    },
    {
     "name": "stderr",
     "output_type": "stream",
     "text": [
      " 24%|██▍       | 1201/5000 [03:49<13:44,  4.61it/s]"
     ]
    },
    {
     "name": "stdout",
     "output_type": "stream",
     "text": [
      "Generation 1201, Island: 0, Best Fitness: 3.4035078826736764e-19, Best Formula: np.divide(np.multiply(np.multiply(np.subtract(np.power(1.5109335574639626, -1.9914942222256649), np.add(-1.9914942222256649, 1.9921284958988057)), np.subtract(np.multiply(5.106712987200542, x[0]), 8.736247824628112)), np.multiply(np.subtract(np.multiply(8.736247824628112, x[0]), np.power(1.5109335574639626, 1.9921284958988057)), np.divide(np.power(x[1], x[0]), np.subtract(x[0], 7.610106483195725)))), np.cosh(np.multiply(np.add(np.add(x[0], 5.786196555702723), 7.610106483195725), 1.6954556673701493)))\n",
      "Generation 1201, Island: 1, Best Fitness: 2.9640406719968753e-19, Best Formula: np.divide(np.multiply(np.cosh(x[1]), np.divide(np.subtract(np.cosh(x[0]), np.subtract(-5.039415337282788, -8.194984985597067)), -3.6891613764799924)), np.multiply(np.cosh(-3.6660127670910736), np.multiply(np.cosh(np.cosh(-3.6660127670910736)), np.cosh(-3.6660127670910736))))\n",
      "Generation 1201, Island: 2, Best Fitness: 1.2182244045866229e-20, Best Formula: np.multiply(np.multiply(np.power(np.cosh(8.525437292860964), -3.407060898991734), np.subtract(np.power(4.070357359687373, np.subtract(3.0225917016126473, x[1])), np.add(np.divide(1.4493207129730283, 1.592841845180935), 3.017249747918303))), np.power(x[0], x[1]))\n",
      "Generation 1201, Island: 3, Best Fitness: 3.272557602974468e-18, Best Formula: np.subtract(np.multiply(np.multiply(np.multiply(np.subtract(9.802451792929677, -7.123970407967047), np.multiply(9.802451792929677, -7.123970407967047)), np.subtract(np.add(9.802451792929677, -0.02345465067350716), np.cosh(-6.0130874295873005))), np.divide(np.multiply(np.add(-9.912446745962434, -0.02345465067350716), np.subtract(x[0], 5.170606453856033)), np.power(np.subtract(6.884981001324427, -7.123970407967047), np.cosh(-3.3017010520480383)))), np.subtract(np.divide(np.subtract(np.divide(-9.912446745962434, 6.339331521022981), np.divide(6.884981001324427, -9.912446745962434)), np.multiply(np.add(-7.123970407967047, x[1]), np.power(6.339331521022981, 9.802451792929677))), np.divide(np.multiply(np.add(-3.3017010520480383, -3.3017010520480383), np.multiply(6.884981001324427, -7.123970407967047)), np.cosh(np.multiply(6.339331521022981, 4.343007173315987)))))\n"
     ]
    },
    {
     "name": "stderr",
     "output_type": "stream",
     "text": [
      " 26%|██▌       | 1301/5000 [04:12<14:48,  4.16it/s]"
     ]
    },
    {
     "name": "stdout",
     "output_type": "stream",
     "text": [
      "Generation 1301, Island: 0, Best Fitness: 3.2193019029969763e-19, Best Formula: np.divide(np.multiply(np.multiply(np.subtract(np.power(1.5109335574639626, -1.9914942222256649), np.add(-1.9914942222256649, 1.9921284958988057)), np.subtract(np.multiply(5.106712987200542, x[0]), 8.736247824628112)), np.multiply(np.subtract(np.multiply(8.736247824628112, x[0]), 5.786196555702723), np.divide(np.power(x[1], x[0]), np.subtract(x[0], 7.147212983687194)))), np.cosh(np.multiply(np.add(np.add(x[0], 5.786196555702723), 7.610106483195725), 1.6954556673701493)))\n",
      "Generation 1301, Island: 1, Best Fitness: 2.9637451733096165e-19, Best Formula: np.divide(np.multiply(np.cosh(x[1]), np.divide(np.subtract(np.cosh(x[0]), 3.1112166818648728), -3.6891613764799924)), np.multiply(np.cosh(-3.6660127670910736), np.multiply(np.cosh(np.cosh(-3.6660127670910736)), np.cosh(-3.6660127670910736))))\n",
      "Generation 1301, Island: 2, Best Fitness: 1.2182244045866229e-20, Best Formula: np.multiply(np.multiply(np.power(np.cosh(8.525437292860964), -3.407060898991734), np.subtract(np.power(4.070357359687373, np.subtract(3.0225917016126473, x[1])), np.add(np.divide(1.4493207129730283, 1.592841845180935), 3.017249747918303))), np.power(x[0], x[1]))\n",
      "Generation 1301, Island: 3, Best Fitness: 3.2724297983445052e-18, Best Formula: np.subtract(np.multiply(np.multiply(np.multiply(np.subtract(9.802451792929677, -7.123970407967047), np.multiply(9.802451792929677, -7.123970407967047)), np.subtract(np.add(6.884981001324427, -0.02345465067350716), np.cosh(-6.0130874295873005))), np.divide(np.multiply(-9.914003180315166, np.subtract(x[0], 5.170606453856033)), np.power(np.subtract(6.884981001324427, -7.123970407967047), np.cosh(-3.3017010520480383)))), np.subtract(np.divide(np.subtract(np.divide(-9.912446745962434, 6.339331521022981), np.divide(6.884981001324427, -9.912446745962434)), np.multiply(np.add(-7.123970407967047, x[1]), np.power(6.339331521022981, 9.802451792929677))), np.divide(np.multiply(np.add(-3.3017010520480383, -3.3017010520480383), np.multiply(6.884981001324427, -7.123970407967047)), np.cosh(np.multiply(6.339331521022981, 4.343007173315987)))))\n"
     ]
    },
    {
     "name": "stderr",
     "output_type": "stream",
     "text": [
      " 28%|██▊       | 1401/5000 [04:33<12:41,  4.72it/s]"
     ]
    },
    {
     "name": "stdout",
     "output_type": "stream",
     "text": [
      "Generation 1401, Island: 0, Best Fitness: 2.7295486765310303e-19, Best Formula: np.divide(np.multiply(np.power(np.subtract(np.power(1.5109335574639626, 1.5109335574639626), np.add(-1.9914942222256649, 1.9921284958988057)), np.subtract(np.add(x[0], 5.786196555702723), 7.610106483195725)), np.multiply(np.subtract(np.multiply(8.736247824628112, x[0]), np.power(1.7909175098756336, -1.9914942222256649)), np.divide(np.power(x[1], x[0]), np.subtract(x[0], 7.147212983687194)))), np.cosh(np.multiply(np.add(np.add(x[0], 5.786196555702723), 7.610106483195725), 1.6954556673701493)))\n",
      "Generation 1401, Island: 1, Best Fitness: 1.0640273194078661e-19, Best Formula: np.divide(np.multiply(np.cosh(x[1]), np.divide(np.subtract(np.cosh(x[0]), np.multiply(4.2974546489426295, 0.689121648597661)), -3.6660127670910736)), np.multiply(np.multiply(np.add(2.143258150933532, np.power(4.2974546489426295, 0.689121648597661)), np.subtract(np.cosh(-2.8420321851410613), x[1])), np.multiply(np.cosh(np.cosh(-3.6660127670910736)), np.cosh(-3.6660127670910736))))\n",
      "Generation 1401, Island: 2, Best Fitness: 1.2182244045866229e-20, Best Formula: np.multiply(np.multiply(np.power(np.cosh(8.525437292860964), -3.407060898991734), np.subtract(np.power(4.070357359687373, np.subtract(3.0225917016126473, x[1])), np.add(np.divide(1.4493207129730283, 1.592841845180935), 3.017249747918303))), np.power(x[0], x[1]))\n",
      "Generation 1401, Island: 3, Best Fitness: 3.272424879907545e-18, Best Formula: np.subtract(np.multiply(np.multiply(np.multiply(np.subtract(9.802451792929677, -7.123970407967047), np.multiply(9.802451792929677, -7.123970407967047)), np.subtract(np.add(6.884981001324427, -0.02345465067350716), np.cosh(-6.0130874295873005))), np.divide(np.multiply(-9.912446745962434, np.subtract(x[0], 5.170606453856033)), np.power(np.subtract(6.884981001324427, -7.123970407967047), np.cosh(-3.3017010520480383)))), np.subtract(np.divide(np.subtract(np.divide(-9.912446745962434, 6.339331521022981), np.divide(6.884981001324427, -9.912446745962434)), np.multiply(np.add(-7.123970407967047, x[1]), np.power(6.339331521022981, 9.802451792929677))), np.divide(np.multiply(np.add(-3.3017010520480383, -3.3017010520480383), np.multiply(6.884981001324427, -7.123970407967047)), np.cosh(np.multiply(6.339331521022981, 4.343007173315987)))))\n"
     ]
    },
    {
     "name": "stderr",
     "output_type": "stream",
     "text": [
      " 30%|██▉       | 1491/5000 [04:52<11:05,  5.27it/s]"
     ]
    },
    {
     "name": "stdout",
     "output_type": "stream",
     "text": [
      "Migration at 1489 gen from 3 to 1\n"
     ]
    },
    {
     "name": "stderr",
     "output_type": "stream",
     "text": [
      " 30%|███       | 1501/5000 [04:54<12:16,  4.75it/s]"
     ]
    },
    {
     "name": "stdout",
     "output_type": "stream",
     "text": [
      "Generation 1501, Island: 0, Best Fitness: 2.482451886803115e-19, Best Formula: np.divide(np.multiply(np.power(np.add(np.power(1.5109335574639626, 1.5109335574639626), np.add(-1.9914942222256649, 1.9921284958988057)), np.subtract(np.add(x[0], 5.786196555702723), 7.610106483195725)), np.multiply(np.subtract(np.multiply(8.736247824628112, x[0]), np.power(1.7909175098756336, 1.7909175098756336)), np.divide(np.power(x[1], x[0]), np.subtract(x[0], 7.147212983687194)))), np.cosh(np.multiply(np.add(np.add(x[0], 5.786196555702723), 7.610106483195725), 1.6954556673701493)))\n",
      "Generation 1501, Island: 1, Best Fitness: 3.7921897698499494e-20, Best Formula: np.divide(np.multiply(np.cosh(x[1]), np.divide(np.subtract(np.cosh(x[0]), np.multiply(4.2974546489426295, 0.689121648597661)), -3.6660127670910736)), np.multiply(np.multiply(np.add(6.074418048254223, np.power(6.596108308484837, 0.689121648597661)), np.subtract(6.596108308484837, x[1])), np.multiply(np.cosh(np.cosh(-3.6660127670910736)), np.cosh(-3.6660127670910736))))\n",
      "Generation 1501, Island: 2, Best Fitness: 1.2182244045866229e-20, Best Formula: np.multiply(np.multiply(np.power(np.cosh(8.525437292860964), -3.407060898991734), np.subtract(np.power(4.070357359687373, np.subtract(3.0225917016126473, x[1])), np.add(np.divide(1.4493207129730283, 1.592841845180935), 3.017249747918303))), np.power(x[0], x[1]))\n",
      "Generation 1501, Island: 3, Best Fitness: 3.272341926681762e-18, Best Formula: np.subtract(np.multiply(np.multiply(np.multiply(np.subtract(9.802451792929677, -7.123970407967047), np.multiply(9.802451792929677, -7.123970407967047)), np.subtract(np.add(6.339331521022981, -0.02345465067350716), np.cosh(-6.0130874295873005))), np.divide(np.multiply(-9.912446745962434, np.subtract(x[0], 5.170606453856033)), np.power(np.subtract(6.884981001324427, -7.123970407967047), np.cosh(-3.3017010520480383)))), np.subtract(np.divide(np.subtract(np.divide(-9.912446745962434, 6.339331521022981), np.divide(6.884981001324427, -9.912446745962434)), np.multiply(np.add(-7.123970407967047, x[1]), np.power(6.339331521022981, 9.802451792929677))), np.divide(np.multiply(-6.474114477409492, np.multiply(6.884981001324427, -7.123970407967047)), np.cosh(np.multiply(6.339331521022981, 4.343007173315987)))))\n"
     ]
    },
    {
     "name": "stderr",
     "output_type": "stream",
     "text": [
      " 32%|███▏      | 1601/5000 [05:16<11:38,  4.87it/s]"
     ]
    },
    {
     "name": "stdout",
     "output_type": "stream",
     "text": [
      "Generation 1601, Island: 0, Best Fitness: 2.281386160565963e-19, Best Formula: np.divide(np.multiply(np.power(np.subtract(np.power(1.6954556673701493, 1.5109335574639626), np.add(-1.9914942222256649, 1.9921284958988057)), np.subtract(np.add(x[0], 5.786196555702723), 7.610106483195725)), np.multiply(np.subtract(np.multiply(5.786196555702723, x[0]), np.power(1.6954556673701493, 1.9921284958988057)), np.divide(np.power(x[1], x[0]), np.subtract(x[0], 7.147212983687194)))), np.cosh(np.multiply(np.add(np.add(x[0], 5.786196555702723), 7.610106483195725), 1.6954556673701493)))\n",
      "Generation 1601, Island: 1, Best Fitness: 3.7921897698499494e-20, Best Formula: np.divide(np.multiply(np.cosh(x[1]), np.divide(np.subtract(np.cosh(x[0]), np.multiply(4.2974546489426295, 0.689121648597661)), -3.6660127670910736)), np.multiply(np.multiply(np.add(6.074418048254223, np.power(6.596108308484837, 0.689121648597661)), np.subtract(6.596108308484837, x[1])), np.multiply(np.cosh(np.cosh(-3.6660127670910736)), np.cosh(-3.6660127670910736))))\n",
      "Generation 1601, Island: 2, Best Fitness: 1.2182244045866229e-20, Best Formula: np.multiply(np.multiply(np.power(np.cosh(8.525437292860964), -3.407060898991734), np.subtract(np.power(4.070357359687373, np.subtract(3.0225917016126473, x[1])), np.add(np.divide(1.4493207129730283, 1.592841845180935), 3.017249747918303))), np.power(x[0], x[1]))\n",
      "Generation 1601, Island: 3, Best Fitness: 3.2652777778290783e-18, Best Formula: np.subtract(np.multiply(np.multiply(np.multiply(np.subtract(9.802451792929677, -7.123970407967047), np.multiply(9.802451792929677, -7.123970407967047)), np.subtract(np.add(-6.474114477409492, -0.02345465067350716), np.cosh(-6.0130874295873005))), np.divide(np.multiply(-9.912446745962434, np.subtract(x[0], 6.339331521022981)), np.power(np.subtract(6.884981001324427, -7.123970407967047), np.cosh(-3.3017010520480383)))), np.subtract(np.divide(np.subtract(np.divide(-9.912446745962434, 6.339331521022981), np.divide(6.884981001324427, -9.912446745962434)), np.multiply(np.add(-6.904993089779444, x[1]), np.power(6.339331521022981, 9.802451792929677))), np.divide(np.multiply(np.power(6.953563481765631, x[1]), np.multiply(9.802451792929677, -7.123970407967047)), np.power(np.subtract(6.884981001324427, -7.123970407967047), np.cosh(-3.3017010520480383)))))\n"
     ]
    },
    {
     "name": "stderr",
     "output_type": "stream",
     "text": [
      " 34%|███▍      | 1701/5000 [05:38<11:31,  4.77it/s]"
     ]
    },
    {
     "name": "stdout",
     "output_type": "stream",
     "text": [
      "Generation 1701, Island: 0, Best Fitness: 1.9369794957791163e-19, Best Formula: np.divide(np.multiply(np.power(np.subtract(np.power(1.6954556673701493, 1.5109335574639626), np.add(-1.9914942222256649, 1.9921284958988057)), np.subtract(np.add(x[0], 5.786196555702723), 7.610106483195725)), np.multiply(np.subtract(np.multiply(5.786196555702723, x[0]), np.subtract(7.610106483195725, x[1])), np.divide(np.power(x[1], x[0]), np.subtract(x[0], 7.147212983687194)))), np.cosh(np.multiply(np.add(np.add(x[0], 5.786196555702723), 7.610106483195725), 1.6954556673701493)))\n",
      "Generation 1701, Island: 1, Best Fitness: 3.7921897698499494e-20, Best Formula: np.divide(np.multiply(np.cosh(x[1]), np.divide(np.subtract(np.cosh(x[0]), np.multiply(4.2974546489426295, 0.689121648597661)), -3.6660127670910736)), np.multiply(np.multiply(np.add(6.074418048254223, np.power(6.596108308484837, 0.689121648597661)), np.subtract(6.596108308484837, x[1])), np.multiply(np.cosh(np.cosh(-3.6660127670910736)), np.cosh(-3.6660127670910736))))\n",
      "Generation 1701, Island: 2, Best Fitness: 1.2182244045866229e-20, Best Formula: np.multiply(np.multiply(np.power(np.cosh(8.525437292860964), -3.407060898991734), np.subtract(np.power(4.070357359687373, np.subtract(3.0225917016126473, x[1])), np.add(np.divide(1.4493207129730283, 1.592841845180935), 3.017249747918303))), np.power(x[0], x[1]))\n",
      "Generation 1701, Island: 3, Best Fitness: 3.1527899778431992e-18, Best Formula: np.subtract(np.multiply(np.multiply(np.multiply(np.subtract(9.802451792929677, -6.0130874295873005), np.multiply(9.802451792929677, -7.123970407967047)), np.subtract(-9.912446745962434, np.cosh(-6.0130874295873005))), np.divide(np.multiply(-9.912446745962434, np.subtract(x[0], 6.339331521022981)), np.power(np.subtract(6.884981001324427, -7.123970407967047), np.cosh(-3.3017010520480383)))), np.subtract(np.divide(np.subtract(np.divide(-9.912446745962434, 6.339331521022981), np.divide(6.953563481765631, -9.912446745962434)), np.multiply(np.add(-7.123970407967047, x[1]), np.power(6.339331521022981, 9.802451792929677))), np.divide(np.subtract(np.cosh(-3.3017010520480383), np.power(x[0], 8.642289806326847)), np.power(np.subtract(6.339331521022981, -6.0130874295873005), np.cosh(-3.3017010520480383)))))\n"
     ]
    },
    {
     "name": "stderr",
     "output_type": "stream",
     "text": [
      " 36%|███▌      | 1801/5000 [06:00<12:15,  4.35it/s]"
     ]
    },
    {
     "name": "stdout",
     "output_type": "stream",
     "text": [
      "Generation 1801, Island: 0, Best Fitness: 1.935367886433576e-19, Best Formula: np.divide(np.multiply(np.power(np.subtract(np.power(1.6954556673701493, 1.5109335574639626), np.add(-1.9914942222256649, 1.9921284958988057)), np.subtract(np.add(x[0], 5.786196555702723), 7.610106483195725)), np.multiply(np.subtract(np.multiply(5.786196555702723, x[0]), np.subtract(7.285510107697512, x[1])), np.divide(np.power(x[1], x[0]), np.subtract(x[0], 7.147212983687194)))), np.cosh(np.multiply(np.add(np.add(x[0], 5.786196555702723), 7.610106483195725), 1.6954556673701493)))\n",
      "Generation 1801, Island: 1, Best Fitness: 3.7921897698499494e-20, Best Formula: np.divide(np.multiply(np.cosh(x[1]), np.divide(np.subtract(np.cosh(x[0]), np.multiply(4.2974546489426295, 0.689121648597661)), -3.6660127670910736)), np.multiply(np.multiply(np.add(6.074418048254223, np.power(6.596108308484837, 0.689121648597661)), np.subtract(6.596108308484837, x[1])), np.multiply(np.cosh(np.cosh(-3.6660127670910736)), np.cosh(-3.6660127670910736))))\n",
      "Generation 1801, Island: 2, Best Fitness: 1.2182244045866229e-20, Best Formula: np.multiply(np.multiply(np.power(np.cosh(8.525437292860964), -3.407060898991734), np.subtract(np.power(4.070357359687373, np.subtract(3.0225917016126473, x[1])), np.add(np.divide(1.4493207129730283, 1.592841845180935), 3.017249747918303))), np.power(x[0], x[1]))\n",
      "Generation 1801, Island: 3, Best Fitness: 3.105149592324249e-18, Best Formula: np.subtract(np.multiply(np.multiply(np.multiply(np.subtract(9.802451792929677, -6.0130874295873005), np.multiply(8.642289806326847, -7.123970407967047)), np.subtract(-9.912446745962434, np.cosh(-6.0130874295873005))), np.divide(np.multiply(-9.912446745962434, np.subtract(x[0], 6.953563481765631)), np.power(np.subtract(6.884981001324427, -7.123970407967047), np.cosh(-3.3017010520480383)))), np.subtract(np.divide(np.subtract(np.divide(-9.912446745962434, 6.339331521022981), np.divide(6.953563481765631, -9.912446745962434)), np.multiply(np.add(-7.123970407967047, x[1]), np.power(6.339331521022981, 9.802451792929677))), np.divide(np.subtract(np.cosh(-9.912446745962434), np.power(x[0], 8.642289806326847)), np.power(np.subtract(6.339331521022981, -6.0130874295873005), np.cosh(-3.3017010520480383)))))\n"
     ]
    },
    {
     "name": "stderr",
     "output_type": "stream",
     "text": [
      " 38%|███▊      | 1901/5000 [06:22<12:18,  4.20it/s]"
     ]
    },
    {
     "name": "stdout",
     "output_type": "stream",
     "text": [
      "Generation 1901, Island: 0, Best Fitness: 1.92936221814418e-19, Best Formula: np.divide(np.multiply(np.power(np.add(np.power(1.6954556673701493, 1.5109335574639626), np.add(-1.9914942222256649, 1.9921284958988057)), np.subtract(np.add(x[0], 5.786196555702723), 7.610106483195725)), np.multiply(np.subtract(np.multiply(5.786196555702723, x[0]), np.subtract(6.179696214928448, x[1])), np.divide(np.power(x[1], x[0]), np.subtract(x[0], 7.285510107697512)))), np.cosh(np.multiply(np.add(np.add(x[0], 5.786196555702723), 7.610106483195725), 1.6954556673701493)))\n",
      "Generation 1901, Island: 1, Best Fitness: 3.7921897698499494e-20, Best Formula: np.divide(np.multiply(np.cosh(x[1]), np.divide(np.subtract(np.cosh(x[0]), np.multiply(4.2974546489426295, 0.689121648597661)), -3.6660127670910736)), np.multiply(np.multiply(np.add(6.074418048254223, np.power(6.596108308484837, 0.689121648597661)), np.subtract(6.596108308484837, x[1])), np.multiply(np.cosh(np.cosh(-3.6660127670910736)), np.cosh(-3.6660127670910736))))\n",
      "Generation 1901, Island: 2, Best Fitness: 1.2168273435451533e-20, Best Formula: np.multiply(np.multiply(np.power(np.cosh(8.525437292860964), -3.407060898991734), np.subtract(np.power(4.2615537732753594, np.subtract(3.017249747918303, x[1])), np.add(np.divide(-0.19881900499459348, -9.61768335349133), 3.9018695597864657))), np.power(x[0], x[1]))\n",
      "Generation 1901, Island: 3, Best Fitness: 3.105149592324249e-18, Best Formula: np.subtract(np.multiply(np.multiply(np.multiply(np.subtract(9.802451792929677, -6.0130874295873005), np.multiply(8.642289806326847, -7.123970407967047)), np.subtract(-9.912446745962434, np.cosh(-6.0130874295873005))), np.divide(np.multiply(-9.912446745962434, np.subtract(x[0], 6.953563481765631)), np.power(np.subtract(6.884981001324427, -7.123970407967047), np.cosh(-3.3017010520480383)))), np.subtract(np.divide(np.subtract(np.divide(-9.912446745962434, 6.339331521022981), np.divide(6.953563481765631, -9.912446745962434)), np.multiply(np.add(-7.123970407967047, x[1]), np.power(6.339331521022981, 9.802451792929677))), np.divide(np.subtract(np.cosh(-9.912446745962434), np.power(x[0], 8.642289806326847)), np.power(np.subtract(6.339331521022981, -6.0130874295873005), np.cosh(-3.3017010520480383)))))\n"
     ]
    },
    {
     "name": "stderr",
     "output_type": "stream",
     "text": [
      " 40%|████      | 2001/5000 [06:44<12:11,  4.10it/s]"
     ]
    },
    {
     "name": "stdout",
     "output_type": "stream",
     "text": [
      "Generation 2001, Island: 0, Best Fitness: 1.902924412391557e-19, Best Formula: np.divide(np.multiply(np.power(np.subtract(np.power(1.6954556673701493, 1.5109335574639626), np.add(-1.9914942222256649, 1.9921284958988057)), np.subtract(np.add(x[0], 5.786196555702723), 7.5630240174936)), np.multiply(np.subtract(np.multiply(5.786196555702723, x[0]), np.subtract(7.285510107697512, x[1])), np.divide(np.power(x[1], x[0]), np.subtract(x[0], 7.285510107697512)))), np.cosh(np.multiply(np.add(np.add(x[0], 5.786196555702723), 7.5996626326082435), 1.6954556673701493)))\n",
      "Generation 2001, Island: 1, Best Fitness: 3.7909062412470757e-20, Best Formula: np.divide(np.multiply(np.cosh(x[1]), np.divide(np.subtract(np.cosh(x[0]), np.multiply(4.352752599679338, 0.689121648597661)), -3.6660127670910736)), np.multiply(np.multiply(np.add(6.074418048254223, np.power(6.596108308484837, 0.689121648597661)), np.subtract(6.596108308484837, x[1])), np.multiply(np.cosh(np.cosh(-3.6660127670910736)), np.cosh(-3.6660127670910736))))\n",
      "Generation 2001, Island: 2, Best Fitness: 1.2150922803422702e-20, Best Formula: np.multiply(np.multiply(np.power(np.cosh(8.525437292860964), -3.407060898991734), np.subtract(np.power(4.2615537732753594, np.subtract(3.017249747918303, x[1])), np.add(np.divide(-0.08181362927098235, -9.61768335349133), 3.9018695597864657))), np.power(x[0], x[1]))\n",
      "Generation 2001, Island: 3, Best Fitness: 3.0908752945236146e-18, Best Formula: np.subtract(np.multiply(np.multiply(np.multiply(np.subtract(9.802451792929677, -6.050618503176799), np.multiply(6.339331521022981, -7.123970407967047)), np.subtract(-9.912446745962434, np.cosh(-6.0130874295873005))), np.divide(np.multiply(-9.912446745962434, np.subtract(x[0], 8.642289806326847)), np.power(np.subtract(6.884981001324427, -7.123970407967047), np.cosh(-3.3017010520480383)))), np.subtract(np.divide(np.subtract(np.divide(-9.912446745962434, 6.339331521022981), np.divide(6.953563481765631, -9.912446745962434)), np.multiply(np.add(-7.123970407967047, x[1]), np.power(6.339331521022981, 9.802451792929677))), np.divide(np.subtract(np.cosh(-9.912446745962434), np.power(x[0], 8.642289806326847)), np.power(np.subtract(6.339331521022981, -6.0130874295873005), np.cosh(-3.3017010520480383)))))\n"
     ]
    },
    {
     "name": "stderr",
     "output_type": "stream",
     "text": [
      " 42%|████▏     | 2100/5000 [07:05<10:30,  4.60it/s]"
     ]
    },
    {
     "name": "stdout",
     "output_type": "stream",
     "text": [
      "Generation 2101, Island: 0, Best Fitness: 1.7849708956934579e-19, Best Formula: np.divide(np.multiply(np.power(np.subtract(np.power(1.6954556673701493, 1.9921284958988057), np.add(-1.9914942222256649, 1.9921284958988057)), np.subtract(np.add(x[0], 5.786196555702723), 7.5630240174936)), np.multiply(np.subtract(np.multiply(5.786196555702723, x[0]), np.subtract(7.285510107697512, x[1])), np.divide(np.power(x[1], x[0]), -5.578119530834902))), np.cosh(np.multiply(np.add(np.add(x[0], 5.785809614434498), 7.5996626326082435), 1.6954556673701493)))\n",
      "Generation 2101, Island: 1, Best Fitness: 3.7903224877780463e-20, Best Formula: np.divide(np.multiply(np.cosh(x[1]), np.divide(np.subtract(np.cosh(x[0]), np.multiply(4.352752599679338, 0.689121648597661)), -3.6660127670910736)), np.multiply(np.multiply(np.add(6.074418048254223, np.subtract(4.352752599679338, 0.689121648597661)), np.subtract(6.596108308484837, x[1])), np.multiply(np.cosh(np.cosh(-3.6660127670910736)), np.cosh(-3.6660127670910736))))\n",
      "Generation 2101, Island: 2, Best Fitness: 1.2134017651888745e-20, Best Formula: np.multiply(np.multiply(np.power(np.cosh(8.525437292860964), -3.407060898991734), np.subtract(np.power(4.18958630424536, np.subtract(3.017249747918303, x[1])), np.add(np.power(0.344798692612013, 3.955395857452766), 3.9018695597864657))), np.power(x[0], x[1]))\n",
      "Generation 2101, Island: 3, Best Fitness: 3.0577261295333506e-18, Best Formula: np.subtract(np.multiply(np.multiply(np.multiply(np.subtract(9.802451792929677, -6.050618503176799), np.multiply(6.953563481765631, -7.123970407967047)), np.subtract(np.cosh(x[0]), np.cosh(-6.0130874295873005))), np.divide(np.multiply(-9.912446745962434, np.subtract(x[0], 8.642289806326847)), np.power(np.subtract(6.884981001324427, -7.123970407967047), np.cosh(-3.3017010520480383)))), np.subtract(np.divide(np.subtract(np.divide(-9.912446745962434, 6.339331521022981), np.divide(6.953563481765631, -9.912446745962434)), np.multiply(np.add(-7.123970407967047, x[1]), np.power(6.339331521022981, 9.802451792929677))), np.divide(np.subtract(np.cosh(-9.912446745962434), np.power(x[0], 8.642289806326847)), np.power(np.subtract(6.339331521022981, -6.0130874295873005), np.cosh(-3.3017010520480383)))))\n"
     ]
    },
    {
     "name": "stderr",
     "output_type": "stream",
     "text": [
      " 44%|████▍     | 2201/5000 [07:28<10:41,  4.37it/s]"
     ]
    },
    {
     "name": "stdout",
     "output_type": "stream",
     "text": [
      "Generation 2201, Island: 0, Best Fitness: 1.757102196888715e-19, Best Formula: np.divide(np.multiply(np.power(np.add(np.power(1.6954556673701493, 1.9921284958988057), np.add(-1.9914942222256649, 1.9921284958988057)), np.subtract(np.add(x[0], 5.786196555702723), 7.5996626326082435)), np.multiply(np.subtract(np.multiply(5.786196555702723, x[0]), np.subtract(7.5996626326082435, x[1])), np.divide(np.power(x[1], x[0]), -5.578119530834902))), np.cosh(np.multiply(np.add(np.add(x[0], 5.785809614434498), 7.5630240174936), 1.6954556673701493)))\n",
      "Generation 2201, Island: 1, Best Fitness: 3.7903224877780463e-20, Best Formula: np.divide(np.multiply(np.cosh(x[1]), np.divide(np.subtract(np.cosh(x[0]), np.multiply(4.352752599679338, 0.689121648597661)), -3.6660127670910736)), np.multiply(np.multiply(np.add(6.074418048254223, np.subtract(4.352752599679338, 0.689121648597661)), np.subtract(6.596108308484837, x[1])), np.multiply(np.cosh(np.cosh(-3.6660127670910736)), np.cosh(-3.6660127670910736))))\n",
      "Generation 2201, Island: 2, Best Fitness: 1.2134017651888745e-20, Best Formula: np.multiply(np.multiply(np.power(np.cosh(8.525437292860964), -3.407060898991734), np.subtract(np.power(4.18958630424536, np.subtract(3.017249747918303, x[1])), np.add(np.power(0.344798692612013, 3.955395857452766), 3.9018695597864657))), np.power(x[0], x[1]))\n",
      "Generation 2201, Island: 3, Best Fitness: 3.0577261295333506e-18, Best Formula: np.subtract(np.multiply(np.multiply(np.multiply(np.subtract(9.802451792929677, -6.050618503176799), np.multiply(6.953563481765631, -7.123970407967047)), np.subtract(np.cosh(x[0]), np.cosh(-6.0130874295873005))), np.divide(np.multiply(-9.912446745962434, np.subtract(x[0], 8.642289806326847)), np.power(np.subtract(6.884981001324427, -7.123970407967047), np.cosh(-3.3017010520480383)))), np.subtract(np.divide(np.subtract(np.divide(-9.912446745962434, 6.339331521022981), np.divide(6.953563481765631, -9.912446745962434)), np.multiply(np.add(-7.123970407967047, x[1]), np.power(6.339331521022981, 9.802451792929677))), np.divide(np.subtract(np.cosh(-9.912446745962434), np.power(x[0], 8.642289806326847)), np.power(np.subtract(6.339331521022981, -6.0130874295873005), np.cosh(-3.3017010520480383)))))\n"
     ]
    },
    {
     "name": "stderr",
     "output_type": "stream",
     "text": [
      " 46%|████▌     | 2301/5000 [07:51<09:48,  4.59it/s]"
     ]
    },
    {
     "name": "stdout",
     "output_type": "stream",
     "text": [
      "Generation 2301, Island: 0, Best Fitness: 1.757102196888715e-19, Best Formula: np.divide(np.multiply(np.power(np.add(np.power(1.6954556673701493, 1.9921284958988057), np.add(-1.9914942222256649, 1.9921284958988057)), np.subtract(np.add(x[0], 5.786196555702723), 7.5996626326082435)), np.multiply(np.subtract(np.multiply(5.786196555702723, x[0]), np.subtract(7.5996626326082435, x[1])), np.divide(np.power(x[1], x[0]), -5.578119530834902))), np.cosh(np.multiply(np.add(np.add(x[0], 5.785809614434498), 7.5630240174936), 1.6954556673701493)))\n",
      "Generation 2301, Island: 1, Best Fitness: 3.7770188064098945e-20, Best Formula: np.divide(np.multiply(np.cosh(x[1]), np.divide(np.subtract(np.cosh(x[0]), np.multiply(4.352752599679338, 0.689121648597661)), -3.6660127670910736)), np.multiply(np.multiply(np.add(6.074418048254223, np.subtract(4.352752599679338, 0.689121648597661)), np.subtract(6.5831351493086, x[1])), np.multiply(np.cosh(np.cosh(-3.6660127670910736)), np.cosh(-3.6660127670910736))))\n",
      "Generation 2301, Island: 2, Best Fitness: 1.2134017651888745e-20, Best Formula: np.multiply(np.multiply(np.power(np.cosh(8.525437292860964), -3.407060898991734), np.subtract(np.power(4.18958630424536, np.subtract(3.017249747918303, x[1])), np.add(np.power(0.344798692612013, 3.955395857452766), 3.9018695597864657))), np.power(x[0], x[1]))\n",
      "Generation 2301, Island: 3, Best Fitness: 3.0577261295333506e-18, Best Formula: np.subtract(np.multiply(np.multiply(np.multiply(np.subtract(9.802451792929677, -6.050618503176799), np.multiply(6.953563481765631, -7.123970407967047)), np.subtract(np.cosh(x[0]), np.cosh(-6.0130874295873005))), np.divide(np.multiply(-9.912446745962434, np.subtract(x[0], 8.642289806326847)), np.power(np.subtract(6.884981001324427, -7.123970407967047), np.cosh(-3.3017010520480383)))), np.subtract(np.divide(np.subtract(np.divide(-9.912446745962434, 6.339331521022981), np.divide(6.953563481765631, -9.912446745962434)), np.multiply(np.add(-7.123970407967047, x[1]), np.power(6.339331521022981, 9.802451792929677))), np.divide(np.subtract(np.cosh(-9.912446745962434), np.power(x[0], 8.642289806326847)), np.power(np.subtract(6.339331521022981, -6.0130874295873005), np.cosh(-3.3017010520480383)))))\n"
     ]
    },
    {
     "name": "stderr",
     "output_type": "stream",
     "text": [
      " 47%|████▋     | 2337/5000 [07:59<09:58,  4.45it/s]"
     ]
    },
    {
     "name": "stdout",
     "output_type": "stream",
     "text": [
      "Migration at 2337 gen from 1 to 2\n"
     ]
    },
    {
     "name": "stderr",
     "output_type": "stream",
     "text": [
      " 48%|████▊     | 2401/5000 [08:14<09:24,  4.60it/s]"
     ]
    },
    {
     "name": "stdout",
     "output_type": "stream",
     "text": [
      "Generation 2401, Island: 0, Best Fitness: 7.706351911902532e-20, Best Formula: np.divide(np.multiply(np.power(np.add(np.power(1.6954556673701493, 1.9921284958988057), np.power(7.5996626326082435, -8.781588690802547)), np.subtract(np.add(x[0], 5.785809614434498), 7.5996626326082435)), np.multiply(np.subtract(np.multiply(5.786196555702723, x[0]), np.subtract(7.5996626326082435, x[1])), np.divide(np.power(x[1], x[0]), np.add(-9.710435379939078, x[1])))), np.cosh(np.multiply(np.add(np.add(x[0], 5.786196555702723), 7.5996626326082435), 1.6954556673701493)))\n",
      "Generation 2401, Island: 1, Best Fitness: 3.2192559552205487e-20, Best Formula: np.divide(np.multiply(np.cosh(x[1]), np.divide(np.subtract(np.cosh(x[0]), np.subtract(8.30742003860729, x[1])), -3.6660127670910736)), np.multiply(np.multiply(np.add(5.9555591677445285, np.subtract(8.30742003860729, x[1])), np.subtract(6.5831351493086, x[1])), np.multiply(np.cosh(np.cosh(-3.6660127670910736)), np.cosh(-3.6660127670910736))))\n",
      "Generation 2401, Island: 2, Best Fitness: 1.2134017651888745e-20, Best Formula: np.multiply(np.multiply(np.power(np.cosh(8.525437292860964), -3.407060898991734), np.subtract(np.power(4.18958630424536, np.subtract(3.017249747918303, x[1])), np.add(np.power(0.344798692612013, 3.955395857452766), 3.9018695597864657))), np.power(x[0], x[1]))\n",
      "Generation 2401, Island: 3, Best Fitness: 3.0573441226013638e-18, Best Formula: np.subtract(np.multiply(np.multiply(np.multiply(np.subtract(9.899508764825363, -6.050618503176799), np.multiply(6.953563481765631, -7.123970407967047)), np.subtract(np.cosh(x[0]), np.cosh(-6.0130874295873005))), np.divide(np.multiply(-9.912446745962434, np.subtract(x[0], 8.642289806326847)), np.power(np.subtract(6.884981001324427, -7.123970407967047), np.cosh(-3.3017010520480383)))), np.subtract(np.divide(np.subtract(np.divide(-9.912446745962434, 6.339331521022981), np.divide(6.953563481765631, -9.912446745962434)), np.multiply(np.add(-7.123970407967047, x[1]), np.power(6.339331521022981, 9.802451792929677))), np.divide(np.subtract(np.cosh(-9.912446745962434), np.power(x[0], 8.642289806326847)), np.power(np.subtract(6.339331521022981, -6.0130874295873005), np.cosh(-3.3017010520480383)))))\n"
     ]
    },
    {
     "name": "stderr",
     "output_type": "stream",
     "text": [
      " 50%|█████     | 2500/5000 [08:36<09:15,  4.50it/s]"
     ]
    },
    {
     "name": "stdout",
     "output_type": "stream",
     "text": [
      "Generation 2501, Island: 0, Best Fitness: 7.696132360416672e-20, Best Formula: np.divide(np.multiply(np.power(np.subtract(np.power(1.6954556673701493, 1.9921284958988057), np.power(1.7841552507319172, -8.781588690802547)), np.subtract(np.add(x[0], 5.786196555702723), 7.5996626326082435)), np.multiply(np.subtract(np.multiply(5.785809614434498, x[0]), np.subtract(7.5996626326082435, x[1])), np.divide(np.power(x[1], x[0]), np.add(-9.710435379939078, x[1])))), np.cosh(np.multiply(np.add(np.add(x[0], 5.786196555702723), 7.5996626326082435), 1.6954556673701493)))\n",
      "Generation 2501, Island: 1, Best Fitness: 3.2129370459294e-20, Best Formula: np.divide(np.multiply(np.cosh(x[1]), np.divide(np.subtract(np.cosh(x[0]), np.subtract(8.30742003860729, x[1])), -3.6660127670910736)), np.multiply(np.multiply(np.add(6.014722207252351, np.subtract(8.30742003860729, x[1])), np.subtract(6.5831351493086, x[1])), np.multiply(np.cosh(np.cosh(-3.6660127670910736)), np.cosh(-3.6660127670910736))))\n",
      "Generation 2501, Island: 2, Best Fitness: 1.2134017651888745e-20, Best Formula: np.multiply(np.multiply(np.power(np.cosh(8.525437292860964), -3.407060898991734), np.subtract(np.power(4.18958630424536, np.subtract(3.017249747918303, x[1])), np.add(np.power(0.344798692612013, 3.955395857452766), 3.9018695597864657))), np.power(x[0], x[1]))\n"
     ]
    },
    {
     "name": "stderr",
     "output_type": "stream",
     "text": [
      " 50%|█████     | 2501/5000 [08:36<10:26,  3.99it/s]"
     ]
    },
    {
     "name": "stdout",
     "output_type": "stream",
     "text": [
      "Generation 2501, Island: 3, Best Fitness: 2.8887176803039754e-18, Best Formula: np.subtract(np.multiply(np.multiply(np.multiply(np.cosh(-3.3017010520480383), np.multiply(6.953563481765631, -7.123970407967047)), np.subtract(np.cosh(x[0]), np.cosh(-6.050618503176799))), np.divide(np.multiply(np.subtract(-8.77559895989544, x[1]), np.subtract(x[0], 8.642289806326847)), np.power(np.subtract(6.884981001324427, -7.123970407967047), np.cosh(-3.3017010520480383)))), np.subtract(np.divide(np.subtract(np.divide(-9.912446745962434, 6.339331521022981), np.divide(6.953563481765631, -9.912446745962434)), np.multiply(np.add(-7.123970407967047, x[1]), np.power(6.339331521022981, 9.802451792929677))), np.divide(np.subtract(np.cosh(9.802451792929677), np.power(x[0], 8.642289806326847)), np.power(np.subtract(6.075705919555482, -6.0130874295873005), np.cosh(-3.3017010520480383)))))\n"
     ]
    },
    {
     "name": "stderr",
     "output_type": "stream",
     "text": [
      " 52%|█████▏    | 2600/5000 [08:58<08:27,  4.73it/s]"
     ]
    },
    {
     "name": "stdout",
     "output_type": "stream",
     "text": [
      "Generation 2601, Island: 0, Best Fitness: 7.69532653708507e-20, Best Formula: np.divide(np.multiply(np.power(np.subtract(np.power(1.6954556673701493, 1.9921284958988057), np.power(2.874367536103378, -5.122394391013403)), np.subtract(np.add(x[0], 5.785809614434498), 7.5996626326082435)), np.multiply(np.subtract(np.multiply(5.785809614434498, x[0]), np.subtract(7.5996626326082435, x[1])), np.divide(np.power(x[1], x[0]), np.add(-9.710435379939078, x[1])))), np.cosh(np.multiply(np.add(np.add(x[0], 5.786196555702723), 7.5996626326082435), 1.6954556673701493)))\n",
      "Generation 2601, Island: 1, Best Fitness: 3.032228255446744e-20, Best Formula: np.divide(np.multiply(np.cosh(x[1]), np.divide(np.subtract(np.cosh(x[0]), 3.1276601226630376), -3.6660127670910736)), np.multiply(np.multiply(np.add(6.014722207252351, np.subtract(8.30742003860729, x[1])), np.subtract(6.5831351493086, x[1])), np.multiply(np.cosh(np.cosh(-3.6660127670910736)), np.cosh(-3.6660127670910736))))\n",
      "Generation 2601, Island: 2, Best Fitness: 1.2134017651888745e-20, Best Formula: np.multiply(np.multiply(np.power(np.cosh(8.525437292860964), -3.407060898991734), np.subtract(np.power(4.18958630424536, np.subtract(3.017249747918303, x[1])), np.add(np.power(0.344798692612013, 3.955395857452766), 3.9018695597864657))), np.power(x[0], x[1]))\n",
      "Generation 2601, Island: 3, Best Fitness: 2.862326814180311e-18, Best Formula: np.subtract(np.multiply(np.multiply(np.multiply(np.subtract(6.884981001324427, -7.123970407967047), np.multiply(6.953563481765631, -7.123970407967047)), np.subtract(np.cosh(x[0]), np.cosh(6.075705919555482))), np.divide(np.multiply(np.subtract(-8.77559895989544, x[1]), np.subtract(x[0], 8.642289806326847)), np.power(np.subtract(6.884981001324427, -7.123970407967047), np.cosh(-3.3017010520480383)))), np.subtract(np.divide(np.subtract(np.divide(-9.912446745962434, 6.339331521022981), np.divide(6.339331521022981, -9.912446745962434)), np.multiply(np.add(-7.123970407967047, x[1]), np.power(6.339331521022981, 9.802451792929677))), np.divide(np.subtract(np.cosh(-9.912446745962434), np.power(x[0], 8.642289806326847)), np.power(np.subtract(6.339331521022981, -6.0130874295873005), np.cosh(-3.3017010520480383)))))\n"
     ]
    },
    {
     "name": "stderr",
     "output_type": "stream",
     "text": [
      " 54%|█████▍    | 2700/5000 [09:22<07:20,  5.22it/s]"
     ]
    },
    {
     "name": "stdout",
     "output_type": "stream",
     "text": [
      "Generation 2701, Island: 0, Best Fitness: 7.69532653708507e-20, Best Formula: np.divide(np.multiply(np.power(np.subtract(np.power(1.6954556673701493, 1.9921284958988057), np.power(2.874367536103378, -5.122394391013403)), np.subtract(np.add(x[0], 5.785809614434498), 7.5996626326082435)), np.multiply(np.subtract(np.multiply(5.785809614434498, x[0]), np.subtract(7.5996626326082435, x[1])), np.divide(np.power(x[1], x[0]), np.add(-9.710435379939078, x[1])))), np.cosh(np.multiply(np.add(np.add(x[0], 5.786196555702723), 7.5996626326082435), 1.6954556673701493)))\n",
      "Generation 2701, Island: 1, Best Fitness: 3.006963029840987e-20, Best Formula: np.divide(np.multiply(np.cosh(x[1]), np.divide(np.subtract(np.cosh(x[0]), 3.1276601226630376), -3.6660127670910736)), np.multiply(np.multiply(np.add(6.014722207252351, np.subtract(8.3335005192693, x[1])), np.subtract(6.5831351493086, x[1])), np.multiply(np.cosh(np.cosh(-3.6660127670910736)), np.cosh(-3.6660127670910736))))\n",
      "Generation 2701, Island: 2, Best Fitness: 1.2134017651888745e-20, Best Formula: np.multiply(np.multiply(np.power(np.cosh(8.525437292860964), -3.407060898991734), np.subtract(np.power(4.18958630424536, np.subtract(3.017249747918303, x[1])), np.add(np.power(0.344798692612013, 3.955395857452766), 3.9018695597864657))), np.power(x[0], x[1]))\n"
     ]
    },
    {
     "name": "stderr",
     "output_type": "stream",
     "text": [
      " 54%|█████▍    | 2701/5000 [09:23<09:18,  4.11it/s]"
     ]
    },
    {
     "name": "stdout",
     "output_type": "stream",
     "text": [
      "Generation 2701, Island: 3, Best Fitness: 2.8563276949513508e-18, Best Formula: np.subtract(np.multiply(np.multiply(np.multiply(np.subtract(6.953563481765631, -7.123970407967047), np.multiply(7.067952006815354, -7.123970407967047)), np.subtract(np.cosh(x[0]), np.cosh(6.075705919555482))), np.divide(np.multiply(np.subtract(-8.77559895989544, x[1]), np.subtract(x[0], 8.642289806326847)), np.power(np.subtract(6.884981001324427, -7.123970407967047), np.cosh(-3.3017010520480383)))), np.subtract(np.divide(np.subtract(np.divide(-9.912446745962434, 6.339331521022981), np.divide(6.339331521022981, -9.912446745962434)), np.multiply(np.add(-7.123970407967047, x[1]), np.power(6.339331521022981, 9.802451792929677))), np.divide(np.subtract(np.cosh(-9.912446745962434), np.power(x[0], 8.642289806326847)), np.power(np.subtract(6.255668842759945, -6.0130874295873005), np.cosh(-3.3017010520480383)))))\n"
     ]
    },
    {
     "name": "stderr",
     "output_type": "stream",
     "text": [
      " 56%|█████▌    | 2800/5000 [09:45<08:24,  4.36it/s]"
     ]
    },
    {
     "name": "stdout",
     "output_type": "stream",
     "text": [
      "Generation 2801, Island: 0, Best Fitness: 7.69532653708507e-20, Best Formula: np.divide(np.multiply(np.power(np.subtract(np.power(1.6954556673701493, 1.9921284958988057), np.power(2.874367536103378, -5.122394391013403)), np.subtract(np.add(x[0], 5.785809614434498), 7.5996626326082435)), np.multiply(np.subtract(np.multiply(5.785809614434498, x[0]), np.subtract(7.5996626326082435, x[1])), np.divide(np.power(x[1], x[0]), np.add(-9.710435379939078, x[1])))), np.cosh(np.multiply(np.add(np.add(x[0], 5.786196555702723), 7.5996626326082435), 1.6954556673701493)))\n",
      "Generation 2801, Island: 1, Best Fitness: 2.9914126395139356e-20, Best Formula: np.divide(np.multiply(np.cosh(x[1]), np.divide(np.subtract(np.cosh(x[0]), 3.095563500300269), -3.6660127670910736)), np.multiply(np.multiply(np.add(6.014722207252351, np.subtract(8.466142058458782, x[1])), np.subtract(6.5831351493086, x[1])), np.multiply(np.cosh(np.cosh(-3.6660127670910736)), np.cosh(-3.6660127670910736))))\n",
      "Generation 2801, Island: 2, Best Fitness: 1.2134017651888745e-20, Best Formula: np.multiply(np.multiply(np.power(np.cosh(8.525437292860964), -3.407060898991734), np.subtract(np.power(4.18958630424536, np.subtract(3.017249747918303, x[1])), np.add(np.power(0.344798692612013, 3.955395857452766), 3.9018695597864657))), np.power(x[0], x[1]))\n",
      "Generation 2801, Island: 3, Best Fitness: 2.844334321555161e-18, Best Formula: np.subtract(np.multiply(np.multiply(np.multiply(np.subtract(6.953563481765631, -7.123970407967047), np.multiply(7.067952006815354, -7.379968010675624)), np.subtract(np.cosh(x[0]), np.cosh(6.075705919555482))), np.divide(np.multiply(np.subtract(-8.77559895989544, x[1]), np.subtract(x[0], 8.642289806326847)), np.power(np.subtract(6.884981001324427, -7.123970407967047), np.cosh(-3.3017010520480383)))), np.subtract(np.divide(np.subtract(np.divide(-9.912446745962434, 6.339331521022981), np.divide(6.075705919555482, -9.912446745962434)), np.multiply(np.add(-7.123970407967047, x[1]), np.power(6.339331521022981, 9.802451792929677))), np.divide(np.subtract(np.cosh(9.802451792929677), np.power(x[0], 8.642289806326847)), np.power(np.subtract(6.255668842759945, -6.0130874295873005), np.cosh(-3.3017010520480383)))))\n"
     ]
    },
    {
     "name": "stderr",
     "output_type": "stream",
     "text": [
      " 58%|█████▊    | 2901/5000 [10:11<08:00,  4.37it/s]"
     ]
    },
    {
     "name": "stdout",
     "output_type": "stream",
     "text": [
      "Generation 2901, Island: 0, Best Fitness: 7.69532653708507e-20, Best Formula: np.divide(np.multiply(np.power(np.subtract(np.power(1.6954556673701493, 1.9921284958988057), np.power(2.874367536103378, -5.122394391013403)), np.subtract(np.add(x[0], 5.785809614434498), 7.5996626326082435)), np.multiply(np.subtract(np.multiply(5.785809614434498, x[0]), np.subtract(7.5996626326082435, x[1])), np.divide(np.power(x[1], x[0]), np.add(-9.710435379939078, x[1])))), np.cosh(np.multiply(np.add(np.add(x[0], 5.786196555702723), 7.5996626326082435), 1.6954556673701493)))\n",
      "Generation 2901, Island: 1, Best Fitness: 2.9556553271395323e-20, Best Formula: np.divide(np.multiply(np.cosh(x[1]), np.divide(np.subtract(np.cosh(x[0]), np.subtract(7.8952265931785135, x[1])), -3.6660127670910736)), np.multiply(np.multiply(np.add(6.014722207252351, np.subtract(8.313200590722197, x[1])), np.subtract(6.5831351493086, x[1])), np.multiply(np.cosh(np.cosh(-3.6660127670910736)), np.cosh(-3.6660127670910736))))\n",
      "Generation 2901, Island: 2, Best Fitness: 1.2133955004606223e-20, Best Formula: np.multiply(np.multiply(np.power(np.cosh(8.525437292860964), -3.407060898991734), np.subtract(np.power(4.18958630424536, np.subtract(3.017249747918303, x[1])), np.add(np.power(0.3589120188241157, 4.08708788497567), 3.9018695597864657))), np.power(x[0], x[1]))\n",
      "Generation 2901, Island: 3, Best Fitness: 2.835926452510627e-18, Best Formula: np.subtract(np.multiply(np.multiply(np.multiply(np.subtract(7.235048370311773, -7.123970407967047), np.multiply(7.067952006815354, -7.379968010675624)), np.subtract(np.cosh(x[0]), np.cosh(6.075705919555482))), np.divide(np.multiply(np.subtract(-8.77559895989544, x[1]), np.subtract(x[0], 8.642289806326847)), np.power(np.subtract(6.884981001324427, -7.123970407967047), np.cosh(-3.3017010520480383)))), np.subtract(np.divide(np.subtract(np.divide(-9.912446745962434, 6.247821987076279), np.divide(6.075705919555482, -9.912446745962434)), np.multiply(np.add(-7.123970407967047, x[1]), np.power(6.339331521022981, 9.802451792929677))), np.divide(np.subtract(np.cosh(9.802451792929677), np.power(x[0], 8.642289806326847)), np.power(np.subtract(6.255668842759945, -6.0130874295873005), np.cosh(-3.3017010520480383)))))\n"
     ]
    },
    {
     "name": "stderr",
     "output_type": "stream",
     "text": [
      " 60%|██████    | 3001/5000 [10:36<07:40,  4.34it/s]"
     ]
    },
    {
     "name": "stdout",
     "output_type": "stream",
     "text": [
      "Generation 3001, Island: 0, Best Fitness: 7.69532653708507e-20, Best Formula: np.divide(np.multiply(np.power(np.subtract(np.power(1.6954556673701493, 1.9921284958988057), np.power(2.874367536103378, -5.122394391013403)), np.subtract(np.add(x[0], 5.785809614434498), 7.5996626326082435)), np.multiply(np.subtract(np.multiply(5.785809614434498, x[0]), np.subtract(7.5996626326082435, x[1])), np.divide(np.power(x[1], x[0]), np.add(-9.710435379939078, x[1])))), np.cosh(np.multiply(np.add(np.add(x[0], 5.786196555702723), 7.5996626326082435), 1.6954556673701493)))\n",
      "Generation 3001, Island: 1, Best Fitness: 2.9556553271395323e-20, Best Formula: np.divide(np.multiply(np.cosh(x[1]), np.divide(np.subtract(np.cosh(x[0]), np.subtract(7.8952265931785135, x[1])), -3.6660127670910736)), np.multiply(np.multiply(np.add(6.014722207252351, np.subtract(8.313200590722197, x[1])), np.subtract(6.5831351493086, x[1])), np.multiply(np.cosh(np.cosh(-3.6660127670910736)), np.cosh(-3.6660127670910736))))\n",
      "Generation 3001, Island: 2, Best Fitness: 1.2133955004606223e-20, Best Formula: np.multiply(np.multiply(np.power(np.cosh(8.525437292860964), -3.407060898991734), np.subtract(np.power(4.18958630424536, np.subtract(3.017249747918303, x[1])), np.add(np.power(0.3589120188241157, 4.08708788497567), 3.9018695597864657))), np.power(x[0], x[1]))\n",
      "Generation 3001, Island: 3, Best Fitness: 2.8356530220041326e-18, Best Formula: np.subtract(np.multiply(np.multiply(np.multiply(np.subtract(7.235048370311773, -7.123970407967047), np.multiply(7.067952006815354, -7.379968010675624)), np.subtract(np.cosh(x[0]), np.cosh(6.075705919555482))), np.divide(np.multiply(np.subtract(-8.77559895989544, x[1]), np.subtract(x[0], 8.642289806326847)), np.power(np.subtract(6.884981001324427, -7.123970407967047), np.cosh(-3.3017010520480383)))), np.subtract(np.divide(np.subtract(np.divide(-9.912446745962434, 6.247821987076279), np.divide(6.075705919555482, -9.912446745962434)), np.multiply(np.add(-7.123970407967047, x[1]), np.power(6.339331521022981, 9.802451792929677))), np.divide(np.subtract(np.cosh(-9.912446745962434), np.power(x[0], 8.609954362864695)), np.power(np.subtract(6.247821987076279, -6.0130874295873005), np.cosh(-3.3017010520480383)))))\n"
     ]
    },
    {
     "name": "stderr",
     "output_type": "stream",
     "text": [
      " 62%|██████▏   | 3101/5000 [10:58<06:22,  4.96it/s]"
     ]
    },
    {
     "name": "stdout",
     "output_type": "stream",
     "text": [
      "Generation 3101, Island: 0, Best Fitness: 7.69532653708507e-20, Best Formula: np.divide(np.multiply(np.power(np.subtract(np.power(1.6954556673701493, 1.9921284958988057), np.power(2.874367536103378, -5.122394391013403)), np.subtract(np.add(x[0], 5.785809614434498), 7.5996626326082435)), np.multiply(np.subtract(np.multiply(5.785809614434498, x[0]), np.subtract(7.5996626326082435, x[1])), np.divide(np.power(x[1], x[0]), np.add(-9.710435379939078, x[1])))), np.cosh(np.multiply(np.add(np.add(x[0], 5.786196555702723), 7.5996626326082435), 1.6954556673701493)))\n",
      "Generation 3101, Island: 1, Best Fitness: 2.922278714912374e-20, Best Formula: np.divide(np.multiply(np.cosh(x[1]), np.divide(np.subtract(np.cosh(x[0]), np.subtract(7.512164842352501, x[1])), -3.6660127670910736)), np.multiply(np.multiply(np.add(6.014722207252351, np.subtract(8.466142058458782, x[1])), np.subtract(6.5831351493086, x[1])), np.multiply(np.cosh(np.cosh(-3.6660127670910736)), np.cosh(-3.6660127670910736))))\n",
      "Generation 3101, Island: 2, Best Fitness: 1.2133955004606223e-20, Best Formula: np.multiply(np.multiply(np.power(np.cosh(8.525437292860964), -3.407060898991734), np.subtract(np.power(4.18958630424536, np.subtract(3.017249747918303, x[1])), np.add(np.power(0.3589120188241157, 4.08708788497567), 3.9018695597864657))), np.power(x[0], x[1]))\n",
      "Generation 3101, Island: 3, Best Fitness: 2.8236866224970337e-18, Best Formula: np.subtract(np.multiply(np.multiply(np.multiply(np.subtract(7.235048370311773, -7.379968010675624), np.multiply(7.235048370311773, -7.379968010675624)), np.subtract(np.cosh(x[0]), np.cosh(6.075705919555482))), np.divide(np.multiply(np.subtract(-8.77559895989544, x[1]), np.subtract(x[0], 8.642289806326847)), np.power(np.subtract(6.884981001324427, -7.123970407967047), np.cosh(-3.3017010520480383)))), np.subtract(np.divide(np.subtract(np.divide(-9.912446745962434, 6.075705919555482), np.divide(6.075705919555482, -9.912446745962434)), np.multiply(np.add(-7.123970407967047, x[1]), np.power(6.339331521022981, 9.802451792929677))), np.divide(np.subtract(np.cosh(-9.912446745962434), np.power(x[0], 8.609954362864695)), np.power(np.subtract(6.247821987076279, -6.0130874295873005), np.cosh(-3.3017010520480383)))))\n"
     ]
    },
    {
     "name": "stderr",
     "output_type": "stream",
     "text": [
      " 64%|██████▍   | 3201/5000 [11:21<06:05,  4.93it/s]"
     ]
    },
    {
     "name": "stdout",
     "output_type": "stream",
     "text": [
      "Generation 3201, Island: 0, Best Fitness: 7.69532653708507e-20, Best Formula: np.divide(np.multiply(np.power(np.subtract(np.power(1.6954556673701493, 1.9921284958988057), np.power(2.874367536103378, -5.122394391013403)), np.subtract(np.add(x[0], 5.785809614434498), 7.5996626326082435)), np.multiply(np.subtract(np.multiply(5.785809614434498, x[0]), np.subtract(7.5996626326082435, x[1])), np.divide(np.power(x[1], x[0]), np.add(-9.710435379939078, x[1])))), np.cosh(np.multiply(np.add(np.add(x[0], 5.786196555702723), 7.5996626326082435), 1.6954556673701493)))\n",
      "Generation 3201, Island: 1, Best Fitness: 2.921577001274157e-20, Best Formula: np.divide(np.multiply(np.cosh(x[1]), np.divide(np.subtract(np.cosh(x[0]), np.subtract(7.512164842352501, x[1])), -3.6660127670910736)), np.multiply(np.multiply(np.add(np.cosh(2.483218482274964), np.subtract(8.466142058458782, x[1])), np.subtract(6.5831351493086, x[1])), np.multiply(np.cosh(np.cosh(-3.6660127670910736)), np.cosh(-3.6660127670910736))))\n",
      "Migration at 3200 gen from 2 to 1\n",
      "Generation 3201, Island: 2, Best Fitness: 1.2133955004606223e-20, Best Formula: np.multiply(np.multiply(np.power(np.cosh(8.525437292860964), -3.407060898991734), np.subtract(np.power(4.18958630424536, np.subtract(3.017249747918303, x[1])), np.add(np.power(0.3589120188241157, 4.08708788497567), 3.9018695597864657))), np.power(x[0], x[1]))\n",
      "Generation 3201, Island: 3, Best Fitness: 2.8224402255720686e-18, Best Formula: np.subtract(np.multiply(np.multiply(np.multiply(np.subtract(7.235048370311773, -7.379968010675624), np.multiply(7.235048370311773, -7.379968010675624)), np.subtract(np.cosh(x[0]), np.cosh(6.075705919555482))), np.divide(np.multiply(np.subtract(-8.77559895989544, x[1]), np.subtract(x[0], 8.642289806326847)), np.power(np.subtract(6.884981001324427, -7.123970407967047), np.cosh(-3.3017010520480383)))), np.subtract(np.divide(np.subtract(np.divide(-9.912446745962434, 6.075705919555482), np.divide(6.075705919555482, -9.912446745962434)), np.multiply(np.add(-7.123970407967047, x[1]), np.power(6.339331521022981, 9.802451792929677))), np.divide(np.subtract(np.cosh(-9.912446745962434), np.power(x[0], 8.609954362864695)), np.power(np.subtract(6.339331521022981, -6.0130874295873005), np.cosh(-3.3017010520480383)))))\n"
     ]
    },
    {
     "name": "stderr",
     "output_type": "stream",
     "text": [
      " 65%|██████▍   | 3235/5000 [11:29<06:39,  4.41it/s]"
     ]
    },
    {
     "name": "stdout",
     "output_type": "stream",
     "text": [
      "Migration at 3234 gen from 3 to 1\n"
     ]
    },
    {
     "name": "stderr",
     "output_type": "stream",
     "text": [
      " 66%|██████▌   | 3301/5000 [11:44<06:41,  4.23it/s]"
     ]
    },
    {
     "name": "stdout",
     "output_type": "stream",
     "text": [
      "Generation 3301, Island: 0, Best Fitness: 7.69532653708507e-20, Best Formula: np.divide(np.multiply(np.power(np.subtract(np.power(1.6954556673701493, 1.9921284958988057), np.power(2.874367536103378, -5.122394391013403)), np.subtract(np.add(x[0], 5.785809614434498), 7.5996626326082435)), np.multiply(np.subtract(np.multiply(5.785809614434498, x[0]), np.subtract(7.5996626326082435, x[1])), np.divide(np.power(x[1], x[0]), np.add(-9.710435379939078, x[1])))), np.cosh(np.multiply(np.add(np.add(x[0], 5.786196555702723), 7.5996626326082435), 1.6954556673701493)))\n",
      "Generation 3301, Island: 1, Best Fitness: 1.2134879119088613e-20, Best Formula: np.multiply(np.multiply(np.power(np.cosh(8.525437292860964), -3.407060898991734), np.subtract(np.power(4.18958630424536, np.subtract(3.017249747918303, x[1])), np.add(np.power(0.3589120188241157, 4.18958630424536), 3.9018695597864657))), np.power(x[0], x[1]))\n",
      "Generation 3301, Island: 2, Best Fitness: 1.2133955004606223e-20, Best Formula: np.multiply(np.multiply(np.power(np.cosh(8.525437292860964), -3.407060898991734), np.subtract(np.power(4.18958630424536, np.subtract(3.017249747918303, x[1])), np.add(np.power(0.3589120188241157, 4.08708788497567), 3.9018695597864657))), np.power(x[0], x[1]))\n",
      "Generation 3301, Island: 3, Best Fitness: 2.8034297541545716e-18, Best Formula: np.subtract(np.multiply(np.multiply(np.multiply(np.subtract(7.235048370311773, -7.379968010675624), np.multiply(7.235048370311773, -7.379968010675624)), np.subtract(np.cosh(x[0]), np.cosh(6.075705919555482))), np.divide(np.multiply(np.subtract(-9.099992354368071, x[1]), np.subtract(x[0], 8.642289806326847)), np.power(np.subtract(6.884981001324427, -7.123970407967047), np.cosh(-3.3017010520480383)))), np.subtract(np.divide(np.subtract(np.divide(-9.912446745962434, 6.075705919555482), np.divide(6.075705919555482, -9.912446745962434)), np.multiply(np.add(-7.022053682231986, x[1]), np.power(6.339331521022981, 9.802451792929677))), np.divide(np.subtract(np.cosh(-9.912446745962434), np.power(x[0], 8.609954362864695)), np.power(np.subtract(6.339331521022981, -6.0130874295873005), np.cosh(-3.3017010520480383)))))\n"
     ]
    },
    {
     "name": "stderr",
     "output_type": "stream",
     "text": [
      " 68%|██████▊   | 3401/5000 [12:08<05:48,  4.59it/s]"
     ]
    },
    {
     "name": "stdout",
     "output_type": "stream",
     "text": [
      "Generation 3401, Island: 0, Best Fitness: 7.69532653708507e-20, Best Formula: np.divide(np.multiply(np.power(np.subtract(np.power(1.6954556673701493, 1.9921284958988057), np.power(2.874367536103378, -5.122394391013403)), np.subtract(np.add(x[0], 5.785809614434498), 7.5996626326082435)), np.multiply(np.subtract(np.multiply(5.785809614434498, x[0]), np.subtract(7.5996626326082435, x[1])), np.divide(np.power(x[1], x[0]), np.add(-9.710435379939078, x[1])))), np.cosh(np.multiply(np.add(np.add(x[0], 5.786196555702723), 7.5996626326082435), 1.6954556673701493)))\n",
      "Generation 3401, Island: 1, Best Fitness: 1.2134879119088613e-20, Best Formula: np.multiply(np.multiply(np.power(np.cosh(8.525437292860964), -3.407060898991734), np.subtract(np.power(4.18958630424536, np.subtract(3.017249747918303, x[1])), np.add(np.power(0.3589120188241157, 4.18958630424536), 3.9018695597864657))), np.power(x[0], x[1]))\n",
      "Generation 3401, Island: 2, Best Fitness: 1.21339539574586e-20, Best Formula: np.multiply(np.multiply(np.power(np.cosh(8.525437292860964), -3.407060898991734), np.subtract(np.power(4.18958630424536, np.subtract(3.017249747918303, x[1])), np.add(np.power(0.3589120188241157, 4.082241235097801), 3.9018695597864657))), np.power(x[0], x[1]))\n",
      "Generation 3401, Island: 3, Best Fitness: 2.8034297541545716e-18, Best Formula: np.subtract(np.multiply(np.multiply(np.multiply(np.subtract(7.235048370311773, -7.379968010675624), np.multiply(7.235048370311773, -7.379968010675624)), np.subtract(np.cosh(x[0]), np.cosh(6.075705919555482))), np.divide(np.multiply(np.subtract(-9.099992354368071, x[1]), np.subtract(x[0], 8.642289806326847)), np.power(np.subtract(6.884981001324427, -7.123970407967047), np.cosh(-3.3017010520480383)))), np.subtract(np.divide(np.subtract(np.divide(-9.912446745962434, 6.075705919555482), np.divide(6.075705919555482, -9.912446745962434)), np.multiply(np.add(-7.022053682231986, x[1]), np.power(6.339331521022981, 9.802451792929677))), np.divide(np.subtract(np.cosh(-9.912446745962434), np.power(x[0], 8.609954362864695)), np.power(np.subtract(6.339331521022981, -6.0130874295873005), np.cosh(-3.3017010520480383)))))\n"
     ]
    },
    {
     "name": "stderr",
     "output_type": "stream",
     "text": [
      " 69%|██████▉   | 3472/5000 [12:24<05:36,  4.55it/s]"
     ]
    },
    {
     "name": "stdout",
     "output_type": "stream",
     "text": [
      "Migration at 3471 gen from 1 to 0\n"
     ]
    },
    {
     "name": "stderr",
     "output_type": "stream",
     "text": [
      " 70%|██████▉   | 3479/5000 [12:26<05:48,  4.36it/s]"
     ]
    },
    {
     "name": "stdout",
     "output_type": "stream",
     "text": [
      "Migration at 3478 gen from 1 to 2\n"
     ]
    },
    {
     "name": "stderr",
     "output_type": "stream",
     "text": [
      " 70%|███████   | 3501/5000 [12:30<05:04,  4.92it/s]"
     ]
    },
    {
     "name": "stdout",
     "output_type": "stream",
     "text": [
      "Generation 3501, Island: 0, Best Fitness: 1.2135662303503022e-20, Best Formula: np.multiply(np.multiply(np.power(np.cosh(8.525437292860964), -3.407060898991734), np.subtract(np.power(4.222553891915844, np.subtract(3.017249747918303, x[1])), np.add(np.power(0.3589120188241157, 4.222553891915844), 3.9018695597864657))), np.power(x[0], x[1]))\n",
      "Generation 3501, Island: 1, Best Fitness: 1.2134879119088613e-20, Best Formula: np.multiply(np.multiply(np.power(np.cosh(8.525437292860964), -3.407060898991734), np.subtract(np.power(4.18958630424536, np.subtract(3.017249747918303, x[1])), np.add(np.power(0.3589120188241157, 4.18958630424536), 3.9018695597864657))), np.power(x[0], x[1]))\n",
      "Generation 3501, Island: 2, Best Fitness: 1.21339539574586e-20, Best Formula: np.multiply(np.multiply(np.power(np.cosh(8.525437292860964), -3.407060898991734), np.subtract(np.power(4.18958630424536, np.subtract(3.017249747918303, x[1])), np.add(np.power(0.3589120188241157, 4.082241235097801), 3.9018695597864657))), np.power(x[0], x[1]))\n",
      "Generation 3501, Island: 3, Best Fitness: 2.8034297541545716e-18, Best Formula: np.subtract(np.multiply(np.multiply(np.multiply(np.subtract(7.235048370311773, -7.379968010675624), np.multiply(7.235048370311773, -7.379968010675624)), np.subtract(np.cosh(x[0]), np.cosh(6.075705919555482))), np.divide(np.multiply(np.subtract(-9.099992354368071, x[1]), np.subtract(x[0], 8.642289806326847)), np.power(np.subtract(6.884981001324427, -7.123970407967047), np.cosh(-3.3017010520480383)))), np.subtract(np.divide(np.subtract(np.divide(-9.912446745962434, 6.075705919555482), np.divide(6.075705919555482, -9.912446745962434)), np.multiply(np.add(-7.022053682231986, x[1]), np.power(6.339331521022981, 9.802451792929677))), np.divide(np.subtract(np.cosh(-9.912446745962434), np.power(x[0], 8.609954362864695)), np.power(np.subtract(6.339331521022981, -6.0130874295873005), np.cosh(-3.3017010520480383)))))\n"
     ]
    },
    {
     "name": "stderr",
     "output_type": "stream",
     "text": [
      " 72%|███████▏  | 3601/5000 [12:51<05:26,  4.28it/s]"
     ]
    },
    {
     "name": "stdout",
     "output_type": "stream",
     "text": [
      "Generation 3601, Island: 0, Best Fitness: 1.2135662303503022e-20, Best Formula: np.multiply(np.multiply(np.power(np.cosh(8.525437292860964), -3.407060898991734), np.subtract(np.power(4.222553891915844, np.subtract(3.017249747918303, x[1])), np.add(np.power(0.3589120188241157, 4.222553891915844), 3.9018695597864657))), np.power(x[0], x[1]))\n",
      "Generation 3601, Island: 1, Best Fitness: 1.2134879119088613e-20, Best Formula: np.multiply(np.multiply(np.power(np.cosh(8.525437292860964), -3.407060898991734), np.subtract(np.power(4.18958630424536, np.subtract(3.017249747918303, x[1])), np.add(np.power(0.3589120188241157, 4.18958630424536), 3.9018695597864657))), np.power(x[0], x[1]))\n",
      "Generation 3601, Island: 2, Best Fitness: 1.21339539574586e-20, Best Formula: np.multiply(np.multiply(np.power(np.cosh(8.525437292860964), -3.407060898991734), np.subtract(np.power(4.18958630424536, np.subtract(3.017249747918303, x[1])), np.add(np.power(0.3589120188241157, 4.082241235097801), 3.9018695597864657))), np.power(x[0], x[1]))\n",
      "Generation 3601, Island: 3, Best Fitness: 2.8020544809857476e-18, Best Formula: np.subtract(np.multiply(np.multiply(np.multiply(np.subtract(7.498097066548894, -7.379968010675624), np.multiply(7.235048370311773, -7.379968010675624)), np.subtract(np.cosh(x[0]), np.cosh(6.075705919555482))), np.divide(np.multiply(np.subtract(-9.099992354368071, x[1]), np.subtract(x[0], 8.642289806326847)), np.power(np.subtract(6.884981001324427, -7.123970407967047), np.cosh(-3.3017010520480383)))), np.subtract(np.divide(np.subtract(np.divide(-9.912446745962434, 6.075705919555482), np.divide(6.075705919555482, -9.912446745962434)), np.multiply(np.add(-7.022053682231986, x[1]), np.power(6.339331521022981, 9.802451792929677))), np.divide(np.subtract(np.cosh(-9.912446745962434), np.power(x[0], 8.609954362864695)), np.power(np.subtract(6.339331521022981, -6.0130874295873005), np.cosh(-3.3017010520480383)))))\n"
     ]
    },
    {
     "name": "stderr",
     "output_type": "stream",
     "text": [
      " 73%|███████▎  | 3643/5000 [13:02<05:07,  4.41it/s]"
     ]
    },
    {
     "name": "stdout",
     "output_type": "stream",
     "text": [
      "Migration at 3642 gen from 3 to 0\n"
     ]
    },
    {
     "name": "stderr",
     "output_type": "stream",
     "text": [
      " 74%|███████▍  | 3701/5000 [13:14<04:50,  4.48it/s]"
     ]
    },
    {
     "name": "stdout",
     "output_type": "stream",
     "text": [
      "Generation 3701, Island: 0, Best Fitness: 1.2135662303503022e-20, Best Formula: np.multiply(np.multiply(np.power(np.cosh(8.525437292860964), -3.407060898991734), np.subtract(np.power(4.222553891915844, np.subtract(3.017249747918303, x[1])), np.add(np.power(0.3589120188241157, 4.222553891915844), 3.9018695597864657))), np.power(x[0], x[1]))\n",
      "Generation 3701, Island: 1, Best Fitness: 1.2134879119088613e-20, Best Formula: np.multiply(np.multiply(np.power(np.cosh(8.525437292860964), -3.407060898991734), np.subtract(np.power(4.18958630424536, np.subtract(3.017249747918303, x[1])), np.add(np.power(0.3589120188241157, 4.18958630424536), 3.9018695597864657))), np.power(x[0], x[1]))\n",
      "Generation 3701, Island: 2, Best Fitness: 1.21339539574586e-20, Best Formula: np.multiply(np.multiply(np.power(np.cosh(8.525437292860964), -3.407060898991734), np.subtract(np.power(4.18958630424536, np.subtract(3.017249747918303, x[1])), np.add(np.power(0.3589120188241157, 4.082241235097801), 3.9018695597864657))), np.power(x[0], x[1]))\n",
      "Generation 3701, Island: 3, Best Fitness: 2.8011395261400513e-18, Best Formula: np.subtract(np.multiply(np.multiply(np.multiply(np.subtract(7.235048370311773, -7.123970407967047), np.multiply(7.498097066548894, -7.379968010675624)), np.subtract(np.cosh(x[0]), np.cosh(6.075705919555482))), np.divide(np.multiply(np.subtract(-9.099992354368071, x[1]), np.subtract(x[0], 8.642289806326847)), np.power(np.subtract(6.884981001324427, -7.123970407967047), np.cosh(-3.3017010520480383)))), np.subtract(np.divide(np.multiply(np.divide(4.15102493061767, -6.192029032473814), np.multiply(-2.974418662309512, -0.5143898639336602)), np.multiply(np.add(-7.022053682231986, x[1]), np.power(6.339331521022981, 9.802451792929677))), np.divide(np.subtract(np.cosh(-9.912446745962434), np.power(x[0], 8.609954362864695)), np.power(np.subtract(6.339331521022981, -6.0130874295873005), np.cosh(-3.3017010520480383)))))\n"
     ]
    },
    {
     "name": "stderr",
     "output_type": "stream",
     "text": [
      " 76%|███████▌  | 3801/5000 [13:36<04:08,  4.83it/s]"
     ]
    },
    {
     "name": "stdout",
     "output_type": "stream",
     "text": [
      "Generation 3801, Island: 0, Best Fitness: 1.2135662303503022e-20, Best Formula: np.multiply(np.multiply(np.power(np.cosh(8.525437292860964), -3.407060898991734), np.subtract(np.power(4.222553891915844, np.subtract(3.017249747918303, x[1])), np.add(np.power(0.3589120188241157, 4.222553891915844), 3.9018695597864657))), np.power(x[0], x[1]))\n",
      "Generation 3801, Island: 1, Best Fitness: 1.2134879119088613e-20, Best Formula: np.multiply(np.multiply(np.power(np.cosh(8.525437292860964), -3.407060898991734), np.subtract(np.power(4.18958630424536, np.subtract(3.017249747918303, x[1])), np.add(np.power(0.3589120188241157, 4.18958630424536), 3.9018695597864657))), np.power(x[0], x[1]))\n",
      "Generation 3801, Island: 2, Best Fitness: 1.21339539574586e-20, Best Formula: np.multiply(np.multiply(np.power(np.cosh(8.525437292860964), -3.407060898991734), np.subtract(np.power(4.18958630424536, np.subtract(3.017249747918303, x[1])), np.add(np.power(0.3589120188241157, 4.082241235097801), 3.9018695597864657))), np.power(x[0], x[1]))\n",
      "Generation 3801, Island: 3, Best Fitness: 2.8011395261400513e-18, Best Formula: np.subtract(np.multiply(np.multiply(np.multiply(np.subtract(7.235048370311773, -7.123970407967047), np.multiply(7.498097066548894, -7.379968010675624)), np.subtract(np.cosh(x[0]), np.cosh(6.075705919555482))), np.divide(np.multiply(np.subtract(-9.099992354368071, x[1]), np.subtract(x[0], 8.642289806326847)), np.power(np.subtract(6.884981001324427, -7.123970407967047), np.cosh(-3.3017010520480383)))), np.subtract(np.divide(np.multiply(np.divide(4.15102493061767, -6.192029032473814), np.multiply(-2.974418662309512, -0.5143898639336602)), np.multiply(np.add(-7.022053682231986, x[1]), np.power(6.339331521022981, 9.802451792929677))), np.divide(np.subtract(np.cosh(-9.912446745962434), np.power(x[0], 8.609954362864695)), np.power(np.subtract(6.339331521022981, -6.0130874295873005), np.cosh(-3.3017010520480383)))))\n"
     ]
    },
    {
     "name": "stderr",
     "output_type": "stream",
     "text": [
      " 78%|███████▊  | 3901/5000 [13:58<03:39,  5.02it/s]"
     ]
    },
    {
     "name": "stdout",
     "output_type": "stream",
     "text": [
      "Generation 3901, Island: 0, Best Fitness: 1.2135662303503022e-20, Best Formula: np.multiply(np.multiply(np.power(np.cosh(8.525437292860964), -3.407060898991734), np.subtract(np.power(4.222553891915844, np.subtract(3.017249747918303, x[1])), np.add(np.power(0.3589120188241157, 4.222553891915844), 3.9018695597864657))), np.power(x[0], x[1]))\n",
      "Generation 3901, Island: 1, Best Fitness: 1.2134879119088613e-20, Best Formula: np.multiply(np.multiply(np.power(np.cosh(8.525437292860964), -3.407060898991734), np.subtract(np.power(4.18958630424536, np.subtract(3.017249747918303, x[1])), np.add(np.power(0.3589120188241157, 4.18958630424536), 3.9018695597864657))), np.power(x[0], x[1]))\n",
      "Generation 3901, Island: 2, Best Fitness: 1.21339539574586e-20, Best Formula: np.multiply(np.multiply(np.power(np.cosh(8.525437292860964), -3.407060898991734), np.subtract(np.power(4.18958630424536, np.subtract(3.017249747918303, x[1])), np.add(np.power(0.3589120188241157, 4.082241235097801), 3.9018695597864657))), np.power(x[0], x[1]))\n",
      "Generation 3901, Island: 3, Best Fitness: 2.8011395261400513e-18, Best Formula: np.subtract(np.multiply(np.multiply(np.multiply(np.subtract(7.235048370311773, -7.123970407967047), np.multiply(7.498097066548894, -7.379968010675624)), np.subtract(np.cosh(x[0]), np.cosh(6.075705919555482))), np.divide(np.multiply(np.subtract(-9.099992354368071, x[1]), np.subtract(x[0], 8.642289806326847)), np.power(np.subtract(6.884981001324427, -7.123970407967047), np.cosh(-3.3017010520480383)))), np.subtract(np.divide(np.multiply(np.divide(4.15102493061767, -6.192029032473814), np.multiply(-2.974418662309512, -0.5143898639336602)), np.multiply(np.add(-7.022053682231986, x[1]), np.power(6.339331521022981, 9.802451792929677))), np.divide(np.subtract(np.cosh(-9.912446745962434), np.power(x[0], 8.609954362864695)), np.power(np.subtract(6.339331521022981, -6.0130874295873005), np.cosh(-3.3017010520480383)))))\n"
     ]
    },
    {
     "name": "stderr",
     "output_type": "stream",
     "text": [
      " 80%|████████  | 4001/5000 [14:19<03:48,  4.38it/s]"
     ]
    },
    {
     "name": "stdout",
     "output_type": "stream",
     "text": [
      "Generation 4001, Island: 0, Best Fitness: 1.2135662303503022e-20, Best Formula: np.multiply(np.multiply(np.power(np.cosh(8.525437292860964), -3.407060898991734), np.subtract(np.power(4.222553891915844, np.subtract(3.017249747918303, x[1])), np.add(np.power(0.3589120188241157, 4.222553891915844), 3.9018695597864657))), np.power(x[0], x[1]))\n",
      "Generation 4001, Island: 1, Best Fitness: 1.2134879119088613e-20, Best Formula: np.multiply(np.multiply(np.power(np.cosh(8.525437292860964), -3.407060898991734), np.subtract(np.power(4.18958630424536, np.subtract(3.017249747918303, x[1])), np.add(np.power(0.3589120188241157, 4.18958630424536), 3.9018695597864657))), np.power(x[0], x[1]))\n",
      "Generation 4001, Island: 2, Best Fitness: 1.21339539574586e-20, Best Formula: np.multiply(np.multiply(np.power(np.cosh(8.525437292860964), -3.407060898991734), np.subtract(np.power(4.18958630424536, np.subtract(3.017249747918303, x[1])), np.add(np.power(0.3589120188241157, 4.082241235097801), 3.9018695597864657))), np.power(x[0], x[1]))\n",
      "Generation 4001, Island: 3, Best Fitness: 2.8011395261400513e-18, Best Formula: np.subtract(np.multiply(np.multiply(np.multiply(np.subtract(7.235048370311773, -7.123970407967047), np.multiply(7.498097066548894, -7.379968010675624)), np.subtract(np.cosh(x[0]), np.cosh(6.075705919555482))), np.divide(np.multiply(np.subtract(-9.099992354368071, x[1]), np.subtract(x[0], 8.642289806326847)), np.power(np.subtract(6.884981001324427, -7.123970407967047), np.cosh(-3.3017010520480383)))), np.subtract(np.divide(np.multiply(np.divide(4.15102493061767, -6.192029032473814), np.multiply(-2.974418662309512, -0.5143898639336602)), np.multiply(np.add(-7.022053682231986, x[1]), np.power(6.339331521022981, 9.802451792929677))), np.divide(np.subtract(np.cosh(-9.912446745962434), np.power(x[0], 8.609954362864695)), np.power(np.subtract(6.339331521022981, -6.0130874295873005), np.cosh(-3.3017010520480383)))))\n"
     ]
    },
    {
     "name": "stderr",
     "output_type": "stream",
     "text": [
      " 82%|████████▏ | 4101/5000 [14:41<02:54,  5.17it/s]"
     ]
    },
    {
     "name": "stdout",
     "output_type": "stream",
     "text": [
      "Generation 4101, Island: 0, Best Fitness: 1.2135575748177358e-20, Best Formula: np.multiply(np.multiply(np.power(np.cosh(8.525437292860964), -3.407060898991734), np.subtract(np.power(4.222553891915844, np.subtract(3.017249747918303, x[1])), np.add(np.power(3.9018695597864657, -3.16976126583858), 3.9018695597864657))), np.power(x[0], x[1]))\n",
      "Generation 4101, Island: 1, Best Fitness: 1.2134879119088613e-20, Best Formula: np.multiply(np.multiply(np.power(np.cosh(8.525437292860964), -3.407060898991734), np.subtract(np.power(4.18958630424536, np.subtract(3.017249747918303, x[1])), np.add(np.power(0.3589120188241157, 4.18958630424536), 3.9018695597864657))), np.power(x[0], x[1]))\n",
      "Generation 4101, Island: 2, Best Fitness: 1.21339539574586e-20, Best Formula: np.multiply(np.multiply(np.power(np.cosh(8.525437292860964), -3.407060898991734), np.subtract(np.power(4.18958630424536, np.subtract(3.017249747918303, x[1])), np.add(np.power(0.3589120188241157, 4.082241235097801), 3.9018695597864657))), np.power(x[0], x[1]))\n",
      "Generation 4101, Island: 3, Best Fitness: 2.776176934171978e-18, Best Formula: np.subtract(np.multiply(np.multiply(np.multiply(np.subtract(7.498097066548894, -8.966448977669666), np.multiply(7.498097066548894, -7.379968010675624)), np.subtract(np.cosh(x[0]), np.cosh(6.075705919555482))), np.divide(np.multiply(np.subtract(-7.379968010675624, x[1]), np.subtract(x[0], 8.642289806326847)), np.power(np.subtract(6.884981001324427, -7.123970407967047), np.cosh(-3.3017010520480383)))), np.subtract(np.divide(np.multiply(np.divide(4.15102493061767, -6.192029032473814), np.multiply(-2.974418662309512, -0.5143898639336602)), np.multiply(np.add(-7.022053682231986, x[1]), np.power(6.339331521022981, 9.802451792929677))), np.divide(np.subtract(np.cosh(-9.999037850356135), np.power(x[0], 8.609954362864695)), np.power(np.subtract(6.339331521022981, -6.192029032473814), np.cosh(-3.3017010520480383)))))\n"
     ]
    },
    {
     "name": "stderr",
     "output_type": "stream",
     "text": [
      " 84%|████████▍ | 4201/5000 [15:03<02:43,  4.89it/s]"
     ]
    },
    {
     "name": "stdout",
     "output_type": "stream",
     "text": [
      "Generation 4201, Island: 0, Best Fitness: 1.2135575748177358e-20, Best Formula: np.multiply(np.multiply(np.power(np.cosh(8.525437292860964), -3.407060898991734), np.subtract(np.power(4.222553891915844, np.subtract(3.017249747918303, x[1])), np.add(np.power(3.9018695597864657, -3.16976126583858), 3.9018695597864657))), np.power(x[0], x[1]))\n",
      "Generation 4201, Island: 1, Best Fitness: 1.2134879119088613e-20, Best Formula: np.multiply(np.multiply(np.power(np.cosh(8.525437292860964), -3.407060898991734), np.subtract(np.power(4.18958630424536, np.subtract(3.017249747918303, x[1])), np.add(np.power(0.3589120188241157, 4.18958630424536), 3.9018695597864657))), np.power(x[0], x[1]))\n",
      "Generation 4201, Island: 2, Best Fitness: 1.21339539574586e-20, Best Formula: np.multiply(np.multiply(np.power(np.cosh(8.525437292860964), -3.407060898991734), np.subtract(np.power(4.18958630424536, np.subtract(3.017249747918303, x[1])), np.add(np.power(0.3589120188241157, 4.082241235097801), 3.9018695597864657))), np.power(x[0], x[1]))\n",
      "Generation 4201, Island: 3, Best Fitness: 2.7759254566195877e-18, Best Formula: np.subtract(np.multiply(np.multiply(np.multiply(np.subtract(7.498097066548894, -8.966448977669666), np.multiply(7.498097066548894, -7.379968010675624)), np.subtract(np.cosh(x[0]), np.cosh(6.075705919555482))), np.divide(np.multiply(np.subtract(-7.379968010675624, x[1]), np.subtract(x[0], 8.642289806326847)), np.power(np.subtract(6.884981001324427, -7.123970407967047), np.cosh(-3.3017010520480383)))), np.subtract(np.divide(np.multiply(np.divide(4.15102493061767, -6.192029032473814), np.multiply(-2.974418662309512, -0.5143898639336602)), np.multiply(np.add(-7.022053682231986, x[1]), np.power(6.339331521022981, 9.802451792929677))), np.divide(np.subtract(np.cosh(-9.999037850356135), np.power(x[0], 8.609954362864695)), np.power(np.subtract(6.339331521022981, -6.055968140081179), np.cosh(-3.3017010520480383)))))\n"
     ]
    },
    {
     "name": "stderr",
     "output_type": "stream",
     "text": [
      " 86%|████████▌ | 4301/5000 [15:25<02:29,  4.67it/s]"
     ]
    },
    {
     "name": "stdout",
     "output_type": "stream",
     "text": [
      "Generation 4301, Island: 0, Best Fitness: 1.2135434520571017e-20, Best Formula: np.multiply(np.multiply(np.power(np.cosh(8.525437292860964), -3.407060898991734), np.subtract(np.power(4.222553891915844, np.subtract(3.017249747918303, x[1])), np.add(np.power(4.070891057630114, -3.16976126583858), 3.9039179889002824))), np.power(x[0], x[1]))\n",
      "Generation 4301, Island: 1, Best Fitness: 1.2134879119088613e-20, Best Formula: np.multiply(np.multiply(np.power(np.cosh(8.525437292860964), -3.407060898991734), np.subtract(np.power(4.18958630424536, np.subtract(3.017249747918303, x[1])), np.add(np.power(0.3589120188241157, 4.18958630424536), 3.9018695597864657))), np.power(x[0], x[1]))\n",
      "Generation 4301, Island: 2, Best Fitness: 1.21339539574586e-20, Best Formula: np.multiply(np.multiply(np.power(np.cosh(8.525437292860964), -3.407060898991734), np.subtract(np.power(4.18958630424536, np.subtract(3.017249747918303, x[1])), np.add(np.power(0.3589120188241157, 4.082241235097801), 3.9018695597864657))), np.power(x[0], x[1]))\n",
      "Generation 4301, Island: 3, Best Fitness: 2.7536289152090813e-18, Best Formula: np.subtract(np.multiply(np.multiply(np.multiply(np.subtract(7.498097066548894, -9.310812177315903), np.multiply(7.498097066548894, -7.346546066075829)), np.subtract(np.cosh(x[0]), np.cosh(6.075705919555482))), np.divide(np.multiply(np.subtract(-7.379968010675624, x[1]), np.subtract(x[0], 8.642289806326847)), np.power(np.subtract(6.884981001324427, -7.123970407967047), np.cosh(-3.3017010520480383)))), np.subtract(np.divide(np.multiply(np.divide(3.975604471686708, -6.192029032473814), np.multiply(-2.974418662309512, -0.5143898639336602)), np.multiply(np.add(-6.920392234457699, x[1]), np.power(6.339331521022981, 9.802451792929677))), np.divide(np.subtract(np.cosh(9.802451792929677), np.power(x[0], 8.609954362864695)), np.power(np.subtract(6.26846092613836, -6.055968140081179), np.cosh(-3.3017010520480383)))))\n"
     ]
    },
    {
     "name": "stderr",
     "output_type": "stream",
     "text": [
      " 88%|████████▊ | 4400/5000 [15:46<02:15,  4.42it/s]"
     ]
    },
    {
     "name": "stdout",
     "output_type": "stream",
     "text": [
      "Generation 4401, Island: 0, Best Fitness: 1.2135434520571017e-20, Best Formula: np.multiply(np.multiply(np.power(np.cosh(8.525437292860964), -3.407060898991734), np.subtract(np.power(4.222553891915844, np.subtract(3.017249747918303, x[1])), np.add(np.power(4.070891057630114, -3.16976126583858), 3.9039179889002824))), np.power(x[0], x[1]))\n",
      "Generation 4401, Island: 1, Best Fitness: 1.2134879119088613e-20, Best Formula: np.multiply(np.multiply(np.power(np.cosh(8.525437292860964), -3.407060898991734), np.subtract(np.power(4.18958630424536, np.subtract(3.017249747918303, x[1])), np.add(np.power(0.3589120188241157, 4.18958630424536), 3.9018695597864657))), np.power(x[0], x[1]))\n",
      "Generation 4401, Island: 2, Best Fitness: 1.21339539574586e-20, Best Formula: np.multiply(np.multiply(np.power(np.cosh(8.525437292860964), -3.407060898991734), np.subtract(np.power(4.18958630424536, np.subtract(3.017249747918303, x[1])), np.add(np.power(0.3589120188241157, 4.082241235097801), 3.9018695597864657))), np.power(x[0], x[1]))\n",
      "Generation 4401, Island: 3, Best Fitness: 2.7528372659673124e-18, Best Formula: np.subtract(np.multiply(np.multiply(np.multiply(np.subtract(7.498097066548894, -9.310812177315903), np.multiply(7.498097066548894, -7.346546066075829)), np.subtract(np.cosh(x[0]), np.cosh(6.075705919555482))), np.divide(np.multiply(np.subtract(-7.346546066075829, x[1]), np.subtract(x[0], 8.642289806326847)), np.power(np.subtract(6.884981001324427, -7.123970407967047), np.cosh(-3.3017010520480383)))), np.subtract(np.divide(np.multiply(np.divide(3.975604471686708, -6.192029032473814), np.multiply(-2.974418662309512, -0.5143898639336602)), np.multiply(np.add(-6.920392234457699, x[1]), np.power(6.339331521022981, 9.802451792929677))), np.divide(np.subtract(np.cosh(9.802451792929677), np.power(x[0], 8.609954362864695)), np.power(np.subtract(6.26846092613836, -6.055968140081179), np.cosh(-3.3017010520480383)))))\n"
     ]
    },
    {
     "name": "stderr",
     "output_type": "stream",
     "text": [
      " 90%|█████████ | 4501/5000 [16:09<01:34,  5.27it/s]"
     ]
    },
    {
     "name": "stdout",
     "output_type": "stream",
     "text": [
      "Generation 4501, Island: 0, Best Fitness: 1.2135434520571017e-20, Best Formula: np.multiply(np.multiply(np.power(np.cosh(8.525437292860964), -3.407060898991734), np.subtract(np.power(4.222553891915844, np.subtract(3.017249747918303, x[1])), np.add(np.power(4.070891057630114, -3.16976126583858), 3.9039179889002824))), np.power(x[0], x[1]))\n",
      "Generation 4501, Island: 1, Best Fitness: 1.2134879119088613e-20, Best Formula: np.multiply(np.multiply(np.power(np.cosh(8.525437292860964), -3.407060898991734), np.subtract(np.power(4.18958630424536, np.subtract(3.017249747918303, x[1])), np.add(np.power(0.3589120188241157, 4.18958630424536), 3.9018695597864657))), np.power(x[0], x[1]))\n",
      "Generation 4501, Island: 2, Best Fitness: 1.21339539574586e-20, Best Formula: np.multiply(np.multiply(np.power(np.cosh(8.525437292860964), -3.407060898991734), np.subtract(np.power(4.18958630424536, np.subtract(3.017249747918303, x[1])), np.add(np.power(0.3589120188241157, 4.082241235097801), 3.9018695597864657))), np.power(x[0], x[1]))\n",
      "Generation 4501, Island: 3, Best Fitness: 2.752465255768464e-18, Best Formula: np.subtract(np.multiply(np.multiply(np.multiply(np.subtract(7.498097066548894, -9.310812177315903), np.multiply(7.498097066548894, -7.346546066075829)), np.subtract(np.cosh(x[0]), np.cosh(6.075705919555482))), np.divide(np.multiply(np.subtract(-7.346546066075829, x[1]), np.subtract(x[0], 8.642289806326847)), np.power(np.subtract(6.884981001324427, -7.123970407967047), np.cosh(-3.3017010520480383)))), np.subtract(np.divide(np.multiply(np.divide(3.975604471686708, -6.192029032473814), np.multiply(-2.974418662309512, -0.5143898639336602)), np.multiply(np.add(-6.920392234457699, x[1]), np.power(6.339331521022981, 9.802451792929677))), np.divide(np.subtract(np.cosh(9.802451792929677), np.power(x[0], 8.609954362864695)), np.power(np.subtract(6.339331521022981, -6.055968140081179), np.cosh(-3.3017010520480383)))))\n"
     ]
    },
    {
     "name": "stderr",
     "output_type": "stream",
     "text": [
      " 92%|█████████▏| 4601/5000 [16:30<01:18,  5.07it/s]"
     ]
    },
    {
     "name": "stdout",
     "output_type": "stream",
     "text": [
      "Generation 4601, Island: 0, Best Fitness: 1.2135434520571017e-20, Best Formula: np.multiply(np.multiply(np.power(np.cosh(8.525437292860964), -3.407060898991734), np.subtract(np.power(4.222553891915844, np.subtract(3.017249747918303, x[1])), np.add(np.power(4.070891057630114, -3.16976126583858), 3.9039179889002824))), np.power(x[0], x[1]))\n",
      "Generation 4601, Island: 1, Best Fitness: 1.2133961850002516e-20, Best Formula: np.multiply(np.multiply(np.power(np.cosh(8.525437292860964), -3.407060898991734), np.subtract(np.power(4.18958630424536, np.subtract(3.017249747918303, x[1])), np.add(np.power(0.3589120188241157, 4.0741559091137525), 3.9018695597864657))), np.power(x[0], x[1]))\n",
      "Generation 4601, Island: 2, Best Fitness: 1.21339539574586e-20, Best Formula: np.multiply(np.multiply(np.power(np.cosh(8.525437292860964), -3.407060898991734), np.subtract(np.power(4.18958630424536, np.subtract(3.017249747918303, x[1])), np.add(np.power(0.3589120188241157, 4.082241235097801), 3.9018695597864657))), np.power(x[0], x[1]))\n",
      "Generation 4601, Island: 3, Best Fitness: 2.7499970478761474e-18, Best Formula: np.subtract(np.multiply(np.multiply(np.multiply(np.subtract(8.642289806326847, -9.310812177315903), np.multiply(7.498097066548894, -7.123970407967047)), np.subtract(np.cosh(x[0]), np.cosh(6.075705919555482))), np.divide(np.multiply(np.subtract(-7.123970407967047, x[1]), np.subtract(x[0], 8.609954362864695)), np.power(np.subtract(6.884981001324427, -7.123970407967047), np.cosh(-3.3017010520480383)))), np.subtract(np.divide(np.multiply(np.divide(3.975604471686708, -6.192029032473814), np.multiply(-2.974418662309512, -0.5143898639336602)), np.multiply(np.add(-6.920392234457699, x[1]), np.power(6.339331521022981, 9.802451792929677))), np.divide(np.subtract(np.cosh(-7.346546066075829), np.power(x[0], 8.609954362864695)), np.power(np.subtract(6.339331521022981, -6.055968140081179), np.cosh(-3.3017010520480383)))))\n"
     ]
    },
    {
     "name": "stderr",
     "output_type": "stream",
     "text": [
      " 94%|█████████▍| 4700/5000 [16:51<00:57,  5.19it/s]"
     ]
    },
    {
     "name": "stdout",
     "output_type": "stream",
     "text": [
      "Generation 4701, Island: 0, Best Fitness: 1.2135413475311691e-20, Best Formula: np.multiply(np.multiply(np.power(np.cosh(8.525437292860964), -3.407060898991734), np.subtract(np.power(4.222553891915844, np.subtract(3.017249747918303, x[1])), np.add(np.power(4.059789653511082, -3.16976126583858), 3.9039179889002824))), np.power(x[0], x[1]))\n",
      "Generation 4701, Island: 1, Best Fitness: 1.2133961850002516e-20, Best Formula: np.multiply(np.multiply(np.power(np.cosh(8.525437292860964), -3.407060898991734), np.subtract(np.power(4.18958630424536, np.subtract(3.017249747918303, x[1])), np.add(np.power(0.3589120188241157, 4.0741559091137525), 3.9018695597864657))), np.power(x[0], x[1]))\n",
      "Generation 4701, Island: 2, Best Fitness: 1.21339539574586e-20, Best Formula: np.multiply(np.multiply(np.power(np.cosh(8.525437292860964), -3.407060898991734), np.subtract(np.power(4.18958630424536, np.subtract(3.017249747918303, x[1])), np.add(np.power(0.3589120188241157, 4.082241235097801), 3.9018695597864657))), np.power(x[0], x[1]))\n"
     ]
    },
    {
     "name": "stderr",
     "output_type": "stream",
     "text": [
      " 94%|█████████▍| 4701/5000 [16:51<01:08,  4.34it/s]"
     ]
    },
    {
     "name": "stdout",
     "output_type": "stream",
     "text": [
      "Generation 4701, Island: 3, Best Fitness: 2.7452385348202386e-18, Best Formula: np.subtract(np.multiply(np.multiply(np.multiply(np.subtract(8.642289806326847, -9.310812177315903), np.multiply(7.498097066548894, -7.123970407967047)), np.subtract(np.cosh(x[0]), np.cosh(6.075705919555482))), np.divide(np.multiply(np.subtract(-7.123970407967047, x[1]), np.subtract(x[0], 8.642289806326847)), np.power(np.subtract(6.884981001324427, -7.123970407967047), np.cosh(-3.3017010520480383)))), np.subtract(np.divide(np.multiply(np.divide(3.975604471686708, -6.055968140081179), np.multiply(-2.974418662309512, -0.5143898639336602)), np.multiply(np.add(-6.920392234457699, x[1]), np.power(6.339331521022981, 9.802451792929677))), np.divide(np.subtract(np.cosh(8.642289806326847), np.power(x[0], 8.609954362864695)), np.power(np.subtract(6.339331521022981, -6.055968140081179), np.cosh(-3.3017010520480383)))))\n"
     ]
    },
    {
     "name": "stderr",
     "output_type": "stream",
     "text": [
      " 96%|█████████▌| 4801/5000 [17:13<00:39,  5.00it/s]"
     ]
    },
    {
     "name": "stdout",
     "output_type": "stream",
     "text": [
      "Generation 4801, Island: 0, Best Fitness: 1.2135413475311691e-20, Best Formula: np.multiply(np.multiply(np.power(np.cosh(8.525437292860964), -3.407060898991734), np.subtract(np.power(4.222553891915844, np.subtract(3.017249747918303, x[1])), np.add(np.power(4.059789653511082, -3.16976126583858), 3.9039179889002824))), np.power(x[0], x[1]))\n",
      "Generation 4801, Island: 1, Best Fitness: 1.2124837345514748e-20, Best Formula: np.multiply(np.multiply(np.power(np.cosh(np.subtract(4.111094498128525, -4.426930785614209)), -3.407060898991734), np.subtract(np.power(4.18958630424536, np.subtract(3.017249747918303, x[1])), np.add(np.power(0.3589120188241157, 4.0741559091137525), 4.0741559091137525))), np.power(x[0], x[1]))\n",
      "Generation 4801, Island: 2, Best Fitness: 1.21339539574586e-20, Best Formula: np.multiply(np.multiply(np.power(np.cosh(8.525437292860964), -3.407060898991734), np.subtract(np.power(4.18958630424536, np.subtract(3.017249747918303, x[1])), np.add(np.power(0.3589120188241157, 4.082241235097801), 3.9018695597864657))), np.power(x[0], x[1]))\n",
      "Generation 4801, Island: 3, Best Fitness: 2.7402724296032445e-18, Best Formula: np.subtract(np.multiply(np.multiply(np.multiply(np.subtract(8.989432072158692, -9.310812177315903), np.multiply(7.498097066548894, -7.123970407967047)), np.subtract(np.cosh(x[0]), np.cosh(6.075705919555482))), np.divide(np.multiply(np.subtract(-6.920392234457699, x[1]), np.subtract(x[0], 8.642289806326847)), np.power(np.subtract(6.884981001324427, -7.123970407967047), np.cosh(-3.3017010520480383)))), np.subtract(np.divide(np.multiply(np.divide(3.975604471686708, -6.055968140081179), np.multiply(-2.974418662309512, -0.5143898639336602)), np.multiply(np.add(-6.920392234457699, x[1]), np.power(6.339331521022981, 9.802451792929677))), np.divide(np.subtract(np.cosh(9.802451792929677), np.power(x[0], 8.609954362864695)), np.power(np.subtract(6.339331521022981, -6.055968140081179), np.cosh(-3.3017010520480383)))))\n"
     ]
    },
    {
     "name": "stderr",
     "output_type": "stream",
     "text": [
      " 98%|█████████▊| 4901/5000 [17:35<00:19,  5.01it/s]"
     ]
    },
    {
     "name": "stdout",
     "output_type": "stream",
     "text": [
      "Generation 4901, Island: 0, Best Fitness: 1.213539561543705e-20, Best Formula: np.multiply(np.multiply(np.power(np.cosh(8.525437292860964), -3.407060898991734), np.subtract(np.power(4.222553891915844, np.subtract(3.017249747918303, x[1])), np.add(np.power(3.844798517340301, -3.16976126583858), 3.9018695597864657))), np.power(x[0], x[1]))\n",
      "Generation 4901, Island: 1, Best Fitness: 1.2113426523349376e-20, Best Formula: np.multiply(np.multiply(np.power(np.cosh(np.subtract(4.111094498128525, -4.426930785614209)), -3.407060898991734), np.subtract(np.power(4.18958630424536, np.subtract(3.017249747918303, x[1])), np.add(np.power(0.3589120188241157, 4.4698396698389775), 4.0741559091137525))), np.power(x[0], x[1]))\n",
      "Generation 4901, Island: 2, Best Fitness: 1.211605187919739e-20, Best Formula: np.multiply(np.multiply(np.power(np.cosh(8.525437292860964), -3.407060898991734), np.subtract(np.power(4.18958630424536, np.subtract(2.98876462112551, x[1])), np.add(np.power(0.3572551710005545, 4.18958630424536), 3.9018695597864657))), np.power(x[0], x[1]))\n",
      "Generation 4901, Island: 3, Best Fitness: 2.739957722474059e-18, Best Formula: np.subtract(np.multiply(np.multiply(np.multiply(np.subtract(8.989432072158692, -9.310812177315903), np.multiply(7.498097066548894, -7.123970407967047)), np.subtract(np.cosh(x[0]), np.cosh(6.075705919555482))), np.divide(np.multiply(np.subtract(-6.920392234457699, x[1]), np.subtract(x[0], 8.642289806326847)), np.power(np.subtract(6.884981001324427, -7.123970407967047), np.cosh(-3.3017010520480383)))), np.subtract(np.divide(np.multiply(np.divide(3.975604471686708, -6.055968140081179), np.multiply(-2.974418662309512, -0.5143898639336602)), np.multiply(np.add(-6.920392234457699, x[1]), np.power(6.339331521022981, 9.802451792929677))), np.divide(np.subtract(np.cosh(9.802451792929677), np.power(x[0], 8.609954362864695)), np.power(np.cosh(-3.2114947201695205), np.cosh(-3.3017010520480383)))))\n"
     ]
    },
    {
     "name": "stderr",
     "output_type": "stream",
     "text": [
      "100%|██████████| 5000/5000 [17:55<00:00,  4.65it/s]"
     ]
    },
    {
     "name": "stdout",
     "output_type": "stream",
     "text": [
      "\n",
      "Train Fitness: 1.2113426523349376e-20\n",
      "Test Fitness: 1.1822644703340634e-20\n",
      "Train-Test Discrepancy: 2.907818200087418e-22\n",
      "Global Fitness: 1.1997113795345879e-20\n",
      "Best Fitness History: [0.07104545312050066, 0.06799190508720232, 0.00029243271489366566, 5.456538578105821e-18, 5.455110117781966e-18, 5.221918848456059e-18, 1.586498827229064e-18, 1.5440354055171468e-18, 1.074422672947868e-18, 6.453996970182737e-19, 1.505712930434876e-19, 9.446524356640719e-20, 3.202566851641949e-20, 3.199524910739779e-20, 3.014878256913505e-20, 2.7656314987687174e-20, 2.4588572962669408e-20, 2.4040609967379424e-20, 2.3991796959177684e-20, 2.3784786691145905e-20, 2.3514690182877948e-20, 2.3391016165282417e-20, 2.3325394254849665e-20, 2.331740793097677e-20, 2.326495952965873e-20, 2.325891496766584e-20, 2.3145666233109813e-20, 2.3126277987844375e-20, 2.3108634534487316e-20, 2.3084701396144082e-20, 2.278291045904817e-20, 2.2715007798942147e-20, 2.2626005859353226e-20, 2.2446361208359045e-20, 1.8318827276324394e-20, 1.8250387603656892e-20, 1.8198552038201717e-20, 1.6327032775354137e-20, 1.5702164007776332e-20, 1.476455287267028e-20, 1.429903885153423e-20, 1.362401318617792e-20, 1.2995939351169445e-20, 1.2866610456007145e-20, 1.228676802942841e-20, 1.2199280653644549e-20, 1.2184407992566985e-20, 1.2182244045866229e-20, 1.2173114160122346e-20, 1.2168273435451533e-20, 1.2150922803422702e-20, 1.2145065610312033e-20, 1.213905057857905e-20, 1.2134017651888745e-20, 1.2133955004606223e-20, 1.21339539574586e-20, 1.2124837345514748e-20, 1.2122668619511748e-20, 1.2119000913211284e-20, 1.2116617758950483e-20, 1.2113426523349376e-20], changed 61 times\n",
      "\n",
      "Best Formula: np.multiply(np.multiply(np.power(np.cosh(np.subtract(4.111094498128525, -4.426930785614209)), -3.407060898991734), np.subtract(np.power(4.18958630424536, np.subtract(3.017249747918303, x[1])), np.add(np.power(0.3589120188241157, 4.4698396698389775), 4.0741559091137525))), np.power(x[0], x[1]))\n",
      "\n",
      "Best Formula with standard operators: ((np.power(np.cosh((4.111094498128525 - -4.426930785614209)), -3.407060898991734) * (np.power(4.18958630424536, (3.017249747918303 - x[1])) - (np.power(0.3589120188241157, 4.4698396698389775) + 4.0741559091137525))) * np.power(x[0], x[1]))\n"
     ]
    },
    {
     "name": "stderr",
     "output_type": "stream",
     "text": [
      "\n"
     ]
    }
   ],
   "source": [
    "\n",
    "# Execute the algorithm\n",
    "best_tree, best_fitness = regressor.evolve(use_std_operators=False,verbose=True)   #use_std_operators=True to use standard operators (+,-,*,/), use verbose=True to print the best tree for each island every 50 iterations\n",
    "\n",
    "print(f\"\\nTrain Fitness: {best_fitness}\")\n",
    "# Calculate the fitness on original data\n",
    "best_tree.compute_fitness(test=\"test\")\n",
    "\n",
    "print(f\"Test Fitness: {best_tree.fitness}\")\n",
    "print(f\"Train-Test Discrepancy: {best_fitness-best_tree.fitness}\")\n",
    "best_tree.compute_fitness(test=\"all\")\n",
    "print(f\"Global Fitness: {best_tree.fitness}\")\n",
    "\n",
    "\n",
    "#Print the best tree\n",
    "print(f\"Best Fitness History: {[tup[0] for tup in regressor.best_fitness_history]}, changed {len(regressor.best_fitness_history)} times\\n\")\n",
    "\n",
    "print(f\"Best Formula: {best_tree.to_np_formula(use_std_operators=False)}\\n\")\n",
    "print(f\"Best Formula with standard operators: {best_tree.to_np_formula(use_std_operators=True)}\")"
   ]
  },
  {
   "cell_type": "code",
   "execution_count": null,
   "metadata": {},
   "outputs": [],
   "source": [
    "result = ((np.power(np.cosh((4.111094498128525 - -4.426930785614209)), -3.407060898991734) * (np.power(4.18958630424536, (3.017249747918303 - x[1])) - (np.power(0.3589120188241157, 4.4698396698389775) + 4.0741559091137525))) * np.power(x[0], x[1]))\n"
   ]
  },
  {
   "cell_type": "markdown",
   "metadata": {},
   "source": [
    "### Best Tree Drawing"
   ]
  },
  {
   "cell_type": "code",
   "execution_count": null,
   "metadata": {},
   "outputs": [
    {
     "name": "stdout",
     "output_type": "stream",
     "text": [
      "Collapsed formula: np.multiply(np.multiply(2.467100421154991e-12, np.subtract(np.power(4.18958630424536, np.subtract(3.017249747918303, x[1])), 4.084409304778444)), np.power(x[0], x[1]))\n",
      "\n",
      "Tree drawing (after collapsing):\n"
     ]
    },
    {
     "data": {
      "image/png": "[encoded data removed]",
      "text/plain": [
       "<Figure size 1000x700 with 1 Axes>"
      ]
     },
     "metadata": {},
     "output_type": "display_data"
    }
   ],
   "source": [
    "tree_clone = best_tree.copy_tree()\n",
    "Tree.collapse_branch(tree_clone.root,0,force_collapse=True)\n",
    "tree_clone.compute_fitness()           \n",
    "if(tree_clone.fitness is not None or tree_clone.fitness is not np.inf and tree_clone.fitness is not np.nan):\n",
    "                    best_tree = tree_clone\n",
    "\n",
    "\n",
    "print(f\"Collapsed formula: {best_tree.to_np_formula(use_std_operators=True)}\\n\") #use_std_operators=True to use standard operators (+,-,*,/)\n",
    "print(\"Tree drawing (after collapsing):\")\n",
    "best_tree.add_drawing()\n"
   ]
  },
  {
   "cell_type": "code",
   "execution_count": 52,
   "metadata": {},
   "outputs": [
    {
     "data": {
      "image/png": "[encoded data removed]",
      "text/plain": [
       "<Figure size 640x480 with 1 Axes>"
      ]
     },
     "metadata": {},
     "output_type": "display_data"
    }
   ],
   "source": [
    "#Print graph of best fitness over generations\n",
    "import matplotlib.pyplot as plt\n",
    "plt.plot([tup[1] for tup in regressor.best_fitness_history], [tup[0] for tup in regressor.best_fitness_history])\n",
    "plt.xlabel('Generation')\n",
    "plt.ylabel('Best Fitness')\n",
    "plt.title('Best Fitness over Generations')\n",
    "plt.show()"
   ]
  }
 ],
 "metadata": {
  "kernelspec": {
   "display_name": "Python 3",
   "language": "python",
   "name": "python3"
  },
  "language_info": {
   "codemirror_mode": {
    "name": "ipython",
    "version": 3
   },
   "file_extension": ".py",
   "mimetype": "text/x-python",
   "name": "python",
   "nbconvert_exporter": "python",
   "pygments_lexer": "ipython3",
   "version": "3.9.13"
  }
 },
 "nbformat": 4,
 "nbformat_minor": 2
}

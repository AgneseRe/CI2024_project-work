{
 "cells": [
  {
   "cell_type": "code",
   "execution_count": 1,
   "metadata": {},
   "outputs": [],
   "source": [
    "import math\n",
    "import numpy as np\n",
    "from tqdm import tqdm"
   ]
  },
  {
   "cell_type": "code",
   "execution_count": 2,
   "metadata": {},
   "outputs": [
    {
     "data": {
      "text/plain": [
       "{'divide': 'warn', 'over': 'warn', 'under': 'ignore', 'invalid': 'warn'}"
      ]
     },
     "execution_count": 2,
     "metadata": {},
     "output_type": "execute_result"
    }
   ],
   "source": [
    "#warning settings\n",
    "np.seterr(all=\"ignore\") #ignore np warnings, the output will be nan or inf and will be handled correctly in the code. (using np.errstate slows down the code)"
   ]
  },
  {
   "cell_type": "code",
   "execution_count": 3,
   "metadata": {},
   "outputs": [],
   "source": [
    "# Configuration\n",
    "TRAIN_TEST_RATIO=0.8\n",
    "PROBLEM_NUMBER=5"
   ]
  },
  {
   "cell_type": "markdown",
   "metadata": {},
   "source": [
    "### Data Loading and Data Preprocessing"
   ]
  },
  {
   "cell_type": "code",
   "execution_count": null,
   "metadata": {},
   "outputs": [
    {
     "name": "stdout",
     "output_type": "stream",
     "text": [
      "Problem number: 5, variables: 2, train size: 4000, test size: 1000\n",
      "Training data: x shape (2, 4000), y shape (4000,)\n",
      "Testing data: x shape (2, 1000), y shape (1000,)\n"
     ]
    }
   ],
   "source": [
    "# Load problem data with context manager protocol\n",
    "with np.load(f'../data/problem_{PROBLEM_NUMBER}.npz') as problem:\n",
    "    x_1 = problem['x']\n",
    "    y_1 = problem['y']\n",
    "\n",
    "# Shuffle the data\n",
    "permutation = np.random.permutation(len(y_1))\n",
    "x_1 = x_1[:, permutation]\n",
    "y_1 = y_1[permutation]\n",
    "\n",
    "# Determine train test split sizes\n",
    "problem_len=len(y_1)\n",
    "train_size=int(TRAIN_TEST_RATIO*problem_len)\n",
    "\n",
    "# Split data\n",
    "x_train = x_1[:, :train_size]\n",
    "y_train = y_1[:train_size]\n",
    "\n",
    "x_test = x_1[:, train_size:]\n",
    "y_test = y_1[train_size:]\n",
    "\n",
    "\n",
    "# Print dataset information\n",
    "print(f\"Problem number: {PROBLEM_NUMBER}, variables: {x_1.shape[0]}, train size: {train_size}, test size: {problem_len-train_size}\")\n",
    "\n",
    "print(f\"Training data: x shape {x_train.shape}, y shape {y_train.shape}\")\n",
    "print(f\"Testing data: x shape {x_test.shape}, y shape {y_test.shape}\")"
   ]
  },
  {
   "cell_type": "markdown",
   "metadata": {},
   "source": [
    "### NumPy Unary and Binary Operations"
   ]
  },
  {
   "cell_type": "code",
   "execution_count": 5,
   "metadata": {},
   "outputs": [],
   "source": [
    "unary_ops = [\n",
    "    np.negative,\n",
    "    np.abs,\n",
    "    np.sqrt,\n",
    "    np.exp,\n",
    "    np.log,\n",
    "    np.sin,\n",
    "    np.cos,\n",
    "    np.tan,\n",
    "    np.arcsin,\n",
    "    np.arccos,\n",
    "    np.arctan,\n",
    "    np.sinh,\n",
    "    np.cosh,\n",
    "    np.tanh,\n",
    "    np.square,\n",
    "    np.cbrt,\n",
    "    np.reciprocal,\n",
    "    np.ceil,\n",
    "    np.floor\n",
    "]\n",
    "\n",
    "binary_ops = [\n",
    "    np.add,\n",
    "    np.subtract,\n",
    "    np.multiply,\n",
    "    np.divide,\n",
    "    np.power,\n",
    "    np.maximum,\n",
    "    np.minimum,\n",
    "    np.mod\n",
    "]"
   ]
  },
  {
   "cell_type": "markdown",
   "metadata": {},
   "source": [
    "### Symbolic Regression Class"
   ]
  },
  {
   "cell_type": "code",
   "execution_count": 6,
   "metadata": {},
   "outputs": [],
   "source": [
    "from tree import Tree\n",
    "\n",
    "class SymbolicRegression:\n",
    "    \"\"\"\n",
    "    A class to implement symbolic regression using an evolutionary algorithm \n",
    "    with an island model approach.\n",
    "\n",
    "    Parameters:\n",
    "        - population_per_island (int): Number of individuals (trees) on each island.\n",
    "        - island_num (int): Number of islands (sub-populations).\n",
    "        - max_generations (int): Maximum number of generations before stopping.\n",
    "        - mutation_rate (float): Mutation probability occurring in a tree.\n",
    "        - elitism_size (int): Number of top individuals directly inserted in the next generation.\n",
    "        - grow_full_ratio (float): Ratio of trees initialized with grow method vs. full method.\n",
    "        - max_mutations (int): Maximum number of mutations an individual can be subjected.\n",
    "        - migration_rate (float): Probability of a migration event between islands.\n",
    "        - collapse_rate (float): Probability of population collapse to introduce diversity.\n",
    "\n",
    "    Attributes:\n",
    "        - unary_ops (list): List of unary operations.\n",
    "        - binary_ops (list): List of binary operations.\n",
    "        - best_fitness_history (list): List that stores the best fitness for each generation.\n",
    "        - population (list of np.array): List of sub-populations (islands).\n",
    "\n",
    "    Returns:\n",
    "\n",
    "    \"\"\"\n",
    "    def __init__(self, population_per_island, island_num, max_generations, mutation_rate, elitism_size, grow_full_ratio, max_mutations, migration_rate, collapse_rate):\n",
    "        self.population_per_island = population_per_island\n",
    "        self.island_num = island_num\n",
    "        self.max_generations = max_generations\n",
    "        self.mutation_rate = mutation_rate\n",
    "        self.elitism_size = elitism_size\n",
    "        self.grow_full_ratio = grow_full_ratio\n",
    "        self.max_mutations = max_mutations\n",
    "        self.migration_rate = migration_rate\n",
    "        self.collapse_rate=collapse_rate\n",
    "\n",
    "        self.unary_ops = unary_ops\n",
    "        self.binary_ops = binary_ops\n",
    "        self.best_fitness_history = []\n",
    "        self.population = [None] * island_num\n",
    "\n",
    "        for j in range(island_num):\n",
    "            self.population[j] = np.array([\n",
    "                Tree(\"grow\") if i < int(population_per_island * self.grow_full_ratio) else Tree(\"full\") for i in range(population_per_island)\n",
    "            ])   \n",
    "\n",
    "\n",
    "    # Parents selection methods\n",
    "    def select_parents_fitness_proportional(self, n_elems=2, epsilon=1e-10, island=0):\n",
    "        \"\"\"\n",
    "        Selects parents using fitness proportional selection method.\n",
    "\n",
    "        This method randomly selects `n_elems` individuals based on their fitness.\n",
    "        Individuals with lower fitness have an higher probability to be selected.\n",
    "        This approach helps maintain diversity, but may lead to premature convergence \n",
    "        if few individuals have significantly better fitness than others.\n",
    "\n",
    "        Parameters:\n",
    "            - n_elems (int): Number of individuals to select.\n",
    "            - epsilon (float): Small value to avoid division by zero.\n",
    "            - island (int): Island on which the selection should be done.\n",
    "        \n",
    "        Returns:\n",
    "            - A tuple containing the `n_elems` selected parents.\n",
    "        \"\"\"\n",
    "        fitnesses = [tree.fitness for tree in self.population[island]]\n",
    "        inverted_fitnesses = [1 / (fitness + epsilon) for fitness in fitnesses]  # avoid division by zero\n",
    "        probabilities = inverted_fitnesses / sum(inverted_fitnesses)\n",
    "        parent1, parent2 = np.random.choice(self.population[island], size=n_elems, p=probabilities, replace=False)\n",
    "        return parent1, parent2\n",
    "    \n",
    "    \n",
    "    def select_parents_rank_based(self, n_elems=2, island=0, exponential=False):\n",
    "        \"\"\"\n",
    "        Selects parents using rank based selection method.\n",
    "\n",
    "        Assigns probabilities based on inversed ranks instead of absolute fitness values.\n",
    "        Parameters:\n",
    "            - n_elems (int): Number of individuals to select.\n",
    "            - island (int): Island on which the selection should be done.\n",
    "            - exponential (bool): If True, the ranks are raised to the power of the exponential parameter.\n",
    "        \n",
    "        Returns:\n",
    "            - A tuple containing the `n_elems` selected parents.\n",
    "        \"\"\"\n",
    "        fitnesses = np.array([tree.fitness for tree in self.population[island]])\n",
    "        ranks = np.argsort(fitnesses)\n",
    "        if exponential:\n",
    "            ranks = ranks**exponential\n",
    "        inversed_ranks = len(fitnesses) - ranks\n",
    "        probabilities = inversed_ranks / np.sum(inversed_ranks)\n",
    "        return np.random.choice(self.population[island], n_elems, p=probabilities, replace=False)\n",
    "    \n",
    "    \n",
    "    def select_parents_tournament(self, island=0):\n",
    "        \"\"\"\n",
    "        Selects parents using tournament selection method.\n",
    "\n",
    "        This method randomly selects a subset (tournament) of the population and selects the two \n",
    "        individuals with the best fitness from the subset as parents.\n",
    "\n",
    "        Parameters:\n",
    "            - island (int): Island on which the selection should be done.\n",
    "        \n",
    "        Returns:\n",
    "            - A tuple containing the two selected parents.\n",
    "        \"\"\"\n",
    "        tournament_size = 5\n",
    "        tournament = list(np.random.choice(self.population[island], tournament_size, replace=True))\n",
    "        tournament.sort(key=lambda x: x.fitness)\n",
    "        return tournament[0], tournament[1]\n",
    "    \n",
    "    # Choose the parents selection method\n",
    "    def select_parents(self, island, method=\"rank\"):\n",
    "        \"\"\"\n",
    "        Select parents based on the specified method.\n",
    "\n",
    "        Parameters:\n",
    "            - island (int): Island on which the selection should be done.\n",
    "            - method (str): The parent selection method to use.\n",
    "\n",
    "        Returns:\n",
    "            - A tuple containing the two selected parents.\n",
    "        \"\"\"\n",
    "        if method == \"rank\":\n",
    "            return self.select_parents_rank_based(island=island)\n",
    "        elif method == \"fitness_proportional\":\n",
    "            return self.select_parents_fitness_proportional(island=island)\n",
    "        elif method == \"tournament\":\n",
    "            return self.select_parents_tournament(island=island)\n",
    "        else:\n",
    "            return self.select_parents_rank_based(island=island)\n",
    "            \n",
    "            \n",
    "    # Mutation methods\n",
    "    def mutate(self, tree):\n",
    "        if np.random.rand() < 0.5:\n",
    "            tree.mutate_subtree()\n",
    "        else:\n",
    "            mutations = np.random.randint(1, self.max_mutations+1)\n",
    "            tree.mutate_single_node(num_mutations=mutations)\n",
    "        \n",
    "       \n",
    "\n",
    "\n",
    "    # Offsprings generation via mutation and crossover\n",
    "    def offspring_generation(self,island):\n",
    "        new_population = np.array([])\n",
    "\n",
    "        # Elitism   \n",
    "        elite_individuals = self.population[island][:self.elitism_size]\n",
    "        new_population = elite_individuals\n",
    "\n",
    "        # Main loop\n",
    "        while len(new_population) < self.population_per_island//2: \n",
    "            parent1, parent2 = self.select_parents(island=island)\n",
    "            # generate offsprings (one in mutation, two in crossover)\n",
    "            offsprings = np.array([])\n",
    "\n",
    "            if(np.random.rand() < self.mutation_rate):\n",
    "                parent_clone = parent1.copy_tree()\n",
    "                self.mutate(parent_clone)\n",
    "              \n",
    "                parent_clone.compute_fitness()\n",
    "                #if the fitness is valid \n",
    "                if(parent_clone.fitness is not np.inf and parent_clone.fitness is not np.nan):\n",
    "                    #to not re-add the same tree if the mutation was not possible (e.g. the tree is already a leaf and other edge cases)\n",
    "                    if( parent_clone.fitness!=parent1.fitness):\n",
    "                        offsprings = np.append(offsprings, [parent_clone])\n",
    "\n",
    "            else:    \n",
    "                offspring1, offspring2 = parent1.crossover(parent2)\n",
    "                if(offspring1 is not None and offspring2 is not None):\n",
    "               \n",
    "                    offspring1.compute_fitness()\n",
    "                    offspring2.compute_fitness()\n",
    "\n",
    "                    offsprings = np.append(offsprings, [offspring1, offspring2])\n",
    "\n",
    "            # Collapse branch\n",
    "            for offsp in offsprings:\n",
    "                if(np.random.rand() < self.collapse_rate):\n",
    "                    #clone the tree and collapse the branch\n",
    "                    tree_clone = offsp.copy_tree()\n",
    "                \n",
    "                    Tree.collapse_branch(tree_clone.root,force_collapse=True)\n",
    "                    tree_clone.compute_fitness()\n",
    "                    #if the fitness is not nan or inf after collapsing\n",
    "                    if(tree_clone.fitness is not None or tree_clone.fitness is not np.inf and tree_clone.fitness is not np.nan):\n",
    "                            offsp = tree_clone\n",
    "\n",
    "            new_population = np.concatenate((new_population, offsprings))\n",
    "                \n",
    "        return new_population\n",
    "    \n",
    "    # Genetic Algorithm: Evolutionary Process\n",
    "    def evolve(self,verbose=False,use_std_operators=False):\n",
    "        best_tree_island = np.full(self.island_num, None, dtype=object)\n",
    "        best_fitness_island = np.full(self.island_num, np.inf)\n",
    "        global_best_fitness = np.inf\n",
    "        global_best_tree = None\n",
    "        take_over = np.full(self.island_num, False)\n",
    "        # self.population_per_island.sort(key=lambda x: x.fitness) \n",
    "        #numpy sort of population over fitness\n",
    "        for i in range(self.island_num):\n",
    "            self.population[i].sort()\n",
    "      \n",
    "\n",
    "\n",
    "        for generation in tqdm(range(self.max_generations)):\n",
    "           \n",
    "            for i in range(self.island_num):\n",
    "                if take_over[i]:\n",
    "                    \n",
    "                    self.population[i] = np.unique(self.population[i])\n",
    "                    new_trees = np.array([Tree(\"grow\") for _ in range(self.population_per_island-len(self.population[i]))])\n",
    "                 \n",
    "                    self.population[i] = np.concatenate((self.population[i],new_trees))\n",
    "                    self.population[i].sort()\n",
    "                \n",
    "\n",
    "                if np.random.rand()<self.migration_rate and self.island_num>1:\n",
    "                    #pick a random island to migrate to \n",
    "                    island_to_migrate = np.random.randint(0,self.island_num)\n",
    "                    #select a random number from 0 to the population size of the current island\n",
    "                    random_index = np.random.randint(0,len(self.population[i]))\n",
    "                    \n",
    "                    self.population[island_to_migrate]=np.append(self.population[island_to_migrate],self.population[i][random_index])\n",
    "                    #remove the tree from the current island\n",
    "                    self.population[i]=np.delete(self.population[i],random_index)\n",
    "                    \n",
    "\n",
    "                    if(verbose):\n",
    "                        print(f\"Migration at {generation} gen from {i} to {island_to_migrate}\")\n",
    "\n",
    "\n",
    "                new_population=self.offspring_generation(island=i)\n",
    "                    \n",
    "                self.population[i]=np.concatenate((self.population[i],new_population))\n",
    "                self.population[i].sort()\n",
    "                \n",
    "                generation_best_fitness_island = self.population[i][0].fitness\n",
    "\n",
    "                if generation_best_fitness_island < best_fitness_island[i]:\n",
    "                    best_fitness_island[i] = generation_best_fitness_island\n",
    "                    best_tree_island[i] = self.population[i][0]\n",
    "                    \n",
    "\n",
    "                    if(best_fitness_island[i] < global_best_fitness):\n",
    "                        global_best_fitness = best_fitness_island[i]\n",
    "                        global_best_tree = best_tree_island[i]\n",
    "                        self.best_fitness_history.append((best_fitness_island[i], generation))\n",
    "\n",
    "\n",
    "                #trim the population to the best island_population\n",
    "                self.population[i] = self.population[i][:self.population_per_island]\n",
    "\n",
    "                \n",
    "                \n",
    "                n_best = [elem for elem in self.population[i] if elem.fitness == self.population[i][0].fitness]\n",
    "                take_over[i] = False\n",
    "                if len(n_best) > 0.5 * self.population_per_island:\n",
    "                        take_over[i] = True\n",
    "                             \n",
    "                if(generation%100==0 and verbose):\n",
    "                        print(f\"Generation {generation + 1}, Island: {i}, Best Fitness: {best_fitness_island[i]}, Best Formula: {best_tree_island[i].to_np_formula(use_std_operators=use_std_operators)}\")\n",
    "            \n",
    "                if global_best_fitness <= 1e-33:\n",
    "                    break   \n",
    "\n",
    "            if(generation%100==0 and not verbose):\n",
    "                print(f\"Generation {generation + 1}, Best Fitness: {global_best_fitness}, Best Formula: {global_best_tree.to_np_formula(use_std_operators=use_std_operators)}\")\n",
    "\n",
    "        return global_best_tree, global_best_fitness"
   ]
  },
  {
   "cell_type": "markdown",
   "metadata": {},
   "source": [
    "### Problem Definition and Symbolic Regression Initialization"
   ]
  },
  {
   "cell_type": "code",
   "execution_count": 7,
   "metadata": {},
   "outputs": [],
   "source": [
    "# --ISLAND SETTINGS--\n",
    "ISLAND_POPULATION = 70\n",
    "ISLAND_NUM = 4\n",
    "MIGRATION_RATE = 0.0005\n",
    "\n",
    "\n",
    "# --TREE SETTINGS--\n",
    "TREE_MAX_DEPTH = 5\n",
    "TREE_SPAWN_DEPTH = 2 #the max depth at which the tree will be spawned, they can grow up to TREE_MAX_DEPTH\n",
    "\n",
    "\n",
    "\n",
    "# --GENETIC ALGORITHM SETTINGS--\n",
    "MAX_GENERATIONS = 5000\n",
    "ELITISM_SIZE = 1\n",
    "VAR_NUM = x_train.shape[0]\n",
    "CONST_RANGE = 10 # Constats will be in the range [-CONST_RANGE, CONST_RANGE]\n",
    "MAX_MUTATIONS = 3  # Maximum number of mutations in a single mutation operation\n",
    "MUTATION_RATE = 0.35\n",
    "GROW_FULL_RATIO = 0.95\n",
    "COLLAPSE_RATE = 0.3\n",
    "\n",
    "# --DEPTH CHECK--\n",
    "min_depth_data = math.ceil(math.log(x_train.shape[0],2))\n",
    "if(TREE_SPAWN_DEPTH<min_depth_data):\n",
    "    TREE_SPAWN_DEPTH = min_depth_data\n",
    "    print(f\"Spawn depth too low, set to {TREE_SPAWN_DEPTH}\")\n",
    "\n",
    "if(TREE_MAX_DEPTH<TREE_SPAWN_DEPTH):\n",
    "    TREE_MAX_DEPTH = TREE_SPAWN_DEPTH+1\n",
    "    print(f\"Max depth too low, set to {TREE_MAX_DEPTH}\")\n",
    "\n",
    "\n",
    "Tree.set_params(unary_ops, binary_ops, VAR_NUM, CONST_RANGE,TREE_MAX_DEPTH,TREE_SPAWN_DEPTH, x_train, y_train, x_test, y_test)\n",
    "regressor = SymbolicRegression(\n",
    "    ISLAND_POPULATION,\n",
    "    ISLAND_NUM,\n",
    "    MAX_GENERATIONS,\n",
    "    MUTATION_RATE,\n",
    "    ELITISM_SIZE,\n",
    "    GROW_FULL_RATIO,\n",
    "    MAX_MUTATIONS,\n",
    "    MIGRATION_RATE,\n",
    "    COLLAPSE_RATE\n",
    "    \n",
    ")\n",
    "#print the trees\n"
   ]
  },
  {
   "cell_type": "markdown",
   "metadata": {},
   "source": [
    "### Algorithm Execution and Results Computation"
   ]
  },
  {
   "cell_type": "code",
   "execution_count": 8,
   "metadata": {},
   "outputs": [
    {
     "name": "stderr",
     "output_type": "stream",
     "text": [
      "  0%|          | 0/5000 [00:00<?, ?it/s]"
     ]
    },
    {
     "name": "stdout",
     "output_type": "stream",
     "text": [
      "Generation 1, Island: 0, Best Fitness: 2.168767419493271e-05, Best Formula: np.power(np.maximum(x[1], 6.658025012083968), np.minimum(x[0], -2.8322178038456913))\n",
      "Generation 1, Island: 1, Best Fitness: 5.487374600289094e-18, Best Formula: np.minimum(np.subtract(x[1], -4.632929596198148), np.remainder(x[0], x[0]))\n"
     ]
    },
    {
     "name": "stderr",
     "output_type": "stream",
     "text": [
      "  0%|          | 1/5000 [00:00<34:59,  2.38it/s]"
     ]
    },
    {
     "name": "stdout",
     "output_type": "stream",
     "text": [
      "Generation 1, Island: 2, Best Fitness: 1.7855028912073572e-06, Best Formula: np.multiply(np.maximum(x[1], x[0]), np.exp(-7.877855128139403))\n",
      "Generation 1, Island: 3, Best Fitness: 2.972197993992705e-08, Best Formula: np.divide(np.minimum(x[0], np.arcsin(np.power(8.022292417132874, -3.9035570743837393))), np.minimum(x[1], -1.711902071041635))\n"
     ]
    },
    {
     "name": "stderr",
     "output_type": "stream",
     "text": [
      "  0%|          | 15/5000 [00:03<16:49,  4.94it/s]"
     ]
    },
    {
     "name": "stdout",
     "output_type": "stream",
     "text": [
      "Migration at 14 gen from 0 to 0\n"
     ]
    },
    {
     "name": "stderr",
     "output_type": "stream",
     "text": [
      "  2%|▏         | 101/5000 [00:25<21:39,  3.77it/s]"
     ]
    },
    {
     "name": "stdout",
     "output_type": "stream",
     "text": [
      "Generation 101, Island: 0, Best Fitness: 5.482286979893996e-18, Best Formula: np.divide(np.power(8.206125393112618, -4.014433903492098), np.maximum(x[1], np.multiply(np.divide(np.power(4.855726628788071, x[0]), np.power(8.206125393112618, -6.279826713902736)), np.remainder(np.cosh(8.195646543221656), np.maximum(4.728798971630521, 4.855726628788071)))))\n",
      "Generation 101, Island: 1, Best Fitness: 5.479254140621447e-18, Best Formula: np.power(np.subtract(x[0], np.multiply(np.minimum(np.ceil(-4.632929596198148), np.add(x[1], -3.9903599328268307)), np.maximum(np.subtract(-0.3805985130453813, -4.632929596198148), np.cosh(x[0])))), -7.890010722064151)\n",
      "Generation 101, Island: 2, Best Fitness: 1.111373548853058e-18, Best Formula: np.divide(np.exp(np.minimum(np.ceil(np.divide(0.59785417049142, -8.84881555435259)), -9.561973527009764)), np.divide(np.multiply(np.sinh(np.add(x[1], -6.445361131685794)), np.maximum(np.maximum(8.876198121857065, x[0]), np.exp(9.241446549124777))), np.remainder(np.minimum(np.minimum(-5.2772233474521, -1.813315455202833), np.maximum(-2.3082485880737735, x[0])), x[0])))\n",
      "Generation 101, Island: 3, Best Fitness: 2.1313272971419997e-18, Best Formula: np.divide(np.multiply(x[0], np.power(8.022292417132874, np.add(-5.3607042012245065, -4.413432524060954))), np.minimum(np.minimum(np.minimum(np.remainder(-4.413432524060954, 8.616554969128067), np.subtract(x[1], 5.652821253108362)), np.remainder(0.26910507757083124, np.add(x[0], -5.3607042012245065))), np.remainder(np.power(7.494572610363541, 7.494572610363541), np.remainder(np.power(7.494572610363541, 7.494572610363541), np.add(x[0], -5.426497095781881)))))\n"
     ]
    },
    {
     "name": "stderr",
     "output_type": "stream",
     "text": [
      "  4%|▍         | 200/5000 [00:57<30:06,  2.66it/s]"
     ]
    },
    {
     "name": "stdout",
     "output_type": "stream",
     "text": [
      "Generation 201, Island: 0, Best Fitness: 2.6772258671529877e-18, Best Formula: np.divide(np.power(8.206125393112618, -7.478460114816401), np.add(np.multiply(np.maximum(np.cosh(4.855726628788071), np.maximum(8.206125393112618, x[1])), np.minimum(np.cbrt(-4.571483769974341), np.divide(1.380213295446147, 7.302022567432584))), np.multiply(np.multiply(np.add(-0.10937885257742508, x[0]), np.subtract(x[1], 2.3931614044376524)), 8.206125393112618)))\n",
      "Generation 201, Island: 1, Best Fitness: 5.4792288753185454e-18, Best Formula: np.power(np.subtract(x[0], np.multiply(np.minimum(np.ceil(-4.632929596198148), np.add(x[1], 5.4821109624481785)), np.maximum(np.subtract(-0.3805985130453813, -4.598683873707204), np.cosh(x[0])))), -7.890010722064151)\n",
      "Generation 201, Island: 2, Best Fitness: 1.1098884617972e-18, Best Formula: np.divide(np.exp(np.minimum(np.ceil(np.divide(0.59785417049142, -6.414955709597303)), -9.594196481926296)), np.divide(np.multiply(np.sinh(np.remainder(x[1], -6.445361131685794)), np.maximum(np.maximum(8.876198121857065, x[0]), np.exp(9.241446549124777))), np.remainder(np.minimum(np.minimum(-5.2772233474521, -1.813315455202833), np.subtract(-5.2772233474521, x[0])), x[0])))\n",
      "Generation 201, Island: 3, Best Fitness: 1.7461715617062466e-18, Best Formula: np.divide(np.multiply(x[0], np.power(8.022292417132874, np.add(-5.3607042012245065, -4.413432524060954))), np.minimum(np.minimum(np.add(np.remainder(-8.06337137394684, 2.7882378246973953), np.subtract(x[1], 5.652821253108362)), np.remainder(0.26910507757083124, np.add(x[0], -5.3607042012245065))), np.remainder(8.022292417132874, np.remainder(0.7221569744485059, np.add(x[0], -5.4806103425058)))))\n"
     ]
    },
    {
     "name": "stderr",
     "output_type": "stream",
     "text": [
      "  6%|▌         | 300/5000 [01:27<20:44,  3.78it/s]"
     ]
    },
    {
     "name": "stdout",
     "output_type": "stream",
     "text": [
      "Generation 301, Island: 0, Best Fitness: 2.002742341631083e-18, Best Formula: np.divide(np.power(8.246288862946194, -7.478460114816401), np.add(np.multiply(np.maximum(np.cosh(4.855726628788071), np.subtract(x[1], 2.3931614044376524)), np.minimum(np.cbrt(-4.571483769974341), np.subtract(x[1], 4.855726628788071))), np.multiply(np.multiply(np.add(-0.10937885257742508, x[0]), np.subtract(x[1], 2.3931614044376524)), 8.246288862946194)))\n",
      "Generation 301, Island: 1, Best Fitness: 5.4792288753185454e-18, Best Formula: np.power(np.subtract(x[0], np.multiply(np.minimum(np.ceil(-4.632929596198148), np.add(x[1], 5.4821109624481785)), np.maximum(np.subtract(-0.3805985130453813, -4.598683873707204), np.cosh(x[0])))), -7.890010722064151)\n",
      "Generation 301, Island: 2, Best Fitness: 1.0971682838729567e-18, Best Formula: np.divide(np.exp(np.minimum(np.ceil(np.exp(9.241446549124777)), -9.594196481926296)), np.divide(np.multiply(np.sinh(np.remainder(x[1], -6.445361131685794)), np.maximum(-2.6338590911993194, np.exp(9.241446549124777))), np.remainder(np.minimum(np.minimum(-5.2772233474521, 8.464731305029595), np.subtract(-5.2523757734140775, x[0])), x[0])))\n"
     ]
    },
    {
     "name": "stderr",
     "output_type": "stream",
     "text": [
      "  6%|▌         | 301/5000 [01:27<20:08,  3.89it/s]"
     ]
    },
    {
     "name": "stdout",
     "output_type": "stream",
     "text": [
      "Generation 301, Island: 3, Best Fitness: 1.1593046996726501e-18, Best Formula: np.divide(np.multiply(x[0], np.power(8.022292417132874, np.add(-5.3607042012245065, -4.413432524060954))), np.minimum(np.minimum(np.add(np.add(x[0], -4.413432524060954), np.subtract(x[1], 5.652821253108362)), np.remainder(0.26910507757083124, np.add(x[0], 5.652821253108362))), np.remainder(np.remainder(-4.413432524060954, np.add(x[0], -5.3607042012245065)), np.remainder(-4.413432524060954, np.add(x[0], -5.4806103425058)))))\n"
     ]
    },
    {
     "name": "stderr",
     "output_type": "stream",
     "text": [
      "  8%|▊         | 401/5000 [01:56<19:36,  3.91it/s]"
     ]
    },
    {
     "name": "stdout",
     "output_type": "stream",
     "text": [
      "Generation 401, Island: 0, Best Fitness: 1.8699787768923357e-18, Best Formula: np.divide(np.power(8.246288862946194, -7.478460114816401), np.add(np.multiply(np.maximum(np.cosh(4.855726628788071), -9.273873380877378), np.minimum(np.cbrt(-4.571483769974341), np.subtract(x[1], 5.243091645730386))), np.multiply(np.multiply(np.add(-0.10937885257742508, x[0]), np.subtract(x[1], 2.3931614044376524)), 8.246288862946194)))\n",
      "Generation 401, Island: 1, Best Fitness: 5.4792288753185454e-18, Best Formula: np.power(np.subtract(x[0], np.multiply(np.minimum(np.ceil(-4.632929596198148), np.add(x[1], 5.4821109624481785)), np.maximum(np.subtract(-0.3805985130453813, -4.598683873707204), np.cosh(x[0])))), -7.890010722064151)\n",
      "Generation 401, Island: 2, Best Fitness: 1.0744710784773612e-18, Best Formula: np.divide(np.exp(np.minimum(np.maximum(np.minimum(-5.2523757734140775, 8.464731305029595), np.minimum(-5.2523757734140775, 8.464731305029595)), -9.594196481926296)), np.divide(np.multiply(np.sinh(np.remainder(x[1], -6.438709443305162)), np.remainder(np.subtract(-5.22878217692533, x[0]), np.exp(9.241446549124777))), np.remainder(np.minimum(-5.667076688902859, np.subtract(-5.22878217692533, x[0])), x[0])))\n",
      "Generation 401, Island: 3, Best Fitness: 1.028472320820203e-18, Best Formula: np.divide(np.multiply(x[0], np.multiply(x[0], np.power(8.022292417132874, np.add(-6.099176361322249, -4.413432524060954)))), np.minimum(np.minimum(np.add(np.add(x[0], -4.413432524060954), np.subtract(x[1], 5.652821253108362)), np.add(np.add(x[0], 5.652821253108362), -5.3607042012245065)), np.remainder(np.add(np.add(x[0], 6.669448327982895), 5.652821253108362), np.remainder(0.7221569744485059, np.add(x[0], -5.4806103425058)))))\n"
     ]
    },
    {
     "name": "stderr",
     "output_type": "stream",
     "text": [
      " 10%|█         | 500/5000 [02:23<19:53,  3.77it/s]"
     ]
    },
    {
     "name": "stdout",
     "output_type": "stream",
     "text": [
      "Generation 501, Island: 0, Best Fitness: 1.8699787768923357e-18, Best Formula: np.divide(np.power(8.246288862946194, -7.478460114816401), np.add(np.multiply(np.maximum(np.cosh(4.855726628788071), -9.273873380877378), np.minimum(np.cbrt(-4.571483769974341), np.subtract(x[1], 5.243091645730386))), np.multiply(np.multiply(np.add(-0.10937885257742508, x[0]), np.subtract(x[1], 2.3931614044376524)), 8.246288862946194)))\n",
      "Generation 501, Island: 1, Best Fitness: 5.479197200695892e-18, Best Formula: np.power(np.subtract(x[0], np.multiply(np.minimum(np.ceil(-4.632929596198148), np.maximum(x[1], -4.110963324700587)), np.maximum(np.subtract(-0.3805985130453813, -4.598683873707204), np.square(x[0])))), -7.890010722064151)\n",
      "Generation 501, Island: 2, Best Fitness: 4.8683008226231685e-19, Best Formula: np.divide(np.exp(np.minimum(np.multiply(-9.594196481926296, np.divide(2.953706573297781, x[0])), -9.594196481926296)), np.divide(np.multiply(np.sinh(np.remainder(x[1], -6.438709443305162)), np.remainder(np.multiply(-5.667076688902859, x[0]), np.exp(9.241446549124777))), np.remainder(np.minimum(-5.008592603906306, np.maximum(9.125918830369496, 7.429533839129636)), x[0])))\n",
      "Generation 501, Island: 3, Best Fitness: 9.510044775288639e-19, Best Formula: np.divide(np.multiply(x[0], np.multiply(x[0], np.power(8.022292417132874, np.add(-6.099176361322249, -4.413432524060954)))), np.minimum(np.add(np.add(np.add(x[0], -4.413432524060954), np.subtract(x[1], 5.7131625279769604)), np.power(1.3725035600924773, np.add(-0.2973725260111344, -4.413432524060954))), np.remainder(np.power(8.022292417132874, np.add(-6.099176361322249, -4.413432524060954)), np.remainder(-0.2973725260111344, np.add(x[0], -5.4806103425058)))))\n"
     ]
    },
    {
     "name": "stderr",
     "output_type": "stream",
     "text": [
      " 12%|█▏        | 601/5000 [02:51<21:01,  3.49it/s]"
     ]
    },
    {
     "name": "stdout",
     "output_type": "stream",
     "text": [
      "Generation 601, Island: 0, Best Fitness: 1.8694538582422474e-18, Best Formula: np.divide(np.power(8.246288862946194, -7.478460114816401), np.add(np.multiply(np.maximum(np.sinh(4.855726628788071), -9.273873380877378), np.minimum(np.cbrt(-4.571483769974341), np.subtract(x[1], 5.243091645730386))), np.multiply(np.multiply(np.add(-0.10937885257742508, x[0]), np.subtract(x[1], 2.3931614044376524)), 8.246288862946194)))\n",
      "Generation 601, Island: 1, Best Fitness: 5.479197200695892e-18, Best Formula: np.power(np.subtract(x[0], np.multiply(np.minimum(np.ceil(-4.632929596198148), np.maximum(x[1], -4.110963324700587)), np.maximum(np.subtract(-0.3805985130453813, -4.598683873707204), np.square(x[0])))), -7.890010722064151)\n",
      "Generation 601, Island: 2, Best Fitness: 3.9160486505680053e-19, Best Formula: np.divide(np.exp(np.minimum(np.multiply(-9.594196481926296, np.divide(3.267433327912755, x[0])), -9.594196481926296)), np.divide(np.multiply(np.sinh(np.remainder(x[1], -6.438709443305162)), np.remainder(np.multiply(-9.594196481926296, x[0]), np.exp(9.241446549124777))), np.remainder(np.minimum(-5.008592603906306, np.remainder(x[1], -9.594196481926296)), x[0])))\n",
      "Generation 601, Island: 3, Best Fitness: 7.959652782812216e-19, Best Formula: np.divide(np.multiply(x[0], np.multiply(x[0], np.power(8.119909247064651, np.add(-6.099176361322249, -4.413432524060954)))), np.minimum(np.add(np.add(np.add(x[0], -4.413432524060954), np.subtract(x[1], 5.652821253108362)), np.multiply(np.maximum(-5.406981513125202, 0.04060143871511279), np.maximum(x[1], -6.816203702833659))), np.remainder(np.power(np.maximum(-2.392566188184661, 9.098408172213396), np.add(-8.621462268541858, -7.545131552544692)), np.remainder(-0.2973725260111344, np.add(x[0], -5.4806103425058)))))\n"
     ]
    },
    {
     "name": "stderr",
     "output_type": "stream",
     "text": [
      " 14%|█▍        | 700/5000 [03:19<21:13,  3.38it/s]"
     ]
    },
    {
     "name": "stdout",
     "output_type": "stream",
     "text": [
      "Generation 701, Island: 0, Best Fitness: 1.8694538582422474e-18, Best Formula: np.divide(np.power(8.246288862946194, -7.478460114816401), np.add(np.multiply(np.maximum(np.sinh(4.855726628788071), -9.273873380877378), np.minimum(np.cbrt(-4.571483769974341), np.subtract(x[1], 5.243091645730386))), np.multiply(np.multiply(np.add(-0.10937885257742508, x[0]), np.subtract(x[1], 2.3931614044376524)), 8.246288862946194)))\n",
      "Generation 701, Island: 1, Best Fitness: 5.479197200695892e-18, Best Formula: np.power(np.subtract(x[0], np.multiply(np.minimum(np.ceil(-4.632929596198148), np.maximum(x[1], -4.110963324700587)), np.maximum(np.subtract(-0.3805985130453813, -4.598683873707204), np.square(x[0])))), -7.890010722064151)\n",
      "Generation 701, Island: 2, Best Fitness: 2.931522920464846e-19, Best Formula: np.divide(np.exp(np.minimum(np.multiply(-9.594196481926296, np.divide(3.3890157005013872, x[0])), -9.594196481926296)), np.divide(np.multiply(np.sinh(np.remainder(x[1], -6.438709443305162)), np.remainder(np.multiply(-9.594196481926296, x[0]), np.exp(9.113308203078823))), np.remainder(np.minimum(-5.008592603906306, np.remainder(x[1], -9.594196481926296)), np.maximum(np.maximum(x[0], 2.3075822053689024), np.divide(-9.594196481926296, -4.064064063235215)))))\n"
     ]
    },
    {
     "name": "stderr",
     "output_type": "stream",
     "text": [
      " 14%|█▍        | 701/5000 [03:19<20:48,  3.44it/s]"
     ]
    },
    {
     "name": "stdout",
     "output_type": "stream",
     "text": [
      "Generation 701, Island: 3, Best Fitness: 7.920366559070521e-19, Best Formula: np.divide(np.multiply(x[0], np.multiply(x[0], np.power(8.119909247064651, np.add(-6.099176361322249, -4.413432524060954)))), np.minimum(np.add(np.add(np.add(x[0], -4.413432524060954), np.subtract(x[1], 5.652821253108362)), np.multiply(np.maximum(-5.406981513125202, 0.04060143871511279), np.maximum(x[1], -4.234706400389003))), np.remainder(np.subtract(8.119909247064651, np.power(5.652821253108362, -0.2072500388959071)), np.remainder(6.900020445883776, -0.6565955767311298))))\n"
     ]
    },
    {
     "name": "stderr",
     "output_type": "stream",
     "text": [
      " 15%|█▌        | 757/5000 [03:37<18:24,  3.84it/s]"
     ]
    },
    {
     "name": "stdout",
     "output_type": "stream",
     "text": [
      "Migration at 757 gen from 1 to 2\n"
     ]
    },
    {
     "name": "stderr",
     "output_type": "stream",
     "text": [
      " 16%|█▌        | 800/5000 [03:50<23:20,  3.00it/s]"
     ]
    },
    {
     "name": "stdout",
     "output_type": "stream",
     "text": [
      "Generation 801, Island: 0, Best Fitness: 1.6874440461208736e-18, Best Formula: np.divide(np.power(8.246288862946194, -7.478460114816401), np.add(np.multiply(np.maximum(np.sinh(4.855726628788071), -9.273873380877378), np.minimum(np.cbrt(-4.571483769974341), np.subtract(x[1], 6.072859810648762))), np.multiply(np.multiply(np.add(-0.10937885257742508, x[0]), np.subtract(x[1], 2.3931614044376524)), 8.246288862946194)))\n",
      "Generation 801, Island: 1, Best Fitness: 5.479197200695892e-18, Best Formula: np.power(np.subtract(x[0], np.multiply(np.minimum(np.ceil(-4.632929596198148), np.maximum(x[1], -4.110963324700587)), np.maximum(np.subtract(-0.3805985130453813, -4.598683873707204), np.square(x[0])))), -7.890010722064151)\n",
      "Generation 801, Island: 2, Best Fitness: 2.8686787121616745e-19, Best Formula: np.divide(np.exp(np.minimum(np.multiply(-9.594196481926296, np.divide(3.3890157005013872, x[0])), -9.594196481926296)), np.divide(np.multiply(np.sinh(np.remainder(x[1], -6.438709443305162)), np.remainder(np.multiply(-9.594196481926296, x[0]), np.exp(9.113308203078823))), np.remainder(np.minimum(-5.008592603906306, np.remainder(x[1], -9.594196481926296)), np.maximum(np.maximum(x[0], 3.3890157005013872), np.divide(-9.594196481926296, 2.3075822053689024)))))\n"
     ]
    },
    {
     "name": "stderr",
     "output_type": "stream",
     "text": [
      " 16%|█▌        | 801/5000 [03:50<25:10,  2.78it/s]"
     ]
    },
    {
     "name": "stdout",
     "output_type": "stream",
     "text": [
      "Generation 801, Island: 3, Best Fitness: 7.07526183643779e-19, Best Formula: np.divide(np.multiply(x[0], np.multiply(x[0], np.power(8.119909247064651, np.add(-6.099176361322249, -4.413432524060954)))), np.minimum(np.divide(np.add(np.add(x[0], -4.413432524060954), np.subtract(x[1], 5.652821253108362)), np.multiply(np.multiply(-6.099176361322249, 0.04060143871511279), np.divide(x[1], -0.6111343113268006))), np.remainder(np.power(8.119909247064651, np.add(-6.099176361322249, -6.099176361322249)), np.remainder(np.divide(6.900020445883776, 7.007838574275688), -0.6565955767311298))))\n"
     ]
    },
    {
     "name": "stderr",
     "output_type": "stream",
     "text": [
      " 18%|█▊        | 900/5000 [04:32<23:41,  2.88it/s]"
     ]
    },
    {
     "name": "stdout",
     "output_type": "stream",
     "text": [
      "Generation 901, Island: 0, Best Fitness: 1.2506162593196571e-18, Best Formula: np.divide(np.power(8.246288862946194, -7.478460114816401), np.add(np.multiply(np.maximum(np.sinh(4.851041829028732), 4.855726628788071), np.minimum(np.cbrt(-4.571483769974341), np.subtract(x[1], 6.072859810648762))), np.multiply(np.multiply(np.minimum(8.246288862946194, x[0]), np.minimum(x[1], 2.3931614044376524)), np.minimum(np.negative(-8.265347140338946), np.cosh(x[0])))))\n",
      "Generation 901, Island: 1, Best Fitness: 5.475398384709994e-18, Best Formula: np.power(np.subtract(np.minimum(np.remainder(-0.3805985130453813, np.sinh(3.5181378960830543)), np.remainder(np.divide(8.8301581990561, 9.80879005471515), np.add(x[1], 8.8301581990561))), np.multiply(np.minimum(np.ceil(-4.598683873707204), np.add(x[1], 8.8301581990561)), np.maximum(np.subtract(-0.3805985130453813, -4.598683873707204), -5.024031531471835))), np.minimum(np.subtract(np.minimum(-1.3050397504251539, np.add(x[1], 9.80879005471515)), np.multiply(np.maximum(x[1], x[1]), x[0])), -7.890010722064151))\n"
     ]
    },
    {
     "name": "stderr",
     "output_type": "stream",
     "text": [
      " 18%|█▊        | 901/5000 [04:33<24:33,  2.78it/s]"
     ]
    },
    {
     "name": "stdout",
     "output_type": "stream",
     "text": [
      "Generation 901, Island: 2, Best Fitness: 2.698336690283036e-19, Best Formula: np.divide(np.exp(np.minimum(np.multiply(-9.776536587158997, np.divide(3.3890157005013872, x[0])), -9.594196481926296)), np.divide(np.multiply(np.sinh(np.remainder(x[1], -6.438709443305162)), np.remainder(np.multiply(-9.776536587158997, x[0]), np.exp(9.113308203078823))), np.remainder(np.minimum(-5.008592603906306, np.remainder(x[1], -9.776536587158997)), np.maximum(np.maximum(x[0], 3.3890157005013872), np.maximum(x[0], 3.3890157005013872)))))\n",
      "Generation 901, Island: 3, Best Fitness: 2.4720173319924237e-19, Best Formula: np.divide(np.multiply(x[0], np.multiply(x[1], np.power(8.119909247064651, np.add(-6.099176361322249, -4.413432524060954)))), np.minimum(np.divide(np.add(np.add(x[0], -4.413432524060954), np.subtract(x[1], 5.652821253108362)), np.multiply(np.multiply(-4.413432524060954, 0.04060143871511279), np.divide(x[1], -0.6111343113268006))), np.remainder(np.power(8.119909247064651, np.add(-7.882714126685655, 5.67903789823659)), np.remainder(np.multiply(8.119909247064651, -6.099176361322249), -0.6565955767311298))))\n"
     ]
    },
    {
     "name": "stderr",
     "output_type": "stream",
     "text": [
      " 20%|██        | 1000/5000 [05:11<21:41,  3.07it/s]"
     ]
    },
    {
     "name": "stdout",
     "output_type": "stream",
     "text": [
      "Generation 1001, Island: 0, Best Fitness: 1.2478065558492323e-18, Best Formula: np.divide(np.power(np.negative(-8.265347140338946), -7.478460114816401), np.add(np.multiply(np.maximum(np.sinh(4.851041829028732), 4.855726628788071), np.minimum(np.cbrt(-4.571483769974341), np.subtract(x[1], 6.072859810648762))), np.multiply(np.multiply(np.minimum(8.246288862946194, x[0]), np.minimum(x[1], 2.3931614044376524)), np.minimum(np.negative(-8.265347140338946), np.square(x[0])))))\n",
      "Generation 1001, Island: 1, Best Fitness: 5.475297325777038e-18, Best Formula: np.power(np.subtract(np.divide(np.remainder(np.cbrt(x[0]), np.sinh(3.5181378960830543)), np.remainder(np.divide(9.80879005471515, 8.8301581990561), np.add(x[1], 8.8301581990561))), np.multiply(np.minimum(np.ceil(-4.598683873707204), np.add(x[1], 9.80879005471515)), np.maximum(np.subtract(-0.3805985130453813, -4.598683873707204), np.minimum(-0.3805985130453813, -4.235328327170064)))), np.minimum(np.subtract(np.minimum(-1.3340805636117423, np.add(x[1], 9.80879005471515)), np.multiply(np.maximum(x[1], x[1]), x[0])), -7.890010722064151))\n"
     ]
    },
    {
     "name": "stderr",
     "output_type": "stream",
     "text": [
      " 20%|██        | 1001/5000 [05:11<21:27,  3.11it/s]"
     ]
    },
    {
     "name": "stdout",
     "output_type": "stream",
     "text": [
      "Generation 1001, Island: 2, Best Fitness: 2.682618737407862e-19, Best Formula: np.divide(np.exp(np.minimum(np.multiply(-9.776536587158997, np.divide(3.3890157005013872, x[0])), -9.594196481926296)), np.divide(np.multiply(np.sinh(np.remainder(x[1], -6.438709443305162)), np.remainder(np.multiply(-9.776536587158997, x[0]), np.exp(9.113308203078823))), np.remainder(np.minimum(-5.008592603906306, np.remainder(x[1], -9.776536587158997)), np.maximum(np.divide(9.847968893055029, x[0]), np.maximum(x[0], 3.3890157005013872)))))\n",
      "Generation 1001, Island: 3, Best Fitness: 2.142614533674378e-19, Best Formula: np.divide(np.multiply(x[0], np.multiply(x[1], np.power(8.119909247064651, np.add(-6.099176361322249, -4.413432524060954)))), np.minimum(np.divide(np.add(np.add(x[0], -4.413432524060954), np.subtract(x[1], 5.511718197125342)), np.multiply(np.multiply(-4.413432524060954, 0.04060143871511279), np.divide(x[1], -0.6565955767311298))), np.remainder(np.power(8.180339355150906, np.tan(-1.0213240954846867)), np.remainder(8.180339355150906, -0.6565955767311298))))\n"
     ]
    },
    {
     "name": "stderr",
     "output_type": "stream",
     "text": [
      " 22%|██▏       | 1088/5000 [05:40<21:26,  3.04it/s]"
     ]
    },
    {
     "name": "stdout",
     "output_type": "stream",
     "text": [
      "Migration at 1088 gen from 1 to 1\n"
     ]
    },
    {
     "name": "stderr",
     "output_type": "stream",
     "text": [
      " 22%|██▏       | 1100/5000 [05:43<20:57,  3.10it/s]"
     ]
    },
    {
     "name": "stdout",
     "output_type": "stream",
     "text": [
      "Generation 1101, Island: 0, Best Fitness: 1.1838189866578792e-18, Best Formula: np.divide(np.power(np.negative(-8.265347140338946), -7.478460114816401), np.add(np.multiply(np.maximum(np.sinh(4.851041829028732), -3.3152917280718057), np.minimum(np.cbrt(-4.571483769974341), np.subtract(x[1], 6.072859810648762))), np.multiply(np.multiply(np.minimum(8.246288862946194, x[0]), np.minimum(x[1], 2.3931614044376524)), np.remainder(np.negative(-8.265347140338946), np.square(x[0])))))\n",
      "Generation 1101, Island: 1, Best Fitness: 5.475253905815047e-18, Best Formula: np.power(np.subtract(np.divide(np.remainder(np.cbrt(x[0]), np.sinh(3.5181378960830543)), np.remainder(np.divide(5.9624898529786226, 4.461149798297736), np.add(x[1], 8.8301581990561))), np.multiply(np.minimum(np.ceil(-4.598683873707204), 4.461149798297736), np.maximum(np.subtract(-0.3805985130453813, -4.598683873707204), np.minimum(-4.235328327170064, -4.235328327170064)))), np.minimum(np.subtract(np.minimum(np.divide(-6.838100506591866, 4.581269382563844), 8.8301581990561), np.multiply(np.maximum(x[1], x[1]), x[0])), -7.890010722064151))\n",
      "Generation 1101, Island: 2, Best Fitness: 2.682618737407862e-19, Best Formula: np.divide(np.exp(np.minimum(np.multiply(-9.776536587158997, np.divide(3.3890157005013872, x[0])), -9.594196481926296)), np.divide(np.multiply(np.sinh(np.remainder(x[1], -6.438709443305162)), np.remainder(np.multiply(-9.776536587158997, x[0]), np.exp(9.113308203078823))), np.remainder(np.minimum(-5.008592603906306, np.remainder(x[1], -9.776536587158997)), np.maximum(np.divide(9.847968893055029, x[0]), np.maximum(x[0], 3.3890157005013872)))))\n"
     ]
    },
    {
     "name": "stderr",
     "output_type": "stream",
     "text": [
      " 22%|██▏       | 1101/5000 [05:43<20:26,  3.18it/s]"
     ]
    },
    {
     "name": "stdout",
     "output_type": "stream",
     "text": [
      "Generation 1101, Island: 3, Best Fitness: 2.1404216920399175e-19, Best Formula: np.divide(np.multiply(x[0], np.multiply(x[1], np.power(8.119909247064651, np.add(-6.099176361322249, -4.413432524060954)))), np.minimum(np.divide(np.add(np.add(x[0], -4.413432524060954), np.subtract(x[1], 5.511718197125342)), np.multiply(np.multiply(-4.413432524060954, 0.04060143871511279), np.divide(x[1], -0.6565955767311298))), np.remainder(np.remainder(np.multiply(8.119909247064651, 0.04060143871511279), -0.6565955767311298), np.remainder(8.180339355150906, -0.6565955767311298))))\n"
     ]
    },
    {
     "name": "stderr",
     "output_type": "stream",
     "text": [
      " 24%|██▍       | 1201/5000 [06:19<33:06,  1.91it/s]"
     ]
    },
    {
     "name": "stdout",
     "output_type": "stream",
     "text": [
      "Generation 1201, Island: 0, Best Fitness: 1.1202462932748637e-18, Best Formula: np.divide(np.power(np.negative(-8.265347140338946), -7.478460114816401), np.add(np.multiply(np.maximum(np.sinh(4.851041829028732), -3.3152917280718057), np.minimum(np.cbrt(-4.571483769974341), np.subtract(x[1], 6.072859810648762))), np.multiply(np.multiply(np.minimum(8.246288862946194, x[0]), np.minimum(x[1], 2.3931614044376524)), np.remainder(8.349084837595836, np.square(x[0])))))\n",
      "Generation 1201, Island: 1, Best Fitness: 5.4752522434088656e-18, Best Formula: np.power(np.subtract(np.divide(np.remainder(np.cbrt(x[0]), np.sinh(8.8301581990561)), np.remainder(np.divide(5.9624898529786226, 4.581269382563844), np.add(x[1], 8.8301581990561))), np.multiply(np.minimum(np.ceil(-4.598683873707204), -0.29480459467516695), np.maximum(np.subtract(-0.3805985130453813, -4.598683873707204), -9.86652748933671))), np.minimum(np.subtract(np.minimum(np.divide(-6.838100506591866, 4.581269382563844), 8.8301581990561), np.multiply(np.maximum(x[1], x[1]), x[0])), -7.890010722064151))\n",
      "Generation 1201, Island: 2, Best Fitness: 2.6791181930779233e-19, Best Formula: np.divide(np.exp(np.minimum(np.multiply(-9.806557766484634, np.divide(3.3890157005013872, x[0])), -9.594196481926296)), np.divide(np.multiply(np.sinh(np.remainder(x[1], -6.438709443305162)), np.remainder(np.multiply(-9.776536587158997, x[0]), np.exp(9.113308203078823))), np.remainder(np.minimum(-5.008592603906306, np.remainder(x[1], -9.776536587158997)), np.maximum(np.divide(9.847968893055029, x[0]), np.maximum(x[0], 3.3890157005013872)))))\n",
      "Generation 1201, Island: 3, Best Fitness: 2.1404216920399175e-19, Best Formula: np.divide(np.multiply(x[0], np.multiply(x[1], np.power(8.119909247064651, np.add(-6.099176361322249, -4.413432524060954)))), np.minimum(np.divide(np.add(np.add(x[0], -4.413432524060954), np.subtract(x[1], 5.511718197125342)), np.multiply(np.multiply(-4.413432524060954, 0.04060143871511279), np.divide(x[1], -0.6565955767311298))), np.remainder(np.remainder(np.multiply(8.119909247064651, 0.04060143871511279), -0.6565955767311298), np.remainder(8.180339355150906, -0.6565955767311298))))\n"
     ]
    },
    {
     "name": "stderr",
     "output_type": "stream",
     "text": [
      " 26%|██▌       | 1301/5000 [06:57<15:55,  3.87it/s]"
     ]
    },
    {
     "name": "stdout",
     "output_type": "stream",
     "text": [
      "Generation 1301, Island: 0, Best Fitness: 1.1017390123050076e-18, Best Formula: np.divide(np.power(8.349084837595836, -7.478460114816401), np.add(np.multiply(np.maximum(np.sinh(4.851041829028732), 2.3931614044376524), np.minimum(np.cbrt(-4.571483769974341), np.subtract(x[1], 6.072859810648762))), np.multiply(np.multiply(np.minimum(6.072859810648762, x[0]), 2.4095302247788464), np.remainder(8.349084837595836, np.square(x[0])))))\n",
      "Generation 1301, Island: 1, Best Fitness: 5.4752522434088656e-18, Best Formula: np.power(np.subtract(np.divide(np.remainder(np.cbrt(x[0]), np.sinh(8.8301581990561)), np.remainder(np.divide(5.9624898529786226, 4.581269382563844), np.add(x[1], 8.8301581990561))), np.multiply(np.minimum(np.ceil(-4.598683873707204), -0.29480459467516695), np.maximum(np.subtract(-0.3805985130453813, -4.598683873707204), -9.86652748933671))), np.minimum(np.subtract(np.minimum(np.divide(-6.838100506591866, 4.581269382563844), 8.8301581990561), np.multiply(np.maximum(x[1], x[1]), x[0])), -7.890010722064151))\n",
      "Generation 1301, Island: 2, Best Fitness: 2.529897623521103e-19, Best Formula: np.divide(np.exp(np.minimum(np.multiply(-9.806557766484634, np.divide(3.3890157005013872, x[0])), np.minimum(-1.2053792871136224, np.minimum(-9.51736932472874, 7.03808039689968)))), np.divide(np.multiply(np.sinh(np.remainder(x[1], -6.438709443305162)), np.remainder(np.multiply(-9.594196481926296, x[0]), np.exp(9.113308203078823))), np.remainder(np.minimum(-5.008592603906306, np.remainder(x[1], -9.806557766484634)), np.maximum(np.divide(9.847968893055029, x[0]), np.maximum(x[0], 3.3890157005013872)))))\n",
      "Generation 1301, Island: 3, Best Fitness: 2.1404216920399175e-19, Best Formula: np.divide(np.multiply(x[0], np.multiply(x[1], np.power(8.119909247064651, np.add(-6.099176361322249, -4.413432524060954)))), np.minimum(np.divide(np.add(np.add(x[0], -4.413432524060954), np.subtract(x[1], 5.511718197125342)), np.multiply(np.multiply(-4.413432524060954, 0.04060143871511279), np.divide(x[1], -0.6565955767311298))), np.remainder(np.remainder(np.multiply(8.119909247064651, 0.04060143871511279), -0.6565955767311298), np.remainder(8.180339355150906, -0.6565955767311298))))\n"
     ]
    },
    {
     "name": "stderr",
     "output_type": "stream",
     "text": [
      " 28%|██▊       | 1400/5000 [07:46<42:45,  1.40it/s]"
     ]
    },
    {
     "name": "stdout",
     "output_type": "stream",
     "text": [
      "Generation 1401, Island: 0, Best Fitness: 1.1017390123050076e-18, Best Formula: np.divide(np.power(8.349084837595836, -7.478460114816401), np.add(np.multiply(np.maximum(np.sinh(4.851041829028732), 2.3931614044376524), np.minimum(np.cbrt(-4.571483769974341), np.subtract(x[1], 6.072859810648762))), np.multiply(np.multiply(np.minimum(6.072859810648762, x[0]), 2.4095302247788464), np.remainder(8.349084837595836, np.square(x[0])))))\n",
      "Generation 1401, Island: 1, Best Fitness: 5.475252171681438e-18, Best Formula: np.power(np.subtract(np.divide(np.remainder(np.cbrt(x[0]), np.sinh(8.8301581990561)), np.remainder(np.divide(5.9624898529786226, 4.581269382563844), np.add(x[1], 8.8301581990561))), np.multiply(np.minimum(np.ceil(-4.598683873707204), -0.29480459467516695), np.maximum(np.subtract(-0.3805985130453813, -4.598683873707204), -9.86652748933671))), np.minimum(np.subtract(np.minimum(np.divide(-6.823645437150921, 4.581269382563844), 0.8099290625788029), np.multiply(np.maximum(x[1], x[1]), x[0])), -7.890010722064151))\n"
     ]
    },
    {
     "name": "stderr",
     "output_type": "stream",
     "text": [
      " 28%|██▊       | 1401/5000 [07:46<38:07,  1.57it/s]"
     ]
    },
    {
     "name": "stdout",
     "output_type": "stream",
     "text": [
      "Generation 1401, Island: 2, Best Fitness: 2.480871406179265e-19, Best Formula: np.divide(np.exp(np.minimum(np.multiply(-9.806557766484634, np.divide(3.3890157005013872, x[0])), np.minimum(np.remainder(x[1], -9.806557766484634), np.minimum(-9.51736932472874, 7.03808039689968)))), np.divide(np.multiply(np.sinh(np.remainder(x[1], -6.438709443305162)), np.remainder(np.multiply(-9.806557766484634, x[0]), np.exp(9.113308203078823))), np.remainder(np.minimum(-5.189075174146782, np.remainder(x[1], -9.806557766484634)), np.maximum(np.divide(9.847968893055029, x[0]), np.maximum(x[0], 3.3890157005013872)))))\n",
      "Generation 1401, Island: 3, Best Fitness: 1.833850727527069e-19, Best Formula: np.divide(np.multiply(x[0], np.multiply(x[1], np.power(8.119909247064651, np.add(-6.099176361322249, -4.413432524060954)))), np.minimum(np.divide(np.add(np.add(x[0], -4.413432524060954), np.subtract(x[1], 5.511718197125342)), np.multiply(np.multiply(-4.413432524060954, 0.04060143871511279), np.divide(x[1], -0.6565955767311298))), np.remainder(np.power(np.square(5.511718197125342), np.subtract(x[1], 5.511718197125342)), np.remainder(8.119909247064651, -0.6565955767311298))))\n"
     ]
    },
    {
     "name": "stderr",
     "output_type": "stream",
     "text": [
      " 28%|██▊       | 1406/5000 [07:48<21:39,  2.77it/s]"
     ]
    },
    {
     "name": "stdout",
     "output_type": "stream",
     "text": [
      "Migration at 1406 gen from 1 to 2\n"
     ]
    },
    {
     "name": "stderr",
     "output_type": "stream",
     "text": [
      " 30%|███       | 1500/5000 [08:35<35:26,  1.65it/s]"
     ]
    },
    {
     "name": "stdout",
     "output_type": "stream",
     "text": [
      "Generation 1501, Island: 0, Best Fitness: 1.0989486097415341e-18, Best Formula: np.divide(np.power(8.349084837595836, -7.478460114816401), np.add(np.multiply(np.maximum(np.sinh(4.851041829028732), 2.3931614044376524), np.minimum(np.cbrt(-4.571483769974341), np.subtract(x[1], 6.091757021774921))), np.multiply(np.multiply(np.minimum(6.072859810648762, x[0]), 2.4095302247788464), np.remainder(8.349084837595836, np.square(x[0])))))\n",
      "Generation 1501, Island: 1, Best Fitness: 5.475251981701427e-18, Best Formula: np.power(np.subtract(np.divide(np.divide(np.cbrt(x[0]), np.tanh(8.8301581990561)), np.remainder(np.divide(5.9624898529786226, 4.6346769188072585), np.add(x[1], 8.8301581990561))), np.multiply(np.minimum(np.ceil(-4.598683873707204), 5.9624898529786226), np.maximum(np.subtract(-0.3805985130453813, -4.598683873707204), np.ceil(-4.598683873707204)))), np.minimum(np.subtract(np.minimum(np.divide(-6.823645437150921, 4.6346769188072585), 2.8541845821539624), np.multiply(np.maximum(x[1], x[1]), x[0])), -7.890010722064151))\n"
     ]
    },
    {
     "name": "stderr",
     "output_type": "stream",
     "text": [
      " 30%|███       | 1501/5000 [08:36<34:29,  1.69it/s]"
     ]
    },
    {
     "name": "stdout",
     "output_type": "stream",
     "text": [
      "Generation 1501, Island: 2, Best Fitness: 2.480871406179265e-19, Best Formula: np.divide(np.exp(np.minimum(np.multiply(-9.806557766484634, np.divide(3.3890157005013872, x[0])), np.minimum(np.remainder(x[1], -9.806557766484634), np.minimum(-9.51736932472874, 7.03808039689968)))), np.divide(np.multiply(np.sinh(np.remainder(x[1], -6.438709443305162)), np.remainder(np.multiply(-9.806557766484634, x[0]), np.exp(9.113308203078823))), np.remainder(np.minimum(-5.189075174146782, np.remainder(x[1], -9.806557766484634)), np.maximum(np.divide(9.847968893055029, x[0]), np.maximum(x[0], 3.3890157005013872)))))\n",
      "Generation 1501, Island: 3, Best Fitness: 1.832842485823334e-19, Best Formula: np.divide(np.multiply(x[0], np.multiply(x[1], np.power(8.119909247064651, np.add(-6.099176361322249, -4.413432524060954)))), np.minimum(np.divide(np.add(np.add(x[0], -4.41279550499665), np.subtract(x[1], 5.511718197125342)), np.multiply(np.multiply(-4.413432524060954, 0.04060143871511279), np.divide(x[1], -0.6565955767311298))), np.remainder(np.power(np.square(5.511718197125342), np.subtract(x[1], 5.511718197125342)), np.remainder(8.119909247064651, -0.6565955767311298))))\n"
     ]
    },
    {
     "name": "stderr",
     "output_type": "stream",
     "text": [
      " 32%|███▏      | 1600/5000 [09:22<21:29,  2.64it/s]"
     ]
    },
    {
     "name": "stdout",
     "output_type": "stream",
     "text": [
      "Generation 1601, Island: 0, Best Fitness: 9.699684271585718e-19, Best Formula: np.divide(np.power(8.349084837595836, -7.478460114816401), np.add(np.multiply(np.maximum(np.cosh(4.851041829028732), np.divide(8.349084837595836, x[0])), np.minimum(np.cbrt(-4.508930052063516), np.subtract(x[1], 6.149353656355981))), np.multiply(np.multiply(np.minimum(4.851041829028732, x[0]), 2.4095302247788464), np.remainder(8.494327263182008, np.square(x[0])))))\n",
      "Generation 1601, Island: 1, Best Fitness: 5.475251981700717e-18, Best Formula: np.power(np.subtract(np.divide(np.divide(np.cbrt(x[0]), np.divide(5.9624898529786226, 4.6346769188072585)), np.remainder(np.divide(5.9624898529786226, 5.9624898529786226), np.subtract(-0.3805985130453813, -4.598683873707204))), np.multiply(np.minimum(np.ceil(-4.598683873707204), 1.4710569473742225), np.maximum(np.subtract(-0.3805985130453813, -4.598683873707204), np.ceil(-4.598683873707204)))), np.minimum(np.subtract(np.minimum(np.divide(-6.823645437150921, 4.6346769188072585), 8.8301581990561), np.multiply(np.maximum(x[1], x[1]), x[0])), -7.890010722064151))\n",
      "Generation 1601, Island: 2, Best Fitness: 2.480871406179265e-19, Best Formula: np.divide(np.exp(np.minimum(np.multiply(-9.806557766484634, np.divide(3.3890157005013872, x[0])), np.minimum(np.remainder(x[1], -9.806557766484634), np.minimum(-9.51736932472874, 7.03808039689968)))), np.divide(np.multiply(np.sinh(np.remainder(x[1], -6.438709443305162)), np.remainder(np.multiply(-9.806557766484634, x[0]), np.exp(9.113308203078823))), np.remainder(np.minimum(-5.189075174146782, np.remainder(x[1], -9.806557766484634)), np.maximum(np.divide(9.847968893055029, x[0]), np.maximum(x[0], 3.3890157005013872)))))\n"
     ]
    },
    {
     "name": "stderr",
     "output_type": "stream",
     "text": [
      " 32%|███▏      | 1601/5000 [09:22<26:14,  2.16it/s]"
     ]
    },
    {
     "name": "stdout",
     "output_type": "stream",
     "text": [
      "Generation 1601, Island: 3, Best Fitness: 1.8060129954353164e-19, Best Formula: np.divide(np.multiply(x[0], np.multiply(x[1], np.power(8.119909247064651, np.add(-6.099176361322249, -4.413432524060954)))), np.minimum(np.divide(np.add(np.add(x[0], -4.41279550499665), np.subtract(x[1], 5.511718197125342)), np.multiply(np.multiply(-4.413432524060954, 0.04060143871511279), np.divide(x[1], -0.6565955767311298))), np.remainder(np.power(np.square(4.789157849894689), np.subtract(x[1], 5.511718197125342)), np.remainder(9.410235449060945, -0.6565955767311298))))\n"
     ]
    },
    {
     "name": "stderr",
     "output_type": "stream",
     "text": [
      " 34%|███▍      | 1700/5000 [09:56<17:22,  3.17it/s]"
     ]
    },
    {
     "name": "stdout",
     "output_type": "stream",
     "text": [
      "Generation 1701, Island: 0, Best Fitness: 9.692714722276499e-19, Best Formula: np.divide(np.power(8.349084837595836, -7.478460114816401), np.add(np.multiply(np.maximum(np.cosh(4.851041829028732), np.divide(8.847497423872966, x[0])), np.minimum(np.cbrt(-4.508930052063516), np.subtract(x[1], 6.149353656355981))), np.multiply(np.multiply(np.minimum(4.851041829028732, x[0]), 2.4095302247788464), np.remainder(8.494327263182008, np.square(x[0])))))\n",
      "Generation 1701, Island: 1, Best Fitness: 5.4752519501012806e-18, Best Formula: np.power(np.subtract(np.divide(np.multiply(np.cbrt(x[0]), np.tanh(2.8541845821539624)), np.remainder(np.divide(5.9624898529786226, 4.6346769188072585), np.add(x[1], 8.8301581990561))), np.multiply(np.minimum(np.ceil(-4.598683873707204), np.tanh(5.9624898529786226)), np.maximum(np.subtract(-0.3805985130453813, -4.598683873707204), np.tanh(5.9624898529786226)))), np.minimum(np.subtract(np.minimum(np.divide(-6.823645437150921, 4.6346769188072585), 2.8541845821539624), np.multiply(np.maximum(x[1], x[1]), x[0])), -7.890010722064151))\n",
      "Generation 1701, Island: 2, Best Fitness: 2.480871406179265e-19, Best Formula: np.divide(np.exp(np.minimum(np.multiply(-9.806557766484634, np.divide(3.3890157005013872, x[0])), np.minimum(np.remainder(x[1], -9.806557766484634), np.minimum(-9.51736932472874, 7.03808039689968)))), np.divide(np.multiply(np.sinh(np.remainder(x[1], -6.438709443305162)), np.remainder(np.multiply(-9.806557766484634, x[0]), np.exp(9.113308203078823))), np.remainder(np.minimum(-5.189075174146782, np.remainder(x[1], -9.806557766484634)), np.maximum(np.divide(9.847968893055029, x[0]), np.maximum(x[0], 3.3890157005013872)))))\n"
     ]
    },
    {
     "name": "stderr",
     "output_type": "stream",
     "text": [
      " 34%|███▍      | 1701/5000 [09:56<17:36,  3.12it/s]"
     ]
    },
    {
     "name": "stdout",
     "output_type": "stream",
     "text": [
      "Generation 1701, Island: 3, Best Fitness: 1.7847929058385067e-19, Best Formula: np.divide(np.multiply(x[0], np.multiply(x[1], np.power(8.119909247064651, np.add(-6.099176361322249, -4.413432524060954)))), np.minimum(np.divide(np.add(np.add(x[0], -4.41279550499665), np.subtract(x[1], 5.511718197125342)), np.multiply(np.multiply(-4.413432524060954, 0.04060143871511279), np.divide(x[1], -0.6565955767311298))), np.remainder(np.power(np.multiply(5.068611817927859, 3.6539496438161123), np.subtract(x[1], 5.511718197125342)), np.remainder(4.789157849894689, -0.6565955767311298))))\n"
     ]
    },
    {
     "name": "stderr",
     "output_type": "stream",
     "text": [
      " 36%|███▌      | 1789/5000 [10:28<28:31,  1.88it/s]"
     ]
    },
    {
     "name": "stdout",
     "output_type": "stream",
     "text": [
      "Migration at 1789 gen from 2 to 3\n"
     ]
    },
    {
     "name": "stderr",
     "output_type": "stream",
     "text": [
      " 36%|███▌      | 1800/5000 [10:34<27:58,  1.91it/s]"
     ]
    },
    {
     "name": "stdout",
     "output_type": "stream",
     "text": [
      "Generation 1801, Island: 0, Best Fitness: 9.582493257013237e-19, Best Formula: np.divide(np.power(8.349084837595836, -7.491941095068659), np.add(np.multiply(np.maximum(np.cosh(4.851041829028732), np.divide(8.817280996280477, x[0])), np.minimum(np.cbrt(-4.508930052063516), np.subtract(x[1], 6.149353656355981))), np.multiply(np.multiply(np.minimum(4.851041829028732, x[0]), 2.4095302247788464), np.remainder(8.494327263182008, np.square(x[0])))))\n",
      "Generation 1801, Island: 1, Best Fitness: 5.475251945875654e-18, Best Formula: np.power(np.subtract(np.divide(np.multiply(np.cbrt(x[0]), np.tanh(4.161180876565542)), np.remainder(np.divide(5.9624898529786226, 4.621109791013215), 8.573422764356888)), np.multiply(np.minimum(np.ceil(-4.598683873707204), np.maximum(-1.8772012063237025, 5.9624898529786226)), np.maximum(np.subtract(-0.3805985130453813, -4.598683873707204), np.subtract(-0.3805985130453813, -4.598683873707204)))), np.minimum(np.subtract(np.minimum(np.divide(-6.823645437150921, 4.6346769188072585), np.tanh(5.9624898529786226)), np.multiply(np.maximum(x[1], x[1]), x[0])), -7.890010722064151))\n"
     ]
    },
    {
     "name": "stderr",
     "output_type": "stream",
     "text": [
      " 36%|███▌      | 1801/5000 [10:34<27:05,  1.97it/s]"
     ]
    },
    {
     "name": "stdout",
     "output_type": "stream",
     "text": [
      "Generation 1801, Island: 2, Best Fitness: 2.388565802548093e-19, Best Formula: np.divide(np.exp(np.minimum(np.multiply(-9.917016750745983, np.divide(3.3890157005013872, x[0])), np.minimum(np.remainder(x[1], -9.917016750745983), np.minimum(-9.51736932472874, 7.03808039689968)))), np.divide(np.multiply(np.sinh(np.remainder(x[1], -6.438709443305162)), np.remainder(np.multiply(-9.917016750745983, x[0]), np.exp(9.113308203078823))), np.remainder(np.minimum(-5.189075174146782, np.remainder(x[1], -9.917016750745983)), np.maximum(np.divide(9.847968893055029, x[0]), np.maximum(x[0], 3.3890157005013872)))))\n",
      "Generation 1801, Island: 3, Best Fitness: 1.7847929058385067e-19, Best Formula: np.divide(np.multiply(x[0], np.multiply(x[1], np.power(8.119909247064651, np.add(-6.099176361322249, -4.413432524060954)))), np.minimum(np.divide(np.add(np.add(x[0], -4.41279550499665), np.subtract(x[1], 5.511718197125342)), np.multiply(np.multiply(-4.413432524060954, 0.04060143871511279), np.divide(x[1], -0.6565955767311298))), np.remainder(np.power(np.multiply(5.068611817927859, 3.6539496438161123), np.subtract(x[1], 5.511718197125342)), np.remainder(4.789157849894689, -0.6565955767311298))))\n"
     ]
    },
    {
     "name": "stderr",
     "output_type": "stream",
     "text": [
      " 38%|███▊      | 1900/5000 [11:21<20:59,  2.46it/s]"
     ]
    },
    {
     "name": "stdout",
     "output_type": "stream",
     "text": [
      "Generation 1901, Island: 0, Best Fitness: 9.571651745360515e-19, Best Formula: np.divide(np.power(8.349084837595836, -7.491941095068659), np.add(np.multiply(np.maximum(np.cosh(4.851041829028732), np.divide(9.671115874313564, x[0])), np.minimum(np.cbrt(-4.508930052063516), np.subtract(x[1], 6.149353656355981))), np.multiply(np.multiply(np.minimum(4.851041829028732, x[0]), 2.4095302247788464), np.remainder(8.494327263182008, np.square(x[0])))))\n",
      "Generation 1901, Island: 1, Best Fitness: 5.475251942368868e-18, Best Formula: np.power(np.subtract(np.divide(np.multiply(np.cbrt(x[0]), np.tanh(2.990638186961771)), np.remainder(np.divide(5.9624898529786226, 4.6346769188072585), np.add(x[1], 8.8301581990561))), np.multiply(np.minimum(np.ceil(-4.598683873707204), np.tanh(5.9624898529786226)), np.maximum(np.subtract(-0.3805985130453813, -4.598683873707204), np.tanh(5.9624898529786226)))), np.minimum(np.subtract(np.minimum(np.divide(-6.823645437150921, 4.621109791013215), 4.621109791013215), np.multiply(np.maximum(x[1], x[1]), x[0])), -7.890010722064151))\n",
      "Generation 1901, Island: 2, Best Fitness: 2.3733260082897194e-19, Best Formula: np.divide(np.exp(np.minimum(np.multiply(-9.917016750745983, np.divide(3.3890157005013872, x[0])), np.minimum(-9.511307117109208, np.remainder(x[1], -9.917016750745983)))), np.divide(np.multiply(np.sinh(np.remainder(x[1], -6.438709443305162)), np.remainder(np.multiply(-9.917016750745983, x[0]), np.exp(9.113308203078823))), np.remainder(np.minimum(-5.189075174146782, np.remainder(x[1], -9.917016750745983)), np.maximum(np.divide(9.847968893055029, x[0]), np.maximum(x[0], 3.3890157005013872)))))\n",
      "Generation 1901, Island: 3, Best Fitness: 1.7847929058385067e-19, Best Formula: np.divide(np.multiply(x[0], np.multiply(x[1], np.power(8.119909247064651, np.add(-6.099176361322249, -4.413432524060954)))), np.minimum(np.divide(np.add(np.add(x[0], -4.41279550499665), np.subtract(x[1], 5.511718197125342)), np.multiply(np.multiply(-4.413432524060954, 0.04060143871511279), np.divide(x[1], -0.6565955767311298))), np.remainder(np.power(np.multiply(5.068611817927859, 3.6539496438161123), np.subtract(x[1], 5.511718197125342)), np.remainder(4.789157849894689, -0.6565955767311298))))\n"
     ]
    },
    {
     "name": "stderr",
     "output_type": "stream",
     "text": [
      " 39%|███▉      | 1967/5000 [11:47<16:39,  3.04it/s]"
     ]
    },
    {
     "name": "stdout",
     "output_type": "stream",
     "text": [
      "Migration at 1966 gen from 2 to 1\n"
     ]
    },
    {
     "name": "stderr",
     "output_type": "stream",
     "text": [
      " 40%|████      | 2000/5000 [11:59<19:33,  2.56it/s]"
     ]
    },
    {
     "name": "stdout",
     "output_type": "stream",
     "text": [
      "Generation 2001, Island: 0, Best Fitness: 9.531473093348473e-19, Best Formula: np.divide(np.power(8.349084837595836, -7.491941095068659), np.add(np.multiply(np.maximum(np.cosh(4.851041829028732), np.divide(9.960525321955007, x[0])), np.minimum(np.cbrt(-4.508930052063516), np.subtract(x[1], 6.149353656355981))), np.multiply(np.multiply(np.minimum(2.4095302247788464, x[0]), np.minimum(4.851041829028732, x[0])), np.remainder(8.494327263182008, np.square(x[0])))))\n",
      "Generation 2001, Island: 1, Best Fitness: 5.4752487510575655e-18, Best Formula: np.power(np.subtract(np.divide(np.power(np.cbrt(x[0]), np.divide(-8.363228589723926, -9.981338532552645)), np.remainder(np.divide(3.5659824660363544, -0.2831155373172507), 4.621109791013215)), np.multiply(np.minimum(np.ceil(-4.598683873707204), np.tanh(-0.3805985130453813)), np.maximum(np.subtract(-0.3805985130453813, -4.598683873707204), np.cbrt(x[0])))), np.minimum(np.subtract(np.minimum(np.divide(-6.823645437150921, 4.621109791013215), np.tanh(4.621109791013215)), np.multiply(np.maximum(x[1], x[1]), x[0])), -7.890010722064151))\n"
     ]
    },
    {
     "name": "stderr",
     "output_type": "stream",
     "text": [
      " 40%|████      | 2001/5000 [12:00<21:26,  2.33it/s]"
     ]
    },
    {
     "name": "stdout",
     "output_type": "stream",
     "text": [
      "Generation 2001, Island: 2, Best Fitness: 2.3733260082897194e-19, Best Formula: np.divide(np.exp(np.minimum(np.multiply(-9.917016750745983, np.divide(3.3890157005013872, x[0])), np.minimum(-9.511307117109208, np.remainder(x[1], -9.917016750745983)))), np.divide(np.multiply(np.sinh(np.remainder(x[1], -6.438709443305162)), np.remainder(np.multiply(-9.917016750745983, x[0]), np.exp(9.113308203078823))), np.remainder(np.minimum(-5.189075174146782, np.remainder(x[1], -9.917016750745983)), np.maximum(np.divide(9.847968893055029, x[0]), np.maximum(x[0], 3.3890157005013872)))))\n",
      "Generation 2001, Island: 3, Best Fitness: 1.7837506510939885e-19, Best Formula: np.divide(np.multiply(x[0], np.multiply(x[1], np.power(8.119909247064651, np.add(-6.099176361322249, -4.41279550499665)))), np.minimum(np.divide(np.add(np.add(x[0], -4.41279550499665), np.subtract(x[1], 5.511718197125342)), np.multiply(np.multiply(-4.413432524060954, 0.04060143871511279), np.divide(x[1], -0.6565955767311298))), np.remainder(np.power(np.multiply(4.789157849894689, 3.6539496438161123), np.subtract(x[1], 5.511718197125342)), np.remainder(-4.41279550499665, -0.6565955767311298))))\n"
     ]
    },
    {
     "name": "stderr",
     "output_type": "stream",
     "text": [
      " 42%|████▏     | 2100/5000 [12:40<19:30,  2.48it/s]"
     ]
    },
    {
     "name": "stdout",
     "output_type": "stream",
     "text": [
      "Generation 2101, Island: 0, Best Fitness: 9.530408166331958e-19, Best Formula: np.divide(np.power(8.349599002624952, -7.491941095068659), np.add(np.multiply(np.maximum(np.cosh(4.851041829028732), np.divide(9.960525321955007, x[0])), np.minimum(np.cbrt(-4.508930052063516), np.subtract(x[1], 6.149353656355981))), np.multiply(np.multiply(np.minimum(2.4095302247788464, x[0]), np.minimum(4.851041829028732, x[0])), np.remainder(8.494327263182008, np.square(x[0])))))\n",
      "Generation 2101, Island: 1, Best Fitness: 5.475248747489021e-18, Best Formula: np.power(np.subtract(np.divide(np.power(np.cbrt(x[0]), np.divide(-8.363228589723926, -9.981338532552645)), np.remainder(np.divide(3.5659824660363544, -0.2831155373172507), 4.621109791013215)), np.multiply(np.minimum(np.ceil(-4.598683873707204), np.tanh(-0.3805985130453813)), np.maximum(np.subtract(-0.3805985130453813, -4.598683873707204), np.sqrt(x[0])))), np.minimum(np.subtract(np.divide(np.divide(-6.823645437150921, 4.621109791013215), np.tanh(4.621109791013215)), np.multiply(np.minimum(x[1], x[1]), x[0])), -7.890010722064151))\n"
     ]
    },
    {
     "name": "stderr",
     "output_type": "stream",
     "text": [
      " 42%|████▏     | 2101/5000 [12:41<19:13,  2.51it/s]"
     ]
    },
    {
     "name": "stdout",
     "output_type": "stream",
     "text": [
      "Generation 2101, Island: 2, Best Fitness: 2.3733260082897194e-19, Best Formula: np.divide(np.exp(np.minimum(np.multiply(-9.917016750745983, np.divide(3.3890157005013872, x[0])), np.minimum(-9.511307117109208, np.remainder(x[1], -9.917016750745983)))), np.divide(np.multiply(np.sinh(np.remainder(x[1], -6.438709443305162)), np.remainder(np.multiply(-9.917016750745983, x[0]), np.exp(9.113308203078823))), np.remainder(np.minimum(-5.189075174146782, np.remainder(x[1], -9.917016750745983)), np.maximum(np.divide(9.847968893055029, x[0]), np.maximum(x[0], 3.3890157005013872)))))\n",
      "Generation 2101, Island: 3, Best Fitness: 1.782329253823142e-19, Best Formula: np.divide(np.multiply(x[0], np.multiply(x[1], np.power(8.119909247064651, np.add(-6.099176361322249, -4.41279550499665)))), np.minimum(np.divide(np.add(np.add(x[0], -4.41279550499665), np.subtract(x[1], 5.511718197125342)), np.multiply(np.multiply(-4.413432524060954, 0.04060143871511279), np.divide(x[1], -0.6565955767311298))), np.remainder(np.power(np.multiply(4.789157849894689, 3.6539496438161123), np.subtract(x[1], 5.511718197125342)), np.remainder(np.divide(1.459527599741456, 7.890764159344027), -0.6565955767311298))))\n"
     ]
    },
    {
     "name": "stderr",
     "output_type": "stream",
     "text": [
      " 44%|████▍     | 2200/5000 [13:21<21:17,  2.19it/s]"
     ]
    },
    {
     "name": "stdout",
     "output_type": "stream",
     "text": [
      "Generation 2201, Island: 0, Best Fitness: 9.530408166331958e-19, Best Formula: np.divide(np.power(8.349599002624952, -7.491941095068659), np.add(np.multiply(np.maximum(np.cosh(4.851041829028732), np.divide(9.960525321955007, x[0])), np.minimum(np.cbrt(-4.508930052063516), np.subtract(x[1], 6.149353656355981))), np.multiply(np.multiply(np.minimum(2.4095302247788464, x[0]), np.minimum(4.851041829028732, x[0])), np.remainder(8.494327263182008, np.square(x[0])))))\n",
      "Generation 2201, Island: 1, Best Fitness: 5.4752464056060115e-18, Best Formula: np.power(np.subtract(np.divide(np.maximum(np.cbrt(x[0]), np.divide(-8.363228589723926, -9.981338532552645)), np.remainder(np.divide(3.5659824660363544, -0.2831155373172507), 4.621109791013215)), np.multiply(np.minimum(np.ceil(-4.598683873707204), np.tanh(3.963900016694117)), np.maximum(np.subtract(-0.3805985130453813, -4.598683873707204), np.sqrt(x[0])))), np.minimum(np.subtract(np.divide(np.divide(-6.823645437150921, 4.621109791013215), np.tanh(4.621109791013215)), np.multiply(np.minimum(x[1], x[1]), x[0])), -7.890010722064151))\n"
     ]
    },
    {
     "name": "stderr",
     "output_type": "stream",
     "text": [
      " 44%|████▍     | 2201/5000 [13:22<22:02,  2.12it/s]"
     ]
    },
    {
     "name": "stdout",
     "output_type": "stream",
     "text": [
      "Generation 2201, Island: 2, Best Fitness: 2.3733260082897194e-19, Best Formula: np.divide(np.exp(np.minimum(np.multiply(-9.917016750745983, np.divide(3.3890157005013872, x[0])), np.minimum(-9.511307117109208, np.remainder(x[1], -9.917016750745983)))), np.divide(np.multiply(np.sinh(np.remainder(x[1], -6.438709443305162)), np.remainder(np.multiply(-9.917016750745983, x[0]), np.exp(9.113308203078823))), np.remainder(np.minimum(-5.189075174146782, np.remainder(x[1], -9.917016750745983)), np.maximum(np.divide(9.847968893055029, x[0]), np.maximum(x[0], 3.3890157005013872)))))\n",
      "Generation 2201, Island: 3, Best Fitness: 1.782329253823142e-19, Best Formula: np.divide(np.multiply(x[0], np.multiply(x[1], np.power(8.119909247064651, np.add(-6.099176361322249, -4.41279550499665)))), np.minimum(np.divide(np.add(np.add(x[0], -4.41279550499665), np.subtract(x[1], 5.511718197125342)), np.multiply(np.multiply(-4.413432524060954, 0.04060143871511279), np.divide(x[1], -0.6565955767311298))), np.remainder(np.power(np.multiply(4.789157849894689, 3.6539496438161123), np.subtract(x[1], 5.511718197125342)), np.remainder(np.divide(1.459527599741456, 7.890764159344027), -0.6565955767311298))))\n"
     ]
    },
    {
     "name": "stderr",
     "output_type": "stream",
     "text": [
      " 46%|████▌     | 2300/5000 [14:01<25:42,  1.75it/s]"
     ]
    },
    {
     "name": "stdout",
     "output_type": "stream",
     "text": [
      "Generation 2301, Island: 0, Best Fitness: 9.42289395540723e-19, Best Formula: np.divide(np.power(8.403145165187588, -7.491941095068659), np.add(np.multiply(np.maximum(np.cosh(4.851041829028732), np.divide(9.960525321955007, x[0])), np.minimum(np.cbrt(-4.508930052063516), np.subtract(x[1], 6.149353656355981))), np.multiply(np.multiply(np.remainder(2.4095302247788464, x[0]), np.minimum(4.851041829028732, x[0])), np.remainder(8.494327263182008, np.square(x[0])))))\n",
      "Generation 2301, Island: 1, Best Fitness: 5.475240462644718e-18, Best Formula: np.power(np.subtract(np.divide(np.maximum(np.cbrt(x[0]), np.divide(-7.890010722064151, -9.981338532552645)), np.remainder(np.divide(-0.3805985130453813, -0.2831155373172507), 4.621109791013215)), np.multiply(np.minimum(np.ceil(-4.598683873707204), np.tanh(-7.890010722064151)), np.maximum(np.subtract(-7.890010722064151, -4.598683873707204), np.subtract(-0.3805985130453813, -4.598683873707204)))), np.minimum(np.subtract(np.divide(np.divide(-6.823645437150921, 4.621109791013215), np.tanh(3.170236824028269)), np.multiply(np.minimum(x[1], x[1]), x[0])), -7.890010722064151))\n"
     ]
    },
    {
     "name": "stderr",
     "output_type": "stream",
     "text": [
      " 46%|████▌     | 2301/5000 [14:01<23:34,  1.91it/s]"
     ]
    },
    {
     "name": "stdout",
     "output_type": "stream",
     "text": [
      "Generation 2301, Island: 2, Best Fitness: 2.3733260082897194e-19, Best Formula: np.divide(np.exp(np.minimum(np.multiply(-9.917016750745983, np.divide(3.3890157005013872, x[0])), np.minimum(-9.511307117109208, np.remainder(x[1], -9.917016750745983)))), np.divide(np.multiply(np.sinh(np.remainder(x[1], -6.438709443305162)), np.remainder(np.multiply(-9.917016750745983, x[0]), np.exp(9.113308203078823))), np.remainder(np.minimum(-5.189075174146782, np.remainder(x[1], -9.917016750745983)), np.maximum(np.divide(9.847968893055029, x[0]), np.maximum(x[0], 3.3890157005013872)))))\n",
      "Generation 2301, Island: 3, Best Fitness: 1.7819126776952494e-19, Best Formula: np.divide(np.multiply(x[0], np.multiply(x[1], np.power(8.119909247064651, np.add(-6.099176361322249, -4.41279550499665)))), np.minimum(np.divide(np.add(np.add(x[0], -4.41279550499665), np.subtract(x[1], 5.511718197125342)), np.multiply(np.multiply(-4.41279550499665, 0.04060143871511279), np.divide(x[1], -0.6565955767311298))), np.remainder(np.power(np.multiply(4.789157849894689, 3.639532940582793), np.subtract(x[1], 5.511718197125342)), np.remainder(np.divide(1.459527599741456, 7.890764159344027), -0.6565955767311298))))\n"
     ]
    },
    {
     "name": "stderr",
     "output_type": "stream",
     "text": [
      " 48%|████▊     | 2400/5000 [14:40<18:32,  2.34it/s]"
     ]
    },
    {
     "name": "stdout",
     "output_type": "stream",
     "text": [
      "Generation 2401, Island: 0, Best Fitness: 9.418502261790182e-19, Best Formula: np.divide(np.power(8.403145165187588, -7.491941095068659), np.add(np.multiply(np.maximum(np.sinh(4.851041829028732), np.divide(9.960525321955007, x[0])), np.minimum(np.cbrt(-4.508930052063516), np.subtract(x[1], 6.149353656355981))), np.multiply(np.multiply(np.remainder(2.4095302247788464, x[0]), np.minimum(4.851041829028732, x[0])), np.remainder(8.494327263182008, np.square(x[0])))))\n",
      "Generation 2401, Island: 1, Best Fitness: 5.475240462644718e-18, Best Formula: np.power(np.subtract(np.divide(np.maximum(np.cbrt(x[0]), np.divide(-7.890010722064151, -9.981338532552645)), np.remainder(np.divide(-0.3805985130453813, -0.2831155373172507), 4.621109791013215)), np.multiply(np.minimum(np.ceil(-4.598683873707204), np.tanh(-7.890010722064151)), np.maximum(np.subtract(-7.890010722064151, -4.598683873707204), np.subtract(-0.3805985130453813, -4.598683873707204)))), np.minimum(np.subtract(np.divide(np.divide(-6.823645437150921, 4.621109791013215), np.tanh(3.170236824028269)), np.multiply(np.minimum(x[1], x[1]), x[0])), -7.890010722064151))\n",
      "Generation 2401, Island: 2, Best Fitness: 2.291616506451846e-19, Best Formula: np.divide(np.exp(np.minimum(np.multiply(-9.917016750745983, np.divide(3.499082714540778, x[0])), np.minimum(-9.511307117109208, np.remainder(x[1], -9.917016750745983)))), np.divide(np.multiply(np.sinh(np.remainder(x[1], -6.438709443305162)), np.remainder(np.multiply(-9.917016750745983, x[0]), np.exp(9.113308203078823))), np.remainder(np.minimum(-5.189075174146782, np.remainder(x[1], -9.917016750745983)), np.maximum(np.divide(9.847968893055029, x[0]), np.maximum(x[0], 3.499082714540778)))))\n"
     ]
    },
    {
     "name": "stderr",
     "output_type": "stream",
     "text": [
      " 48%|████▊     | 2401/5000 [14:40<17:37,  2.46it/s]"
     ]
    },
    {
     "name": "stdout",
     "output_type": "stream",
     "text": [
      "Generation 2401, Island: 3, Best Fitness: 1.7818947253824621e-19, Best Formula: np.divide(np.multiply(x[0], np.multiply(x[1], np.power(8.119909247064651, np.add(-6.099176361322249, -4.41279550499665)))), np.minimum(np.divide(np.add(np.add(x[0], -4.41279550499665), np.subtract(x[1], 5.511718197125342)), np.multiply(np.multiply(-4.413432524060954, 0.04060143871511279), np.divide(x[1], -0.6565955767311298))), np.remainder(np.power(np.multiply(4.789157849894689, 3.639532940582793), np.subtract(x[1], 5.511718197125342)), np.remainder(np.divide(1.459527599741456, 7.890764159344027), -0.6565955767311298))))\n"
     ]
    },
    {
     "name": "stderr",
     "output_type": "stream",
     "text": [
      " 50%|█████     | 2500/5000 [15:16<14:59,  2.78it/s]"
     ]
    },
    {
     "name": "stdout",
     "output_type": "stream",
     "text": [
      "Generation 2501, Island: 0, Best Fitness: 9.382129428919065e-19, Best Formula: np.divide(np.power(8.403145165187588, -7.491941095068659), np.add(np.multiply(np.maximum(np.cosh(4.851041829028732), np.divide(9.960525321955007, x[0])), np.minimum(np.cbrt(-4.491933714187432), np.subtract(x[1], 6.149353656355981))), np.multiply(np.multiply(np.remainder(2.4095302247788464, x[0]), np.minimum(4.851041829028732, x[0])), np.remainder(8.494327263182008, np.square(x[0])))))\n",
      "Generation 2501, Island: 1, Best Fitness: 5.47523963850191e-18, Best Formula: np.power(np.subtract(np.divide(np.maximum(np.cbrt(x[0]), np.divide(-6.823645437150921, -9.981338532552645)), np.remainder(np.subtract(-7.890010722064151, -4.598683873707204), 4.621109791013215)), np.multiply(np.minimum(np.ceil(-4.598683873707204), np.tanh(-7.890010722064151)), np.maximum(np.subtract(-7.890010722064151, -4.598683873707204), np.subtract(-0.3805985130453813, -4.598683873707204)))), np.minimum(np.subtract(np.divide(np.divide(-6.823645437150921, 4.621109791013215), np.tanh(3.170236824028269)), np.multiply(np.minimum(x[1], x[1]), x[0])), -7.890010722064151))\n",
      "Generation 2501, Island: 2, Best Fitness: 2.207171677130079e-19, Best Formula: np.divide(np.exp(np.minimum(np.multiply(-9.917016750745983, np.divide(3.6567559278861257, x[0])), np.minimum(-9.511307117109208, np.remainder(x[1], -9.917016750745983)))), np.divide(np.multiply(np.sinh(np.remainder(x[1], -6.438709443305162)), np.remainder(np.multiply(-9.917016750745983, x[0]), np.exp(9.113308203078823))), np.remainder(np.minimum(-5.189075174146782, np.remainder(x[1], -9.917016750745983)), np.maximum(np.maximum(-6.274204107831746, 3.6567559278861257), np.maximum(x[0], -5.189075174146782)))))\n"
     ]
    },
    {
     "name": "stderr",
     "output_type": "stream",
     "text": [
      " 50%|█████     | 2501/5000 [15:16<14:07,  2.95it/s]"
     ]
    },
    {
     "name": "stdout",
     "output_type": "stream",
     "text": [
      "Generation 2501, Island: 3, Best Fitness: 1.7818947253824621e-19, Best Formula: np.divide(np.multiply(x[0], np.multiply(x[1], np.power(8.119909247064651, np.add(-6.099176361322249, -4.41279550499665)))), np.minimum(np.divide(np.add(np.add(x[0], -4.41279550499665), np.subtract(x[1], 5.511718197125342)), np.multiply(np.multiply(-4.413432524060954, 0.04060143871511279), np.divide(x[1], -0.6565955767311298))), np.remainder(np.power(np.multiply(4.789157849894689, 3.639532940582793), np.subtract(x[1], 5.511718197125342)), np.remainder(np.divide(1.459527599741456, 7.890764159344027), -0.6565955767311298))))\n"
     ]
    },
    {
     "name": "stderr",
     "output_type": "stream",
     "text": [
      " 52%|█████▏    | 2600/5000 [15:51<12:29,  3.20it/s]"
     ]
    },
    {
     "name": "stdout",
     "output_type": "stream",
     "text": [
      "Generation 2601, Island: 0, Best Fitness: 9.382129428919065e-19, Best Formula: np.divide(np.power(8.403145165187588, -7.491941095068659), np.add(np.multiply(np.maximum(np.cosh(4.851041829028732), np.divide(9.960525321955007, x[0])), np.minimum(np.cbrt(-4.491933714187432), np.subtract(x[1], 6.149353656355981))), np.multiply(np.multiply(np.remainder(2.4095302247788464, x[0]), np.minimum(4.851041829028732, x[0])), np.remainder(8.494327263182008, np.square(x[0])))))\n",
      "Generation 2601, Island: 1, Best Fitness: 5.475239434283489e-18, Best Formula: np.power(np.subtract(np.divide(np.maximum(np.cbrt(x[0]), np.divide(-7.654295306562049, -9.981338532552645)), np.remainder(np.subtract(-7.890010722064151, -4.598683873707204), 4.621109791013215)), np.multiply(np.minimum(np.ceil(-4.598683873707204), np.tanh(-7.890010722064151)), np.maximum(np.subtract(-7.890010722064151, -4.598683873707204), np.subtract(-0.3805985130453813, -4.598683873707204)))), np.minimum(np.subtract(np.divide(np.divide(-6.823645437150921, 4.621109791013215), np.tanh(3.170236824028269)), np.multiply(np.minimum(x[1], x[1]), x[0])), -7.890010722064151))\n"
     ]
    },
    {
     "name": "stderr",
     "output_type": "stream",
     "text": [
      " 52%|█████▏    | 2601/5000 [15:51<14:09,  2.83it/s]"
     ]
    },
    {
     "name": "stdout",
     "output_type": "stream",
     "text": [
      "Generation 2601, Island: 2, Best Fitness: 2.0827147569480732e-19, Best Formula: np.divide(np.exp(np.minimum(np.multiply(-9.917016750745983, np.divide(3.6567559278861257, x[0])), np.minimum(-9.511307117109208, np.divide(-2.669977037139491, x[1])))), np.divide(np.multiply(np.sinh(np.remainder(x[1], -6.390982780561161)), np.remainder(np.multiply(-5.189075174146782, x[0]), np.exp(9.113308203078823))), np.remainder(np.minimum(-5.189075174146782, np.remainder(x[1], -9.917016750745983)), np.maximum(np.maximum(-6.274204107831746, 3.6567559278861257), np.maximum(x[0], 3.6567559278861257)))))\n",
      "Generation 2601, Island: 3, Best Fitness: 1.7818947253824621e-19, Best Formula: np.divide(np.multiply(x[0], np.multiply(x[1], np.power(8.119909247064651, np.add(-6.099176361322249, -4.41279550499665)))), np.minimum(np.divide(np.add(np.add(x[0], -4.41279550499665), np.subtract(x[1], 5.511718197125342)), np.multiply(np.multiply(-4.413432524060954, 0.04060143871511279), np.divide(x[1], -0.6565955767311298))), np.remainder(np.power(np.multiply(4.789157849894689, 3.639532940582793), np.subtract(x[1], 5.511718197125342)), np.remainder(np.divide(1.459527599741456, 7.890764159344027), -0.6565955767311298))))\n"
     ]
    },
    {
     "name": "stderr",
     "output_type": "stream",
     "text": [
      " 53%|█████▎    | 2666/5000 [16:16<13:01,  2.99it/s]"
     ]
    },
    {
     "name": "stdout",
     "output_type": "stream",
     "text": [
      "Migration at 2665 gen from 3 to 2\n"
     ]
    },
    {
     "name": "stderr",
     "output_type": "stream",
     "text": [
      " 54%|█████▍    | 2700/5000 [16:29<18:01,  2.13it/s]"
     ]
    },
    {
     "name": "stdout",
     "output_type": "stream",
     "text": [
      "Generation 2701, Island: 0, Best Fitness: 9.382129428919065e-19, Best Formula: np.divide(np.power(8.403145165187588, -7.491941095068659), np.add(np.multiply(np.maximum(np.cosh(4.851041829028732), np.divide(9.960525321955007, x[0])), np.minimum(np.cbrt(-4.491933714187432), np.subtract(x[1], 6.149353656355981))), np.multiply(np.multiply(np.remainder(2.4095302247788464, x[0]), np.minimum(4.851041829028732, x[0])), np.remainder(8.494327263182008, np.square(x[0])))))\n",
      "Generation 2701, Island: 1, Best Fitness: 5.475239434283489e-18, Best Formula: np.power(np.subtract(np.divide(np.maximum(np.cbrt(x[0]), np.divide(-7.654295306562049, -9.981338532552645)), np.remainder(np.subtract(-7.890010722064151, -4.598683873707204), 4.621109791013215)), np.multiply(np.minimum(np.ceil(-4.598683873707204), np.tanh(-7.890010722064151)), np.maximum(np.subtract(-7.890010722064151, -4.598683873707204), np.subtract(-0.3805985130453813, -4.598683873707204)))), np.minimum(np.subtract(np.divide(np.divide(-6.823645437150921, 4.621109791013215), np.tanh(3.170236824028269)), np.multiply(np.minimum(x[1], x[1]), x[0])), -7.890010722064151))\n"
     ]
    },
    {
     "name": "stderr",
     "output_type": "stream",
     "text": [
      " 54%|█████▍    | 2701/5000 [16:30<18:28,  2.07it/s]"
     ]
    },
    {
     "name": "stdout",
     "output_type": "stream",
     "text": [
      "Generation 2701, Island: 2, Best Fitness: 1.7889257710201728e-19, Best Formula: np.divide(np.multiply(x[0], np.multiply(x[1], np.power(8.119909247064651, np.add(-6.099176361322249, -4.41279550499665)))), np.minimum(np.divide(np.add(np.add(x[0], -4.413432524060954), np.subtract(x[1], 5.511718197125342)), np.multiply(np.multiply(-4.413432524060954, 0.04060143871511279), np.divide(x[1], -0.6565955767311298))), np.remainder(np.power(np.add(8.051926613560923, 7.9850527993600515), np.subtract(x[1], 5.511718197125342)), np.remainder(np.remainder(-9.953538376882554, -4.413432524060954), -0.6565955767311298))))\n",
      "Generation 2701, Island: 3, Best Fitness: 1.7783503326609818e-19, Best Formula: np.divide(np.multiply(x[0], np.multiply(x[1], np.power(8.119909247064651, np.add(-6.099176361322249, -4.413432524060954)))), np.minimum(np.divide(np.add(np.add(x[0], -4.41279550499665), np.subtract(x[1], 5.511718197125342)), np.multiply(np.multiply(-4.413432524060954, 0.04060143871511279), np.divide(x[1], -0.6565955767311298))), np.remainder(np.power(np.multiply(4.426691581388329, 3.639532940582793), np.subtract(x[1], 5.511718197125342)), np.remainder(np.divide(7.890764159344027, -4.41279550499665), -0.6565955767311298))))\n"
     ]
    },
    {
     "name": "stderr",
     "output_type": "stream",
     "text": [
      " 56%|█████▌    | 2800/5000 [17:05<09:57,  3.68it/s]"
     ]
    },
    {
     "name": "stdout",
     "output_type": "stream",
     "text": [
      "Generation 2801, Island: 0, Best Fitness: 9.382129428919065e-19, Best Formula: np.divide(np.power(8.403145165187588, -7.491941095068659), np.add(np.multiply(np.maximum(np.cosh(4.851041829028732), np.divide(9.960525321955007, x[0])), np.minimum(np.cbrt(-4.491933714187432), np.subtract(x[1], 6.149353656355981))), np.multiply(np.multiply(np.remainder(2.4095302247788464, x[0]), np.minimum(4.851041829028732, x[0])), np.remainder(8.494327263182008, np.square(x[0])))))\n",
      "Generation 2801, Island: 1, Best Fitness: 5.475239434283489e-18, Best Formula: np.power(np.subtract(np.divide(np.maximum(np.cbrt(x[0]), np.divide(-7.654295306562049, -9.981338532552645)), np.remainder(np.subtract(-7.890010722064151, -4.598683873707204), 4.621109791013215)), np.multiply(np.minimum(np.ceil(-4.598683873707204), np.tanh(-7.890010722064151)), np.maximum(np.subtract(-7.890010722064151, -4.598683873707204), np.subtract(-0.3805985130453813, -4.598683873707204)))), np.minimum(np.subtract(np.divide(np.divide(-6.823645437150921, 4.621109791013215), np.tanh(3.170236824028269)), np.multiply(np.minimum(x[1], x[1]), x[0])), -7.890010722064151))\n",
      "Generation 2801, Island: 2, Best Fitness: 1.773854841011343e-19, Best Formula: np.divide(np.multiply(x[0], np.multiply(x[1], np.power(8.119909247064651, np.add(-6.099176361322249, -4.413432524060954)))), np.minimum(np.divide(np.add(np.add(x[0], -4.41279550499665), np.subtract(x[1], 5.511718197125342)), np.multiply(np.multiply(-4.413432524060954, 0.04060143871511279), np.divide(x[1], -0.6565955767311298))), np.remainder(np.power(np.add(8.051926613560923, -6.099176361322249), np.subtract(x[1], 5.511718197125342)), np.remainder(np.remainder(-4.413432524060954, -8.232036585066291), -0.6565955767311298))))\n"
     ]
    },
    {
     "name": "stderr",
     "output_type": "stream",
     "text": [
      " 56%|█████▌    | 2801/5000 [17:05<10:42,  3.42it/s]"
     ]
    },
    {
     "name": "stdout",
     "output_type": "stream",
     "text": [
      "Generation 2801, Island: 3, Best Fitness: 1.7783503326609818e-19, Best Formula: np.divide(np.multiply(x[0], np.multiply(x[1], np.power(8.119909247064651, np.add(-6.099176361322249, -4.413432524060954)))), np.minimum(np.divide(np.add(np.add(x[0], -4.41279550499665), np.subtract(x[1], 5.511718197125342)), np.multiply(np.multiply(-4.413432524060954, 0.04060143871511279), np.divide(x[1], -0.6565955767311298))), np.remainder(np.power(np.multiply(4.426691581388329, 3.639532940582793), np.subtract(x[1], 5.511718197125342)), np.remainder(np.divide(7.890764159344027, -4.41279550499665), -0.6565955767311298))))\n"
     ]
    },
    {
     "name": "stderr",
     "output_type": "stream",
     "text": [
      " 58%|█████▊    | 2900/5000 [17:46<16:24,  2.13it/s]"
     ]
    },
    {
     "name": "stdout",
     "output_type": "stream",
     "text": [
      "Generation 2901, Island: 0, Best Fitness: 9.382129428919065e-19, Best Formula: np.divide(np.power(8.403145165187588, -7.491941095068659), np.add(np.multiply(np.maximum(np.cosh(4.851041829028732), np.divide(9.960525321955007, x[0])), np.minimum(np.cbrt(-4.491933714187432), np.subtract(x[1], 6.149353656355981))), np.multiply(np.multiply(np.remainder(2.4095302247788464, x[0]), np.minimum(4.851041829028732, x[0])), np.remainder(8.494327263182008, np.square(x[0])))))\n",
      "Generation 2901, Island: 1, Best Fitness: 5.475239434283489e-18, Best Formula: np.power(np.subtract(np.divide(np.maximum(np.cbrt(x[0]), np.divide(-7.654295306562049, -9.981338532552645)), np.remainder(np.subtract(-7.890010722064151, -4.598683873707204), 4.621109791013215)), np.multiply(np.minimum(np.ceil(-4.598683873707204), np.tanh(-7.890010722064151)), np.maximum(np.subtract(-7.890010722064151, -4.598683873707204), np.subtract(-0.3805985130453813, -4.598683873707204)))), np.minimum(np.subtract(np.divide(np.divide(-6.823645437150921, 4.621109791013215), np.tanh(3.170236824028269)), np.multiply(np.minimum(x[1], x[1]), x[0])), -7.890010722064151))\n"
     ]
    },
    {
     "name": "stderr",
     "output_type": "stream",
     "text": [
      " 58%|█████▊    | 2901/5000 [17:47<16:10,  2.16it/s]"
     ]
    },
    {
     "name": "stdout",
     "output_type": "stream",
     "text": [
      "Generation 2901, Island: 2, Best Fitness: 1.773854841011343e-19, Best Formula: np.divide(np.multiply(x[0], np.multiply(x[1], np.power(8.119909247064651, np.add(-6.099176361322249, -4.413432524060954)))), np.minimum(np.divide(np.add(np.add(x[0], -4.41279550499665), np.subtract(x[1], 5.511718197125342)), np.multiply(np.multiply(-4.413432524060954, 0.04060143871511279), np.divide(x[1], -0.6565955767311298))), np.remainder(np.power(np.add(8.051926613560923, -6.099176361322249), np.subtract(x[1], 5.511718197125342)), np.remainder(np.remainder(-4.413432524060954, -8.232036585066291), -0.6565955767311298))))\n",
      "Generation 2901, Island: 3, Best Fitness: 1.7783503326609818e-19, Best Formula: np.divide(np.multiply(x[0], np.multiply(x[1], np.power(8.119909247064651, np.add(-6.099176361322249, -4.413432524060954)))), np.minimum(np.divide(np.add(np.add(x[0], -4.41279550499665), np.subtract(x[1], 5.511718197125342)), np.multiply(np.multiply(-4.413432524060954, 0.04060143871511279), np.divide(x[1], -0.6565955767311298))), np.remainder(np.power(np.multiply(4.426691581388329, 3.639532940582793), np.subtract(x[1], 5.511718197125342)), np.remainder(np.divide(7.890764159344027, -4.41279550499665), -0.6565955767311298))))\n"
     ]
    },
    {
     "name": "stderr",
     "output_type": "stream",
     "text": [
      " 60%|██████    | 3001/5000 [18:28<11:44,  2.84it/s]"
     ]
    },
    {
     "name": "stdout",
     "output_type": "stream",
     "text": [
      "Generation 3001, Island: 0, Best Fitness: 9.382129428919065e-19, Best Formula: np.divide(np.power(8.403145165187588, -7.491941095068659), np.add(np.multiply(np.maximum(np.cosh(4.851041829028732), np.divide(9.960525321955007, x[0])), np.minimum(np.cbrt(-4.491933714187432), np.subtract(x[1], 6.149353656355981))), np.multiply(np.multiply(np.remainder(2.4095302247788464, x[0]), np.minimum(4.851041829028732, x[0])), np.remainder(8.494327263182008, np.square(x[0])))))\n",
      "Generation 3001, Island: 1, Best Fitness: 5.475239063759796e-18, Best Formula: np.power(np.subtract(np.divide(np.maximum(np.cbrt(x[0]), np.divide(-6.823645437150921, -9.981338532552645)), np.remainder(np.subtract(-7.890010722064151, 4.663719027516233), 4.621109791013215)), np.multiply(np.minimum(np.ceil(-4.598683873707204), np.tanh(-7.890010722064151)), np.maximum(np.tanh(-7.890010722064151), np.subtract(-0.3805985130453813, -4.598683873707204)))), np.minimum(np.subtract(np.divide(np.divide(-6.823645437150921, 4.621109791013215), np.tanh(4.621109791013215)), np.multiply(np.minimum(x[1], x[1]), x[0])), -7.890010722064151))\n",
      "Generation 3001, Island: 2, Best Fitness: 1.7676707909813461e-19, Best Formula: np.divide(np.multiply(x[0], np.multiply(x[1], np.power(8.119909247064651, np.add(-6.099176361322249, -4.413432524060954)))), np.minimum(np.divide(np.add(np.add(x[0], -4.41279550499665), np.subtract(x[1], 5.511718197125342)), np.multiply(np.multiply(-4.413432524060954, 0.04060143871511279), np.divide(x[1], -0.6565955767311298))), np.remainder(np.power(np.add(8.051926613560923, -6.099176361322249), np.subtract(x[1], 5.511718197125342)), np.remainder(np.remainder(1.0271791642761556, -6.099176361322249), -0.6565955767311298))))\n",
      "Generation 3001, Island: 3, Best Fitness: 1.7783503326609818e-19, Best Formula: np.divide(np.multiply(x[0], np.multiply(x[1], np.power(8.119909247064651, np.add(-6.099176361322249, -4.413432524060954)))), np.minimum(np.divide(np.add(np.add(x[0], -4.41279550499665), np.subtract(x[1], 5.511718197125342)), np.multiply(np.multiply(-4.413432524060954, 0.04060143871511279), np.divide(x[1], -0.6565955767311298))), np.remainder(np.power(np.multiply(4.426691581388329, 3.639532940582793), np.subtract(x[1], 5.511718197125342)), np.remainder(np.divide(7.890764159344027, -4.41279550499665), -0.6565955767311298))))\n"
     ]
    },
    {
     "name": "stderr",
     "output_type": "stream",
     "text": [
      " 62%|██████▏   | 3100/5000 [19:08<12:29,  2.53it/s]"
     ]
    },
    {
     "name": "stdout",
     "output_type": "stream",
     "text": [
      "Generation 3101, Island: 0, Best Fitness: 9.379452454078584e-19, Best Formula: np.divide(np.power(8.403145165187588, -7.491941095068659), np.add(np.multiply(np.maximum(np.sinh(4.851041829028732), np.divide(9.960525321955007, x[0])), np.minimum(np.cbrt(-4.491933714187432), np.subtract(x[1], 6.149353656355981))), np.multiply(np.multiply(np.remainder(2.4095302247788464, x[0]), np.minimum(4.851041829028732, x[0])), np.remainder(8.494327263182008, np.square(x[0])))))\n",
      "Generation 3101, Island: 1, Best Fitness: 5.4752390611311806e-18, Best Formula: np.power(np.subtract(np.divide(np.maximum(np.cbrt(x[0]), np.divide(-6.823645437150921, -9.981338532552645)), np.remainder(np.subtract(-7.890010722064151, 4.663719027516233), 4.621109791013215)), np.multiply(np.minimum(np.ceil(-4.598683873707204), np.tanh(-7.890010722064151)), np.maximum(np.tanh(4.621109791013215), np.subtract(-0.3805985130453813, -4.598683873707204)))), np.minimum(np.subtract(np.divide(np.divide(-6.823645437150921, 4.621109791013215), np.tanh(3.516726556387992)), np.multiply(np.minimum(x[1], x[1]), x[0])), -7.890010722064151))\n"
     ]
    },
    {
     "name": "stderr",
     "output_type": "stream",
     "text": [
      " 62%|██████▏   | 3101/5000 [19:09<12:54,  2.45it/s]"
     ]
    },
    {
     "name": "stdout",
     "output_type": "stream",
     "text": [
      "Generation 3101, Island: 2, Best Fitness: 1.7668414442104264e-19, Best Formula: np.divide(np.multiply(x[0], np.multiply(x[1], np.power(8.119909247064651, np.add(-6.099176361322249, -4.41279550499665)))), np.minimum(np.divide(np.add(np.add(x[0], -4.41279550499665), np.subtract(x[1], 5.511718197125342)), np.multiply(np.multiply(-4.413432524060954, 0.04060143871511279), np.divide(x[1], -0.6565955767311298))), np.remainder(np.power(np.add(8.051926613560923, -6.099176361322249), np.subtract(x[1], 5.511718197125342)), np.remainder(np.remainder(5.511718197125342, 0.18384534633112892), -0.6565955767311298))))\n",
      "Generation 3101, Island: 3, Best Fitness: 1.766919445889833e-19, Best Formula: np.divide(np.multiply(x[0], np.multiply(x[1], np.power(8.119909247064651, np.add(-6.099176361322249, -4.413432524060954)))), np.minimum(np.divide(np.add(np.add(x[0], -4.41279550499665), np.subtract(x[1], 5.5025754292135165)), np.multiply(np.multiply(-4.413432524060954, 0.04060143871511279), np.divide(x[1], -0.6565955767311298))), np.remainder(np.power(np.multiply(4.426691581388329, 3.639532940582793), np.subtract(x[1], 5.511718197125342)), np.remainder(np.power(0.19144091006021036, -2.059560261342533), -0.6797220648179696))))\n"
     ]
    },
    {
     "name": "stderr",
     "output_type": "stream",
     "text": [
      " 64%|██████▍   | 3200/5000 [19:45<08:34,  3.50it/s]"
     ]
    },
    {
     "name": "stdout",
     "output_type": "stream",
     "text": [
      "Generation 3201, Island: 0, Best Fitness: 9.379452454078584e-19, Best Formula: np.divide(np.power(8.403145165187588, -7.491941095068659), np.add(np.multiply(np.maximum(np.sinh(4.851041829028732), np.divide(9.960525321955007, x[0])), np.minimum(np.cbrt(-4.491933714187432), np.subtract(x[1], 6.149353656355981))), np.multiply(np.multiply(np.remainder(2.4095302247788464, x[0]), np.minimum(4.851041829028732, x[0])), np.remainder(8.494327263182008, np.square(x[0])))))\n",
      "Generation 3201, Island: 1, Best Fitness: 5.4752390611311806e-18, Best Formula: np.power(np.subtract(np.divide(np.maximum(np.cbrt(x[0]), np.divide(-6.823645437150921, -9.981338532552645)), np.remainder(np.subtract(-7.890010722064151, 4.663719027516233), 4.621109791013215)), np.multiply(np.minimum(np.ceil(-4.598683873707204), np.tanh(-7.890010722064151)), np.maximum(np.tanh(4.621109791013215), np.subtract(-0.3805985130453813, -4.598683873707204)))), np.minimum(np.subtract(np.divide(np.divide(-6.823645437150921, 4.621109791013215), np.tanh(3.516726556387992)), np.multiply(np.minimum(x[1], x[1]), x[0])), -7.890010722064151))\n",
      "Generation 3201, Island: 2, Best Fitness: 1.7668414442104264e-19, Best Formula: np.divide(np.multiply(x[0], np.multiply(x[1], np.power(8.119909247064651, np.add(-6.099176361322249, -4.41279550499665)))), np.minimum(np.divide(np.add(np.add(x[0], -4.41279550499665), np.subtract(x[1], 5.511718197125342)), np.multiply(np.multiply(-4.413432524060954, 0.04060143871511279), np.divide(x[1], -0.6565955767311298))), np.remainder(np.power(np.add(8.051926613560923, -6.099176361322249), np.subtract(x[1], 5.511718197125342)), np.remainder(np.remainder(5.511718197125342, 0.18384534633112892), -0.6565955767311298))))\n"
     ]
    },
    {
     "name": "stderr",
     "output_type": "stream",
     "text": [
      " 64%|██████▍   | 3201/5000 [19:46<09:16,  3.23it/s]"
     ]
    },
    {
     "name": "stdout",
     "output_type": "stream",
     "text": [
      "Generation 3201, Island: 3, Best Fitness: 1.7633957891293204e-19, Best Formula: np.divide(np.multiply(x[0], np.multiply(x[1], np.power(8.119909247064651, np.add(-6.099176361322249, -4.413432524060954)))), np.minimum(np.divide(np.add(np.add(x[0], -4.41279550499665), np.subtract(x[1], 5.5025754292135165)), np.multiply(np.multiply(-4.41279550499665, 0.04060143871511279), np.divide(x[1], -0.6565955767311298))), np.remainder(np.power(np.multiply(4.426691581388329, 3.639532940582793), np.subtract(x[1], 5.5025754292135165)), np.remainder(np.power(2.1988781557334214, -2.059560261342533), -0.6797220648179696))))\n"
     ]
    },
    {
     "name": "stderr",
     "output_type": "stream",
     "text": [
      " 66%|██████▌   | 3300/5000 [20:23<11:08,  2.54it/s]"
     ]
    },
    {
     "name": "stdout",
     "output_type": "stream",
     "text": [
      "Generation 3301, Island: 0, Best Fitness: 9.366515540336896e-19, Best Formula: np.divide(np.power(8.403145165187588, -7.491941095068659), np.add(np.multiply(np.maximum(np.sinh(4.851041829028732), np.divide(9.960525321955007, x[0])), np.minimum(np.cbrt(-4.491933714187432), np.subtract(x[1], 6.149353656355981))), np.multiply(np.multiply(np.remainder(2.4095302247788464, x[0]), np.minimum(4.847763846296084, x[0])), np.remainder(8.494327263182008, np.square(x[0])))))\n",
      "Generation 3301, Island: 1, Best Fitness: 5.475239013436905e-18, Best Formula: np.power(np.subtract(np.divide(np.maximum(np.cbrt(x[0]), np.divide(-6.823645437150921, -9.932221931647927)), np.remainder(np.subtract(-7.890010722064151, 4.663719027516233), 4.621109791013215)), np.multiply(np.minimum(np.ceil(-4.598683873707204), np.tanh(-7.890010722064151)), np.maximum(np.tanh(4.621109791013215), np.subtract(-0.3805985130453813, -4.598683873707204)))), np.minimum(np.subtract(np.divide(np.divide(-6.823645437150921, 4.621109791013215), np.tanh(3.516726556387992)), np.multiply(np.minimum(x[1], x[1]), x[0])), -7.890010722064151))\n",
      "Generation 3301, Island: 2, Best Fitness: 1.7668414442104264e-19, Best Formula: np.divide(np.multiply(x[0], np.multiply(x[1], np.power(8.119909247064651, np.add(-6.099176361322249, -4.41279550499665)))), np.minimum(np.divide(np.add(np.add(x[0], -4.41279550499665), np.subtract(x[1], 5.511718197125342)), np.multiply(np.multiply(-4.413432524060954, 0.04060143871511279), np.divide(x[1], -0.6565955767311298))), np.remainder(np.power(np.add(8.051926613560923, -6.099176361322249), np.subtract(x[1], 5.511718197125342)), np.remainder(np.remainder(5.511718197125342, 0.18384534633112892), -0.6565955767311298))))\n"
     ]
    },
    {
     "name": "stderr",
     "output_type": "stream",
     "text": [
      " 66%|██████▌   | 3301/5000 [20:24<10:41,  2.65it/s]"
     ]
    },
    {
     "name": "stdout",
     "output_type": "stream",
     "text": [
      "Generation 3301, Island: 3, Best Fitness: 1.7552058055750159e-19, Best Formula: np.divide(np.multiply(x[0], np.multiply(x[1], np.power(8.119909247064651, np.add(-6.099176361322249, -4.413432524060954)))), np.minimum(np.divide(np.add(np.add(x[0], -4.41279550499665), np.subtract(x[1], 5.5025754292135165)), np.multiply(np.multiply(-4.41279550499665, 0.04060143871511279), np.divide(x[1], -0.6565955767311298))), np.remainder(np.power(np.multiply(3.639532940582793, 3.639532940582793), np.subtract(x[1], 5.5025754292135165)), np.remainder(np.reciprocal(5.714697591365903), -0.6797220648179696))))\n"
     ]
    },
    {
     "name": "stderr",
     "output_type": "stream",
     "text": [
      " 68%|██████▊   | 3400/5000 [20:56<08:51,  3.01it/s]"
     ]
    },
    {
     "name": "stdout",
     "output_type": "stream",
     "text": [
      "Generation 3401, Island: 0, Best Fitness: 9.355164902147806e-19, Best Formula: np.divide(np.power(8.403145165187588, -7.491941095068659), np.add(np.multiply(np.maximum(np.sinh(4.847763846296084), np.divide(9.960525321955007, x[0])), np.minimum(np.cbrt(-4.491933714187432), np.subtract(x[1], 6.149353656355981))), np.multiply(np.multiply(np.remainder(2.4095302247788464, x[0]), np.minimum(4.847763846296084, x[0])), np.remainder(8.494327263182008, np.square(x[0])))))\n",
      "Generation 3401, Island: 1, Best Fitness: 5.475239013436905e-18, Best Formula: np.power(np.subtract(np.divide(np.maximum(np.cbrt(x[0]), np.divide(-6.823645437150921, -9.932221931647927)), np.remainder(np.subtract(-7.890010722064151, 4.663719027516233), 4.621109791013215)), np.multiply(np.minimum(np.ceil(-4.598683873707204), np.tanh(-7.890010722064151)), np.maximum(np.tanh(4.621109791013215), np.subtract(-0.3805985130453813, -4.598683873707204)))), np.minimum(np.subtract(np.divide(np.divide(-6.823645437150921, 4.621109791013215), np.tanh(3.516726556387992)), np.multiply(np.minimum(x[1], x[1]), x[0])), -7.890010722064151))\n",
      "Generation 3401, Island: 2, Best Fitness: 1.7664841475438047e-19, Best Formula: np.divide(np.multiply(x[0], np.multiply(x[1], np.power(8.119909247064651, np.add(-6.099176361322249, -4.413432524060954)))), np.minimum(np.divide(np.add(np.add(x[0], -4.41279550499665), np.subtract(x[1], 5.511718197125342)), np.multiply(np.multiply(-4.413432524060954, 0.04060143871511279), np.divide(x[1], -0.6565955767311298))), np.remainder(np.power(np.add(6.386935356226907, -4.41279550499665), np.subtract(x[1], 5.511718197125342)), np.remainder(np.remainder(-4.413432524060954, 0.18384534633112892), -0.6565955767311298))))\n"
     ]
    },
    {
     "name": "stderr",
     "output_type": "stream",
     "text": [
      " 68%|██████▊   | 3401/5000 [20:56<08:39,  3.08it/s]"
     ]
    },
    {
     "name": "stdout",
     "output_type": "stream",
     "text": [
      "Generation 3401, Island: 3, Best Fitness: 1.7552058055750159e-19, Best Formula: np.divide(np.multiply(x[0], np.multiply(x[1], np.power(8.119909247064651, np.add(-6.099176361322249, -4.413432524060954)))), np.minimum(np.divide(np.add(np.add(x[0], -4.41279550499665), np.subtract(x[1], 5.5025754292135165)), np.multiply(np.multiply(-4.41279550499665, 0.04060143871511279), np.divide(x[1], -0.6565955767311298))), np.remainder(np.power(np.multiply(3.639532940582793, 3.639532940582793), np.subtract(x[1], 5.5025754292135165)), np.remainder(np.reciprocal(5.714697591365903), -0.6797220648179696))))\n"
     ]
    },
    {
     "name": "stderr",
     "output_type": "stream",
     "text": [
      " 70%|███████   | 3500/5000 [21:29<07:45,  3.22it/s]"
     ]
    },
    {
     "name": "stdout",
     "output_type": "stream",
     "text": [
      "Migration at 3499 gen from 3 to 0\n",
      "Generation 3501, Island: 0, Best Fitness: 9.355164902147806e-19, Best Formula: np.divide(np.power(8.403145165187588, -7.491941095068659), np.add(np.multiply(np.maximum(np.sinh(4.847763846296084), np.divide(9.960525321955007, x[0])), np.minimum(np.cbrt(-4.491933714187432), np.subtract(x[1], 6.149353656355981))), np.multiply(np.multiply(np.remainder(2.4095302247788464, x[0]), np.minimum(4.847763846296084, x[0])), np.remainder(8.494327263182008, np.square(x[0])))))\n"
     ]
    },
    {
     "name": "stderr",
     "output_type": "stream",
     "text": [
      " 70%|███████   | 3501/5000 [21:29<08:04,  3.09it/s]"
     ]
    },
    {
     "name": "stdout",
     "output_type": "stream",
     "text": [
      "Generation 3501, Island: 1, Best Fitness: 5.475238773711928e-18, Best Formula: np.power(np.subtract(np.divide(np.maximum(np.cbrt(x[0]), np.power(6.85933933859183, -0.1720477191634977)), np.remainder(np.subtract(-7.890010722064151, 4.663719027516233), 4.621109791013215)), np.multiply(np.minimum(np.ceil(-4.598683873707204), np.tanh(-7.890010722064151)), np.maximum(np.tanh(4.621109791013215), np.subtract(-0.3805985130453813, -4.598683873707204)))), np.minimum(np.subtract(np.divide(np.divide(-6.823645437150921, 4.621109791013215), np.tanh(3.7099406898682847)), np.multiply(np.minimum(x[1], x[1]), x[0])), -7.890010722064151))\n",
      "Generation 3501, Island: 2, Best Fitness: 1.7664841475438047e-19, Best Formula: np.divide(np.multiply(x[0], np.multiply(x[1], np.power(8.119909247064651, np.add(-6.099176361322249, -4.413432524060954)))), np.minimum(np.divide(np.add(np.add(x[0], -4.41279550499665), np.subtract(x[1], 5.511718197125342)), np.multiply(np.multiply(-4.413432524060954, 0.04060143871511279), np.divide(x[1], -0.6565955767311298))), np.remainder(np.power(np.add(6.386935356226907, -4.41279550499665), np.subtract(x[1], 5.511718197125342)), np.remainder(np.remainder(-4.413432524060954, 0.18384534633112892), -0.6565955767311298))))\n",
      "Generation 3501, Island: 3, Best Fitness: 1.7552058055750159e-19, Best Formula: np.divide(np.multiply(x[0], np.multiply(x[1], np.power(8.119909247064651, np.add(-6.099176361322249, -4.413432524060954)))), np.minimum(np.divide(np.add(np.add(x[0], -4.41279550499665), np.subtract(x[1], 5.5025754292135165)), np.multiply(np.multiply(-4.41279550499665, 0.04060143871511279), np.divide(x[1], -0.6565955767311298))), np.remainder(np.power(np.multiply(3.639532940582793, 3.639532940582793), np.subtract(x[1], 5.5025754292135165)), np.remainder(np.reciprocal(5.714697591365903), -0.6797220648179696))))\n"
     ]
    },
    {
     "name": "stderr",
     "output_type": "stream",
     "text": [
      " 72%|███████▏  | 3600/5000 [22:02<07:33,  3.09it/s]"
     ]
    },
    {
     "name": "stdout",
     "output_type": "stream",
     "text": [
      "Generation 3601, Island: 0, Best Fitness: 9.355164902147806e-19, Best Formula: np.divide(np.power(8.403145165187588, -7.491941095068659), np.add(np.multiply(np.maximum(np.sinh(4.847763846296084), np.divide(9.960525321955007, x[0])), np.minimum(np.cbrt(-4.491933714187432), np.subtract(x[1], 6.149353656355981))), np.multiply(np.multiply(np.remainder(2.4095302247788464, x[0]), np.minimum(4.847763846296084, x[0])), np.remainder(8.494327263182008, np.square(x[0])))))\n",
      "Generation 3601, Island: 1, Best Fitness: 5.475238773711928e-18, Best Formula: np.power(np.subtract(np.divide(np.maximum(np.cbrt(x[0]), np.power(6.85933933859183, -0.1720477191634977)), np.remainder(np.subtract(-7.890010722064151, 4.663719027516233), 4.621109791013215)), np.multiply(np.minimum(np.ceil(-4.598683873707204), np.tanh(-7.890010722064151)), np.maximum(np.tanh(4.621109791013215), np.subtract(-0.3805985130453813, -4.598683873707204)))), np.minimum(np.subtract(np.divide(np.divide(-6.823645437150921, 4.621109791013215), np.tanh(3.7099406898682847)), np.multiply(np.minimum(x[1], x[1]), x[0])), -7.890010722064151))\n"
     ]
    },
    {
     "name": "stderr",
     "output_type": "stream",
     "text": [
      " 72%|███████▏  | 3601/5000 [22:03<07:49,  2.98it/s]"
     ]
    },
    {
     "name": "stdout",
     "output_type": "stream",
     "text": [
      "Generation 3601, Island: 2, Best Fitness: 1.7664841475438047e-19, Best Formula: np.divide(np.multiply(x[0], np.multiply(x[1], np.power(8.119909247064651, np.add(-6.099176361322249, -4.413432524060954)))), np.minimum(np.divide(np.add(np.add(x[0], -4.41279550499665), np.subtract(x[1], 5.511718197125342)), np.multiply(np.multiply(-4.413432524060954, 0.04060143871511279), np.divide(x[1], -0.6565955767311298))), np.remainder(np.power(np.add(6.386935356226907, -4.41279550499665), np.subtract(x[1], 5.511718197125342)), np.remainder(np.remainder(-4.413432524060954, 0.18384534633112892), -0.6565955767311298))))\n",
      "Generation 3601, Island: 3, Best Fitness: 1.7552058055750159e-19, Best Formula: np.divide(np.multiply(x[0], np.multiply(x[1], np.power(8.119909247064651, np.add(-6.099176361322249, -4.413432524060954)))), np.minimum(np.divide(np.add(np.add(x[0], -4.41279550499665), np.subtract(x[1], 5.5025754292135165)), np.multiply(np.multiply(-4.41279550499665, 0.04060143871511279), np.divide(x[1], -0.6565955767311298))), np.remainder(np.power(np.multiply(3.639532940582793, 3.639532940582793), np.subtract(x[1], 5.5025754292135165)), np.remainder(np.reciprocal(5.714697591365903), -0.6797220648179696))))\n"
     ]
    },
    {
     "name": "stderr",
     "output_type": "stream",
     "text": [
      " 74%|███████▍  | 3701/5000 [22:38<06:45,  3.21it/s]"
     ]
    },
    {
     "name": "stdout",
     "output_type": "stream",
     "text": [
      "Generation 3701, Island: 0, Best Fitness: 9.355164902147806e-19, Best Formula: np.divide(np.power(8.403145165187588, -7.491941095068659), np.add(np.multiply(np.maximum(np.sinh(4.847763846296084), np.divide(9.960525321955007, x[0])), np.minimum(np.cbrt(-4.491933714187432), np.subtract(x[1], 6.149353656355981))), np.multiply(np.multiply(np.remainder(2.4095302247788464, x[0]), np.minimum(4.847763846296084, x[0])), np.remainder(8.494327263182008, np.square(x[0])))))\n",
      "Generation 3701, Island: 1, Best Fitness: 5.475238773711928e-18, Best Formula: np.power(np.subtract(np.divide(np.maximum(np.cbrt(x[0]), np.power(6.85933933859183, -0.1720477191634977)), np.remainder(np.subtract(-7.890010722064151, 4.663719027516233), 4.621109791013215)), np.multiply(np.minimum(np.ceil(-4.598683873707204), np.tanh(-7.890010722064151)), np.maximum(np.tanh(4.621109791013215), np.subtract(-0.3805985130453813, -4.598683873707204)))), np.minimum(np.subtract(np.divide(np.divide(-6.823645437150921, 4.621109791013215), np.tanh(3.7099406898682847)), np.multiply(np.minimum(x[1], x[1]), x[0])), -7.890010722064151))\n",
      "Generation 3701, Island: 2, Best Fitness: 1.7664841475438047e-19, Best Formula: np.divide(np.multiply(x[0], np.multiply(x[1], np.power(8.119909247064651, np.add(-6.099176361322249, -4.413432524060954)))), np.minimum(np.divide(np.add(np.add(x[0], -4.41279550499665), np.subtract(x[1], 5.511718197125342)), np.multiply(np.multiply(-4.413432524060954, 0.04060143871511279), np.divide(x[1], -0.6565955767311298))), np.remainder(np.power(np.add(6.386935356226907, -4.41279550499665), np.subtract(x[1], 5.511718197125342)), np.remainder(np.remainder(-4.413432524060954, 0.18384534633112892), -0.6565955767311298))))\n",
      "Generation 3701, Island: 3, Best Fitness: 1.7549518461182104e-19, Best Formula: np.divide(np.multiply(x[0], np.multiply(x[1], np.power(8.119909247064651, np.add(-6.099176361322249, -4.413432524060954)))), np.minimum(np.divide(np.add(np.add(x[0], -4.41279550499665), np.subtract(x[1], 5.5025754292135165)), np.multiply(np.multiply(-4.41279550499665, 0.04060143871511279), np.divide(x[1], -0.6565955767311298))), np.remainder(np.power(np.multiply(3.639532940582793, 3.639532940582793), np.subtract(x[1], 5.5025754292135165)), np.remainder(np.add(-4.636861328906294, 3.4538029528776484), -0.6797220648179696))))\n"
     ]
    },
    {
     "name": "stderr",
     "output_type": "stream",
     "text": [
      " 76%|███████▌  | 3800/5000 [23:21<09:34,  2.09it/s]"
     ]
    },
    {
     "name": "stdout",
     "output_type": "stream",
     "text": [
      "Generation 3801, Island: 0, Best Fitness: 9.355141440937319e-19, Best Formula: np.divide(np.power(8.403145165187588, -7.491941095068659), np.add(np.multiply(np.maximum(np.sinh(4.847763846296084), np.divide(9.962474211495003, x[0])), np.minimum(np.cbrt(-4.491933714187432), np.subtract(x[1], 6.149353656355981))), np.multiply(np.multiply(np.remainder(2.4095302247788464, x[0]), np.minimum(4.847763846296084, x[0])), np.remainder(8.494327263182008, np.square(x[0])))))\n",
      "Generation 3801, Island: 1, Best Fitness: 5.475238773711928e-18, Best Formula: np.power(np.subtract(np.divide(np.maximum(np.cbrt(x[0]), np.power(6.85933933859183, -0.1720477191634977)), np.remainder(np.subtract(-7.890010722064151, 4.663719027516233), 4.621109791013215)), np.multiply(np.minimum(np.ceil(-4.598683873707204), np.tanh(-7.890010722064151)), np.maximum(np.tanh(4.621109791013215), np.subtract(-0.3805985130453813, -4.598683873707204)))), np.minimum(np.subtract(np.divide(np.divide(-6.823645437150921, 4.621109791013215), np.tanh(3.7099406898682847)), np.multiply(np.minimum(x[1], x[1]), x[0])), -7.890010722064151))\n",
      "Generation 3801, Island: 2, Best Fitness: 1.7655882354854107e-19, Best Formula: np.divide(np.multiply(x[0], np.multiply(x[1], np.power(8.119909247064651, np.add(-6.099176361322249, -4.41279550499665)))), np.minimum(np.divide(np.add(np.add(x[0], -4.41279550499665), np.subtract(x[1], 5.511718197125342)), np.multiply(np.multiply(-4.413432524060954, 0.04060143871511279), np.divide(x[1], -0.6565955767311298))), np.remainder(np.power(np.add(6.386935356226907, -4.41279550499665), np.subtract(x[1], 5.511718197125342)), np.remainder(np.remainder(-4.413432524060954, -1.3127867769784736), -0.6565955767311298))))\n"
     ]
    },
    {
     "name": "stderr",
     "output_type": "stream",
     "text": [
      " 76%|███████▌  | 3801/5000 [23:21<09:06,  2.20it/s]"
     ]
    },
    {
     "name": "stdout",
     "output_type": "stream",
     "text": [
      "Generation 3801, Island: 3, Best Fitness: 1.7549518461182104e-19, Best Formula: np.divide(np.multiply(x[0], np.multiply(x[1], np.power(8.119909247064651, np.add(-6.099176361322249, -4.413432524060954)))), np.minimum(np.divide(np.add(np.add(x[0], -4.41279550499665), np.subtract(x[1], 5.5025754292135165)), np.multiply(np.multiply(-4.41279550499665, 0.04060143871511279), np.divide(x[1], -0.6565955767311298))), np.remainder(np.power(np.multiply(3.639532940582793, 3.639532940582793), np.subtract(x[1], 5.5025754292135165)), np.remainder(np.add(-4.636861328906294, 3.4538029528776484), -0.6797220648179696))))\n"
     ]
    },
    {
     "name": "stderr",
     "output_type": "stream",
     "text": [
      " 78%|███████▊  | 3901/5000 [24:02<06:35,  2.78it/s]"
     ]
    },
    {
     "name": "stdout",
     "output_type": "stream",
     "text": [
      "Generation 3901, Island: 0, Best Fitness: 9.210673427358578e-19, Best Formula: np.divide(np.power(8.403145165187588, -7.491941095068659), np.add(np.multiply(np.maximum(np.sinh(4.847763846296084), np.power(x[1], -8.179606351453694)), np.minimum(np.cbrt(-4.491933714187432), np.subtract(x[1], 6.149353656355981))), np.multiply(np.multiply(np.remainder(2.4095302247788464, x[0]), np.minimum(4.847763846296084, x[0])), np.remainder(8.494327263182008, np.square(x[0])))))\n",
      "Generation 3901, Island: 1, Best Fitness: 5.4752387616212915e-18, Best Formula: np.power(np.subtract(np.divide(np.maximum(np.cbrt(x[0]), np.power(6.556379264416648, -0.1720477191634977)), np.remainder(np.subtract(-7.890010722064151, 4.663719027516233), 4.621109791013215)), np.multiply(np.minimum(np.ceil(-4.598683873707204), np.tanh(-7.890010722064151)), np.multiply(np.tanh(4.663719027516233), np.subtract(-0.3805985130453813, -4.598683873707204)))), np.minimum(np.subtract(np.divide(np.divide(-6.823645437150921, 4.621109791013215), np.tanh(3.516726556387992)), np.multiply(np.minimum(x[1], x[1]), x[0])), -7.890010722064151))\n",
      "Generation 3901, Island: 2, Best Fitness: 1.7655882354854107e-19, Best Formula: np.divide(np.multiply(x[0], np.multiply(x[1], np.power(8.119909247064651, np.add(-6.099176361322249, -4.41279550499665)))), np.minimum(np.divide(np.add(np.add(x[0], -4.41279550499665), np.subtract(x[1], 5.511718197125342)), np.multiply(np.multiply(-4.413432524060954, 0.04060143871511279), np.divide(x[1], -0.6565955767311298))), np.remainder(np.power(np.add(6.386935356226907, -4.41279550499665), np.subtract(x[1], 5.511718197125342)), np.remainder(np.remainder(-4.413432524060954, -1.3127867769784736), -0.6565955767311298))))\n",
      "Generation 3901, Island: 3, Best Fitness: 1.7549518461182104e-19, Best Formula: np.divide(np.multiply(x[0], np.multiply(x[1], np.power(8.119909247064651, np.add(-6.099176361322249, -4.413432524060954)))), np.minimum(np.divide(np.add(np.add(x[0], -4.41279550499665), np.subtract(x[1], 5.5025754292135165)), np.multiply(np.multiply(-4.41279550499665, 0.04060143871511279), np.divide(x[1], -0.6565955767311298))), np.remainder(np.power(np.multiply(3.639532940582793, 3.639532940582793), np.subtract(x[1], 5.5025754292135165)), np.remainder(np.add(-4.636861328906294, 3.4538029528776484), -0.6797220648179696))))\n"
     ]
    },
    {
     "name": "stderr",
     "output_type": "stream",
     "text": [
      " 80%|████████  | 4000/5000 [24:45<08:52,  1.88it/s]"
     ]
    },
    {
     "name": "stdout",
     "output_type": "stream",
     "text": [
      "Generation 4001, Island: 0, Best Fitness: 9.210673427358578e-19, Best Formula: np.divide(np.power(8.403145165187588, -7.491941095068659), np.add(np.multiply(np.maximum(np.sinh(4.847763846296084), np.power(x[1], -8.179606351453694)), np.minimum(np.cbrt(-4.491933714187432), np.subtract(x[1], 6.149353656355981))), np.multiply(np.multiply(np.remainder(2.4095302247788464, x[0]), np.minimum(4.847763846296084, x[0])), np.remainder(8.494327263182008, np.square(x[0])))))\n",
      "Generation 4001, Island: 1, Best Fitness: 5.4752387616212915e-18, Best Formula: np.power(np.subtract(np.divide(np.maximum(np.cbrt(x[0]), np.power(6.556379264416648, -0.1720477191634977)), np.remainder(np.subtract(-7.890010722064151, 4.663719027516233), 4.621109791013215)), np.multiply(np.minimum(np.ceil(-4.598683873707204), np.tanh(-7.890010722064151)), np.multiply(np.tanh(4.663719027516233), np.subtract(-0.3805985130453813, -4.598683873707204)))), np.minimum(np.subtract(np.divide(np.divide(-6.823645437150921, 4.621109791013215), np.tanh(3.516726556387992)), np.multiply(np.minimum(x[1], x[1]), x[0])), -7.890010722064151))\n",
      "Generation 4001, Island: 2, Best Fitness: 1.7655882354854107e-19, Best Formula: np.divide(np.multiply(x[0], np.multiply(x[1], np.power(8.119909247064651, np.add(-6.099176361322249, -4.41279550499665)))), np.minimum(np.divide(np.add(np.add(x[0], -4.41279550499665), np.subtract(x[1], 5.511718197125342)), np.multiply(np.multiply(-4.413432524060954, 0.04060143871511279), np.divide(x[1], -0.6565955767311298))), np.remainder(np.power(np.add(6.386935356226907, -4.41279550499665), np.subtract(x[1], 5.511718197125342)), np.remainder(np.remainder(-4.413432524060954, -1.3127867769784736), -0.6565955767311298))))\n"
     ]
    },
    {
     "name": "stderr",
     "output_type": "stream",
     "text": [
      " 80%|████████  | 4001/5000 [24:45<09:27,  1.76it/s]"
     ]
    },
    {
     "name": "stdout",
     "output_type": "stream",
     "text": [
      "Generation 4001, Island: 3, Best Fitness: 1.7549518461182104e-19, Best Formula: np.divide(np.multiply(x[0], np.multiply(x[1], np.power(8.119909247064651, np.add(-6.099176361322249, -4.413432524060954)))), np.minimum(np.divide(np.add(np.add(x[0], -4.41279550499665), np.subtract(x[1], 5.5025754292135165)), np.multiply(np.multiply(-4.41279550499665, 0.04060143871511279), np.divide(x[1], -0.6565955767311298))), np.remainder(np.power(np.multiply(3.639532940582793, 3.639532940582793), np.subtract(x[1], 5.5025754292135165)), np.remainder(np.add(-4.636861328906294, 3.4538029528776484), -0.6797220648179696))))\n"
     ]
    },
    {
     "name": "stderr",
     "output_type": "stream",
     "text": [
      " 82%|████████▏ | 4101/5000 [25:29<04:48,  3.12it/s]"
     ]
    },
    {
     "name": "stdout",
     "output_type": "stream",
     "text": [
      "Generation 4101, Island: 0, Best Fitness: 9.210673427358578e-19, Best Formula: np.divide(np.power(8.403145165187588, -7.491941095068659), np.add(np.multiply(np.maximum(np.sinh(4.847763846296084), np.power(x[1], -8.179606351453694)), np.minimum(np.cbrt(-4.491933714187432), np.subtract(x[1], 6.149353656355981))), np.multiply(np.multiply(np.remainder(2.4095302247788464, x[0]), np.minimum(4.847763846296084, x[0])), np.remainder(8.494327263182008, np.square(x[0])))))\n",
      "Generation 4101, Island: 1, Best Fitness: 5.475238757723091e-18, Best Formula: np.power(np.subtract(np.divide(np.maximum(np.cbrt(x[0]), np.power(6.556379264416648, -0.1720477191634977)), np.remainder(np.remainder(-1.257447407765632, 2.5665323001677045), 4.621109791013215)), np.multiply(np.minimum(np.ceil(-4.598683873707204), np.tanh(-7.890010722064151)), np.multiply(np.tanh(4.663719027516233), np.subtract(-0.3805985130453813, -4.598683873707204)))), np.minimum(np.subtract(np.divide(np.divide(-6.823645437150921, 4.621109791013215), np.tanh(3.516726556387992)), np.multiply(np.minimum(x[1], x[1]), x[0])), -7.890010722064151))\n",
      "Generation 4101, Island: 2, Best Fitness: 1.7655882354854107e-19, Best Formula: np.divide(np.multiply(x[0], np.multiply(x[1], np.power(8.119909247064651, np.add(-6.099176361322249, -4.41279550499665)))), np.minimum(np.divide(np.add(np.add(x[0], -4.41279550499665), np.subtract(x[1], 5.511718197125342)), np.multiply(np.multiply(-4.413432524060954, 0.04060143871511279), np.divide(x[1], -0.6565955767311298))), np.remainder(np.power(np.add(6.386935356226907, -4.41279550499665), np.subtract(x[1], 5.511718197125342)), np.remainder(np.remainder(-4.413432524060954, -1.3127867769784736), -0.6565955767311298))))\n",
      "Generation 4101, Island: 3, Best Fitness: 1.7549518461182104e-19, Best Formula: np.divide(np.multiply(x[0], np.multiply(x[1], np.power(8.119909247064651, np.add(-6.099176361322249, -4.413432524060954)))), np.minimum(np.divide(np.add(np.add(x[0], -4.41279550499665), np.subtract(x[1], 5.5025754292135165)), np.multiply(np.multiply(-4.41279550499665, 0.04060143871511279), np.divide(x[1], -0.6565955767311298))), np.remainder(np.power(np.multiply(3.639532940582793, 3.639532940582793), np.subtract(x[1], 5.5025754292135165)), np.remainder(np.add(-4.636861328906294, 3.4538029528776484), -0.6797220648179696))))\n"
     ]
    },
    {
     "name": "stderr",
     "output_type": "stream",
     "text": [
      " 83%|████████▎ | 4152/5000 [25:53<05:40,  2.49it/s]"
     ]
    },
    {
     "name": "stdout",
     "output_type": "stream",
     "text": [
      "Migration at 4151 gen from 3 to 0\n"
     ]
    },
    {
     "name": "stderr",
     "output_type": "stream",
     "text": [
      " 84%|████████▍ | 4200/5000 [26:14<05:36,  2.38it/s]"
     ]
    },
    {
     "name": "stdout",
     "output_type": "stream",
     "text": [
      "Generation 4201, Island: 0, Best Fitness: 9.210673427358578e-19, Best Formula: np.divide(np.power(8.403145165187588, -7.491941095068659), np.add(np.multiply(np.maximum(np.sinh(4.847763846296084), np.power(x[1], -8.179606351453694)), np.minimum(np.cbrt(-4.491933714187432), np.subtract(x[1], 6.149353656355981))), np.multiply(np.multiply(np.remainder(2.4095302247788464, x[0]), np.minimum(4.847763846296084, x[0])), np.remainder(8.494327263182008, np.square(x[0])))))\n",
      "Generation 4201, Island: 1, Best Fitness: 5.4752387436130716e-18, Best Formula: np.power(np.subtract(np.divide(np.maximum(np.cbrt(x[0]), np.power(6.556379264416648, -0.1720477191634977)), np.remainder(5.926364211181372, 4.621109791013215)), np.multiply(np.minimum(np.ceil(-4.598683873707204), np.tanh(-7.890010722064151)), np.multiply(np.tanh(4.621109791013215), np.subtract(-0.3805985130453813, -4.598683873707204)))), np.minimum(np.subtract(np.divide(np.divide(-6.823645437150921, 4.621109791013215), np.tanh(3.516726556387992)), np.multiply(np.minimum(x[1], x[1]), x[0])), -7.890010722064151))\n",
      "Generation 4201, Island: 2, Best Fitness: 1.7655882354854107e-19, Best Formula: np.divide(np.multiply(x[0], np.multiply(x[1], np.power(8.119909247064651, np.add(-6.099176361322249, -4.41279550499665)))), np.minimum(np.divide(np.add(np.add(x[0], -4.41279550499665), np.subtract(x[1], 5.511718197125342)), np.multiply(np.multiply(-4.413432524060954, 0.04060143871511279), np.divide(x[1], -0.6565955767311298))), np.remainder(np.power(np.add(6.386935356226907, -4.41279550499665), np.subtract(x[1], 5.511718197125342)), np.remainder(np.remainder(-4.413432524060954, -1.3127867769784736), -0.6565955767311298))))\n"
     ]
    },
    {
     "name": "stderr",
     "output_type": "stream",
     "text": [
      " 84%|████████▍ | 4201/5000 [26:15<05:19,  2.50it/s]"
     ]
    },
    {
     "name": "stdout",
     "output_type": "stream",
     "text": [
      "Generation 4201, Island: 3, Best Fitness: 1.7549518461182104e-19, Best Formula: np.divide(np.multiply(x[0], np.multiply(x[1], np.power(8.119909247064651, np.add(-6.099176361322249, -4.413432524060954)))), np.minimum(np.divide(np.add(np.add(x[0], -4.41279550499665), np.subtract(x[1], 5.5025754292135165)), np.multiply(np.multiply(-4.41279550499665, 0.04060143871511279), np.divide(x[1], -0.6565955767311298))), np.remainder(np.power(np.multiply(3.639532940582793, 3.639532940582793), np.subtract(x[1], 5.5025754292135165)), np.remainder(np.add(-4.636861328906294, 3.4538029528776484), -0.6797220648179696))))\n"
     ]
    },
    {
     "name": "stderr",
     "output_type": "stream",
     "text": [
      " 86%|████████▌ | 4300/5000 [26:55<06:15,  1.87it/s]"
     ]
    },
    {
     "name": "stdout",
     "output_type": "stream",
     "text": [
      "Generation 4301, Island: 0, Best Fitness: 9.182565131715817e-19, Best Formula: np.divide(np.power(8.403145165187588, -7.491941095068659), np.add(np.multiply(np.maximum(np.sinh(4.847763846296084), np.power(x[1], -9.766862317625044)), np.minimum(np.cbrt(-4.491933714187432), np.subtract(x[1], 6.149353656355981))), np.multiply(np.multiply(np.remainder(2.4095302247788464, x[0]), np.minimum(4.847763846296084, x[0])), np.remainder(8.494327263182008, np.square(x[0])))))\n",
      "Generation 4301, Island: 1, Best Fitness: 5.475229803950284e-18, Best Formula: np.power(np.subtract(np.divide(np.maximum(np.cbrt(x[0]), np.power(6.556379264416648, -0.1720477191634977)), np.remainder(5.926364211181372, 4.621109791013215)), np.multiply(np.minimum(np.ceil(-4.598683873707204), np.cbrt(x[0])), np.multiply(np.tanh(4.621109791013215), np.subtract(-0.3805985130453813, -4.598683873707204)))), np.minimum(np.subtract(np.divide(np.divide(-6.823645437150921, 4.621109791013215), np.tanh(5.926364211181372)), np.multiply(np.minimum(4.511701654826917, x[1]), x[0])), -7.890010722064151))\n"
     ]
    },
    {
     "name": "stderr",
     "output_type": "stream",
     "text": [
      " 86%|████████▌ | 4301/5000 [26:55<06:05,  1.91it/s]"
     ]
    },
    {
     "name": "stdout",
     "output_type": "stream",
     "text": [
      "Generation 4301, Island: 2, Best Fitness: 1.7655882354854107e-19, Best Formula: np.divide(np.multiply(x[0], np.multiply(x[1], np.power(8.119909247064651, np.add(-6.099176361322249, -4.41279550499665)))), np.minimum(np.divide(np.add(np.add(x[0], -4.41279550499665), np.subtract(x[1], 5.511718197125342)), np.multiply(np.multiply(-4.413432524060954, 0.04060143871511279), np.divide(x[1], -0.6565955767311298))), np.remainder(np.power(np.add(6.386935356226907, -4.41279550499665), np.subtract(x[1], 5.511718197125342)), np.remainder(np.remainder(-4.413432524060954, -1.3127867769784736), -0.6565955767311298))))\n",
      "Generation 4301, Island: 3, Best Fitness: 1.7549518461182104e-19, Best Formula: np.divide(np.multiply(x[0], np.multiply(x[1], np.power(8.119909247064651, np.add(-6.099176361322249, -4.413432524060954)))), np.minimum(np.divide(np.add(np.add(x[0], -4.41279550499665), np.subtract(x[1], 5.5025754292135165)), np.multiply(np.multiply(-4.41279550499665, 0.04060143871511279), np.divide(x[1], -0.6565955767311298))), np.remainder(np.power(np.multiply(3.639532940582793, 3.639532940582793), np.subtract(x[1], 5.5025754292135165)), np.remainder(np.add(-4.636861328906294, 3.4538029528776484), -0.6797220648179696))))\n"
     ]
    },
    {
     "name": "stderr",
     "output_type": "stream",
     "text": [
      " 88%|████████▊ | 4400/5000 [27:37<02:57,  3.39it/s]"
     ]
    },
    {
     "name": "stdout",
     "output_type": "stream",
     "text": [
      "Generation 4401, Island: 0, Best Fitness: 9.182565131715817e-19, Best Formula: np.divide(np.power(8.403145165187588, -7.491941095068659), np.add(np.multiply(np.maximum(np.sinh(4.847763846296084), np.power(x[1], -9.766862317625044)), np.minimum(np.cbrt(-4.491933714187432), np.subtract(x[1], 6.149353656355981))), np.multiply(np.multiply(np.remainder(2.4095302247788464, x[0]), np.minimum(4.847763846296084, x[0])), np.remainder(8.494327263182008, np.square(x[0])))))\n",
      "Generation 4401, Island: 1, Best Fitness: 5.475229799219764e-18, Best Formula: np.power(np.subtract(np.divide(np.maximum(np.cbrt(x[0]), np.power(6.556379264416648, -0.1720477191634977)), np.remainder(np.remainder(5.926364211181372, 4.621109791013215), 4.621109791013215)), np.multiply(np.minimum(np.ceil(-4.598683873707204), np.tanh(4.621109791013215)), np.multiply(np.tanh(4.511701654826917), np.subtract(-0.3805985130453813, -4.598683873707204)))), np.minimum(np.subtract(np.divide(np.divide(-6.823645437150921, 4.621109791013215), np.tanh(4.511701654826917)), np.multiply(np.minimum(4.511701654826917, x[1]), x[0])), -7.890010722064151))\n"
     ]
    },
    {
     "name": "stderr",
     "output_type": "stream",
     "text": [
      " 88%|████████▊ | 4401/5000 [27:37<03:16,  3.05it/s]"
     ]
    },
    {
     "name": "stdout",
     "output_type": "stream",
     "text": [
      "Generation 4401, Island: 2, Best Fitness: 1.7655882354854107e-19, Best Formula: np.divide(np.multiply(x[0], np.multiply(x[1], np.power(8.119909247064651, np.add(-6.099176361322249, -4.41279550499665)))), np.minimum(np.divide(np.add(np.add(x[0], -4.41279550499665), np.subtract(x[1], 5.511718197125342)), np.multiply(np.multiply(-4.413432524060954, 0.04060143871511279), np.divide(x[1], -0.6565955767311298))), np.remainder(np.power(np.add(6.386935356226907, -4.41279550499665), np.subtract(x[1], 5.511718197125342)), np.remainder(np.remainder(-4.413432524060954, -1.3127867769784736), -0.6565955767311298))))\n",
      "Generation 4401, Island: 3, Best Fitness: 1.7549518461182104e-19, Best Formula: np.divide(np.multiply(x[0], np.multiply(x[1], np.power(8.119909247064651, np.add(-6.099176361322249, -4.413432524060954)))), np.minimum(np.divide(np.add(np.add(x[0], -4.41279550499665), np.subtract(x[1], 5.5025754292135165)), np.multiply(np.multiply(-4.41279550499665, 0.04060143871511279), np.divide(x[1], -0.6565955767311298))), np.remainder(np.power(np.multiply(3.639532940582793, 3.639532940582793), np.subtract(x[1], 5.5025754292135165)), np.remainder(np.add(-4.636861328906294, 3.4538029528776484), -0.6797220648179696))))\n"
     ]
    },
    {
     "name": "stderr",
     "output_type": "stream",
     "text": [
      " 88%|████████▊ | 4411/5000 [27:41<03:48,  2.58it/s]"
     ]
    },
    {
     "name": "stdout",
     "output_type": "stream",
     "text": [
      "Migration at 4411 gen from 0 to 3\n"
     ]
    },
    {
     "name": "stderr",
     "output_type": "stream",
     "text": [
      " 90%|█████████ | 4501/5000 [28:17<02:57,  2.81it/s]"
     ]
    },
    {
     "name": "stdout",
     "output_type": "stream",
     "text": [
      "Generation 4501, Island: 0, Best Fitness: 9.182565131715817e-19, Best Formula: np.divide(np.power(8.403145165187588, -7.491941095068659), np.add(np.multiply(np.maximum(np.sinh(4.847763846296084), np.power(x[1], -9.766862317625044)), np.minimum(np.cbrt(-4.491933714187432), np.subtract(x[1], 6.149353656355981))), np.multiply(np.multiply(np.remainder(2.4095302247788464, x[0]), np.minimum(4.847763846296084, x[0])), np.remainder(8.494327263182008, np.square(x[0])))))\n",
      "Generation 4501, Island: 1, Best Fitness: 5.4752297910616365e-18, Best Formula: np.power(np.subtract(np.divide(np.maximum(np.cbrt(x[0]), np.power(6.556379264416648, -0.1720477191634977)), np.remainder(np.remainder(5.926364211181372, 4.621109791013215), 4.621109791013215)), np.multiply(np.minimum(np.ceil(-4.598683873707204), np.tanh(4.511701654826917)), np.multiply(np.tanh(4.511701654826917), np.subtract(-0.3805985130453813, -4.598683873707204)))), np.minimum(np.subtract(np.divide(np.divide(-6.823645437150921, 4.621109791013215), np.tanh(3.4377383823772085)), np.multiply(np.minimum(4.511701654826917, x[1]), x[0])), -7.890010722064151))\n",
      "Generation 4501, Island: 2, Best Fitness: 1.7655882354854107e-19, Best Formula: np.divide(np.multiply(x[0], np.multiply(x[1], np.power(8.119909247064651, np.add(-6.099176361322249, -4.41279550499665)))), np.minimum(np.divide(np.add(np.add(x[0], -4.41279550499665), np.subtract(x[1], 5.511718197125342)), np.multiply(np.multiply(-4.413432524060954, 0.04060143871511279), np.divide(x[1], -0.6565955767311298))), np.remainder(np.power(np.add(6.386935356226907, -4.41279550499665), np.subtract(x[1], 5.511718197125342)), np.remainder(np.remainder(-4.413432524060954, -1.3127867769784736), -0.6565955767311298))))\n",
      "Generation 4501, Island: 3, Best Fitness: 1.7549518461182104e-19, Best Formula: np.divide(np.multiply(x[0], np.multiply(x[1], np.power(8.119909247064651, np.add(-6.099176361322249, -4.413432524060954)))), np.minimum(np.divide(np.add(np.add(x[0], -4.41279550499665), np.subtract(x[1], 5.5025754292135165)), np.multiply(np.multiply(-4.41279550499665, 0.04060143871511279), np.divide(x[1], -0.6565955767311298))), np.remainder(np.power(np.multiply(3.639532940582793, 3.639532940582793), np.subtract(x[1], 5.5025754292135165)), np.remainder(np.add(-4.636861328906294, 3.4538029528776484), -0.6797220648179696))))\n"
     ]
    },
    {
     "name": "stderr",
     "output_type": "stream",
     "text": [
      " 92%|█████████▏| 4600/5000 [28:58<02:25,  2.75it/s]"
     ]
    },
    {
     "name": "stdout",
     "output_type": "stream",
     "text": [
      "Generation 4601, Island: 0, Best Fitness: 8.802867012942586e-19, Best Formula: np.divide(np.power(8.403145165187588, -7.491941095068659), np.add(np.multiply(np.add(np.sinh(4.847763846296084), np.divide(x[1], -6.58916746472904)), np.minimum(np.cbrt(-4.491933714187432), np.subtract(x[1], 6.149353656355981))), np.multiply(np.multiply(np.remainder(2.4095302247788464, x[0]), np.minimum(4.761655973234493, x[0])), np.remainder(8.494327263182008, np.square(x[0])))))\n",
      "Generation 4601, Island: 1, Best Fitness: 5.4752297910616365e-18, Best Formula: np.power(np.subtract(np.divide(np.maximum(np.cbrt(x[0]), np.power(6.556379264416648, -0.1720477191634977)), np.remainder(np.remainder(5.926364211181372, 4.621109791013215), 4.621109791013215)), np.multiply(np.minimum(np.ceil(-4.598683873707204), np.tanh(4.511701654826917)), np.multiply(np.tanh(4.511701654826917), np.subtract(-0.3805985130453813, -4.598683873707204)))), np.minimum(np.subtract(np.divide(np.divide(-6.823645437150921, 4.621109791013215), np.tanh(3.4377383823772085)), np.multiply(np.minimum(4.511701654826917, x[1]), x[0])), -7.890010722064151))\n",
      "Generation 4601, Island: 2, Best Fitness: 1.7655882354854107e-19, Best Formula: np.divide(np.multiply(x[0], np.multiply(x[1], np.power(8.119909247064651, np.add(-6.099176361322249, -4.41279550499665)))), np.minimum(np.divide(np.add(np.add(x[0], -4.41279550499665), np.subtract(x[1], 5.511718197125342)), np.multiply(np.multiply(-4.413432524060954, 0.04060143871511279), np.divide(x[1], -0.6565955767311298))), np.remainder(np.power(np.add(6.386935356226907, -4.41279550499665), np.subtract(x[1], 5.511718197125342)), np.remainder(np.remainder(-4.413432524060954, -1.3127867769784736), -0.6565955767311298))))\n"
     ]
    },
    {
     "name": "stderr",
     "output_type": "stream",
     "text": [
      " 92%|█████████▏| 4601/5000 [28:59<02:14,  2.97it/s]"
     ]
    },
    {
     "name": "stdout",
     "output_type": "stream",
     "text": [
      "Generation 4601, Island: 3, Best Fitness: 1.7023906684462078e-19, Best Formula: np.divide(np.multiply(x[0], np.multiply(x[1], np.power(8.119909247064651, np.add(-6.099176361322249, -4.413432524060954)))), np.minimum(np.divide(np.add(np.add(x[0], -4.41279550499665), np.subtract(x[1], 5.5025754292135165)), np.multiply(np.multiply(-4.413432524060954, 0.04060143871511279), np.divide(x[1], -0.6565955767311298))), np.remainder(np.power(np.multiply(3.4538029528776484, 3.4538029528776484), np.subtract(x[1], 5.5025754292135165)), np.remainder(np.add(-4.636861328906294, 3.4538029528776484), np.divide(x[0], -7.319305168042538)))))\n"
     ]
    },
    {
     "name": "stderr",
     "output_type": "stream",
     "text": [
      " 94%|█████████▍| 4700/5000 [29:33<01:55,  2.59it/s]"
     ]
    },
    {
     "name": "stdout",
     "output_type": "stream",
     "text": [
      "Generation 4701, Island: 0, Best Fitness: 8.660837144219349e-19, Best Formula: np.divide(np.power(8.494327263182008, -7.491941095068659), np.add(np.multiply(np.add(np.sinh(4.847763846296084), np.divide(x[1], -4.491933714187432)), np.minimum(np.cbrt(-4.491933714187432), np.subtract(x[1], 6.149353656355981))), np.multiply(np.multiply(np.remainder(2.4095302247788464, x[0]), np.minimum(4.761655973234493, x[0])), np.remainder(8.494327263182008, np.square(x[0])))))\n",
      "Generation 4701, Island: 1, Best Fitness: 5.4752297910616365e-18, Best Formula: np.power(np.subtract(np.divide(np.maximum(np.cbrt(x[0]), np.power(6.556379264416648, -0.1720477191634977)), np.remainder(np.remainder(5.926364211181372, 4.621109791013215), 4.621109791013215)), np.multiply(np.minimum(np.ceil(-4.598683873707204), np.tanh(4.511701654826917)), np.multiply(np.tanh(4.511701654826917), np.subtract(-0.3805985130453813, -4.598683873707204)))), np.minimum(np.subtract(np.divide(np.divide(-6.823645437150921, 4.621109791013215), np.tanh(3.4377383823772085)), np.multiply(np.minimum(4.511701654826917, x[1]), x[0])), -7.890010722064151))\n"
     ]
    },
    {
     "name": "stderr",
     "output_type": "stream",
     "text": [
      " 94%|█████████▍| 4701/5000 [29:34<02:17,  2.17it/s]"
     ]
    },
    {
     "name": "stdout",
     "output_type": "stream",
     "text": [
      "Generation 4701, Island: 2, Best Fitness: 1.7655882354854107e-19, Best Formula: np.divide(np.multiply(x[0], np.multiply(x[1], np.power(8.119909247064651, np.add(-6.099176361322249, -4.41279550499665)))), np.minimum(np.divide(np.add(np.add(x[0], -4.41279550499665), np.subtract(x[1], 5.511718197125342)), np.multiply(np.multiply(-4.413432524060954, 0.04060143871511279), np.divide(x[1], -0.6565955767311298))), np.remainder(np.power(np.add(6.386935356226907, -4.41279550499665), np.subtract(x[1], 5.511718197125342)), np.remainder(np.remainder(-4.413432524060954, -1.3127867769784736), -0.6565955767311298))))\n",
      "Generation 4701, Island: 3, Best Fitness: 1.7023906684462078e-19, Best Formula: np.divide(np.multiply(x[0], np.multiply(x[1], np.power(8.119909247064651, np.add(-6.099176361322249, -4.413432524060954)))), np.minimum(np.divide(np.add(np.add(x[0], -4.41279550499665), np.subtract(x[1], 5.5025754292135165)), np.multiply(np.multiply(-4.413432524060954, 0.04060143871511279), np.divide(x[1], -0.6565955767311298))), np.remainder(np.power(np.multiply(3.4538029528776484, 3.4538029528776484), np.subtract(x[1], 5.5025754292135165)), np.remainder(np.add(-4.636861328906294, 3.4538029528776484), np.divide(x[0], -7.319305168042538)))))\n"
     ]
    },
    {
     "name": "stderr",
     "output_type": "stream",
     "text": [
      " 96%|█████████▌| 4800/5000 [30:23<02:00,  1.67it/s]"
     ]
    },
    {
     "name": "stdout",
     "output_type": "stream",
     "text": [
      "Generation 4801, Island: 0, Best Fitness: 8.660837144219349e-19, Best Formula: np.divide(np.power(8.494327263182008, -7.491941095068659), np.add(np.multiply(np.add(np.sinh(4.847763846296084), np.divide(x[1], -4.491933714187432)), np.minimum(np.cbrt(-4.491933714187432), np.subtract(x[1], 6.149353656355981))), np.multiply(np.multiply(np.remainder(2.4095302247788464, x[0]), np.minimum(4.761655973234493, x[0])), np.remainder(8.494327263182008, np.square(x[0])))))\n",
      "Generation 4801, Island: 1, Best Fitness: 5.4752297910616365e-18, Best Formula: np.power(np.subtract(np.divide(np.maximum(np.cbrt(x[0]), np.power(6.556379264416648, -0.1720477191634977)), np.remainder(np.remainder(5.926364211181372, 4.621109791013215), 4.621109791013215)), np.multiply(np.minimum(np.ceil(-4.598683873707204), np.tanh(4.511701654826917)), np.multiply(np.tanh(4.511701654826917), np.subtract(-0.3805985130453813, -4.598683873707204)))), np.minimum(np.subtract(np.divide(np.divide(-6.823645437150921, 4.621109791013215), np.tanh(3.4377383823772085)), np.multiply(np.minimum(4.511701654826917, x[1]), x[0])), -7.890010722064151))\n"
     ]
    },
    {
     "name": "stderr",
     "output_type": "stream",
     "text": [
      " 96%|█████████▌| 4801/5000 [30:23<01:57,  1.70it/s]"
     ]
    },
    {
     "name": "stdout",
     "output_type": "stream",
     "text": [
      "Generation 4801, Island: 2, Best Fitness: 1.7655882354854107e-19, Best Formula: np.divide(np.multiply(x[0], np.multiply(x[1], np.power(8.119909247064651, np.add(-6.099176361322249, -4.41279550499665)))), np.minimum(np.divide(np.add(np.add(x[0], -4.41279550499665), np.subtract(x[1], 5.511718197125342)), np.multiply(np.multiply(-4.413432524060954, 0.04060143871511279), np.divide(x[1], -0.6565955767311298))), np.remainder(np.power(np.add(6.386935356226907, -4.41279550499665), np.subtract(x[1], 5.511718197125342)), np.remainder(np.remainder(-4.413432524060954, -1.3127867769784736), -0.6565955767311298))))\n",
      "Generation 4801, Island: 3, Best Fitness: 1.7023906684462078e-19, Best Formula: np.divide(np.multiply(x[0], np.multiply(x[1], np.power(8.119909247064651, np.add(-6.099176361322249, -4.413432524060954)))), np.minimum(np.divide(np.add(np.add(x[0], -4.41279550499665), np.subtract(x[1], 5.5025754292135165)), np.multiply(np.multiply(-4.413432524060954, 0.04060143871511279), np.divide(x[1], -0.6565955767311298))), np.remainder(np.power(np.multiply(3.4538029528776484, 3.4538029528776484), np.subtract(x[1], 5.5025754292135165)), np.remainder(np.add(-4.636861328906294, 3.4538029528776484), np.divide(x[0], -7.319305168042538)))))\n"
     ]
    },
    {
     "name": "stderr",
     "output_type": "stream",
     "text": [
      " 98%|█████████▊| 4900/5000 [31:01<00:34,  2.87it/s]"
     ]
    },
    {
     "name": "stdout",
     "output_type": "stream",
     "text": [
      "Generation 4901, Island: 0, Best Fitness: 8.660837144219349e-19, Best Formula: np.divide(np.power(8.494327263182008, -7.491941095068659), np.add(np.multiply(np.add(np.sinh(4.847763846296084), np.divide(x[1], -4.491933714187432)), np.minimum(np.cbrt(-4.491933714187432), np.subtract(x[1], 6.149353656355981))), np.multiply(np.multiply(np.remainder(2.4095302247788464, x[0]), np.minimum(4.761655973234493, x[0])), np.remainder(8.494327263182008, np.square(x[0])))))\n",
      "Generation 4901, Island: 1, Best Fitness: 5.47521968092871e-18, Best Formula: np.power(np.subtract(np.divide(np.maximum(np.cbrt(x[0]), np.power(6.556379264416648, -0.1720477191634977)), np.remainder(np.remainder(5.926364211181372, 4.621109791013215), 4.621109791013215)), np.multiply(np.minimum(np.ceil(-4.598683873707204), np.cbrt(x[0])), np.multiply(np.tanh(4.511701654826917), np.subtract(-0.3805985130453813, -4.598683873707204)))), np.minimum(np.subtract(np.divide(np.divide(-6.823645437150921, 4.511701654826917), np.tanh(4.243747548387937)), np.multiply(np.minimum(4.243747548387937, x[1]), x[0])), -7.890010722064151))\n"
     ]
    },
    {
     "name": "stderr",
     "output_type": "stream",
     "text": [
      " 98%|█████████▊| 4901/5000 [31:01<00:35,  2.78it/s]"
     ]
    },
    {
     "name": "stdout",
     "output_type": "stream",
     "text": [
      "Generation 4901, Island: 2, Best Fitness: 1.7655882354854107e-19, Best Formula: np.divide(np.multiply(x[0], np.multiply(x[1], np.power(8.119909247064651, np.add(-6.099176361322249, -4.41279550499665)))), np.minimum(np.divide(np.add(np.add(x[0], -4.41279550499665), np.subtract(x[1], 5.511718197125342)), np.multiply(np.multiply(-4.413432524060954, 0.04060143871511279), np.divide(x[1], -0.6565955767311298))), np.remainder(np.power(np.add(6.386935356226907, -4.41279550499665), np.subtract(x[1], 5.511718197125342)), np.remainder(np.remainder(-4.413432524060954, -1.3127867769784736), -0.6565955767311298))))\n",
      "Generation 4901, Island: 3, Best Fitness: 1.7021186448990452e-19, Best Formula: np.divide(np.multiply(x[0], np.multiply(x[1], np.power(8.119909247064651, np.add(-6.099176361322249, -4.413432524060954)))), np.minimum(np.divide(np.add(np.add(x[0], -4.41279550499665), np.subtract(x[1], 5.5025754292135165)), np.multiply(np.multiply(-4.413432524060954, 0.04060143871511279), np.divide(x[1], -0.6565955767311298))), np.remainder(np.power(np.multiply(3.485479043578172, 3.4538029528776484), np.subtract(x[1], 5.5025754292135165)), np.remainder(np.add(-4.636861328906294, 3.4538029528776484), np.divide(x[0], -7.319305168042538)))))\n"
     ]
    },
    {
     "name": "stderr",
     "output_type": "stream",
     "text": [
      "100%|██████████| 5000/5000 [31:44<00:00,  2.63it/s]"
     ]
    },
    {
     "name": "stdout",
     "output_type": "stream",
     "text": [
      "\n",
      "Train Fitness: 1.6913411525660825e-19\n",
      "Test Fitness: 1.6939675112243314e-19\n",
      "Train-Test Discrepancy: -2.62635865824885e-22\n",
      "Global Fitness: 1.6918664242977326e-19\n",
      "Best Fitness History: [2.168767419493271e-05, 5.487374600289094e-18, 5.487372091526141e-18, 5.487365625321064e-18, 5.487353929858131e-18, 5.4873538926772425e-18, 5.487199929709839e-18, 5.463446562599171e-18, 5.434103872418659e-18, 5.154234402072023e-18, 5.073912332781416e-18, 4.781165525803855e-18, 4.582844733256963e-18, 4.539646383847192e-18, 3.7645482603587184e-18, 3.724530159359096e-18, 3.7025723695642415e-18, 3.65367939219237e-18, 3.2254386086005105e-18, 3.207344679477105e-18, 3.1508897789954923e-18, 2.1618348262404805e-18, 2.146937553138975e-18, 1.3177432043674186e-18, 1.3168643187771312e-18, 1.2883124929217375e-18, 1.1483909324134976e-18, 1.111373548853058e-18, 1.1098884617972003e-18, 1.1098884617972e-18, 1.1076252352343223e-18, 1.1075515608523708e-18, 1.1067256804892588e-18, 1.1063709619230518e-18, 1.0983421951137916e-18, 1.0971691451960913e-18, 1.0971682838729567e-18, 1.075658251917294e-18, 1.0756580205061882e-18, 1.0752199394266694e-18, 1.029725221637765e-18, 1.0295460351241056e-18, 1.028472320820203e-18, 1.0282927551152896e-18, 1.0281438775917932e-18, 1.0276046386523682e-18, 1.0275278293247906e-18, 6.797879786102048e-19, 5.415847386560218e-19, 5.394870092275857e-19, 5.101704912242187e-19, 5.079917291389709e-19, 4.8683008226231685e-19, 4.854658643528968e-19, 4.852863554937307e-19, 4.841892086012469e-19, 4.172159582900201e-19, 3.9342816058719716e-19, 3.9160486505680053e-19, 3.03182572373315e-19, 3.03148179995282e-19, 2.9318918478437228e-19, 2.931673157200376e-19, 2.931522920464846e-19, 2.8686787121616745e-19, 2.76318016355433e-19, 2.7506215572248564e-19, 2.4760838258846663e-19, 2.476083825711906e-19, 2.4760833661336255e-19, 2.474633479050667e-19, 2.4720173319924237e-19, 2.457481929007626e-19, 2.3812304342822673e-19, 2.370348755450652e-19, 2.335170312435359e-19, 2.3347550505304176e-19, 2.173073260711687e-19, 2.1429001247922996e-19, 2.142614533674378e-19, 2.1404216920399863e-19, 2.1404216920399175e-19, 1.860019335278055e-19, 1.8412131796595468e-19, 1.833850727527069e-19, 1.832842485823334e-19, 1.8086135494703705e-19, 1.8085443548798088e-19, 1.8073861566034614e-19, 1.8060129954353164e-19, 1.790680512125037e-19, 1.7906297604561967e-19, 1.7900910399475695e-19, 1.7847929058385067e-19, 1.784526490267848e-19, 1.7837506510939885e-19, 1.782329253823142e-19, 1.7819126776952494e-19, 1.7818947253824621e-19, 1.7805889167623637e-19, 1.7800991138249972e-19, 1.7800671460887952e-19, 1.7788717868672998e-19, 1.7785731143977236e-19, 1.7785411466615216e-19, 1.7783503326609818e-19, 1.777042265445602e-19, 1.7752271960019877e-19, 1.773854841011343e-19, 1.773514383420969e-19, 1.7690878039919336e-19, 1.7677916797631618e-19, 1.7676707909813461e-19, 1.7668797956235662e-19, 1.7668414442104264e-19, 1.7668268232519056e-19, 1.764350380049146e-19, 1.7642577574112185e-19, 1.7639384808377196e-19, 1.7634681540062308e-19, 1.7633957891293204e-19, 1.7552781704519265e-19, 1.7552058055750159e-19, 1.7550242109951208e-19, 1.7549518461182104e-19, 1.7247397357184193e-19, 1.70805049741116e-19, 1.707185771332564e-19, 1.706457560716836e-19, 1.7041870062109445e-19, 1.7026898556242108e-19, 1.702421647194261e-19, 1.7023906684462078e-19, 1.7021186448990452e-19, 1.6936018605677587e-19, 1.692609491912596e-19, 1.691622528509663e-19, 1.6913411525660825e-19], changed 138 times\n",
      "\n",
      "Best Formula: np.divide(np.multiply(x[0], np.multiply(x[1], np.power(8.119909247064651, np.add(-6.099176361322249, -4.41279550499665)))), np.minimum(np.divide(np.add(np.add(x[0], -4.41279550499665), np.subtract(x[1], 5.5025754292135165)), np.multiply(np.multiply(-4.413432524060954, 0.04060143871511279), np.divide(x[1], -0.6565955767311298))), np.remainder(np.power(np.multiply(3.485479043578172, 3.485479043578172), np.subtract(x[1], 5.5025754292135165)), np.remainder(-1.8413908142652406, np.divide(x[0], -7.328377873916178)))))\n",
      "\n",
      "Best Formula with standard operators: ((x[0] * (x[1] * np.power(8.119909247064651, (-6.099176361322249 + -4.41279550499665)))) / np.minimum((((x[0] + -4.41279550499665) + (x[1] - 5.5025754292135165)) / ((-4.413432524060954 * 0.04060143871511279) * (x[1] / -0.6565955767311298))), np.remainder(np.power((3.485479043578172 * 3.485479043578172), (x[1] - 5.5025754292135165)), np.remainder(-1.8413908142652406, (x[0] / -7.328377873916178)))))\n"
     ]
    },
    {
     "name": "stderr",
     "output_type": "stream",
     "text": [
      "\n"
     ]
    }
   ],
   "source": [
    "\n",
    "# Execute the algorithm\n",
    "best_tree, best_fitness = regressor.evolve(use_std_operators=False,verbose=True)   #use_std_operators=True to use standard operators (+,-,*,/), use verbose=True to print the best tree for each island every 50 iterations\n",
    "\n",
    "print(f\"\\nTrain Fitness: {best_fitness}\")\n",
    "# Calculate the fitness on original data\n",
    "best_tree.compute_fitness(test=\"test\")\n",
    "\n",
    "\n",
    "\n",
    "\n",
    "print(f\"Test Fitness: {best_tree.fitness}\")\n",
    "print(f\"Train-Test Discrepancy: {best_fitness-best_tree.fitness}\")\n",
    "best_tree.compute_fitness(test=\"all\")\n",
    "print(f\"Global Fitness: {best_tree.fitness}\")\n",
    "\n",
    "\n",
    "#Print the best tree\n",
    "print(f\"Best Fitness History: {[tup[0] for tup in regressor.best_fitness_history]}, changed {len(regressor.best_fitness_history)} times\\n\")\n",
    "\n",
    "print(f\"Best Formula: {best_tree.to_np_formula(use_std_operators=False)}\\n\")\n",
    "print(f\"Best Formula with standard operators: {best_tree.to_np_formula(use_std_operators=True)}\")\n",
    "\n"
   ]
  },
  {
   "cell_type": "markdown",
   "metadata": {},
   "source": [
    "### Best Tree Drawing"
   ]
  },
  {
   "cell_type": "code",
   "execution_count": 9,
   "metadata": {},
   "outputs": [
    {
     "name": "stdout",
     "output_type": "stream",
     "text": [
      "Collapsed formula: np.divide(np.multiply(x[0], np.multiply(x[1], 2.746778465483906e-10)), np.minimum(np.divide(np.add(np.add(x[0], -4.41279550499665), np.subtract(x[1], 5.5025754292135165)), np.multiply(-0.1791917101489464, np.divide(x[1], -0.6565955767311298))), np.remainder(np.power(12.14856416322261, np.subtract(x[1], 5.5025754292135165)), np.remainder(-1.8413908142652406, np.divide(x[0], -7.328377873916178)))))\n",
      "\n",
      "Tree drawing (after collapsing):\n"
     ]
    },
    {
     "data": {
      "image/png": "[encoded data removed]",
      "text/plain": [
       "<Figure size 1000x700 with 1 Axes>"
      ]
     },
     "metadata": {},
     "output_type": "display_data"
    }
   ],
   "source": [
    "tree_clone = best_tree.copy_tree()\n",
    "Tree.collapse_branch(tree_clone.root,0,force_collapse=True)\n",
    "tree_clone.compute_fitness()           \n",
    "if(tree_clone.fitness is not None or tree_clone.fitness is not np.inf and tree_clone.fitness is not np.nan):\n",
    "                    best_tree = tree_clone\n",
    "\n",
    "\n",
    "print(f\"Collapsed formula: {best_tree.to_np_formula(use_std_operators=False)}\\n\") #use_std_operators=True to use standard operators (+,-,*,/)\n",
    "print(\"Tree drawing (after collapsing):\")\n",
    "best_tree.add_drawing()\n"
   ]
  },
  {
   "cell_type": "code",
   "execution_count": 10,
   "metadata": {},
   "outputs": [
    {
     "data": {
      "image/png": "[encoded data removed]",
      "text/plain": [
       "<Figure size 640x480 with 1 Axes>"
      ]
     },
     "metadata": {},
     "output_type": "display_data"
    }
   ],
   "source": [
    "#Print graph of best fitness over generations\n",
    "import matplotlib.pyplot as plt\n",
    "plt.plot([tup[1] for tup in regressor.best_fitness_history], [tup[0] for tup in regressor.best_fitness_history])\n",
    "plt.xlabel('Generation')\n",
    "plt.ylabel('Best Fitness')\n",
    "plt.title('Best Fitness over Generations')\n",
    "plt.show()"
   ]
  }
 ],
 "metadata": {
  "kernelspec": {
   "display_name": "Python 3",
   "language": "python",
   "name": "python3"
  },
  "language_info": {
   "codemirror_mode": {
    "name": "ipython",
    "version": 3
   },
   "file_extension": ".py",
   "mimetype": "text/x-python",
   "name": "python",
   "nbconvert_exporter": "python",
   "pygments_lexer": "ipython3",
   "version": "3.9.13"
  }
 },
 "nbformat": 4,
 "nbformat_minor": 2
}
